{
 "cells": [
  {
   "cell_type": "code",
   "execution_count": 1,
   "id": "84b48e3e-edb9-4dbd-a7fa-a58ed17f5d1c",
   "metadata": {},
   "outputs": [],
   "source": [
    "import os\n",
    "import pandas as pd\n",
    "import numpy as np\n",
    "from matplotlib import pyplot as plt\n",
    "%matplotlib inline"
   ]
  },
  {
   "cell_type": "markdown",
   "id": "2c6aef32-12ee-4d5a-9108-1edbe7f25991",
   "metadata": {
    "tags": []
   },
   "source": [
    "# 1. 读取数据"
   ]
  },
  {
   "cell_type": "code",
   "execution_count": 2,
   "id": "f44bf7ad-8769-4db5-9497-c41dd21cd9da",
   "metadata": {
    "tags": []
   },
   "outputs": [],
   "source": [
    "def load_ICU_data(data_path, label_path):\n",
    "    if(not data_path.endswith(\".csv\")):\n",
    "        print(\"数据需要csv格式的文件！\")\n",
    "        return None\n",
    "    if(not label_path.endswith(\".csv\")):\n",
    "        print(\"标签需要csv格式的文件！\")\n",
    "        return None\n",
    "    data_df = pd.read_csv(data_path)\n",
    "    label_df = pd.read_csv(label_path)\n",
    "    data = np.array(data_df)\n",
    "    label = np.array(label_df)\n",
    "    return data, label"
   ]
  },
  {
   "cell_type": "markdown",
   "id": "05f3e07f-74cd-41ee-9f5f-9b542e0122e4",
   "metadata": {
    "tags": []
   },
   "source": [
    "## 2. Fisher线性判别"
   ]
  },
  {
   "cell_type": "code",
   "execution_count": 3,
   "id": "04c2b9fd-7704-414b-942a-37676d919dbe",
   "metadata": {},
   "outputs": [],
   "source": [
    "train1_data, train1_label = load_ICU_data(\"./data1forEx1to4/train1_icu_data.csv\", \"./data1forEx1to4/train1_icu_label.csv\")\n",
    "test1_data, test1_label = load_ICU_data(\"./data1forEx1to4/test1_icu_data.csv\", \"./data1forEx1to4/test1_icu_label.csv\")"
   ]
  },
  {
   "cell_type": "code",
   "execution_count": 4,
   "id": "311937c6-7659-49fc-99a0-ae9a075b398a",
   "metadata": {},
   "outputs": [],
   "source": [
    "# Fisher判别器\n",
    "class Fisher_classifier():\n",
    "    def __init__(self):\n",
    "        self.omega=0\n",
    "        self.omega_0=0\n",
    "        self.mean = None\n",
    "        self. std = None\n",
    "        \n",
    "    def train(self, data, label):\n",
    "        self.mean = np.mean(data,axis=0,keepdims=True)\n",
    "        self.std = np.std(data,axis=0,keepdims=True)\n",
    "        X = (data - self.mean)/(self.std + 1e-12) \n",
    "        X1=X[np.where(label[:,0] == 0)]\n",
    "        X2=X[np.where(label[:,0] == 1)]\n",
    "        print(X1.shape, X2.shape)\n",
    "        Y1=label[np.where(label[:,0] == 0)]\n",
    "        Y2=label[np.where(label[:,0] == 1)]\n",
    "        m1=np.mean(X1,axis=0,keepdims=True) #类均值向量\n",
    "        m2=np.mean(X2,axis=0,keepdims=True) #类均值向量\n",
    "        m=np.mean(X,axis=0,keepdims=True) #类均值向量\n",
    "        m1_bar=np.mean(Y1)\n",
    "        m2_bar=np.mean(Y2)\n",
    "        S1=np.dot((X1-m1).T,(X1-m1))\n",
    "        S2=np.dot((X2-m2).T,(X2-m2))\n",
    "        S_w=S1+S2 #总类内散度矩阵\n",
    "        S_b=np.dot((m1-m2).T,(m1-m2)) #类间散度矩阵\n",
    "        self.omega=np.dot(np.linalg.inv(S_w),(m1-m2).T)\n",
    "        #self.omega_0=-1/2*np.dot(m1+m2, self.omega)\n",
    "        #self.omega_0=-1/2*(m1_bar+m2_bar)+1/(data.shape[0]-2)*np.log(X1.shape[0]/X2.shape[0])\n",
    "        #self.omega_0=-np.mean(label)\n",
    "        self.omega_0=-np.dot(m, self.omega)\n",
    "        \n",
    "        Y_predicted=np.dot((X),self.omega)+self.omega_0\n",
    "        Y_predicted=np.where(Y_predicted < 0, 1, 0)\n",
    "        Y=label.reshape(-1,1)\n",
    "        correct = (Y_predicted == Y).sum()\n",
    "        accuracy=correct/data.shape[0]\n",
    "        Y_predicted=np.where(Y_predicted > 0, 2, 0)        \n",
    "        sensitivity=(Y_predicted == Y).sum()/(Y==0).sum()\n",
    "        Y_predicted=np.where(Y_predicted > 0, 1, -2) \n",
    "        specificity=(Y_predicted == Y).sum()/(Y==1).sum()\n",
    "        print(\"训练准确率为%.4f，精确度为%.4f，特异度为%.4f\"%(accuracy, sensitivity, specificity))\n",
    "\n",
    "        return accuracy, sensitivity, specificity\n",
    "    \n",
    "    def test(self, data, label):\n",
    "        X = (data - self.mean)/(self.std + 1e-12) \n",
    "        Y_predicted=np.dot((X),self.omega)+self.omega_0\n",
    "        Y_predicted=np.where(Y_predicted < 0, 1, 0)\n",
    "        Y=label.reshape(-1,1)\n",
    "        correct=(Y_predicted==Y).sum()\n",
    "        accuracy=correct/X.shape[0]\n",
    "        Y_predicted=np.where(Y_predicted > 0, 2, 0)        \n",
    "        sensitivity=(Y_predicted == Y).sum()/(Y==0).sum()\n",
    "        Y_predicted=np.where(Y_predicted > 0, 1, -2) \n",
    "        specificity=(Y_predicted == Y).sum()/(Y==1).sum()\n",
    "        print(\"测试准确率为%.4f，精确度为%.4f，特异度为%.4f\"%(accuracy, sensitivity, specificity))\n",
    "        \n",
    "        return accuracy, sensitivity, specificity"
   ]
  },
  {
   "cell_type": "code",
   "execution_count": 5,
   "id": "8b30cf2b-11e6-4b44-835f-f9abb2d2792d",
   "metadata": {},
   "outputs": [
    {
     "name": "stdout",
     "output_type": "stream",
     "text": [
      "(2450, 108) (2550, 108)\n",
      "训练准确率为0.7720，精确度为0.7580，特异度为0.7855\n",
      "测试准确率为0.7521，精确度为0.7382，特异度为0.7660\n"
     ]
    },
    {
     "data": {
      "text/plain": [
       "(0.7520510483135825, 0.7381818181818182, 0.7659963436928702)"
      ]
     },
     "execution_count": 5,
     "metadata": {},
     "output_type": "execute_result"
    }
   ],
   "source": [
    "train1_FLD = Fisher_classifier()\n",
    "train1_FLD.train(train1_data, train1_label)\n",
    "train1_FLD.test(test1_data, test1_label)"
   ]
  },
  {
   "cell_type": "markdown",
   "id": "cfd1903a-05c9-4acc-8a28-f67536a4232f",
   "metadata": {},
   "source": [
    "# 3. 感知器"
   ]
  },
  {
   "cell_type": "code",
   "execution_count": 6,
   "id": "6fb2033f-2a93-44e9-a828-5be806a5bfb2",
   "metadata": {},
   "outputs": [],
   "source": [
    "train1_data, train1_label = load_ICU_data(\"./data1forEx1to4/train1_icu_data.csv\", \"./data1forEx1to4/train1_icu_label.csv\")\n",
    "test1_data, test1_label = load_ICU_data(\"./data1forEx1to4/test1_icu_data.csv\", \"./data1forEx1to4/test1_icu_label.csv\")\n",
    "train2_data, train2_label = load_ICU_data(\"./data1forEx1to4/train2_icu_data.csv\", \"./data1forEx1to4/train2_icu_label.csv\")\n",
    "test2_data, test2_label = load_ICU_data(\"./data1forEx1to4/test2_icu_data.csv\", \"./data1forEx1to4/test2_icu_label.csv\")\n",
    "train_data = np.concatenate([train1_data, train2_data], axis = 0)\n",
    "train_label = np.concatenate([train1_label, train2_label], axis = 0)\n",
    "test_data = np.concatenate([test1_data, test2_data], axis = 0)\n",
    "test_label = np.concatenate([test1_label, test2_label], axis = 0)\n",
    "#del train1_data, train1_label, test1_data, test1_label, train2_data, train2_label, test2_data, test2_label"
   ]
  },
  {
   "cell_type": "code",
   "execution_count": 7,
   "id": "ddc9c7d1-a526-42b7-826f-bf73492e3e15",
   "metadata": {},
   "outputs": [],
   "source": [
    "toy_data1 =np.random.randint(0,10, (1000,10))\n",
    "toy_data2 =np.random.randint(15,20, (1000,10))\n",
    "toy_data = np.concatenate([toy_data1, toy_data2], axis=0)\n",
    "toy_label1 = np.zeros((1000,1))\n",
    "toy_label2 = np.ones((1000,1))\n",
    "toy_label = np.concatenate([toy_label1, toy_label2], axis=0)"
   ]
  },
  {
   "cell_type": "code",
   "execution_count": 8,
   "id": "5b367c0b-3b31-4c18-98c9-f55b49425e04",
   "metadata": {},
   "outputs": [],
   "source": [
    "class Perceptron():\n",
    "    def __init__(self, fixed_step = True):\n",
    "        self.alpha = None\n",
    "        self.fixed_step = fixed_step\n",
    "        self.num_iterations = 0\n",
    "        self.mean = None\n",
    "        self.std = None\n",
    "        self.loss = []\n",
    "        \n",
    "    def train(self, data, label):\n",
    "        self.mean = np.mean(data,axis=0,keepdims=True)\n",
    "        #print(self.mean.shape)\n",
    "        self.std = np.std(data,axis=0,keepdims=True)\n",
    "        #X=data\n",
    "        X = (data-self.mean)/(self.std+1e-12)\n",
    "        X = np.concatenate([np.ones((X.shape[0],1)), X], axis = 1)\n",
    "        X1 = X[np.where(label[:,0] == 0)]\n",
    "        X2 = -1*X[np.where(label[:,0] == 1)]\n",
    "        X_new = np.concatenate([X1, X2], axis = 0)\n",
    "        self.alpha = 0.001*np.zeros((X_new.shape[1],1))\n",
    "        \n",
    "        flag = True\n",
    "        while(flag and self.num_iterations<=500):\n",
    "            self.num_iterations += 1\n",
    "            flag = False\n",
    "            err_number = 0\n",
    "            for i in range(X_new.shape[0]):\n",
    "                x = X_new[i].reshape(1,-1)\n",
    "                result = np.dot(x, self.alpha)\n",
    "                if(result<=0):\n",
    "                    self.loss.append(-result[0,0])\n",
    "                    err_number+=1\n",
    "                    flag = True\n",
    "                    grad = x.T\n",
    "                    if(self.fixed_step):\n",
    "                        self.alpha = self.alpha + grad\n",
    "                    else:\n",
    "                        self.alpha = self.alpha + abs(result)/np.dot(x, x.T)*grad\n",
    "                else:\n",
    "                    #self.loss.append(0)\n",
    "                    pass\n",
    "            \n",
    "        Y_predicted = np.dot(X, self.alpha)\n",
    "\n",
    "        Y_predicted=np.where(Y_predicted <= 0, 1, 0)\n",
    "        Y=label.reshape(-1,1)\n",
    "        correct = (Y_predicted == Y).sum()\n",
    "        accuracy=correct/data.shape[0]\n",
    "        Y_predicted=np.where(Y_predicted > 0, 2, 0)        \n",
    "        sensitivity=(Y_predicted == Y).sum()/(Y==0).sum()\n",
    "        Y_predicted=np.where(Y_predicted > 0, 1, -2) \n",
    "        specificity=(Y_predicted == Y).sum()/(Y==1).sum()\n",
    "        print(\"训练准确率为%.4f，精确度为%.4f，特异度为%.4f\"%(accuracy, sensitivity, specificity))\n",
    "\n",
    "\n",
    "        return accuracy, sensitivity, specificity\n",
    "    \n",
    "    def test(self, data, label):\n",
    "        #X=data\n",
    "        X = (data-self.mean)/(self.std+1e-12)\n",
    "        X = np.concatenate([np.ones((X.shape[0],1)), X], axis = 1)\n",
    "        Y_predicted = np.dot(X, self.alpha)\n",
    "\n",
    "        Y_predicted=np.where(Y_predicted <= 0, 1, 0)\n",
    "        Y=label.reshape(-1,1)\n",
    "        correct = (Y_predicted == Y).sum()\n",
    "        accuracy=correct/data.shape[0]\n",
    "        Y_predicted=np.where(Y_predicted > 0, 2, 0)        \n",
    "        sensitivity=(Y_predicted == Y).sum()/(Y==0).sum()\n",
    "        Y_predicted=np.where(Y_predicted > 0, 1, -2) \n",
    "        specificity=(Y_predicted == Y).sum()/(Y==1).sum()\n",
    "        print(\"测试准确率为%.4f，精确度为%.4f，特异度为%.4f\"%(accuracy, sensitivity, specificity))\n",
    "\n",
    "\n",
    "        return accuracy, sensitivity, specificity"
   ]
  },
  {
   "cell_type": "markdown",
   "id": "fe8ce4d4-23f1-46a0-8465-e3b45748eeb5",
   "metadata": {},
   "source": [
    "## 3.1 在玩具数据集上测试算法正确性"
   ]
  },
  {
   "cell_type": "code",
   "execution_count": 9,
   "id": "2c3f90e0",
   "metadata": {},
   "outputs": [
    {
     "name": "stdout",
     "output_type": "stream",
     "text": [
      "训练准确率为1.0000，精确度为1.0000，特异度为1.0000\n",
      "测试准确率为1.0000，精确度为1.0000，特异度为1.0000\n"
     ]
    },
    {
     "data": {
      "text/plain": [
       "(1.0, 1.0, 1.0)"
      ]
     },
     "execution_count": 9,
     "metadata": {},
     "output_type": "execute_result"
    }
   ],
   "source": [
    "per_toy = Perceptron(fixed_step = True)\n",
    "per_toy.train(toy_data, toy_label)\n",
    "per_toy.test(toy_data, toy_label)"
   ]
  },
  {
   "cell_type": "markdown",
   "id": "08fa6832-1145-4431-9c97-7c12c4506736",
   "metadata": {},
   "source": [
    "## 3.2 在TrainingSet-1"
   ]
  },
  {
   "cell_type": "code",
   "execution_count": 10,
   "id": "855d0ab2-c8bc-488e-b0d1-17e32c63aa62",
   "metadata": {
    "tags": []
   },
   "outputs": [
    {
     "name": "stdout",
     "output_type": "stream",
     "text": [
      "训练准确率为0.5138，精确度为0.0086，特异度为0.9992\n",
      "测试准确率为0.5041，精确度为0.0127，特异度为0.9982\n"
     ]
    },
    {
     "data": {
      "text/plain": [
       "(0.504102096627165, 0.012727272727272728, 0.9981718464351006)"
      ]
     },
     "execution_count": 10,
     "metadata": {},
     "output_type": "execute_result"
    }
   ],
   "source": [
    "per1 = Perceptron(fixed_step = True)\n",
    "per1.train(train1_data, train1_label)\n",
    "per1.test(test1_data, test1_label)"
   ]
  },
  {
   "cell_type": "code",
   "execution_count": 11,
   "id": "72a8e51d",
   "metadata": {},
   "outputs": [
    {
     "data": {
      "image/png": "[encoded data removed]",
      "text/plain": [
       "<Figure size 720x720 with 1 Axes>"
      ]
     },
     "metadata": {
      "needs_background": "light"
     },
     "output_type": "display_data"
    }
   ],
   "source": [
    "plt.figure(figsize=(10,10))\n",
    "plt.plot(per1.loss)\n",
    "plt.xlabel(\"num_iterations\")\n",
    "plt.ylabel(\"loss\")\n",
    "plt.title(\"loss\")\n",
    "plt.show()"
   ]
  },
  {
   "cell_type": "markdown",
   "id": "d50e2e10-5e94-455f-a555-96c16dab2ffb",
   "metadata": {},
   "source": [
    "## 3.3 在TrainingSet-2"
   ]
  },
  {
   "cell_type": "code",
   "execution_count": 12,
   "id": "ccdf0fec-fe36-43b1-a831-b677c7062a1a",
   "metadata": {},
   "outputs": [
    {
     "name": "stdout",
     "output_type": "stream",
     "text": [
      "训练准确率为1.0000，精确度为1.0000，特异度为1.0000\n",
      "测试准确率为0.8200，精确度为0.8310，特异度为0.8012\n"
     ]
    },
    {
     "data": {
      "text/plain": [
       "(0.82, 0.8309859154929577, 0.8012048192771084)"
      ]
     },
     "execution_count": 12,
     "metadata": {},
     "output_type": "execute_result"
    }
   ],
   "source": [
    "per2 = Perceptron(fixed_step = True)\n",
    "per2.train(train2_data, train2_label)\n",
    "per2.test(test2_data, test2_label)"
   ]
  },
  {
   "cell_type": "code",
   "execution_count": 13,
   "id": "c0c784eb",
   "metadata": {},
   "outputs": [
    {
     "data": {
      "image/png": "[encoded data removed]",
      "text/plain": [
       "<Figure size 720x720 with 1 Axes>"
      ]
     },
     "metadata": {
      "needs_background": "light"
     },
     "output_type": "display_data"
    }
   ],
   "source": [
    "plt.figure(figsize=(10,10))\n",
    "plt.plot(per2.loss)\n",
    "plt.xlabel(\"num_iterations\")\n",
    "plt.ylabel(\"loss\")\n",
    "plt.title(\"loss\")\n",
    "plt.show()"
   ]
  },
  {
   "cell_type": "markdown",
   "id": "65ab6a18-f942-497c-befa-e8962880fba1",
   "metadata": {},
   "source": [
    "## 3.4 将TrainingSet-2用于TestSet1和TestSet-2"
   ]
  },
  {
   "cell_type": "markdown",
   "id": "d0f7691c-4948-4483-9353-477dc848fef6",
   "metadata": {},
   "source": [
    "### 3.4.1 TestSet-1"
   ]
  },
  {
   "cell_type": "code",
   "execution_count": 14,
   "id": "ba053e5a-0c0b-4a5e-8f68-8621823e117a",
   "metadata": {},
   "outputs": [
    {
     "name": "stdout",
     "output_type": "stream",
     "text": [
      "测试准确率为0.7739，精确度为0.7745，特异度为0.7733\n"
     ]
    },
    {
     "data": {
      "text/plain": [
       "(0.7739288969917958, 0.7745454545454545, 0.773308957952468)"
      ]
     },
     "execution_count": 14,
     "metadata": {},
     "output_type": "execute_result"
    }
   ],
   "source": [
    "per2.test(test1_data, test1_label)"
   ]
  },
  {
   "cell_type": "markdown",
   "id": "5a4aaaa1-832a-4580-b582-1c0d758dec20",
   "metadata": {},
   "source": [
    "### 3.4.2 TestSet-2"
   ]
  },
  {
   "cell_type": "code",
   "execution_count": 15,
   "id": "4d000c93-1415-4a76-afe8-d101e419f5ec",
   "metadata": {},
   "outputs": [
    {
     "name": "stdout",
     "output_type": "stream",
     "text": [
      "测试准确率为0.8200，精确度为0.8310，特异度为0.8012\n"
     ]
    },
    {
     "data": {
      "text/plain": [
       "(0.82, 0.8309859154929577, 0.8012048192771084)"
      ]
     },
     "execution_count": 15,
     "metadata": {},
     "output_type": "execute_result"
    }
   ],
   "source": [
    "per2.test(test2_data, test2_label)"
   ]
  },
  {
   "cell_type": "markdown",
   "id": "95a53868-55e1-4f13-b12e-db8aeac5c5c3",
   "metadata": {},
   "source": [
    "# 4. logistic回归"
   ]
  },
  {
   "cell_type": "markdown",
   "id": "a322a665-e42b-440e-93c7-e75f0cfca523",
   "metadata": {},
   "source": [
    "## 4.1 K折交叉验证"
   ]
  },
  {
   "cell_type": "code",
   "execution_count": 16,
   "id": "2d35fa6a-ff5d-4a0c-b9df-45c4fd200470",
   "metadata": {},
   "outputs": [],
   "source": [
    "def K_fold_divide(X, Y, K=5):\n",
    "    classes = np.unique(Y).reshape(-1)\n",
    "    Y=Y.reshape((-1,1))\n",
    "    folds = []\n",
    "    for item in classes:\n",
    "        x = X[np.where(Y[:,0]==item)]\n",
    "        y = Y[np.where(Y[:,0]==item)]\n",
    "        data = np.concatenate([x,y.reshape((-1,1))], axis=1)\n",
    "        np.random.shuffle(data)\n",
    "        M=data.shape[0]//K\n",
    "        if((data.shape[0]-M*K)>0):\n",
    "            M+=1\n",
    "    \n",
    "        for i in range(K):\n",
    "            valid = data[i*M:min((i+1)*M, data.shape[0])]\n",
    "            train = np.concatenate([data[0:M*i],data[min((i+1)*M, data.shape[0]):data.shape[0]]], axis = 0)\n",
    "            train_data = train[:,:data.shape[1]-1]\n",
    "            train_label = train[:,data.shape[1]-1]\n",
    "            valid_data = valid[:,:data.shape[1]-1]\n",
    "            valid_label = valid[:,data.shape[1]-1]\n",
    "            if(len(folds)<K):\n",
    "                folds.append([train_data, train_label, valid_data, valid_label])\n",
    "            else:\n",
    "                folds[i][0] = np.concatenate([folds[i][0], train_data], axis=0)\n",
    "                folds[i][1] = np.concatenate([folds[i][1], train_label], axis=0)\n",
    "                folds[i][2] = np.concatenate([folds[i][2], valid_data], axis=0)\n",
    "                folds[i][3] = np.concatenate([folds[i][3], valid_label], axis=0)\n",
    "    \n",
    "    return folds"
   ]
  },
  {
   "cell_type": "code",
   "execution_count": 17,
   "id": "0644ad65-680e-46d7-a73b-4802b6e48e10",
   "metadata": {},
   "outputs": [],
   "source": [
    "K=10"
   ]
  },
  {
   "cell_type": "code",
   "execution_count": 18,
   "id": "499f3c26-05fd-4d23-8e91-1c30aa7a4bf4",
   "metadata": {},
   "outputs": [],
   "source": [
    "folds = K_fold_divide(train1_data, train1_label, K)"
   ]
  },
  {
   "cell_type": "code",
   "execution_count": 19,
   "id": "0167526b-73df-4862-9a59-1a24ddd2c984",
   "metadata": {},
   "outputs": [],
   "source": [
    "class Logistic_classifier():\n",
    "    def __init__(self, learning_rate = 0.1, max_epoch = 1000):\n",
    "        self.omega=0\n",
    "        self.learning_rate=learning_rate\n",
    "        self.max_epoch=max_epoch\n",
    "        self.mean = None\n",
    "        self.std = None\n",
    "        self.loss = []\n",
    "        \n",
    "    def sigmoid(self, inx):\n",
    "        where1 = np.where(inx>=0)\n",
    "        where2 = np.where(inx<0)\n",
    "        ret = inx\n",
    "        ret[where1] = 1.0/(1+np.exp(-ret[where1]))\n",
    "        ret[where2] = np.exp(ret[where2])/(1+np.exp(ret[where2]))\n",
    "        return ret\n",
    "        \n",
    "    def train(self, data, label):\n",
    "        self.mean = np.mean(data,axis=0,keepdims=True)\n",
    "        self.std = np.std(data,axis=0,keepdims=True)\n",
    "        X = data\n",
    "        X = (data-self.mean)/(self.std+1e-12)\n",
    "        X = np.concatenate([np.ones((X.shape[0],1)),X],axis=1)\n",
    "        Y = np.where(label==0, 1, -1).reshape(-1,1)\n",
    "        self.omega=0.1*np.ones((X.shape[1],1))\n",
    "        #self.omega=0.1*np.random.normal(0, 1, (X.shape[1],1))\n",
    "        for epoch in range(0,self.max_epoch):\n",
    "            grad=np.mean((X*self.sigmoid(-Y*np.dot(X,self.omega))),axis=0,keepdims=True)#梯度\n",
    "            #grad=np.mean((Y-self.sigmoid(np.dot(X,self.omega))),axis=0,keepdims=True)#梯度\n",
    "            self.omega=self.omega+self.learning_rate*grad.T\n",
    "\n",
    "        F_logistic=self.sigmoid(np.dot(X,self.omega))# logistic函数\n",
    "        Y_predicted=np.where(F_logistic < 0.5, 1, -1)\n",
    "        \n",
    "        error = -np.mean(np.log(F_logistic))\n",
    "        correct = (Y_predicted == Y).sum()\n",
    "        accuracy=correct/data.shape[0]\n",
    "        Y_predicted=np.where(Y_predicted > 0, 2, -1)        \n",
    "        sensitivity=(Y_predicted == Y).sum()/(Y==-1).sum()\n",
    "        Y_predicted=np.where(Y_predicted > 0, 1, -2) \n",
    "        specificity=(Y_predicted == Y).sum()/(Y==1).sum()\n",
    "        \n",
    "        return F_logistic, error, accuracy, sensitivity, specificity\n",
    "\n",
    "    \n",
    "    def test(self, data, label):\n",
    "        X = data\n",
    "        X = (data-self.mean)/(self.std+1e-12)\n",
    "        X = np.concatenate([np.ones((X.shape[0],1)), X], axis = 1)\n",
    "        Y = np.where(label==0, 1, -1).reshape(-1,1)\n",
    "        F_logistic=self.sigmoid(np.dot(X,self.omega))# logistic函数\n",
    "        Y_predicted=np.where(F_logistic < 0.5, 1, -1)\n",
    "        \n",
    "        error = -np.mean(np.log(F_logistic))\n",
    "        correct = (Y_predicted == Y).sum()\n",
    "        accuracy=correct/data.shape[0]\n",
    "        Y_predicted=np.where(Y_predicted > 0, 2, -1)        \n",
    "        sensitivity=(Y_predicted == Y).sum()/(Y==-1).sum()\n",
    "        Y_predicted=np.where(Y_predicted > 0, 1, -2) \n",
    "        specificity=(Y_predicted == Y).sum()/(Y==1).sum()\n",
    "        \n",
    "        return F_logistic, error, accuracy, sensitivity, specificity"
   ]
  },
  {
   "cell_type": "markdown",
   "id": "36eae593-4e02-4390-a28c-0c10e0d1c24a",
   "metadata": {},
   "source": [
    "## 4.2 在TrainingSet-1上进行10折交叉验证"
   ]
  },
  {
   "cell_type": "code",
   "execution_count": 20,
   "id": "6c198658-1dc4-4cc7-b6c1-94f0f10726b9",
   "metadata": {},
   "outputs": [
    {
     "name": "stdout",
     "output_type": "stream",
     "text": [
      "Fold-K  train error      train accuracy   train sensi      train speci      valid error      valid accuracy   valid sensi      valid speci      \n",
      "1       3.480678         0.659556         0.967320         0.339229         3.779567         0.656000         0.960784         0.338776         \n",
      "2       3.441166         0.657333         0.966449         0.335601         2.829979         0.620000         0.964706         0.261224         \n",
      "3       3.662887         0.654667         0.961220         0.335601         4.192604         0.690000         0.968627         0.400000         \n",
      "4       3.533111         0.656889         0.962092         0.339229         3.850163         0.676000         0.980392         0.359184         \n",
      "5       3.478216         0.658000         0.966449         0.336961         2.857107         0.644000         0.964706         0.310204         \n",
      "6       3.520046         0.659333         0.966885         0.339229         3.094153         0.636000         0.952941         0.306122         \n",
      "7       3.572914         0.658222         0.963399         0.340590         3.751552         0.674000         0.976471         0.359184         \n",
      "8       3.330388         0.655333         0.964706         0.333333         3.908141         0.658000         0.964706         0.338776         \n",
      "9       3.432649         0.658222         0.967320         0.336508         3.553076         0.650000         0.956863         0.330612         \n",
      "10      3.585675         0.656444         0.963399         0.336961         3.712653         0.662000         0.964706         0.346939         \n",
      "average 3.503773         0.657400         0.964924         0.337324         3.552900         0.656600         0.965490         0.335102         \n"
     ]
    }
   ],
   "source": [
    "LRs = []\n",
    "train_sigmoid = []\n",
    "train_error = []\n",
    "train_accu = []\n",
    "train_sensi = []\n",
    "train_speci = []\n",
    "valid_sigmoid = []\n",
    "valid_error = []\n",
    "valid_accu = []\n",
    "valid_sensi = []\n",
    "valid_speci = []\n",
    "print(\"%-8s%-17s%-17s%-17s%-17s%-17s%-17s%-17s%-17s\"%(\"Fold-K\", \"train error\", \"train accuracy\", \"train sensi\", \"train speci\", \"valid error\", \"valid accuracy\", \"valid sensi\", \"valid speci\"))\n",
    "for i in range(K):\n",
    "    train_data, train_label, valid_data, valid_label = folds[i]\n",
    "    LRs.append(Logistic_classifier())\n",
    "    F_logistic, error, accuracy, sensitivity, specificity = LRs[i].train(train_data, train_label)\n",
    "    train_sigmoid.append(F_logistic)\n",
    "    train_error.append(error)\n",
    "    train_accu.append(accuracy)\n",
    "    train_sensi.append(sensitivity)\n",
    "    train_speci.append(specificity)\n",
    "    F_logistic, error, accuracy, sensitivity, specificity = LRs[i].test(valid_data, valid_label)\n",
    "    valid_sigmoid.append(F_logistic)\n",
    "    valid_error.append(error)\n",
    "    valid_accu.append(accuracy)\n",
    "    valid_sensi.append(sensitivity)\n",
    "    valid_speci.append(specificity)\n",
    "    print(\"%-8d%-17f%-17f%-17f%-17f%-17f%-17f%-17f%-17f\"%(i+1, train_error[i], train_accu[i], train_sensi[i], train_speci[i], valid_error[i], valid_accu[i], valid_sensi[i], valid_speci[i]))\n",
    "print(\"%-8s%-17f%-17f%-17f%-17f%-17f%-17f%-17f%-17f\"%(\"average\", np.mean(train_error), np.mean(train_accu), np.mean(train_sensi), np.mean(train_speci), np.mean(valid_error), np.mean(valid_accu), np.mean(valid_sensi), np.mean(valid_speci)))"
   ]
  },
  {
   "cell_type": "markdown",
   "id": "2a3fd28f-5713-44f3-8af3-b0816a4c207b",
   "metadata": {},
   "source": [
    "## 4.3 在TestSet-1上验证"
   ]
  },
  {
   "cell_type": "code",
   "execution_count": 21,
   "id": "8e01009f-ee68-4cbb-8bd2-caae23ca53c4",
   "metadata": {},
   "outputs": [
    {
     "name": "stdout",
     "output_type": "stream",
     "text": [
      "Fold-K  test error       test accuracy    test sensi       test speci       \n",
      "1       3.996056         0.662716         0.963437         0.363636         \n",
      "2       3.863013         0.658159         0.965265         0.352727         \n",
      "3       4.218597         0.664540         0.961609         0.369091         \n",
      "4       4.052735         0.662716         0.963437         0.363636         \n",
      "5       3.853655         0.661805         0.965265         0.360000         \n",
      "6       3.953990         0.659070         0.965265         0.354545         \n",
      "7       4.081801         0.663628         0.965265         0.363636         \n",
      "8       3.868746         0.658159         0.961609         0.356364         \n",
      "9       3.928135         0.659070         0.961609         0.358182         \n",
      "10      4.071535         0.668186         0.965265         0.372727         \n",
      "average 3.988826         0.661805         0.963803         0.361455         \n"
     ]
    }
   ],
   "source": [
    "test_sigmoid = []\n",
    "test_error = []\n",
    "test_accu = []\n",
    "test_sensi = []\n",
    "test_speci = []\n",
    "print(\"%-8s%-17s%-17s%-17s%-17s\"%(\"Fold-K\", \"test error\", \"test accuracy\", \"test sensi\", \"test speci\"))\n",
    "for i in range(K):\n",
    "    F_logistic, error, accuracy, sensitivity, specificity = LRs[i].test(test1_data, test1_label)\n",
    "    test_sigmoid.append(F_logistic)\n",
    "    test_error.append(error)\n",
    "    test_accu.append(accuracy)\n",
    "    test_sensi.append(sensitivity)\n",
    "    test_speci.append(specificity)\n",
    "    print(\"%-8d%-17f%-17f%-17f%-17f\"%(i+1, test_error[i], test_accu[i], test_sensi[i], test_speci[i]))\n",
    "print(\"%-8s%-17f%-17f%-17f%-17f\"%(\"average\", np.mean(test_error), np.mean(test_accu), np.mean(test_sensi), np.mean(test_speci)))"
   ]
  },
  {
   "cell_type": "markdown",
   "id": "7bfe974f-96f3-44a8-aa8e-7218871f92b4",
   "metadata": {},
   "source": [
    "## 4.4画出ROC曲线"
   ]
  },
  {
   "cell_type": "code",
   "execution_count": 22,
   "id": "f325c14c-9700-4fd4-8053-2f78f346af3e",
   "metadata": {},
   "outputs": [],
   "source": [
    "def calculate_ROC(output, label):\n",
    "    Y = np.where(label==0, 1, -1).reshape(-1,1)\n",
    "    thresholds = np.concatenate([np.zeros(1), np.unique(output), np.ones(1)])\n",
    "    TPRs = []\n",
    "    FPRs = []\n",
    "    AUC = 0\n",
    "    for i in range(thresholds.shape[0]):\n",
    "        threshold = thresholds[i]\n",
    "        Y_predicted = np.where(output <= threshold, 1, -1)\n",
    "        Y_predicted = np.where(Y_predicted > 0, 2, -1)\n",
    "        TPR = (Y_predicted == Y).sum()/((Y==-1).sum())\n",
    "        Y_predicted = np.where(Y_predicted > 0, 1, -2)\n",
    "        FPR = 1-(Y_predicted == Y).sum()/(Y==1).sum()\n",
    "        TPRs.append(TPR)\n",
    "        FPRs.append(FPR)\n",
    "        if(threshold>0):\n",
    "            AUC+=(TPRs[i]+TPRs[i-1])*(-FPRs[i]+FPRs[i-1])/2\n",
    "            \n",
    "    return TPRs, FPRs, AUC"
   ]
  },
  {
   "cell_type": "code",
   "execution_count": 23,
   "id": "d0027c6c-c8e6-4b52-b4f1-005bc0f13cc9",
   "metadata": {
    "tags": []
   },
   "outputs": [
    {
     "data": {
      "image/png": "[encoded data removed]",
      "text/plain": [
       "<Figure size 432x288 with 1 Axes>"
      ]
     },
     "metadata": {
      "needs_background": "light"
     },
     "output_type": "display_data"
    },
    {
     "data": {
      "image/png": "[encoded data removed]",
      "text/plain": [
       "<Figure size 432x288 with 1 Axes>"
      ]
     },
     "metadata": {
      "needs_background": "light"
     },
     "output_type": "display_data"
    },
    {
     "data": {
      "image/png": "[encoded data removed]",
      "text/plain": [
       "<Figure size 432x288 with 1 Axes>"
      ]
     },
     "metadata": {
      "needs_background": "light"
     },
     "output_type": "display_data"
    },
    {
     "data": {
      "image/png": "[encoded data removed]",
      "text/plain": [
       "<Figure size 432x288 with 1 Axes>"
      ]
     },
     "metadata": {
      "needs_background": "light"
     },
     "output_type": "display_data"
    },
    {
     "data": {
      "image/png": "[encoded data removed]",
      "text/plain": [
       "<Figure size 432x288 with 1 Axes>"
      ]
     },
     "metadata": {
      "needs_background": "light"
     },
     "output_type": "display_data"
    },
    {
     "data": {
      "image/png": "[encoded data removed]",
      "text/plain": [
       "<Figure size 432x288 with 1 Axes>"
      ]
     },
     "metadata": {
      "needs_background": "light"
     },
     "output_type": "display_data"
    },
    {
     "data": {
      "image/png": "[encoded data removed]",
      "text/plain": [
       "<Figure size 432x288 with 1 Axes>"
      ]
     },
     "metadata": {
      "needs_background": "light"
     },
     "output_type": "display_data"
    },
    {
     "data": {
      "image/png": "[encoded data removed]",
      "text/plain": [
       "<Figure size 432x288 with 1 Axes>"
      ]
     },
     "metadata": {
      "needs_background": "light"
     },
     "output_type": "display_data"
    },
    {
     "data": {
      "image/png": "[encoded data removed]",
      "text/plain": [
       "<Figure size 432x288 with 1 Axes>"
      ]
     },
     "metadata": {
      "needs_background": "light"
     },
     "output_type": "display_data"
    },
    {
     "data": {
      "image/png": "[encoded data removed]",
      "text/plain": [
       "<Figure size 432x288 with 1 Axes>"
      ]
     },
     "metadata": {
      "needs_background": "light"
     },
     "output_type": "display_data"
    },
    {
     "data": {
      "image/png": "[encoded data removed]",
      "text/plain": [
       "<Figure size 432x288 with 1 Axes>"
      ]
     },
     "metadata": {
      "needs_background": "light"
     },
     "output_type": "display_data"
    }
   ],
   "source": [
    "ava_output = None\n",
    "for i in range(K):\n",
    "    if(ava_output is None):\n",
    "        ava_output = test_sigmoid[i]/K\n",
    "    else:\n",
    "        ava_output += test_sigmoid[i]/K\n",
    "    TPRs, FPRs, AUC = calculate_ROC(test_sigmoid[i], test1_label)\n",
    "    plt.figure()\n",
    "    plt.title(\"Fold %d ROC curve\"%(i+1))\n",
    "    plt.plot(FPRs, TPRs)\n",
    "    plt.xlabel(\"FPR\")\n",
    "    plt.ylabel(\"TPR\")\n",
    "    plt.legend([\"AUC = %.4f\"%(AUC)])\n",
    "    plt.show()\n",
    "\n",
    "TPRs, FPRs, AUC = calculate_ROC(ava_output, test1_label)\n",
    "plt.figure()\n",
    "plt.title(\"Avarage ROC curve\")\n",
    "plt.plot(FPRs, TPRs)\n",
    "plt.xlabel(\"FPR\")\n",
    "plt.ylabel(\"TPR\")\n",
    "plt.legend([\"AUC = %.4f\"%(AUC)])\n",
    "plt.show()"
   ]
  },
  {
   "cell_type": "markdown",
   "id": "3bd0e3d1-ab60-4c66-97fd-c6c832f20b1d",
   "metadata": {},
   "source": [
    "## 4.5 计算特征重要性"
   ]
  },
  {
   "cell_type": "markdown",
   "id": "ba1c3bff-18a7-4800-b328-fc48cc6791e0",
   "metadata": {},
   "source": [
    "### 4.5.1 获取每一项参数的名字"
   ]
  },
  {
   "cell_type": "code",
   "execution_count": 24,
   "id": "9ebc62d8-0145-4000-8fa0-56a98a963148",
   "metadata": {},
   "outputs": [
    {
     "data": {
      "text/plain": [
       "array(['intercept', 'age', 'bmi', 'elective_surgery', 'height',\n",
       "       'pre_icu_los_days', 'weight', 'apache_2_diagnosis',\n",
       "       'apache_3j_diagnosis', 'arf_apache', 'bun_apache',\n",
       "       'creatinine_apache', 'gcs_eyes_apache', 'gcs_motor_apache',\n",
       "       'gcs_verbal_apache', 'glucose_apache', 'heart_rate_apache',\n",
       "       'hematocrit_apache', 'intubated_apache', 'map_apache',\n",
       "       'resprate_apache', 'sodium_apache', 'temp_apache',\n",
       "       'ventilated_apache', 'wbc_apache', 'd1_diasbp_max',\n",
       "       'd1_diasbp_min', 'd1_heartrate_max', 'd1_heartrate_min',\n",
       "       'd1_mbp_max', 'd1_mbp_min', 'd1_resprate_max', 'd1_resprate_min',\n",
       "       'd1_spo2_max', 'd1_spo2_min', 'd1_sysbp_max', 'd1_sysbp_min',\n",
       "       'd1_temp_max', 'd1_temp_min', 'h1_diasbp_max', 'h1_diasbp_min',\n",
       "       'h1_heartrate_max', 'h1_heartrate_min', 'h1_mbp_max', 'h1_mbp_min',\n",
       "       'h1_resprate_max', 'h1_resprate_min', 'h1_spo2_max', 'h1_spo2_min',\n",
       "       'h1_sysbp_max', 'h1_sysbp_min', 'h1_temp_max', 'h1_temp_min',\n",
       "       'd1_calcium_max', 'd1_calcium_min', 'd1_glucose_min',\n",
       "       'd1_hco3_max', 'd1_hco3_min', 'd1_hemaglobin_max',\n",
       "       'd1_platelets_max', 'd1_potassium_max', 'd1_potassium_min',\n",
       "       'd1_sodium_max', 'apache_4a_icu_death_prob', 'aids', 'cirrhosis',\n",
       "       'diabetes_mellitus', 'hepatic_failure', 'immunosuppression',\n",
       "       'leukemia', 'lymphoma', 'solid_tumor_with_metastasis',\n",
       "       'ethnicity_African American', 'ethnicity_Asian',\n",
       "       'ethnicity_Caucasian', 'ethnicity_Hispanic',\n",
       "       'ethnicity_Native American', 'ethnicity_Other/Unknown', 'gender_F',\n",
       "       'gender_M', 'icu_type_CCU-CTICU', 'icu_type_CSICU',\n",
       "       'icu_type_CTICU', 'icu_type_Cardiac ICU', 'icu_type_MICU',\n",
       "       'icu_type_Med-Surg ICU', 'icu_type_Neuro ICU', 'icu_type_SICU',\n",
       "       'apache_3j_bodysystem_Cardiovascular',\n",
       "       'apache_3j_bodysystem_Gastrointestinal',\n",
       "       'apache_3j_bodysystem_Genitourinary',\n",
       "       'apache_3j_bodysystem_Gynecological',\n",
       "       'apache_3j_bodysystem_Hematological',\n",
       "       'apache_3j_bodysystem_Metabolic',\n",
       "       'apache_3j_bodysystem_Musculoskeletal/Skin',\n",
       "       'apache_3j_bodysystem_Neurological',\n",
       "       'apache_3j_bodysystem_Respiratory', 'apache_3j_bodysystem_Sepsis',\n",
       "       'apache_3j_bodysystem_Trauma',\n",
       "       'apache_2_bodysystem_Cardiovascular',\n",
       "       'apache_2_bodysystem_Gastrointestinal',\n",
       "       'apache_2_bodysystem_Haematologic',\n",
       "       'apache_2_bodysystem_Metabolic', 'apache_2_bodysystem_Neurologic',\n",
       "       'apache_2_bodysystem_Renal/Genitourinary',\n",
       "       'apache_2_bodysystem_Respiratory', 'apache_2_bodysystem_Trauma',\n",
       "       'apache_2_bodysystem_Undefined Diagnoses',\n",
       "       'apache_2_bodysystem_Undefined diagnoses'], dtype=object)"
      ]
     },
     "execution_count": 24,
     "metadata": {},
     "output_type": "execute_result"
    }
   ],
   "source": [
    "header_name = np.concatenate([np.array([\"intercept\"]), np.array(pd.read_csv(\"./data1forEx1to4/train1_icu_data.csv\", header = None).iloc[0])])\n",
    "header_name"
   ]
  },
  {
   "cell_type": "markdown",
   "id": "6ab65ba1-9312-4be3-9113-6e937c2381f9",
   "metadata": {},
   "source": [
    "### 4.5.2比较系数绝对值大小进行重要性排序"
   ]
  },
  {
   "cell_type": "code",
   "execution_count": 30,
   "id": "a669837c-9b92-49bb-adb9-c2e8f82e725f",
   "metadata": {
    "tags": []
   },
   "outputs": [
    {
     "name": "stdout",
     "output_type": "stream",
     "text": [
      "根据系数绝对值大小得到的参数重要性排序为：\n",
      "1.\tintercept\n",
      "2.\tapache_4a_icu_death_prob\n",
      "3.\tgcs_motor_apache\n",
      "4.\tgcs_eyes_apache\n",
      "5.\td1_temp_min\n",
      "6.\tgcs_verbal_apache\n",
      "7.\tventilated_apache\n",
      "8.\td1_spo2_min\n",
      "9.\tintubated_apache\n",
      "10.\ttemp_apache\n",
      "11.\td1_hco3_min\n",
      "12.\tbun_apache\n",
      "13.\td1_sysbp_min\n",
      "14.\twbc_apache\n",
      "15.\th1_temp_min\n",
      "16.\th1_temp_max\n",
      "17.\td1_mbp_min\n",
      "18.\td1_potassium_max\n",
      "19.\td1_calcium_min\n",
      "20.\td1_hco3_max\n",
      "21.\td1_heartrate_max\n",
      "22.\tcreatinine_apache\n",
      "23.\td1_diasbp_min\n",
      "24.\th1_spo2_min\n",
      "25.\th1_resprate_min\n",
      "26.\tapache_2_bodysystem_Undefined diagnoses\n",
      "27.\th1_resprate_max\n",
      "28.\tapache_3j_diagnosis\n",
      "29.\telective_surgery\n",
      "30.\tcirrhosis\n",
      "31.\tapache_2_bodysystem_Cardiovascular\n",
      "32.\tglucose_apache\n",
      "33.\tsolid_tumor_with_metastasis\n",
      "34.\tpre_icu_los_days\n",
      "35.\td1_resprate_max\n",
      "36.\tapache_2_diagnosis\n",
      "37.\th1_mbp_min\n",
      "38.\timmunosuppression\n",
      "39.\tage\n",
      "40.\th1_sysbp_min\n",
      "41.\thepatic_failure\n",
      "42.\tapache_3j_bodysystem_Sepsis\n",
      "43.\theart_rate_apache\n",
      "44.\th1_spo2_max\n",
      "45.\tresprate_apache\n",
      "46.\tapache_2_bodysystem_Metabolic\n",
      "47.\tapache_3j_bodysystem_Metabolic\n",
      "48.\th1_diasbp_min\n",
      "49.\tapache_3j_bodysystem_Gastrointestinal\n",
      "50.\tapache_2_bodysystem_Gastrointestinal\n",
      "51.\tdiabetes_mellitus\n",
      "52.\td1_heartrate_min\n",
      "53.\ticu_type_SICU\n",
      "54.\td1_sodium_max\n",
      "55.\td1_platelets_max\n",
      "56.\tleukemia\n",
      "57.\tapache_3j_bodysystem_Genitourinary\n",
      "58.\ticu_type_Neuro ICU\n",
      "59.\th1_diasbp_max\n",
      "60.\ticu_type_Cardiac ICU\n",
      "61.\tapache_2_bodysystem_Renal/Genitourinary\n",
      "62.\tmap_apache\n",
      "63.\tsodium_apache\n",
      "64.\td1_calcium_max\n",
      "65.\td1_diasbp_max\n",
      "66.\td1_spo2_max\n",
      "67.\th1_heartrate_max\n",
      "68.\th1_heartrate_min\n",
      "69.\tapache_2_bodysystem_Neurologic\n",
      "70.\tapache_3j_bodysystem_Neurological\n",
      "71.\td1_glucose_min\n",
      "72.\tgender_M\n",
      "73.\tethnicity_Asian\n",
      "74.\ticu_type_MICU\n",
      "75.\tarf_apache\n",
      "76.\td1_sysbp_max\n",
      "77.\td1_hemaglobin_max\n",
      "78.\td1_mbp_max\n",
      "79.\tgender_F\n",
      "80.\ticu_type_CCU-CTICU\n",
      "81.\tlymphoma\n",
      "82.\td1_potassium_min\n",
      "83.\th1_mbp_max\n",
      "84.\td1_temp_max\n",
      "85.\tethnicity_Native American\n",
      "86.\tapache_2_bodysystem_Undefined Diagnoses\n",
      "87.\tapache_3j_bodysystem_Hematological\n",
      "88.\tapache_2_bodysystem_Haematologic\n",
      "89.\tethnicity_Caucasian\n",
      "90.\tethnicity_Hispanic\n",
      "91.\tapache_3j_bodysystem_Trauma\n",
      "92.\tapache_2_bodysystem_Trauma\n",
      "93.\tethnicity_African American\n",
      "94.\tweight\n",
      "95.\ticu_type_CTICU\n",
      "96.\tapache_3j_bodysystem_Cardiovascular\n",
      "97.\tapache_3j_bodysystem_Musculoskeletal/Skin\n",
      "98.\tapache_3j_bodysystem_Respiratory\n",
      "99.\tapache_2_bodysystem_Respiratory\n",
      "100.\tbmi\n",
      "101.\td1_resprate_min\n",
      "102.\th1_sysbp_max\n",
      "103.\thematocrit_apache\n",
      "104.\tethnicity_Other/Unknown\n",
      "105.\theight\n",
      "106.\ticu_type_Med-Surg ICU\n",
      "107.\tapache_3j_bodysystem_Gynecological\n",
      "108.\ticu_type_CSICU\n",
      "109.\taids\n"
     ]
    }
   ],
   "source": [
    "ava_omega = None\n",
    "for i in range(K):\n",
    "    if(ava_omega is None):\n",
    "        ava_omega = LRs[i].omega.reshape(-1)/K\n",
    "    else:\n",
    "        ava_omega += LRs[i].omega.reshape(-1)/K\n",
    "        \n",
    "importance_sort_index1 = np.argsort(np.abs(ava_omega))\n",
    "print(\"根据系数绝对值大小得到的参数重要性排序为：\")\n",
    "for index, item in enumerate((header_name[importance_sort_index1])[::-1]):\n",
    "    print(\"%d.\\t%s\"%(index+1, item))"
   ]
  },
  {
   "cell_type": "markdown",
   "id": "9079b5a0-43d8-4b47-be5c-436b0a332d3f",
   "metadata": {},
   "source": [
    "### 4.5.3使用statsmodels进行特征重要性排序"
   ]
  },
  {
   "cell_type": "code",
   "execution_count": 26,
   "id": "96eaa3ed-79bc-4ce8-b0d2-f569bcf4da5b",
   "metadata": {},
   "outputs": [],
   "source": [
    "import statsmodels.api as sma"
   ]
  },
  {
   "cell_type": "code",
   "execution_count": 27,
   "id": "3c01ebe3-788a-488e-8e19-c2f20b9267e1",
   "metadata": {
    "tags": []
   },
   "outputs": [
    {
     "name": "stdout",
     "output_type": "stream",
     "text": [
      "Optimization terminated successfully.\n",
      "         Current function value: 0.429116\n",
      "         Iterations 11\n"
     ]
    },
    {
     "data": {
      "text/html": [
       "<table class=\"simpletable\">\n",
       "<caption>Logit Regression Results</caption>\n",
       "<tr>\n",
       "  <th>Dep. Variable:</th>           <td>y</td>        <th>  No. Observations:  </th>  <td>  5000</td> \n",
       "</tr>\n",
       "<tr>\n",
       "  <th>Model:</th>                 <td>Logit</td>      <th>  Df Residuals:      </th>  <td>  4903</td> \n",
       "</tr>\n",
       "<tr>\n",
       "  <th>Method:</th>                 <td>MLE</td>       <th>  Df Model:          </th>  <td>    96</td> \n",
       "</tr>\n",
       "<tr>\n",
       "  <th>Date:</th>            <td>Tue, 05 Oct 2021</td> <th>  Pseudo R-squ.:     </th>  <td>0.3807</td> \n",
       "</tr>\n",
       "<tr>\n",
       "  <th>Time:</th>                <td>19:09:26</td>     <th>  Log-Likelihood:    </th> <td> -2145.6</td>\n",
       "</tr>\n",
       "<tr>\n",
       "  <th>converged:</th>             <td>True</td>       <th>  LL-Null:           </th> <td> -3464.7</td>\n",
       "</tr>\n",
       "<tr>\n",
       "  <th>Covariance Type:</th>     <td>nonrobust</td>    <th>  LLR p-value:       </th>  <td> 0.000</td> \n",
       "</tr>\n",
       "</table>\n",
       "<table class=\"simpletable\">\n",
       "<tr>\n",
       "    <td></td>       <th>coef</th>     <th>std err</th>      <th>z</th>      <th>P>|z|</th>  <th>[0.025</th>    <th>0.975]</th>  \n",
       "</tr>\n",
       "<tr>\n",
       "  <th>const</th> <td>   11.8096</td> <td>      nan</td> <td>      nan</td> <td>   nan</td> <td>      nan</td> <td>      nan</td>\n",
       "</tr>\n",
       "<tr>\n",
       "  <th>x1</th>    <td>    0.0258</td> <td>    0.003</td> <td>    8.545</td> <td> 0.000</td> <td>    0.020</td> <td>    0.032</td>\n",
       "</tr>\n",
       "<tr>\n",
       "  <th>x2</th>    <td>    0.0229</td> <td>    0.025</td> <td>    0.924</td> <td> 0.355</td> <td>   -0.026</td> <td>    0.072</td>\n",
       "</tr>\n",
       "<tr>\n",
       "  <th>x3</th>    <td>   -0.5824</td> <td>    0.241</td> <td>   -2.421</td> <td> 0.015</td> <td>   -1.054</td> <td>   -0.111</td>\n",
       "</tr>\n",
       "<tr>\n",
       "  <th>x4</th>    <td>    0.0036</td> <td>    0.010</td> <td>    0.349</td> <td> 0.727</td> <td>   -0.017</td> <td>    0.024</td>\n",
       "</tr>\n",
       "<tr>\n",
       "  <th>x5</th>    <td>    0.0619</td> <td>    0.016</td> <td>    3.846</td> <td> 0.000</td> <td>    0.030</td> <td>    0.094</td>\n",
       "</tr>\n",
       "<tr>\n",
       "  <th>x6</th>    <td>   -0.0102</td> <td>    0.009</td> <td>   -1.148</td> <td> 0.251</td> <td>   -0.028</td> <td>    0.007</td>\n",
       "</tr>\n",
       "<tr>\n",
       "  <th>x7</th>    <td>    0.0010</td> <td>    0.001</td> <td>    1.662</td> <td> 0.096</td> <td>   -0.000</td> <td>    0.002</td>\n",
       "</tr>\n",
       "<tr>\n",
       "  <th>x8</th>    <td>   -0.0003</td> <td>    0.000</td> <td>   -1.197</td> <td> 0.231</td> <td>   -0.001</td> <td>    0.000</td>\n",
       "</tr>\n",
       "<tr>\n",
       "  <th>x9</th>    <td>    0.3791</td> <td>    0.248</td> <td>    1.527</td> <td> 0.127</td> <td>   -0.107</td> <td>    0.866</td>\n",
       "</tr>\n",
       "<tr>\n",
       "  <th>x10</th>   <td>    0.0124</td> <td>    0.003</td> <td>    4.593</td> <td> 0.000</td> <td>    0.007</td> <td>    0.018</td>\n",
       "</tr>\n",
       "<tr>\n",
       "  <th>x11</th>   <td>    0.0182</td> <td>    0.040</td> <td>    0.452</td> <td> 0.651</td> <td>   -0.061</td> <td>    0.097</td>\n",
       "</tr>\n",
       "<tr>\n",
       "  <th>x12</th>   <td>   -0.0780</td> <td>    0.068</td> <td>   -1.150</td> <td> 0.250</td> <td>   -0.211</td> <td>    0.055</td>\n",
       "</tr>\n",
       "<tr>\n",
       "  <th>x13</th>   <td>   -0.1501</td> <td>    0.044</td> <td>   -3.384</td> <td> 0.001</td> <td>   -0.237</td> <td>   -0.063</td>\n",
       "</tr>\n",
       "<tr>\n",
       "  <th>x14</th>   <td>   -0.0672</td> <td>    0.038</td> <td>   -1.746</td> <td> 0.081</td> <td>   -0.143</td> <td>    0.008</td>\n",
       "</tr>\n",
       "<tr>\n",
       "  <th>x15</th>   <td>   -0.0007</td> <td>    0.001</td> <td>   -1.314</td> <td> 0.189</td> <td>   -0.002</td> <td>    0.000</td>\n",
       "</tr>\n",
       "<tr>\n",
       "  <th>x16</th>   <td>    0.0008</td> <td>    0.002</td> <td>    0.339</td> <td> 0.735</td> <td>   -0.004</td> <td>    0.005</td>\n",
       "</tr>\n",
       "<tr>\n",
       "  <th>x17</th>   <td>    0.0325</td> <td>    0.012</td> <td>    2.808</td> <td> 0.005</td> <td>    0.010</td> <td>    0.055</td>\n",
       "</tr>\n",
       "<tr>\n",
       "  <th>x18</th>   <td>    0.1017</td> <td>    0.115</td> <td>    0.883</td> <td> 0.377</td> <td>   -0.124</td> <td>    0.327</td>\n",
       "</tr>\n",
       "<tr>\n",
       "  <th>x19</th>   <td>    0.0016</td> <td>    0.001</td> <td>    1.537</td> <td> 0.124</td> <td>   -0.000</td> <td>    0.004</td>\n",
       "</tr>\n",
       "<tr>\n",
       "  <th>x20</th>   <td>    0.0049</td> <td>    0.004</td> <td>    1.340</td> <td> 0.180</td> <td>   -0.002</td> <td>    0.012</td>\n",
       "</tr>\n",
       "<tr>\n",
       "  <th>x21</th>   <td>   -0.0396</td> <td>    0.016</td> <td>   -2.496</td> <td> 0.013</td> <td>   -0.071</td> <td>   -0.008</td>\n",
       "</tr>\n",
       "<tr>\n",
       "  <th>x22</th>   <td>    0.0033</td> <td>    0.066</td> <td>    0.051</td> <td> 0.960</td> <td>   -0.126</td> <td>    0.133</td>\n",
       "</tr>\n",
       "<tr>\n",
       "  <th>x23</th>   <td>    0.7954</td> <td>    0.107</td> <td>    7.436</td> <td> 0.000</td> <td>    0.586</td> <td>    1.005</td>\n",
       "</tr>\n",
       "<tr>\n",
       "  <th>x24</th>   <td>    0.0298</td> <td>    0.006</td> <td>    5.264</td> <td> 0.000</td> <td>    0.019</td> <td>    0.041</td>\n",
       "</tr>\n",
       "<tr>\n",
       "  <th>x25</th>   <td>    0.0031</td> <td>    0.004</td> <td>    0.726</td> <td> 0.468</td> <td>   -0.005</td> <td>    0.012</td>\n",
       "</tr>\n",
       "<tr>\n",
       "  <th>x26</th>   <td>    0.0016</td> <td>    0.007</td> <td>    0.226</td> <td> 0.821</td> <td>   -0.012</td> <td>    0.015</td>\n",
       "</tr>\n",
       "<tr>\n",
       "  <th>x27</th>   <td>    0.0142</td> <td>    0.004</td> <td>    3.996</td> <td> 0.000</td> <td>    0.007</td> <td>    0.021</td>\n",
       "</tr>\n",
       "<tr>\n",
       "  <th>x28</th>   <td>    0.0069</td> <td>    0.003</td> <td>    2.384</td> <td> 0.017</td> <td>    0.001</td> <td>    0.013</td>\n",
       "</tr>\n",
       "<tr>\n",
       "  <th>x29</th>   <td>   -0.0062</td> <td>    0.005</td> <td>   -1.275</td> <td> 0.202</td> <td>   -0.016</td> <td>    0.003</td>\n",
       "</tr>\n",
       "<tr>\n",
       "  <th>x30</th>   <td>   -0.0069</td> <td>    0.007</td> <td>   -0.947</td> <td> 0.344</td> <td>   -0.021</td> <td>    0.007</td>\n",
       "</tr>\n",
       "<tr>\n",
       "  <th>x31</th>   <td>    0.0061</td> <td>    0.005</td> <td>    1.220</td> <td> 0.223</td> <td>   -0.004</td> <td>    0.016</td>\n",
       "</tr>\n",
       "<tr>\n",
       "  <th>x32</th>   <td> 6.814e-05</td> <td>    0.010</td> <td>    0.007</td> <td> 0.994</td> <td>   -0.019</td> <td>    0.019</td>\n",
       "</tr>\n",
       "<tr>\n",
       "  <th>x33</th>   <td>   -0.0784</td> <td>    0.039</td> <td>   -1.997</td> <td> 0.046</td> <td>   -0.155</td> <td>   -0.001</td>\n",
       "</tr>\n",
       "<tr>\n",
       "  <th>x34</th>   <td>   -0.0246</td> <td>    0.004</td> <td>   -5.714</td> <td> 0.000</td> <td>   -0.033</td> <td>   -0.016</td>\n",
       "</tr>\n",
       "<tr>\n",
       "  <th>x35</th>   <td>   -0.0014</td> <td>    0.003</td> <td>   -0.469</td> <td> 0.639</td> <td>   -0.007</td> <td>    0.004</td>\n",
       "</tr>\n",
       "<tr>\n",
       "  <th>x36</th>   <td>   -0.0094</td> <td>    0.004</td> <td>   -2.417</td> <td> 0.016</td> <td>   -0.017</td> <td>   -0.002</td>\n",
       "</tr>\n",
       "<tr>\n",
       "  <th>x37</th>   <td>    0.1602</td> <td>    0.062</td> <td>    2.582</td> <td> 0.010</td> <td>    0.039</td> <td>    0.282</td>\n",
       "</tr>\n",
       "<tr>\n",
       "  <th>x38</th>   <td>   -0.3287</td> <td>    0.080</td> <td>   -4.122</td> <td> 0.000</td> <td>   -0.485</td> <td>   -0.172</td>\n",
       "</tr>\n",
       "<tr>\n",
       "  <th>x39</th>   <td>    0.0050</td> <td>    0.005</td> <td>    0.998</td> <td> 0.318</td> <td>   -0.005</td> <td>    0.015</td>\n",
       "</tr>\n",
       "<tr>\n",
       "  <th>x40</th>   <td>    0.0005</td> <td>    0.006</td> <td>    0.087</td> <td> 0.931</td> <td>   -0.011</td> <td>    0.012</td>\n",
       "</tr>\n",
       "<tr>\n",
       "  <th>x41</th>   <td>   -0.0118</td> <td>    0.004</td> <td>   -2.953</td> <td> 0.003</td> <td>   -0.020</td> <td>   -0.004</td>\n",
       "</tr>\n",
       "<tr>\n",
       "  <th>x42</th>   <td>    0.0027</td> <td>    0.004</td> <td>    0.638</td> <td> 0.523</td> <td>   -0.006</td> <td>    0.011</td>\n",
       "</tr>\n",
       "<tr>\n",
       "  <th>x43</th>   <td>    0.0010</td> <td>    0.005</td> <td>    0.199</td> <td> 0.842</td> <td>   -0.009</td> <td>    0.011</td>\n",
       "</tr>\n",
       "<tr>\n",
       "  <th>x44</th>   <td>   -0.0166</td> <td>    0.006</td> <td>   -2.780</td> <td> 0.005</td> <td>   -0.028</td> <td>   -0.005</td>\n",
       "</tr>\n",
       "<tr>\n",
       "  <th>x45</th>   <td>    0.0124</td> <td>    0.008</td> <td>    1.603</td> <td> 0.109</td> <td>   -0.003</td> <td>    0.028</td>\n",
       "</tr>\n",
       "<tr>\n",
       "  <th>x46</th>   <td>    0.0200</td> <td>    0.010</td> <td>    2.096</td> <td> 0.036</td> <td>    0.001</td> <td>    0.039</td>\n",
       "</tr>\n",
       "<tr>\n",
       "  <th>x47</th>   <td>   -0.0177</td> <td>    0.017</td> <td>   -1.073</td> <td> 0.283</td> <td>   -0.050</td> <td>    0.015</td>\n",
       "</tr>\n",
       "<tr>\n",
       "  <th>x48</th>   <td>    0.0118</td> <td>    0.007</td> <td>    1.739</td> <td> 0.082</td> <td>   -0.001</td> <td>    0.025</td>\n",
       "</tr>\n",
       "<tr>\n",
       "  <th>x49</th>   <td>   -0.0022</td> <td>    0.003</td> <td>   -0.660</td> <td> 0.509</td> <td>   -0.009</td> <td>    0.004</td>\n",
       "</tr>\n",
       "<tr>\n",
       "  <th>x50</th>   <td>    0.0109</td> <td>    0.004</td> <td>    3.064</td> <td> 0.002</td> <td>    0.004</td> <td>    0.018</td>\n",
       "</tr>\n",
       "<tr>\n",
       "  <th>x51</th>   <td>   -0.1585</td> <td>    0.091</td> <td>   -1.734</td> <td> 0.083</td> <td>   -0.338</td> <td>    0.021</td>\n",
       "</tr>\n",
       "<tr>\n",
       "  <th>x52</th>   <td>    0.0278</td> <td>    0.091</td> <td>    0.306</td> <td> 0.760</td> <td>   -0.150</td> <td>    0.206</td>\n",
       "</tr>\n",
       "<tr>\n",
       "  <th>x53</th>   <td>    0.3559</td> <td>    0.122</td> <td>    2.928</td> <td> 0.003</td> <td>    0.118</td> <td>    0.594</td>\n",
       "</tr>\n",
       "<tr>\n",
       "  <th>x54</th>   <td>   -0.4114</td> <td>    0.124</td> <td>   -3.329</td> <td> 0.001</td> <td>   -0.654</td> <td>   -0.169</td>\n",
       "</tr>\n",
       "<tr>\n",
       "  <th>x55</th>   <td>    0.0015</td> <td>    0.001</td> <td>    1.217</td> <td> 0.223</td> <td>   -0.001</td> <td>    0.004</td>\n",
       "</tr>\n",
       "<tr>\n",
       "  <th>x56</th>   <td>   -0.0172</td> <td>    0.016</td> <td>   -1.093</td> <td> 0.274</td> <td>   -0.048</td> <td>    0.014</td>\n",
       "</tr>\n",
       "<tr>\n",
       "  <th>x57</th>   <td>   -0.0054</td> <td>    0.016</td> <td>   -0.347</td> <td> 0.728</td> <td>   -0.036</td> <td>    0.025</td>\n",
       "</tr>\n",
       "<tr>\n",
       "  <th>x58</th>   <td>   -0.1587</td> <td>    0.036</td> <td>   -4.436</td> <td> 0.000</td> <td>   -0.229</td> <td>   -0.089</td>\n",
       "</tr>\n",
       "<tr>\n",
       "  <th>x59</th>   <td>   -0.0011</td> <td>    0.000</td> <td>   -2.682</td> <td> 0.007</td> <td>   -0.002</td> <td>   -0.000</td>\n",
       "</tr>\n",
       "<tr>\n",
       "  <th>x60</th>   <td>    0.1369</td> <td>    0.089</td> <td>    1.545</td> <td> 0.122</td> <td>   -0.037</td> <td>    0.310</td>\n",
       "</tr>\n",
       "<tr>\n",
       "  <th>x61</th>   <td>   -0.0650</td> <td>    0.097</td> <td>   -0.668</td> <td> 0.504</td> <td>   -0.256</td> <td>    0.126</td>\n",
       "</tr>\n",
       "<tr>\n",
       "  <th>x62</th>   <td>    0.0215</td> <td>    0.018</td> <td>    1.224</td> <td> 0.221</td> <td>   -0.013</td> <td>    0.056</td>\n",
       "</tr>\n",
       "<tr>\n",
       "  <th>x63</th>   <td>    1.5384</td> <td>    0.244</td> <td>    6.305</td> <td> 0.000</td> <td>    1.060</td> <td>    2.017</td>\n",
       "</tr>\n",
       "<tr>\n",
       "  <th>x64</th>   <td>   -0.5202</td> <td>    1.438</td> <td>   -0.362</td> <td> 0.717</td> <td>   -3.338</td> <td>    2.297</td>\n",
       "</tr>\n",
       "<tr>\n",
       "  <th>x65</th>   <td>    0.7036</td> <td>    0.286</td> <td>    2.461</td> <td> 0.014</td> <td>    0.143</td> <td>    1.264</td>\n",
       "</tr>\n",
       "<tr>\n",
       "  <th>x66</th>   <td>   -0.1125</td> <td>    0.101</td> <td>   -1.110</td> <td> 0.267</td> <td>   -0.311</td> <td>    0.086</td>\n",
       "</tr>\n",
       "<tr>\n",
       "  <th>x67</th>   <td>    0.8811</td> <td>    0.302</td> <td>    2.922</td> <td> 0.003</td> <td>    0.290</td> <td>    1.472</td>\n",
       "</tr>\n",
       "<tr>\n",
       "  <th>x68</th>   <td>    0.6427</td> <td>    0.208</td> <td>    3.096</td> <td> 0.002</td> <td>    0.236</td> <td>    1.050</td>\n",
       "</tr>\n",
       "<tr>\n",
       "  <th>x69</th>   <td>   -0.0024</td> <td>    0.349</td> <td>   -0.007</td> <td> 0.994</td> <td>   -0.686</td> <td>    0.681</td>\n",
       "</tr>\n",
       "<tr>\n",
       "  <th>x70</th>   <td>   -0.2371</td> <td>    0.460</td> <td>   -0.515</td> <td> 0.607</td> <td>   -1.139</td> <td>    0.665</td>\n",
       "</tr>\n",
       "<tr>\n",
       "  <th>x71</th>   <td>    1.0504</td> <td>    0.226</td> <td>    4.658</td> <td> 0.000</td> <td>    0.608</td> <td>    1.492</td>\n",
       "</tr>\n",
       "<tr>\n",
       "  <th>x72</th>   <td>    1.3998</td> <td> 3.45e+06</td> <td> 4.06e-07</td> <td> 1.000</td> <td>-6.76e+06</td> <td> 6.76e+06</td>\n",
       "</tr>\n",
       "<tr>\n",
       "  <th>x73</th>   <td>    1.3712</td> <td> 2.84e+06</td> <td> 4.83e-07</td> <td> 1.000</td> <td>-5.56e+06</td> <td> 5.56e+06</td>\n",
       "</tr>\n",
       "<tr>\n",
       "  <th>x74</th>   <td>    1.4129</td> <td>  5.2e+06</td> <td> 2.72e-07</td> <td> 1.000</td> <td>-1.02e+07</td> <td> 1.02e+07</td>\n",
       "</tr>\n",
       "<tr>\n",
       "  <th>x75</th>   <td>    1.5565</td> <td> 4.75e+06</td> <td> 3.28e-07</td> <td> 1.000</td> <td>-9.31e+06</td> <td> 9.31e+06</td>\n",
       "</tr>\n",
       "<tr>\n",
       "  <th>x76</th>   <td>    1.3474</td> <td>      nan</td> <td>      nan</td> <td>   nan</td> <td>      nan</td> <td>      nan</td>\n",
       "</tr>\n",
       "<tr>\n",
       "  <th>x77</th>   <td>    1.3027</td> <td> 3.31e+06</td> <td> 3.93e-07</td> <td> 1.000</td> <td>-6.49e+06</td> <td> 6.49e+06</td>\n",
       "</tr>\n",
       "<tr>\n",
       "  <th>x78</th>   <td>    4.9655</td> <td>      nan</td> <td>      nan</td> <td>   nan</td> <td>      nan</td> <td>      nan</td>\n",
       "</tr>\n",
       "<tr>\n",
       "  <th>x79</th>   <td>    5.2355</td> <td> 4.28e+06</td> <td> 1.22e-06</td> <td> 1.000</td> <td>-8.39e+06</td> <td> 8.39e+06</td>\n",
       "</tr>\n",
       "<tr>\n",
       "  <th>x80</th>   <td>    1.2454</td> <td>      nan</td> <td>      nan</td> <td>   nan</td> <td>      nan</td> <td>      nan</td>\n",
       "</tr>\n",
       "<tr>\n",
       "  <th>x81</th>   <td>    1.0822</td> <td>      nan</td> <td>      nan</td> <td>   nan</td> <td>      nan</td> <td>      nan</td>\n",
       "</tr>\n",
       "<tr>\n",
       "  <th>x82</th>   <td>    1.6960</td> <td>      nan</td> <td>      nan</td> <td>   nan</td> <td>      nan</td> <td>      nan</td>\n",
       "</tr>\n",
       "<tr>\n",
       "  <th>x83</th>   <td>    1.4139</td> <td> 1.98e+06</td> <td> 7.15e-07</td> <td> 1.000</td> <td>-3.88e+06</td> <td> 3.88e+06</td>\n",
       "</tr>\n",
       "<tr>\n",
       "  <th>x84</th>   <td>    1.0424</td> <td> 4.88e+06</td> <td> 2.14e-07</td> <td> 1.000</td> <td>-9.56e+06</td> <td> 9.56e+06</td>\n",
       "</tr>\n",
       "<tr>\n",
       "  <th>x85</th>   <td>    1.0543</td> <td> 6.65e+06</td> <td> 1.59e-07</td> <td> 1.000</td> <td> -1.3e+07</td> <td>  1.3e+07</td>\n",
       "</tr>\n",
       "<tr>\n",
       "  <th>x86</th>   <td>    1.3811</td> <td>      nan</td> <td>      nan</td> <td>   nan</td> <td>      nan</td> <td>      nan</td>\n",
       "</tr>\n",
       "<tr>\n",
       "  <th>x87</th>   <td>    1.1405</td> <td>      nan</td> <td>      nan</td> <td>   nan</td> <td>      nan</td> <td>      nan</td>\n",
       "</tr>\n",
       "<tr>\n",
       "  <th>x88</th>   <td>    0.0102</td> <td> 1.39e+06</td> <td> 7.36e-09</td> <td> 1.000</td> <td>-2.72e+06</td> <td> 2.72e+06</td>\n",
       "</tr>\n",
       "<tr>\n",
       "  <th>x89</th>   <td>    1.1423</td> <td>      nan</td> <td>      nan</td> <td>   nan</td> <td>      nan</td> <td>      nan</td>\n",
       "</tr>\n",
       "<tr>\n",
       "  <th>x90</th>   <td>    0.5313</td> <td>      nan</td> <td>      nan</td> <td>   nan</td> <td>      nan</td> <td>      nan</td>\n",
       "</tr>\n",
       "<tr>\n",
       "  <th>x91</th>   <td>    0.6273</td> <td>      nan</td> <td>      nan</td> <td>   nan</td> <td>      nan</td> <td>      nan</td>\n",
       "</tr>\n",
       "<tr>\n",
       "  <th>x92</th>   <td>    1.3169</td> <td> 1.89e+07</td> <td> 6.96e-08</td> <td> 1.000</td> <td>-3.71e+07</td> <td> 3.71e+07</td>\n",
       "</tr>\n",
       "<tr>\n",
       "  <th>x93</th>   <td>    0.8351</td> <td>      nan</td> <td>      nan</td> <td>   nan</td> <td>      nan</td> <td>      nan</td>\n",
       "</tr>\n",
       "<tr>\n",
       "  <th>x94</th>   <td>    2.2915</td> <td> 1.38e+06</td> <td> 1.66e-06</td> <td> 1.000</td> <td> -2.7e+06</td> <td>  2.7e+06</td>\n",
       "</tr>\n",
       "<tr>\n",
       "  <th>x95</th>   <td>    1.3785</td> <td> 4.68e+06</td> <td> 2.94e-07</td> <td> 1.000</td> <td>-9.18e+06</td> <td> 9.18e+06</td>\n",
       "</tr>\n",
       "<tr>\n",
       "  <th>x96</th>   <td>    1.3434</td> <td>      nan</td> <td>      nan</td> <td>   nan</td> <td>      nan</td> <td>      nan</td>\n",
       "</tr>\n",
       "<tr>\n",
       "  <th>x97</th>   <td>    0.1581</td> <td> 1.44e+06</td> <td>  1.1e-07</td> <td> 1.000</td> <td>-2.82e+06</td> <td> 2.82e+06</td>\n",
       "</tr>\n",
       "<tr>\n",
       "  <th>x98</th>   <td>    1.2858</td> <td>      nan</td> <td>      nan</td> <td>   nan</td> <td>      nan</td> <td>      nan</td>\n",
       "</tr>\n",
       "<tr>\n",
       "  <th>x99</th>   <td>    2.3110</td> <td>      nan</td> <td>      nan</td> <td>   nan</td> <td>      nan</td> <td>      nan</td>\n",
       "</tr>\n",
       "<tr>\n",
       "  <th>x100</th>  <td>    1.1423</td> <td>      nan</td> <td>      nan</td> <td>   nan</td> <td>      nan</td> <td>      nan</td>\n",
       "</tr>\n",
       "<tr>\n",
       "  <th>x101</th>  <td>    1.3169</td> <td> 1.65e+07</td> <td> 7.99e-08</td> <td> 1.000</td> <td>-3.23e+07</td> <td> 3.23e+07</td>\n",
       "</tr>\n",
       "<tr>\n",
       "  <th>x102</th>  <td>    0.8351</td> <td>      nan</td> <td>      nan</td> <td>   nan</td> <td>      nan</td> <td>      nan</td>\n",
       "</tr>\n",
       "<tr>\n",
       "  <th>x103</th>  <td>    1.3785</td> <td> 5.25e+06</td> <td> 2.63e-07</td> <td> 1.000</td> <td>-1.03e+07</td> <td> 1.03e+07</td>\n",
       "</tr>\n",
       "<tr>\n",
       "  <th>x104</th>  <td>    1.1585</td> <td>      nan</td> <td>      nan</td> <td>   nan</td> <td>      nan</td> <td>      nan</td>\n",
       "</tr>\n",
       "<tr>\n",
       "  <th>x105</th>  <td>    1.3434</td> <td>      nan</td> <td>      nan</td> <td>   nan</td> <td>      nan</td> <td>      nan</td>\n",
       "</tr>\n",
       "<tr>\n",
       "  <th>x106</th>  <td>    1.2858</td> <td>      nan</td> <td>      nan</td> <td>   nan</td> <td>      nan</td> <td>      nan</td>\n",
       "</tr>\n",
       "<tr>\n",
       "  <th>x107</th>  <td>   -0.0450</td> <td>      nan</td> <td>      nan</td> <td>   nan</td> <td>      nan</td> <td>      nan</td>\n",
       "</tr>\n",
       "<tr>\n",
       "  <th>x108</th>  <td>    0.1938</td> <td>      nan</td> <td>      nan</td> <td>   nan</td> <td>      nan</td> <td>      nan</td>\n",
       "</tr>\n",
       "</table>"
      ],
      "text/plain": [
       "<class 'statsmodels.iolib.summary.Summary'>\n",
       "\"\"\"\n",
       "                           Logit Regression Results                           \n",
       "==============================================================================\n",
       "Dep. Variable:                      y   No. Observations:                 5000\n",
       "Model:                          Logit   Df Residuals:                     4903\n",
       "Method:                           MLE   Df Model:                           96\n",
       "Date:                Tue, 05 Oct 2021   Pseudo R-squ.:                  0.3807\n",
       "Time:                        19:09:26   Log-Likelihood:                -2145.6\n",
       "converged:                       True   LL-Null:                       -3464.7\n",
       "Covariance Type:            nonrobust   LLR p-value:                     0.000\n",
       "==============================================================================\n",
       "                 coef    std err          z      P>|z|      [0.025      0.975]\n",
       "------------------------------------------------------------------------------\n",
       "const         11.8096        nan        nan        nan         nan         nan\n",
       "x1             0.0258      0.003      8.545      0.000       0.020       0.032\n",
       "x2             0.0229      0.025      0.924      0.355      -0.026       0.072\n",
       "x3            -0.5824      0.241     -2.421      0.015      -1.054      -0.111\n",
       "x4             0.0036      0.010      0.349      0.727      -0.017       0.024\n",
       "x5             0.0619      0.016      3.846      0.000       0.030       0.094\n",
       "x6            -0.0102      0.009     -1.148      0.251      -0.028       0.007\n",
       "x7             0.0010      0.001      1.662      0.096      -0.000       0.002\n",
       "x8            -0.0003      0.000     -1.197      0.231      -0.001       0.000\n",
       "x9             0.3791      0.248      1.527      0.127      -0.107       0.866\n",
       "x10            0.0124      0.003      4.593      0.000       0.007       0.018\n",
       "x11            0.0182      0.040      0.452      0.651      -0.061       0.097\n",
       "x12           -0.0780      0.068     -1.150      0.250      -0.211       0.055\n",
       "x13           -0.1501      0.044     -3.384      0.001      -0.237      -0.063\n",
       "x14           -0.0672      0.038     -1.746      0.081      -0.143       0.008\n",
       "x15           -0.0007      0.001     -1.314      0.189      -0.002       0.000\n",
       "x16            0.0008      0.002      0.339      0.735      -0.004       0.005\n",
       "x17            0.0325      0.012      2.808      0.005       0.010       0.055\n",
       "x18            0.1017      0.115      0.883      0.377      -0.124       0.327\n",
       "x19            0.0016      0.001      1.537      0.124      -0.000       0.004\n",
       "x20            0.0049      0.004      1.340      0.180      -0.002       0.012\n",
       "x21           -0.0396      0.016     -2.496      0.013      -0.071      -0.008\n",
       "x22            0.0033      0.066      0.051      0.960      -0.126       0.133\n",
       "x23            0.7954      0.107      7.436      0.000       0.586       1.005\n",
       "x24            0.0298      0.006      5.264      0.000       0.019       0.041\n",
       "x25            0.0031      0.004      0.726      0.468      -0.005       0.012\n",
       "x26            0.0016      0.007      0.226      0.821      -0.012       0.015\n",
       "x27            0.0142      0.004      3.996      0.000       0.007       0.021\n",
       "x28            0.0069      0.003      2.384      0.017       0.001       0.013\n",
       "x29           -0.0062      0.005     -1.275      0.202      -0.016       0.003\n",
       "x30           -0.0069      0.007     -0.947      0.344      -0.021       0.007\n",
       "x31            0.0061      0.005      1.220      0.223      -0.004       0.016\n",
       "x32         6.814e-05      0.010      0.007      0.994      -0.019       0.019\n",
       "x33           -0.0784      0.039     -1.997      0.046      -0.155      -0.001\n",
       "x34           -0.0246      0.004     -5.714      0.000      -0.033      -0.016\n",
       "x35           -0.0014      0.003     -0.469      0.639      -0.007       0.004\n",
       "x36           -0.0094      0.004     -2.417      0.016      -0.017      -0.002\n",
       "x37            0.1602      0.062      2.582      0.010       0.039       0.282\n",
       "x38           -0.3287      0.080     -4.122      0.000      -0.485      -0.172\n",
       "x39            0.0050      0.005      0.998      0.318      -0.005       0.015\n",
       "x40            0.0005      0.006      0.087      0.931      -0.011       0.012\n",
       "x41           -0.0118      0.004     -2.953      0.003      -0.020      -0.004\n",
       "x42            0.0027      0.004      0.638      0.523      -0.006       0.011\n",
       "x43            0.0010      0.005      0.199      0.842      -0.009       0.011\n",
       "x44           -0.0166      0.006     -2.780      0.005      -0.028      -0.005\n",
       "x45            0.0124      0.008      1.603      0.109      -0.003       0.028\n",
       "x46            0.0200      0.010      2.096      0.036       0.001       0.039\n",
       "x47           -0.0177      0.017     -1.073      0.283      -0.050       0.015\n",
       "x48            0.0118      0.007      1.739      0.082      -0.001       0.025\n",
       "x49           -0.0022      0.003     -0.660      0.509      -0.009       0.004\n",
       "x50            0.0109      0.004      3.064      0.002       0.004       0.018\n",
       "x51           -0.1585      0.091     -1.734      0.083      -0.338       0.021\n",
       "x52            0.0278      0.091      0.306      0.760      -0.150       0.206\n",
       "x53            0.3559      0.122      2.928      0.003       0.118       0.594\n",
       "x54           -0.4114      0.124     -3.329      0.001      -0.654      -0.169\n",
       "x55            0.0015      0.001      1.217      0.223      -0.001       0.004\n",
       "x56           -0.0172      0.016     -1.093      0.274      -0.048       0.014\n",
       "x57           -0.0054      0.016     -0.347      0.728      -0.036       0.025\n",
       "x58           -0.1587      0.036     -4.436      0.000      -0.229      -0.089\n",
       "x59           -0.0011      0.000     -2.682      0.007      -0.002      -0.000\n",
       "x60            0.1369      0.089      1.545      0.122      -0.037       0.310\n",
       "x61           -0.0650      0.097     -0.668      0.504      -0.256       0.126\n",
       "x62            0.0215      0.018      1.224      0.221      -0.013       0.056\n",
       "x63            1.5384      0.244      6.305      0.000       1.060       2.017\n",
       "x64           -0.5202      1.438     -0.362      0.717      -3.338       2.297\n",
       "x65            0.7036      0.286      2.461      0.014       0.143       1.264\n",
       "x66           -0.1125      0.101     -1.110      0.267      -0.311       0.086\n",
       "x67            0.8811      0.302      2.922      0.003       0.290       1.472\n",
       "x68            0.6427      0.208      3.096      0.002       0.236       1.050\n",
       "x69           -0.0024      0.349     -0.007      0.994      -0.686       0.681\n",
       "x70           -0.2371      0.460     -0.515      0.607      -1.139       0.665\n",
       "x71            1.0504      0.226      4.658      0.000       0.608       1.492\n",
       "x72            1.3998   3.45e+06   4.06e-07      1.000   -6.76e+06    6.76e+06\n",
       "x73            1.3712   2.84e+06   4.83e-07      1.000   -5.56e+06    5.56e+06\n",
       "x74            1.4129    5.2e+06   2.72e-07      1.000   -1.02e+07    1.02e+07\n",
       "x75            1.5565   4.75e+06   3.28e-07      1.000   -9.31e+06    9.31e+06\n",
       "x76            1.3474        nan        nan        nan         nan         nan\n",
       "x77            1.3027   3.31e+06   3.93e-07      1.000   -6.49e+06    6.49e+06\n",
       "x78            4.9655        nan        nan        nan         nan         nan\n",
       "x79            5.2355   4.28e+06   1.22e-06      1.000   -8.39e+06    8.39e+06\n",
       "x80            1.2454        nan        nan        nan         nan         nan\n",
       "x81            1.0822        nan        nan        nan         nan         nan\n",
       "x82            1.6960        nan        nan        nan         nan         nan\n",
       "x83            1.4139   1.98e+06   7.15e-07      1.000   -3.88e+06    3.88e+06\n",
       "x84            1.0424   4.88e+06   2.14e-07      1.000   -9.56e+06    9.56e+06\n",
       "x85            1.0543   6.65e+06   1.59e-07      1.000    -1.3e+07     1.3e+07\n",
       "x86            1.3811        nan        nan        nan         nan         nan\n",
       "x87            1.1405        nan        nan        nan         nan         nan\n",
       "x88            0.0102   1.39e+06   7.36e-09      1.000   -2.72e+06    2.72e+06\n",
       "x89            1.1423        nan        nan        nan         nan         nan\n",
       "x90            0.5313        nan        nan        nan         nan         nan\n",
       "x91            0.6273        nan        nan        nan         nan         nan\n",
       "x92            1.3169   1.89e+07   6.96e-08      1.000   -3.71e+07    3.71e+07\n",
       "x93            0.8351        nan        nan        nan         nan         nan\n",
       "x94            2.2915   1.38e+06   1.66e-06      1.000    -2.7e+06     2.7e+06\n",
       "x95            1.3785   4.68e+06   2.94e-07      1.000   -9.18e+06    9.18e+06\n",
       "x96            1.3434        nan        nan        nan         nan         nan\n",
       "x97            0.1581   1.44e+06    1.1e-07      1.000   -2.82e+06    2.82e+06\n",
       "x98            1.2858        nan        nan        nan         nan         nan\n",
       "x99            2.3110        nan        nan        nan         nan         nan\n",
       "x100           1.1423        nan        nan        nan         nan         nan\n",
       "x101           1.3169   1.65e+07   7.99e-08      1.000   -3.23e+07    3.23e+07\n",
       "x102           0.8351        nan        nan        nan         nan         nan\n",
       "x103           1.3785   5.25e+06   2.63e-07      1.000   -1.03e+07    1.03e+07\n",
       "x104           1.1585        nan        nan        nan         nan         nan\n",
       "x105           1.3434        nan        nan        nan         nan         nan\n",
       "x106           1.2858        nan        nan        nan         nan         nan\n",
       "x107          -0.0450        nan        nan        nan         nan         nan\n",
       "x108           0.1938        nan        nan        nan         nan         nan\n",
       "==============================================================================\n",
       "\"\"\""
      ]
     },
     "execution_count": 27,
     "metadata": {},
     "output_type": "execute_result"
    }
   ],
   "source": [
    "lr=sma.Logit(train1_label, np.concatenate([np.ones((train1_data.shape[0],1)), train1_data], axis = 1))\n",
    "result=lr.fit()\n",
    "result.summary()"
   ]
  },
  {
   "cell_type": "code",
   "execution_count": 28,
   "id": "c1cb665f-a5fa-4f03-92ff-838d017fbc50",
   "metadata": {},
   "outputs": [
    {
     "name": "stdout",
     "output_type": "stream",
     "text": [
      "根据p值大小得到的参数重要性排序为：\n",
      "1.\tage\n",
      "2.\tventilated_apache\n",
      "3.\tapache_4a_icu_death_prob\n",
      "4.\td1_spo2_min\n",
      "5.\twbc_apache\n",
      "6.\tsolid_tumor_with_metastasis\n",
      "7.\tbun_apache\n",
      "8.\td1_hemaglobin_max\n",
      "9.\td1_temp_min\n",
      "10.\td1_heartrate_max\n",
      "11.\tpre_icu_los_days\n",
      "12.\tgcs_motor_apache\n",
      "13.\td1_calcium_min\n",
      "14.\timmunosuppression\n",
      "15.\th1_sysbp_min\n",
      "16.\th1_heartrate_max\n",
      "17.\td1_calcium_max\n",
      "18.\thepatic_failure\n",
      "19.\thematocrit_apache\n",
      "20.\th1_mbp_min\n",
      "21.\td1_platelets_max\n",
      "22.\td1_temp_max\n",
      "23.\tsodium_apache\n",
      "24.\tcirrhosis\n",
      "25.\telective_surgery\n",
      "26.\td1_sysbp_min\n",
      "27.\td1_heartrate_min\n",
      "28.\th1_resprate_min\n",
      "29.\td1_spo2_max\n",
      "30.\tgcs_verbal_apache\n",
      "31.\th1_spo2_min\n",
      "32.\th1_temp_max\n",
      "33.\tapache_2_diagnosis\n",
      "34.\th1_resprate_max\n",
      "35.\td1_potassium_max\n",
      "36.\tmap_apache\n",
      "37.\tarf_apache\n",
      "38.\tresprate_apache\n",
      "39.\tglucose_apache\n",
      "40.\td1_mbp_max\n",
      "41.\td1_sodium_max\n",
      "42.\td1_resprate_max\n",
      "43.\td1_glucose_min\n",
      "44.\tapache_3j_diagnosis\n",
      "45.\tgcs_eyes_apache\n",
      "46.\tweight\n",
      "47.\tdiabetes_mellitus\n",
      "48.\td1_hco3_max\n",
      "49.\th1_spo2_max\n",
      "50.\th1_diasbp_max\n",
      "51.\td1_mbp_min\n",
      "52.\tbmi\n",
      "53.\tintubated_apache\n",
      "54.\td1_diasbp_max\n",
      "55.\td1_potassium_min\n",
      "56.\th1_sysbp_max\n",
      "57.\th1_heartrate_min\n",
      "58.\tlymphoma\n",
      "59.\td1_sysbp_max\n",
      "60.\tcreatinine_apache\n",
      "61.\taids\n",
      "62.\theight\n",
      "63.\td1_hco3_min\n",
      "64.\theart_rate_apache\n",
      "65.\th1_temp_min\n",
      "66.\td1_diasbp_min\n",
      "67.\th1_mbp_max\n",
      "68.\th1_diasbp_min\n",
      "69.\ttemp_apache\n",
      "70.\td1_resprate_min\n",
      "71.\tleukemia\n",
      "72.\tapache_3j_bodysystem_Musculoskeletal/Skin\n",
      "73.\tgender_M\n",
      "74.\ticu_type_Cardiac ICU\n",
      "75.\tethnicity_Asian\n",
      "76.\tethnicity_African American\n",
      "77.\tethnicity_Other/Unknown\n",
      "78.\tethnicity_Hispanic\n",
      "79.\tapache_3j_bodysystem_Neurological\n",
      "80.\tethnicity_Caucasian\n",
      "81.\tapache_2_bodysystem_Neurologic\n",
      "82.\ticu_type_MICU\n",
      "83.\ticu_type_Med-Surg ICU\n",
      "84.\tapache_3j_bodysystem_Sepsis\n",
      "85.\tapache_2_bodysystem_Haematologic\n",
      "86.\tapache_3j_bodysystem_Hematological\n",
      "87.\tapache_3j_bodysystem_Cardiovascular\n",
      "88.\tapache_2_bodysystem_Metabolic\n",
      "89.\tapache_2_bodysystem_Renal/Genitourinary\n",
      "90.\tapache_2_bodysystem_Trauma\n",
      "91.\tapache_2_bodysystem_Gastrointestinal\n",
      "92.\tapache_2_bodysystem_Cardiovascular\n",
      "93.\tapache_3j_bodysystem_Trauma\n",
      "94.\tapache_3j_bodysystem_Respiratory\n",
      "95.\tapache_2_bodysystem_Respiratory\n",
      "96.\tintercept\n",
      "97.\tapache_3j_bodysystem_Gynecological\n",
      "98.\tapache_3j_bodysystem_Genitourinary\n",
      "99.\tapache_3j_bodysystem_Gastrointestinal\n",
      "100.\ticu_type_SICU\n",
      "101.\ticu_type_Neuro ICU\n",
      "102.\ticu_type_CTICU\n",
      "103.\ticu_type_CSICU\n",
      "104.\ticu_type_CCU-CTICU\n",
      "105.\tgender_F\n",
      "106.\tethnicity_Native American\n",
      "107.\tapache_2_bodysystem_Undefined Diagnoses\n",
      "108.\tapache_3j_bodysystem_Metabolic\n",
      "109.\tapache_2_bodysystem_Undefined diagnoses\n"
     ]
    }
   ],
   "source": [
    "importance_sort_index2 = np.argsort(np.array(result.pvalues))\n",
    "print(\"根据p值大小得到的参数重要性排序为：\")\n",
    "for index, item in enumerate(header_name[importance_sort_index2]):\n",
    "    print(\"%d.\\t%s\"%(index+1, item))"
   ]
  },
  {
   "cell_type": "code",
   "execution_count": null,
   "id": "fa026de7-6f19-4612-b5a1-b1aaff772482",
   "metadata": {},
   "outputs": [],
   "source": []
  }
 ],
 "metadata": {
  "kernelspec": {
   "display_name": "Python 3 (ipykernel)",
   "language": "python",
   "name": "python3"
  },
  "language_info": {
   "codemirror_mode": {
    "name": "ipython",
    "version": 3
   },
   "file_extension": ".py",
   "mimetype": "text/x-python",
   "name": "python",
   "nbconvert_exporter": "python",
   "pygments_lexer": "ipython3",
   "version": "3.8.8"
  }
 },
 "nbformat": 4,
 "nbformat_minor": 5
}
