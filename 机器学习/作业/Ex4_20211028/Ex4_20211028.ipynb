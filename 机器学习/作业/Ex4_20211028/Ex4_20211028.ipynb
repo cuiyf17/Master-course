{
 "cells": [
  {
   "cell_type": "code",
   "execution_count": 52,
   "id": "84b48e3e-edb9-4dbd-a7fa-a58ed17f5d1c",
   "metadata": {},
   "outputs": [],
   "source": [
    "import os\n",
    "import pandas as pd\n",
    "import numpy as np\n",
    "from matplotlib import pyplot as plt\n",
    "from sklearn.linear_model import LogisticRegression\n",
    "from sklearn.linear_model import Lasso\n",
    "from sklearn.linear_model import LassoCV\n",
    "from sklearn.neighbors import KNeighborsClassifier\n",
    "from sklearn.metrics import confusion_matrix\n",
    "from sklearn.ensemble import RandomForestClassifier\n",
    "from sklearn.svm import SVC\n",
    "%matplotlib inline"
   ]
  },
  {
   "cell_type": "markdown",
   "id": "2c6aef32-12ee-4d5a-9108-1edbe7f25991",
   "metadata": {
    "tags": []
   },
   "source": [
    "# 1. 读取数据"
   ]
  },
  {
   "cell_type": "code",
   "execution_count": 2,
   "id": "f44bf7ad-8769-4db5-9497-c41dd21cd9da",
   "metadata": {
    "tags": []
   },
   "outputs": [],
   "source": [
    "def load_ICU_data(data_path, label_path):\n",
    "    if(not data_path.endswith(\".csv\")):\n",
    "        print(\"数据需要csv格式的文件！\")\n",
    "        return None\n",
    "    if(not label_path.endswith(\".csv\")):\n",
    "        print(\"标签需要csv格式的文件！\")\n",
    "        return None\n",
    "    data_df = pd.read_csv(data_path)\n",
    "    label_df = pd.read_csv(label_path)\n",
    "    data = np.array(data_df)\n",
    "    label = np.array(label_df)\n",
    "    return data, label"
   ]
  },
  {
   "cell_type": "markdown",
   "id": "05f3e07f-74cd-41ee-9f5f-9b542e0122e4",
   "metadata": {
    "tags": []
   },
   "source": [
    "# 2. Feature Selection"
   ]
  },
  {
   "cell_type": "code",
   "execution_count": 3,
   "id": "04c2b9fd-7704-414b-942a-37676d919dbe",
   "metadata": {},
   "outputs": [],
   "source": [
    "train1_data, train1_label = load_ICU_data(\"./data1forEx1to4/train1_icu_data.csv\", \"./data1forEx1to4/train1_icu_label.csv\")\n",
    "test1_data, test1_label = load_ICU_data(\"./data1forEx1to4/test1_icu_data.csv\", \"./data1forEx1to4/test1_icu_label.csv\")\n",
    "train2_data, train2_label = load_ICU_data(\"./data1forEx1to4/train2_icu_data.csv\", \"./data1forEx1to4/train2_icu_label.csv\")\n",
    "test2_data, test2_label = load_ICU_data(\"./data1forEx1to4/test2_icu_data.csv\", \"./data1forEx1to4/test2_icu_label.csv\")\n",
    "train_data = np.concatenate([train1_data, train2_data], axis = 0)\n",
    "train_label = np.concatenate([train1_label, train2_label], axis = 0)\n",
    "test_data = np.concatenate([test1_data, test2_data], axis = 0)\n",
    "test_label = np.concatenate([test1_label, test2_label], axis = 0)"
   ]
  },
  {
   "cell_type": "code",
   "execution_count": 4,
   "id": "5f48dab5-a145-46df-9201-1e852870d0ad",
   "metadata": {},
   "outputs": [],
   "source": [
    "def K_fold_divide(X, Y, K=5):\n",
    "    classes = np.unique(Y).reshape(-1)\n",
    "    Y=Y.reshape((-1,1))\n",
    "    folds = []\n",
    "    np.random.seed(1024)\n",
    "    for item in classes:\n",
    "        x = X[np.where(Y[:,0]==item)]\n",
    "        y = Y[np.where(Y[:,0]==item)]\n",
    "        data = np.concatenate([x,y.reshape((-1,1))], axis=1)\n",
    "        np.random.shuffle(data)\n",
    "        M=data.shape[0]//K\n",
    "        if((data.shape[0]-M*K)>0):\n",
    "            M+=1\n",
    "    \n",
    "        for i in range(K):\n",
    "            valid = data[i*M:min((i+1)*M, data.shape[0])]\n",
    "            train = np.concatenate([data[0:M*i],data[min((i+1)*M, data.shape[0]):data.shape[0]]], axis = 0)\n",
    "            train_data = train[:,:data.shape[1]-1]\n",
    "            train_label = train[:,data.shape[1]-1]\n",
    "            valid_data = valid[:,:data.shape[1]-1]\n",
    "            valid_label = valid[:,data.shape[1]-1]\n",
    "            if(len(folds)<K):\n",
    "                folds.append([train_data, train_label, valid_data, valid_label])\n",
    "            else:\n",
    "                folds[i][0] = np.concatenate([folds[i][0], train_data], axis=0)\n",
    "                folds[i][1] = np.concatenate([folds[i][1], train_label], axis=0)\n",
    "                folds[i][2] = np.concatenate([folds[i][2], valid_data], axis=0)\n",
    "                folds[i][3] = np.concatenate([folds[i][3], valid_label], axis=0)\n",
    "    \n",
    "    return folds"
   ]
  },
  {
   "cell_type": "code",
   "execution_count": 5,
   "id": "7dff6134-5010-4d90-ace8-db7b2ff441d6",
   "metadata": {},
   "outputs": [],
   "source": [
    "# 进行K折交叉验证，并对数据做标准化预处理\n",
    "n_folds = 5\n",
    "mean = np.mean(train1_data,axis=0,keepdims=True)\n",
    "std = np.std(train1_data,axis=0,keepdims=True)\n",
    "#train1_X = train1_data\n",
    "#test1_X = test1_data\n",
    "train1_X = (train1_data - mean)/(std + 1e-12) \n",
    "test1_X = (test1_data - mean)/(std + 1e-12) \n",
    "folds = K_fold_divide(train1_X, train1_label, K = n_folds)"
   ]
  },
  {
   "cell_type": "code",
   "execution_count": 24,
   "id": "1c099b3e-a559-4234-a101-5e7f17e685be",
   "metadata": {
    "tags": []
   },
   "outputs": [],
   "source": [
    "def train_and_test(folds = folds, test1_X = test1_X, classifier = SVC()):\n",
    "    line9 = \"---------\"\n",
    "    line16 = \"----------------\"\n",
    "    print(\"|%-9s|%-16s|%-16s|%-16s|%-16s|%-16s|%-16s|%-16s|%-16s|%-16s|\"%(\"Fold\", \"train accuracy\", \"train sensi\", \"train speci\", \"valid accuracy\", \"valid sensi\", \"valid speci\", \"test accuracy\", \"test sensi\", \"test speci\"))\n",
    "    print(\"|%-9s|%-16s|%-16s|%-16s|%-16s|%-16s|%-16s|%-16s|%-16s|%-16s|\"%(line9, line16, line16, line16, line16, line16, line16, line16, line16, line16))\n",
    "    train_accus = []\n",
    "    valid_accus = []\n",
    "    test_accus = []\n",
    "\n",
    "    svms = []\n",
    "    train_accu = []\n",
    "    train_sensi = []\n",
    "    train_speci = []\n",
    "    valid_accu = []\n",
    "    valid_sensi = []\n",
    "    valid_speci = []\n",
    "    test_accu = []\n",
    "    test_sensi = []\n",
    "    test_speci = []\n",
    "    \n",
    "    for i in range(n_folds):\n",
    "        train_data, train_label, valid_data, valid_label = folds[i]\n",
    "        svms.append(classifier)\n",
    "        svms[i].fit(train_data, train_label.reshape(-1))\n",
    "        tn, fp, fn, tp = confusion_matrix(train_label.reshape(-1), svms[i].predict(train_data)).ravel()\n",
    "        train_accu.append((tn+tp)/(tn+fp+fn+tp))\n",
    "        train_sensi.append(tp/(tp+fn))\n",
    "        train_speci.append(tn/(tn+fp))\n",
    "    \n",
    "        tn, fp, fn, tp = confusion_matrix(valid_label.reshape(-1), svms[i].predict(valid_data)).ravel()\n",
    "        valid_accu.append((tn+tp)/(tn+fp+fn+tp))\n",
    "        valid_sensi.append(tp/(tp+fn))\n",
    "        valid_speci.append(tn/(tn+fp))\n",
    "        \n",
    "        tn, fp, fn, tp = confusion_matrix(test1_label.reshape(-1), svms[i].predict(test1_X)).ravel()\n",
    "        test_accu.append((tn+tp)/(tn+fp+fn+tp))\n",
    "        test_sensi.append(tp/(tp+fn))\n",
    "        test_speci.append(tn/(tn+fp))\n",
    "        print(\"|%-9d|%-16f|%-16f|%-16f|%-16f|%-16f|%-16f|%-16f|%-16f|%-16f|\"%(i+1, train_accu[i], train_sensi[i], train_speci[i], valid_accu[i], valid_sensi[i], valid_speci[i], test_accu[i], test_sensi[i], test_speci[i]))\n",
    "    mean_train_accu = np.mean(train_accu)\n",
    "    mean_valid_accu = np.mean(valid_accu)\n",
    "    mean_test_accu = np.mean(test_accu)\n",
    "    print(\"|%-9s|%-16f|%-16f|%-16f|%-16f|%-16f|%-16f|%-16f|%-16f|%-16f|\"%(\"Average\", mean_train_accu, np.mean(train_sensi), np.mean(train_speci), mean_valid_accu, np.mean(valid_sensi), np.mean(valid_speci), mean_test_accu, np.mean(test_sensi), np.mean(test_speci)))"
   ]
  },
  {
   "cell_type": "code",
   "execution_count": 7,
   "id": "0a83eaaa-54b0-43f6-a574-96d790c2906a",
   "metadata": {},
   "outputs": [],
   "source": [
    "def train_and_valid(folds = folds, classifier = SVC()):\n",
    "    train_accus = []\n",
    "    valid_accus = []\n",
    "    svms = []\n",
    "    train_accu = []\n",
    "    valid_accu = []\n",
    "\n",
    "    for i in range(n_folds):\n",
    "        train_data, train_label, valid_data, valid_label = folds[i]\n",
    "        svms.append(classifier)\n",
    "        svms[i].fit(train_data, train_label.reshape(-1))\n",
    "        tn, fp, fn, tp = confusion_matrix(train_label.reshape(-1), svms[i].predict(train_data)).ravel()\n",
    "        train_accu.append((tn+tp)/(tn+fp+fn+tp))\n",
    "    \n",
    "        tn, fp, fn, tp = confusion_matrix(valid_label.reshape(-1), svms[i].predict(valid_data)).ravel()\n",
    "        valid_accu.append((tn+tp)/(tn+fp+fn+tp))\n",
    "        \n",
    "    mean_train_accu = np.mean(train_accu)\n",
    "    mean_valid_accu = np.mean(valid_accu)\n",
    "    \n",
    "    return mean_train_accu, mean_valid_accu"
   ]
  },
  {
   "cell_type": "code",
   "execution_count": 8,
   "id": "ba131735-7933-4146-aab7-486ebf87721e",
   "metadata": {},
   "outputs": [],
   "source": [
    "def Genetic_Algorithm(epochs, num_population = 100):\n",
    "    mean_cross_valid_scores = []\n",
    "    best_cross_valid_scores = []\n",
    "    #初始化\n",
    "    population = None\n",
    "    for i in range(num_population):\n",
    "        tmp = np.random.choice([0,1], (1, 108), p=np.array([0.9-i/num_population*0.9, 0.1+i/num_population*0.9]).ravel())\n",
    "        if(population is None):\n",
    "            population = tmp\n",
    "        else:\n",
    "            population = np.concatenate([population, tmp], axis = 0)\n",
    "    population_data = []\n",
    "    for person in population:\n",
    "        train1_features = train1_X[:, np.where(person==1)[0]]\n",
    "        population_data.append(train1_features)\n",
    "    \n",
    "    fitness = []\n",
    "    for step, person in enumerate(population): \n",
    "        folds_ = K_fold_divide(population_data[step], train1_label, K = 5)\n",
    "        mean_train_accu, mean_valid_accu = train_and_valid(folds_, LogisticRegression())\n",
    "        fitness.append(mean_valid_accu)\n",
    "    mean_cross_valid_scores.append(np.mean(fitness))\n",
    "    best_cross_valid_scores.append(np.max(fitness))\n",
    "    print(\"初始化mean_cross_valid_score = %.4f, best_cross_valid_score = %.4f\"%(np.mean(fitness), np.max(fitness)))\n",
    "    init_population = population\n",
    "    init_fitness = fitness\n",
    "    \n",
    "    for iteration in range(epochs):\n",
    "        #选择\n",
    "        choose_prob = fitness/np.sum(fitness)\n",
    "        chosen_population = np.random.choice(range(len(population_data)), num_population, p = choose_prob.ravel())\n",
    "        population = population[chosen_population,:]\n",
    "        #population_data = []\n",
    "        #for person in population:\n",
    "        #    train1_features = train1_X[:, np.where(person==1)[0]]\n",
    "        #    population_data.append(train1_features)   \n",
    "        \n",
    "        #交叉\n",
    "        p = 0.1\n",
    "        cross_population = np.random.choice(range(len(population_data)), int(num_population*p))\n",
    "        np.random.shuffle(cross_population)\n",
    "        for i in range(len(cross_population)//2):\n",
    "            cross_point = np.random.randint(population.shape[1])\n",
    "            temp = population[2*i,cross_point:]\n",
    "            population[2*i,cross_point:] = population[2*i+1,cross_point:]\n",
    "            population[2*i+1,cross_point:] = temp\n",
    "        \n",
    "        #变异\n",
    "        p = 0.1\n",
    "        for i in range(len(population_data)):\n",
    "            bianyi_person = np.random.choice([0, 1], population.shape[1], p = np.array([0.9, 0.1]).ravel())\n",
    "            population[i] = (population[i]+bianyi_person)%2\n",
    "            \n",
    "        population_data = []\n",
    "        for person in population:\n",
    "            train1_features = train1_X[:, np.where(person==1)[0]]\n",
    "            population_data.append(train1_features)\n",
    "        \n",
    "        fitness = []\n",
    "        for step, person in enumerate(population): \n",
    "            folds_ = K_fold_divide(population_data[step], train1_label, K = 5)\n",
    "            mean_train_accu, mean_valid_accu = train_and_valid(folds_, LogisticRegression())\n",
    "            fitness.append(mean_valid_accu)\n",
    "        mean_cross_valid_scores.append(np.mean(fitness))\n",
    "        best_cross_valid_scores.append(np.max(fitness))\n",
    "        print(\"第%d次迭代，mean_cross_valid_score = %.4f, best_cross_valid_score = %.4f\"%(iteration+1, np.mean(fitness), np.max(fitness)))\n",
    "        \n",
    "    end_population = population\n",
    "    end_fitness = fitness\n",
    "    \n",
    "    return init_population, init_fitness, end_population, end_fitness, mean_cross_valid_scores, best_cross_valid_scores"
   ]
  },
  {
   "cell_type": "code",
   "execution_count": 9,
   "id": "27269268-e73b-47c9-957c-c44271e48c82",
   "metadata": {},
   "outputs": [
    {
     "name": "stdout",
     "output_type": "stream",
     "text": [
      "初始化mean_cross_valid_score = 0.7591, best_cross_valid_score = 0.7870\n",
      "第1次迭代，mean_cross_valid_score = 0.7628, best_cross_valid_score = 0.7858\n",
      "第2次迭代，mean_cross_valid_score = 0.7652, best_cross_valid_score = 0.7882\n",
      "第3次迭代，mean_cross_valid_score = 0.7638, best_cross_valid_score = 0.7878\n"
     ]
    },
    {
     "name": "stderr",
     "output_type": "stream",
     "text": [
      "/home/thu-cyf/anaconda3/lib/python3.8/site-packages/sklearn/linear_model/_logistic.py:763: ConvergenceWarning: lbfgs failed to converge (status=1):\n",
      "STOP: TOTAL NO. of ITERATIONS REACHED LIMIT.\n",
      "\n",
      "Increase the number of iterations (max_iter) or scale the data as shown in:\n",
      "    https://scikit-learn.org/stable/modules/preprocessing.html\n",
      "Please also refer to the documentation for alternative solver options:\n",
      "    https://scikit-learn.org/stable/modules/linear_model.html#logistic-regression\n",
      "  n_iter_i = _check_optimize_result(\n"
     ]
    },
    {
     "name": "stdout",
     "output_type": "stream",
     "text": [
      "第4次迭代，mean_cross_valid_score = 0.7627, best_cross_valid_score = 0.7804\n",
      "第5次迭代，mean_cross_valid_score = 0.7594, best_cross_valid_score = 0.7796\n",
      "第6次迭代，mean_cross_valid_score = 0.7622, best_cross_valid_score = 0.7824\n",
      "第7次迭代，mean_cross_valid_score = 0.7645, best_cross_valid_score = 0.7826\n",
      "第8次迭代，mean_cross_valid_score = 0.7652, best_cross_valid_score = 0.7842\n",
      "第9次迭代，mean_cross_valid_score = 0.7669, best_cross_valid_score = 0.7798\n",
      "第10次迭代，mean_cross_valid_score = 0.7663, best_cross_valid_score = 0.7814\n",
      "第11次迭代，mean_cross_valid_score = 0.7675, best_cross_valid_score = 0.7796\n",
      "第12次迭代，mean_cross_valid_score = 0.7656, best_cross_valid_score = 0.7838\n",
      "第13次迭代，mean_cross_valid_score = 0.7658, best_cross_valid_score = 0.7782\n",
      "第14次迭代，mean_cross_valid_score = 0.7652, best_cross_valid_score = 0.7784\n",
      "第15次迭代，mean_cross_valid_score = 0.7645, best_cross_valid_score = 0.7796\n",
      "第16次迭代，mean_cross_valid_score = 0.7648, best_cross_valid_score = 0.7824\n",
      "第17次迭代，mean_cross_valid_score = 0.7673, best_cross_valid_score = 0.7826\n",
      "第18次迭代，mean_cross_valid_score = 0.7666, best_cross_valid_score = 0.7842\n",
      "第19次迭代，mean_cross_valid_score = 0.7658, best_cross_valid_score = 0.7810\n",
      "第20次迭代，mean_cross_valid_score = 0.7669, best_cross_valid_score = 0.7810\n"
     ]
    }
   ],
   "source": [
    "init_population, init_fitness, end_population, end_fitness, mean_cross_valid_scores, best_cross_valid_scores = Genetic_Algorithm(20, num_population = 50)"
   ]
  },
  {
   "cell_type": "code",
   "execution_count": 10,
   "id": "87acd831-0afb-4d91-b6cb-0beebb751fe7",
   "metadata": {},
   "outputs": [
    {
     "data": {
      "image/png": "[encoded data removed]",
      "text/plain": [
       "<Figure size 720x360 with 1 Axes>"
      ]
     },
     "metadata": {
      "needs_background": "light"
     },
     "output_type": "display_data"
    }
   ],
   "source": [
    "plt.figure(figsize = (10, 5))\n",
    "plt.plot(mean_cross_valid_scores, color = \"red\", label = \"mean_cross_valid_scores\")\n",
    "plt.plot(best_cross_valid_scores, color = \"green\", label = \"best_cross_valid_scores\")\n",
    "plt.xlabel(\"num_iteration\")\n",
    "plt.ylabel(\"score\")\n",
    "plt.legend()\n",
    "plt.plot()\n",
    "plt.show()"
   ]
  },
  {
   "cell_type": "code",
   "execution_count": 38,
   "id": "43a7807a-15cf-497b-b309-ce6076efc38e",
   "metadata": {},
   "outputs": [
    {
     "name": "stdout",
     "output_type": "stream",
     "text": [
      "遗传算法选取的特征为：\n",
      "age\n",
      "bmi\n",
      "elective_surgery\n",
      "pre_icu_los_days\n",
      "arf_apache\n",
      "bun_apache\n",
      "creatinine_apache\n",
      "gcs_verbal_apache\n",
      "glucose_apache\n",
      "heart_rate_apache\n",
      "map_apache\n",
      "sodium_apache\n",
      "ventilated_apache\n",
      "wbc_apache\n",
      "d1_diasbp_max\n",
      "d1_heartrate_min\n",
      "d1_mbp_max\n",
      "d1_spo2_max\n",
      "d1_sysbp_max\n",
      "d1_temp_max\n",
      "d1_temp_min\n",
      "h1_diasbp_min\n",
      "h1_mbp_max\n",
      "h1_mbp_min\n",
      "h1_resprate_max\n",
      "h1_spo2_max\n",
      "h1_spo2_min\n",
      "h1_sysbp_max\n",
      "h1_sysbp_min\n",
      "d1_calcium_max\n",
      "d1_glucose_min\n",
      "d1_hemaglobin_max\n",
      "d1_platelets_max\n",
      "d1_potassium_min\n",
      "d1_sodium_max\n",
      "apache_4a_icu_death_prob\n",
      "aids\n",
      "cirrhosis\n",
      "hepatic_failure\n",
      "immunosuppression\n",
      "leukemia\n",
      "ethnicity_African American\n",
      "ethnicity_Other/Unknown\n",
      "icu_type_CCU-CTICU\n",
      "icu_type_CSICU\n",
      "icu_type_MICU\n",
      "icu_type_SICU\n",
      "apache_3j_bodysystem_Cardiovascular\n",
      "apache_3j_bodysystem_Gastrointestinal\n",
      "apache_3j_bodysystem_Gynecological\n",
      "apache_3j_bodysystem_Hematological\n",
      "apache_3j_bodysystem_Metabolic\n",
      "apache_3j_bodysystem_Musculoskeletal/Skin\n",
      "apache_3j_bodysystem_Neurological\n",
      "apache_3j_bodysystem_Respiratory\n",
      "apache_2_bodysystem_Cardiovascular\n",
      "apache_2_bodysystem_Gastrointestinal\n",
      "apache_2_bodysystem_Respiratory\n",
      "apache_2_bodysystem_Trauma\n"
     ]
    }
   ],
   "source": [
    "header_name = np.array(pd.read_csv(\"./data1forEx1to4/train1_icu_data.csv\", header = None))[0]\n",
    "selected_features = end_population[np.argmax(end_fitness)]\n",
    "print(\"遗传算法选取的特征为：\")\n",
    "for i in range(len(selected_features)):\n",
    "    if(selected_features[i]):\n",
    "        print(header_name[i])"
   ]
  },
  {
   "cell_type": "code",
   "execution_count": 39,
   "id": "445f362a-bdf4-47f1-9302-2b562a0b2d85",
   "metadata": {},
   "outputs": [
    {
     "name": "stdout",
     "output_type": "stream",
     "text": [
      "进行特征提取前的训练和测试结果：\n",
      "|Fold     |train accuracy  |train sensi     |train speci     |valid accuracy  |valid sensi     |valid speci     |test accuracy   |test sensi      |test speci      |\n",
      "|---------|----------------|----------------|----------------|----------------|----------------|----------------|----------------|----------------|----------------|\n",
      "|1        |0.796000        |0.787255        |0.805102        |0.805000        |0.813725        |0.795918        |0.791249        |0.765996        |0.816364        |\n",
      "|2        |0.803500        |0.802451        |0.804592        |0.761000        |0.729412        |0.793878        |0.783956        |0.758684        |0.809091        |\n",
      "|3        |0.804500        |0.809314        |0.799490        |0.770000        |0.760784        |0.779592        |0.792160        |0.786106        |0.798182        |\n",
      "|4        |0.800250        |0.794118        |0.806633        |0.790000        |0.792157        |0.787755        |0.780310        |0.767824        |0.792727        |\n",
      "|5        |0.798750        |0.793627        |0.804082        |0.784000        |0.801961        |0.765306        |0.790337        |0.780622        |0.800000        |\n",
      "|Average  |0.800600        |0.797353        |0.803980        |0.782000        |0.779608        |0.784490        |0.787603        |0.771846        |0.803273        |\n"
     ]
    }
   ],
   "source": [
    "print(\"进行特征提取前的训练和测试结果：\")\n",
    "train_and_test(folds = folds, classifier = LogisticRegression())"
   ]
  },
  {
   "cell_type": "code",
   "execution_count": 40,
   "id": "40e5f00b-ea29-4f36-adaf-a84af83e50ba",
   "metadata": {},
   "outputs": [
    {
     "name": "stdout",
     "output_type": "stream",
     "text": [
      "进行遗传算法特征提取后的训练和测试结果：\n",
      "|Fold     |train accuracy  |train sensi     |train speci     |valid accuracy  |valid sensi     |valid speci     |test accuracy   |test sensi      |test speci      |\n",
      "|---------|----------------|----------------|----------------|----------------|----------------|----------------|----------------|----------------|----------------|\n",
      "|1        |0.781500        |0.776471        |0.786735        |0.803000        |0.805882        |0.800000        |0.770283        |0.755027        |0.785455        |\n",
      "|2        |0.790250        |0.786275        |0.794388        |0.772000        |0.737255        |0.808163        |0.760255        |0.749543        |0.770909        |\n",
      "|3        |0.784500        |0.781373        |0.787755        |0.774000        |0.766667        |0.781633        |0.767548        |0.749543        |0.785455        |\n",
      "|4        |0.791000        |0.783824        |0.798469        |0.758000        |0.760784        |0.755102        |0.770283        |0.758684        |0.781818        |\n",
      "|5        |0.780750        |0.773529        |0.788265        |0.798000        |0.805882        |0.789796        |0.760255        |0.756856        |0.763636        |\n",
      "|Average  |0.785600        |0.780294        |0.791122        |0.781000        |0.775294        |0.786939        |0.765725        |0.753931        |0.777455        |\n"
     ]
    }
   ],
   "source": [
    "print(\"进行遗传算法特征提取后的训练和测试结果：\")\n",
    "selected_features = end_population[np.argmax(end_fitness)]\n",
    "train1_features = train1_X[:, np.where(selected_features==1)[0]]\n",
    "test1_features = test1_X[:, np.where(selected_features==1)[0]]\n",
    "folds__ = K_fold_divide(train1_features, train1_label, K = 5)\n",
    "train_and_test(folds = folds__, test1_X = test1_features, classifier = LogisticRegression())"
   ]
  },
  {
   "cell_type": "markdown",
   "id": "64b22278-11fe-4171-b333-994713f0fe69",
   "metadata": {},
   "source": [
    "# 3.Lasso"
   ]
  },
  {
   "cell_type": "code",
   "execution_count": 42,
   "id": "824ab1a3-c3a9-4055-82a7-04bd56461c89",
   "metadata": {},
   "outputs": [
    {
     "name": "stdout",
     "output_type": "stream",
     "text": [
      "最优alpha = 0.001843\n"
     ]
    }
   ],
   "source": [
    "lassocv = LassoCV()\n",
    "lassocv.fit(train1_X, train1_label.reshape(-1))\n",
    "alpha = lassocv.alpha_\n",
    "print(\"最优alpha = %f\"%(alpha))"
   ]
  },
  {
   "cell_type": "code",
   "execution_count": 44,
   "id": "e8b5717a-8645-44e6-9a3f-e3cc6ba65748",
   "metadata": {},
   "outputs": [
    {
     "name": "stdout",
     "output_type": "stream",
     "text": [
      "[ 5.83584409e-02 -0.00000000e+00 -3.56544698e-02 -6.97823784e-04\n",
      "  2.56573639e-02 -5.81626766e-03  2.68430628e-03 -5.47517476e-03\n",
      "  9.93602533e-03  4.54281362e-02  4.58199820e-03 -2.07045230e-02\n",
      " -2.69230117e-02 -2.53616956e-02 -2.02955078e-03  0.00000000e+00\n",
      "  1.81808601e-02  2.07157981e-03  8.46952051e-03  1.18443919e-02\n",
      " -1.93726489e-02 -0.00000000e+00  7.38046049e-02  3.42296880e-02\n",
      "  0.00000000e+00 -0.00000000e+00  4.80033414e-02  2.12079696e-02\n",
      " -5.95590153e-03 -1.29058018e-02  5.90526687e-03  0.00000000e+00\n",
      "  0.00000000e+00 -3.06330648e-02 -7.76343868e-03 -2.96187922e-02\n",
      "  1.84161004e-02 -4.35344885e-02  8.58530386e-03  0.00000000e+00\n",
      " -2.86971633e-02  4.45401825e-03 -0.00000000e+00 -2.60968637e-02\n",
      "  1.03977978e-02  2.35934626e-02 -2.45770943e-03  2.65889176e-03\n",
      " -0.00000000e+00  1.85451519e-02 -1.83254663e-02 -0.00000000e+00\n",
      "  1.81234730e-02 -2.78004102e-02  2.45212075e-03 -1.19032555e-03\n",
      " -1.41805132e-02 -3.38473667e-02 -1.19811273e-02  8.93544574e-03\n",
      " -4.11200271e-03  0.00000000e+00  4.95781414e-02 -8.10213375e-05\n",
      "  1.37051629e-02 -6.89109244e-03  1.42647768e-02  1.81028621e-02\n",
      "  0.00000000e+00 -2.75933122e-04  2.72306740e-02 -2.27051702e-03\n",
      "  0.00000000e+00  0.00000000e+00  4.72256072e-03 -0.00000000e+00\n",
      " -0.00000000e+00 -1.49020920e-02  0.00000000e+00  2.77660559e-03\n",
      " -2.14090419e-03  7.88104866e-03  7.03868266e-03 -0.00000000e+00\n",
      " -5.58872273e-03  7.70765004e-03 -0.00000000e+00 -1.14930485e-02\n",
      " -9.47038391e-03 -0.00000000e+00 -0.00000000e+00  0.00000000e+00\n",
      " -2.74510468e-02  1.98507851e-02  1.28661074e-02  1.19453282e-02\n",
      "  0.00000000e+00  0.00000000e+00  0.00000000e+00 -1.56832333e-04\n",
      "  0.00000000e+00 -4.99434676e-04  1.77734006e-03 -1.33496836e-02\n",
      "  7.69025937e-04  0.00000000e+00 -1.46975043e-02 -3.81981483e-02]\n"
     ]
    }
   ],
   "source": [
    "lasso = Lasso(alpha)\n",
    "lasso.fit(train1_X, train1_label.reshape(-1))\n",
    "print(lasso.coef_)"
   ]
  },
  {
   "cell_type": "code",
   "execution_count": 50,
   "id": "638415ee-cc5a-4a21-b929-4c844d0a153d",
   "metadata": {},
   "outputs": [
    {
     "name": "stdout",
     "output_type": "stream",
     "text": [
      "Lasso回归选取的特征为：\n",
      "age\n",
      "elective_surgery\n",
      "height\n",
      "pre_icu_los_days\n",
      "weight\n",
      "apache_2_diagnosis\n",
      "apache_3j_diagnosis\n",
      "arf_apache\n",
      "bun_apache\n",
      "creatinine_apache\n",
      "gcs_eyes_apache\n",
      "gcs_motor_apache\n",
      "gcs_verbal_apache\n",
      "glucose_apache\n",
      "hematocrit_apache\n",
      "intubated_apache\n",
      "map_apache\n",
      "resprate_apache\n",
      "sodium_apache\n",
      "ventilated_apache\n",
      "wbc_apache\n",
      "d1_heartrate_max\n",
      "d1_heartrate_min\n",
      "d1_mbp_max\n",
      "d1_mbp_min\n",
      "d1_resprate_max\n",
      "d1_spo2_min\n",
      "d1_sysbp_max\n",
      "d1_sysbp_min\n",
      "d1_temp_max\n",
      "d1_temp_min\n",
      "h1_diasbp_max\n",
      "h1_heartrate_max\n",
      "h1_heartrate_min\n",
      "h1_mbp_min\n",
      "h1_resprate_max\n",
      "h1_resprate_min\n",
      "h1_spo2_max\n",
      "h1_spo2_min\n",
      "h1_sysbp_min\n",
      "h1_temp_max\n",
      "d1_calcium_max\n",
      "d1_calcium_min\n",
      "d1_glucose_min\n",
      "d1_hco3_max\n",
      "d1_hco3_min\n",
      "d1_hemaglobin_max\n",
      "d1_platelets_max\n",
      "d1_potassium_max\n",
      "d1_potassium_min\n",
      "apache_4a_icu_death_prob\n",
      "aids\n",
      "cirrhosis\n",
      "diabetes_mellitus\n",
      "hepatic_failure\n",
      "immunosuppression\n",
      "lymphoma\n",
      "solid_tumor_with_metastasis\n",
      "ethnicity_African American\n",
      "ethnicity_Hispanic\n",
      "gender_F\n",
      "icu_type_CCU-CTICU\n",
      "icu_type_CSICU\n",
      "icu_type_CTICU\n",
      "icu_type_Cardiac ICU\n",
      "icu_type_Med-Surg ICU\n",
      "icu_type_Neuro ICU\n",
      "apache_3j_bodysystem_Cardiovascular\n",
      "apache_3j_bodysystem_Gastrointestinal\n",
      "apache_3j_bodysystem_Metabolic\n",
      "apache_3j_bodysystem_Musculoskeletal/Skin\n",
      "apache_3j_bodysystem_Neurological\n",
      "apache_3j_bodysystem_Respiratory\n",
      "apache_2_bodysystem_Gastrointestinal\n",
      "apache_2_bodysystem_Metabolic\n",
      "apache_2_bodysystem_Neurologic\n",
      "apache_2_bodysystem_Renal/Genitourinary\n",
      "apache_2_bodysystem_Respiratory\n",
      "apache_2_bodysystem_Undefined Diagnoses\n",
      "apache_2_bodysystem_Undefined diagnoses\n"
     ]
    }
   ],
   "source": [
    "header_name = np.array(pd.read_csv(\"./data1forEx1to4/train1_icu_data.csv\", header = None))[0]\n",
    "selected_features = np.where(lasso.coef_!=0)[0]\n",
    "print(\"Lasso回归选取的特征为：\")\n",
    "for i in selected_features:\n",
    "    print(header_name[i])"
   ]
  },
  {
   "cell_type": "code",
   "execution_count": 51,
   "id": "586d0485-3f6d-46b7-940d-c7ccb87655e1",
   "metadata": {},
   "outputs": [
    {
     "name": "stdout",
     "output_type": "stream",
     "text": [
      "进行lasso回归特征提取后的训练和测试结果：\n",
      "|Fold     |train accuracy  |train sensi     |train speci     |valid accuracy  |valid sensi     |valid speci     |test accuracy   |test sensi      |test speci      |\n",
      "|---------|----------------|----------------|----------------|----------------|----------------|----------------|----------------|----------------|----------------|\n",
      "|1        |0.794500        |0.785784        |0.803571        |0.810000        |0.819608        |0.800000        |0.784868        |0.756856        |0.812727        |\n",
      "|2        |0.802500        |0.801471        |0.803571        |0.769000        |0.731373        |0.808163        |0.782133        |0.753199        |0.810909        |\n",
      "|3        |0.800500        |0.801471        |0.799490        |0.774000        |0.770588        |0.777551        |0.785779        |0.771481        |0.800000        |\n",
      "|4        |0.800500        |0.793137        |0.808163        |0.791000        |0.792157        |0.789796        |0.782133        |0.755027        |0.809091        |\n",
      "|5        |0.797750        |0.792647        |0.803061        |0.783000        |0.800000        |0.765306        |0.792160        |0.775137        |0.809091        |\n",
      "|Average  |0.799150        |0.794902        |0.803571        |0.785400        |0.782745        |0.788163        |0.785415        |0.762340        |0.808364        |\n"
     ]
    }
   ],
   "source": [
    "print(\"进行lasso回归特征提取后的训练和测试结果：\")\n",
    "train1_features = train1_X[:, selected_features]\n",
    "test1_features = test1_X[:, selected_features]\n",
    "folds___ = K_fold_divide(train1_features, train1_label, K = 5)\n",
    "train_and_test(folds = folds___, test1_X = test1_features, classifier = LogisticRegression())"
   ]
  },
  {
   "cell_type": "markdown",
   "id": "c25ba3b5-ac97-4885-bd7d-3aa25015fa8c",
   "metadata": {},
   "source": [
    "# 4.Random Forest"
   ]
  },
  {
   "cell_type": "code",
   "execution_count": 67,
   "id": "73089ddd-07b7-4401-b5df-09cf05b0f358",
   "metadata": {},
   "outputs": [
    {
     "name": "stdout",
     "output_type": "stream",
     "text": [
      "|Fold     |train accuracy  |train sensi     |train speci     |valid accuracy  |valid sensi     |valid speci     |test accuracy   |test sensi      |test speci      |\n",
      "|---------|----------------|----------------|----------------|----------------|----------------|----------------|----------------|----------------|----------------|\n",
      "|1        |1.000000        |1.000000        |1.000000        |0.818000        |0.831373        |0.804082        |0.800365        |0.815356        |0.785455        |\n",
      "|2        |1.000000        |1.000000        |1.000000        |0.787000        |0.774510        |0.800000        |0.794895        |0.797075        |0.792727        |\n",
      "|3        |1.000000        |1.000000        |1.000000        |0.808000        |0.825490        |0.789796        |0.799453        |0.811700        |0.787273        |\n",
      "|4        |1.000000        |1.000000        |1.000000        |0.798000        |0.805882        |0.789796        |0.798541        |0.815356        |0.781818        |\n",
      "|5        |1.000000        |1.000000        |1.000000        |0.800000        |0.843137        |0.755102        |0.802188        |0.819013        |0.785455        |\n",
      "|Average  |1.000000        |1.000000        |1.000000        |0.802200        |0.816078        |0.787755        |0.799088        |0.811700        |0.786545        |\n"
     ]
    }
   ],
   "source": [
    "train_and_test(classifier = RandomForestClassifier(criterion = \"gini\", n_jobs=-1))"
   ]
  },
  {
   "cell_type": "code",
   "execution_count": 68,
   "id": "ba2a19b0-75fc-4257-a9b3-bdfb45e0adbd",
   "metadata": {},
   "outputs": [
    {
     "name": "stdout",
     "output_type": "stream",
     "text": [
      "|Fold     |train accuracy  |train sensi     |train speci     |valid accuracy  |valid sensi     |valid speci     |test accuracy   |test sensi      |test speci      |\n",
      "|---------|----------------|----------------|----------------|----------------|----------------|----------------|----------------|----------------|----------------|\n",
      "|1        |1.000000        |1.000000        |1.000000        |0.819000        |0.817647        |0.820408        |0.796718        |0.800731        |0.792727        |\n",
      "|2        |1.000000        |1.000000        |1.000000        |0.781000        |0.764706        |0.797959        |0.793984        |0.798903        |0.789091        |\n",
      "|3        |1.000000        |1.000000        |1.000000        |0.799000        |0.805882        |0.791837        |0.798541        |0.809872        |0.787273        |\n",
      "|4        |1.000000        |1.000000        |1.000000        |0.801000        |0.821569        |0.779592        |0.807657        |0.819013        |0.796364        |\n",
      "|5        |1.000000        |1.000000        |1.000000        |0.795000        |0.831373        |0.757143        |0.795807        |0.809872        |0.781818        |\n",
      "|Average  |1.000000        |1.000000        |1.000000        |0.799000        |0.808235        |0.789388        |0.798541        |0.807678        |0.789455        |\n"
     ]
    }
   ],
   "source": [
    "train_and_test(classifier = RandomForestClassifier(criterion = \"entropy\", n_jobs=-1))"
   ]
  },
  {
   "cell_type": "code",
   "execution_count": 70,
   "id": "01e1ac72-4228-42d3-94a0-0691fb61273e",
   "metadata": {},
   "outputs": [
    {
     "name": "stdout",
     "output_type": "stream",
     "text": [
      "|Fold     |train accuracy  |train sensi     |train speci     |valid accuracy  |valid sensi     |valid speci     |test accuracy   |test sensi      |test speci      |\n",
      "|---------|----------------|----------------|----------------|----------------|----------------|----------------|----------------|----------------|----------------|\n",
      "|1        |0.989500        |0.983333        |0.995918        |0.786000        |0.735294        |0.838776        |0.761167        |0.725777        |0.796364        |\n",
      "|2        |0.990750        |0.986275        |0.995408        |0.750000        |0.698039        |0.804082        |0.772106        |0.742230        |0.801818        |\n",
      "|3        |0.990000        |0.987745        |0.992347        |0.776000        |0.756863        |0.795918        |0.780310        |0.753199        |0.807273        |\n",
      "|4        |0.989750        |0.984804        |0.994898        |0.771000        |0.735294        |0.808163        |0.768459        |0.733090        |0.803636        |\n",
      "|5        |0.990500        |0.988725        |0.992347        |0.753000        |0.735294        |0.771429        |0.770283        |0.742230        |0.798182        |\n",
      "|Average  |0.990100        |0.986176        |0.994184        |0.767200        |0.732157        |0.803673        |0.770465        |0.739305        |0.801455        |\n"
     ]
    }
   ],
   "source": [
    "train_and_test(classifier = RandomForestClassifier(criterion = \"gini\", n_estimators = 10, n_jobs=-1))"
   ]
  },
  {
   "cell_type": "code",
   "execution_count": 71,
   "id": "8eb584f7-6f23-4db8-bf35-61bed69a80b1",
   "metadata": {},
   "outputs": [
    {
     "name": "stdout",
     "output_type": "stream",
     "text": [
      "|Fold     |train accuracy  |train sensi     |train speci     |valid accuracy  |valid sensi     |valid speci     |test accuracy   |test sensi      |test speci      |\n",
      "|---------|----------------|----------------|----------------|----------------|----------------|----------------|----------------|----------------|----------------|\n",
      "|1        |0.953250        |0.937745        |0.969388        |0.825000        |0.837255        |0.812245        |0.794895        |0.800731        |0.789091        |\n",
      "|2        |0.953250        |0.940686        |0.966327        |0.772000        |0.750980        |0.793878        |0.795807        |0.804388        |0.787273        |\n",
      "|3        |0.954250        |0.940196        |0.968878        |0.801000        |0.811765        |0.789796        |0.803099        |0.815356        |0.790909        |\n",
      "|4        |0.952750        |0.937255        |0.968878        |0.801000        |0.805882        |0.795918        |0.795807        |0.802559        |0.789091        |\n",
      "|5        |0.955500        |0.939706        |0.971939        |0.786000        |0.821569        |0.748980        |0.798541        |0.813528        |0.783636        |\n",
      "|Average  |0.953800        |0.939118        |0.969082        |0.797000        |0.805490        |0.788163        |0.797630        |0.807313        |0.788000        |\n"
     ]
    }
   ],
   "source": [
    "train_and_test(classifier = RandomForestClassifier(criterion = \"gini\", max_depth = 10, n_jobs=-1))"
   ]
  },
  {
   "cell_type": "code",
   "execution_count": 64,
   "id": "13ec4494-d938-4765-8199-633f41049b1a",
   "metadata": {},
   "outputs": [
    {
     "name": "stdout",
     "output_type": "stream",
     "text": [
      "[1.59216431e-02 1.25713544e-02 2.13118742e-03 8.96350770e-03\n",
      " 1.34072195e-02 1.23604138e-02 1.58597895e-02 1.81669857e-02\n",
      " 5.31911940e-04 3.30654734e-02 3.02341012e-02 2.63028149e-02\n",
      " 2.35659945e-02 1.77868259e-02 1.28497301e-02 1.25419742e-02\n",
      " 1.20990324e-02 1.02569444e-02 1.12608794e-02 1.14595248e-02\n",
      " 1.19189431e-02 1.68045090e-02 2.30362291e-02 1.57605473e-02\n",
      " 9.69112840e-03 1.42198383e-02 1.31637580e-02 1.38082894e-02\n",
      " 9.05025151e-03 1.60387953e-02 1.50503596e-02 9.46155652e-03\n",
      " 2.69030123e-03 1.74368477e-02 1.14740307e-02 2.96298084e-02\n",
      " 1.20477607e-02 2.15456731e-02 9.64429627e-03 1.03172339e-02\n",
      " 9.06539469e-03 1.04998967e-02 9.14522787e-03 1.18302572e-02\n",
      " 1.25313425e-02 1.20703345e-02 4.97306946e-03 8.01984338e-03\n",
      " 1.15093731e-02 1.38856894e-02 1.14937348e-02 1.02864822e-02\n",
      " 9.31534761e-03 1.08990910e-02 1.27400831e-02 1.09699711e-02\n",
      " 1.98383725e-02 1.17628985e-02 1.47927029e-02 9.35254840e-03\n",
      " 9.93385651e-03 1.17823389e-02 1.29911520e-01 1.48407482e-05\n",
      " 5.24454662e-04 1.38927736e-03 5.77301464e-04 9.34616313e-04\n",
      " 2.70402111e-04 2.99233909e-04 9.82158243e-04 1.07366959e-03\n",
      " 2.71709292e-04 1.02057321e-03 9.13338002e-04 1.42689678e-04\n",
      " 6.01937426e-04 1.35122253e-03 1.51869275e-03 8.70417621e-04\n",
      " 6.77393883e-04 5.34812720e-04 6.89051955e-04 1.10409989e-03\n",
      " 1.49945152e-03 9.74552816e-04 6.86675717e-04 1.32254554e-03\n",
      " 1.11351454e-03 3.89592648e-04 5.45394513e-05 2.83278223e-04\n",
      " 2.62658508e-03 2.07228884e-04 1.58977801e-03 1.64239189e-03\n",
      " 1.52206455e-03 4.62879424e-04 1.65007387e-03 1.30925995e-03\n",
      " 2.48759087e-04 1.16574070e-03 9.65724729e-04 5.10668326e-04\n",
      " 1.74936928e-03 4.93828255e-04 8.64059538e-05 9.46356306e-04]\n"
     ]
    }
   ],
   "source": [
    "rfc = RandomForestClassifier(n_jobs=-1)\n",
    "rfc.fit(train1_X, train1_label.reshape(-1))\n",
    "importances = rfc.feature_importances_\n",
    "print(importances)"
   ]
  },
  {
   "cell_type": "code",
   "execution_count": 65,
   "id": "c9fb45c4-13f4-4cd5-81dc-43a917babeae",
   "metadata": {},
   "outputs": [
    {
     "name": "stdout",
     "output_type": "stream",
     "text": [
      "随机森林选取的特征为：\n",
      "age\n",
      "bmi\n",
      "elective_surgery\n",
      "height\n",
      "pre_icu_los_days\n",
      "weight\n",
      "apache_2_diagnosis\n",
      "apache_3j_diagnosis\n",
      "bun_apache\n",
      "creatinine_apache\n",
      "gcs_eyes_apache\n",
      "gcs_motor_apache\n",
      "gcs_verbal_apache\n",
      "glucose_apache\n",
      "heart_rate_apache\n",
      "hematocrit_apache\n",
      "intubated_apache\n",
      "map_apache\n",
      "resprate_apache\n",
      "sodium_apache\n",
      "temp_apache\n",
      "ventilated_apache\n",
      "wbc_apache\n",
      "d1_diasbp_max\n",
      "d1_diasbp_min\n",
      "d1_heartrate_max\n",
      "d1_heartrate_min\n",
      "d1_mbp_max\n",
      "d1_mbp_min\n",
      "d1_resprate_max\n",
      "d1_resprate_min\n",
      "d1_spo2_max\n",
      "d1_spo2_min\n",
      "d1_sysbp_max\n",
      "d1_sysbp_min\n",
      "d1_temp_max\n",
      "d1_temp_min\n",
      "h1_diasbp_max\n",
      "h1_diasbp_min\n",
      "h1_heartrate_max\n",
      "h1_heartrate_min\n",
      "h1_mbp_max\n",
      "h1_mbp_min\n",
      "h1_resprate_max\n",
      "h1_resprate_min\n",
      "h1_spo2_max\n",
      "h1_spo2_min\n",
      "h1_sysbp_max\n",
      "h1_sysbp_min\n",
      "h1_temp_max\n",
      "h1_temp_min\n",
      "d1_calcium_max\n",
      "d1_calcium_min\n",
      "d1_glucose_min\n",
      "d1_hco3_max\n",
      "d1_hco3_min\n",
      "d1_hemaglobin_max\n",
      "d1_platelets_max\n",
      "d1_potassium_max\n",
      "d1_potassium_min\n",
      "d1_sodium_max\n",
      "apache_4a_icu_death_prob\n",
      "diabetes_mellitus\n",
      "ethnicity_African American\n",
      "ethnicity_Caucasian\n",
      "gender_F\n",
      "gender_M\n",
      "icu_type_MICU\n",
      "icu_type_Med-Surg ICU\n",
      "apache_3j_bodysystem_Cardiovascular\n",
      "apache_3j_bodysystem_Gastrointestinal\n",
      "apache_3j_bodysystem_Metabolic\n",
      "apache_3j_bodysystem_Neurological\n",
      "apache_3j_bodysystem_Respiratory\n",
      "apache_3j_bodysystem_Sepsis\n",
      "apache_2_bodysystem_Cardiovascular\n",
      "apache_2_bodysystem_Gastrointestinal\n",
      "apache_2_bodysystem_Metabolic\n",
      "apache_2_bodysystem_Respiratory\n"
     ]
    }
   ],
   "source": [
    "selected_features = np.where(importances>0.001)[0]\n",
    "print(\"随机森林选取的特征为：\")\n",
    "for i in selected_features:\n",
    "    print(header_name[i])"
   ]
  },
  {
   "cell_type": "code",
   "execution_count": 66,
   "id": "ceeddf46-9dac-404c-8955-01e5feec1ad2",
   "metadata": {},
   "outputs": [
    {
     "name": "stdout",
     "output_type": "stream",
     "text": [
      "进行随机森林特征提取后的训练和测试结果：\n",
      "|Fold     |train accuracy  |train sensi     |train speci     |valid accuracy  |valid sensi     |valid speci     |test accuracy   |test sensi      |test speci      |\n",
      "|---------|----------------|----------------|----------------|----------------|----------------|----------------|----------------|----------------|----------------|\n",
      "|1        |0.790000        |0.785784        |0.794388        |0.810000        |0.817647        |0.802041        |0.782133        |0.758684        |0.805455        |\n",
      "|2        |0.799250        |0.797549        |0.801020        |0.762000        |0.725490        |0.800000        |0.780310        |0.758684        |0.801818        |\n",
      "|3        |0.798750        |0.797549        |0.800000        |0.772000        |0.754902        |0.789796        |0.784868        |0.765996        |0.803636        |\n",
      "|4        |0.793000        |0.792647        |0.793367        |0.780000        |0.782353        |0.777551        |0.781222        |0.760512        |0.801818        |\n",
      "|5        |0.792250        |0.784314        |0.800510        |0.791000        |0.798039        |0.783673        |0.783045        |0.762340        |0.803636        |\n",
      "|Average  |0.794650        |0.791569        |0.797857        |0.783000        |0.775686        |0.790612        |0.782315        |0.761243        |0.803273        |\n"
     ]
    }
   ],
   "source": [
    "print(\"进行随机森林特征提取后的训练和测试结果：\")\n",
    "train1_features = train1_X[:, selected_features]\n",
    "test1_features = test1_X[:, selected_features]\n",
    "folds___ = K_fold_divide(train1_features, train1_label, K = 5)\n",
    "train_and_test(folds = folds___, test1_X = test1_features, classifier = LogisticRegression())"
   ]
  },
  {
   "cell_type": "code",
   "execution_count": null,
   "id": "6efbc823-4e21-4ce5-a8dc-ea510d1a6d50",
   "metadata": {},
   "outputs": [],
   "source": []
  }
 ],
 "metadata": {
  "kernelspec": {
   "display_name": "Python 3 (ipykernel)",
   "language": "python",
   "name": "python3"
  },
  "language_info": {
   "codemirror_mode": {
    "name": "ipython",
    "version": 3
   },
   "file_extension": ".py",
   "mimetype": "text/x-python",
   "name": "python",
   "nbconvert_exporter": "python",
   "pygments_lexer": "ipython3",
   "version": "3.8.8"
  }
 },
 "nbformat": 4,
 "nbformat_minor": 5
}
