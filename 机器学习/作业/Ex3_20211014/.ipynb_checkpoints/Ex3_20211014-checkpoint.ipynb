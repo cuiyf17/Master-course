{
 "cells": [
  {
   "cell_type": "code",
   "execution_count": 1,
   "id": "84b48e3e-edb9-4dbd-a7fa-a58ed17f5d1c",
   "metadata": {},
   "outputs": [],
   "source": [
    "import os\n",
    "import pandas as pd\n",
    "import numpy as np\n",
    "from matplotlib import pyplot as plt\n",
    "from sklearn.neighbors import KNeighborsClassifier\n",
    "from sklearn.metrics import confusion_matrix\n",
    "from sklearn.svm import SVC\n",
    "%matplotlib inline"
   ]
  },
  {
   "cell_type": "markdown",
   "id": "2c6aef32-12ee-4d5a-9108-1edbe7f25991",
   "metadata": {
    "tags": []
   },
   "source": [
    "# 1. 读取数据"
   ]
  },
  {
   "cell_type": "code",
   "execution_count": 2,
   "id": "f44bf7ad-8769-4db5-9497-c41dd21cd9da",
   "metadata": {
    "tags": []
   },
   "outputs": [],
   "source": [
    "def load_ICU_data(data_path, label_path):\n",
    "    if(not data_path.endswith(\".csv\")):\n",
    "        print(\"数据需要csv格式的文件！\")\n",
    "        return None\n",
    "    if(not label_path.endswith(\".csv\")):\n",
    "        print(\"标签需要csv格式的文件！\")\n",
    "        return None\n",
    "    data_df = pd.read_csv(data_path)\n",
    "    label_df = pd.read_csv(label_path)\n",
    "    data = np.array(data_df)\n",
    "    label = np.array(label_df)\n",
    "    return data, label"
   ]
  },
  {
   "cell_type": "markdown",
   "id": "05f3e07f-74cd-41ee-9f5f-9b542e0122e4",
   "metadata": {
    "tags": []
   },
   "source": [
    "# 2. SVM"
   ]
  },
  {
   "cell_type": "code",
   "execution_count": 3,
   "id": "04c2b9fd-7704-414b-942a-37676d919dbe",
   "metadata": {},
   "outputs": [],
   "source": [
    "train1_data, train1_label = load_ICU_data(\"./data1forEx1to4/train1_icu_data.csv\", \"./data1forEx1to4/train1_icu_label.csv\")\n",
    "test1_data, test1_label = load_ICU_data(\"./data1forEx1to4/test1_icu_data.csv\", \"./data1forEx1to4/test1_icu_label.csv\")\n",
    "train2_data, train2_label = load_ICU_data(\"./data1forEx1to4/train2_icu_data.csv\", \"./data1forEx1to4/train2_icu_label.csv\")\n",
    "test2_data, test2_label = load_ICU_data(\"./data1forEx1to4/test2_icu_data.csv\", \"./data1forEx1to4/test2_icu_label.csv\")\n",
    "train_data = np.concatenate([train1_data, train2_data], axis = 0)\n",
    "train_label = np.concatenate([train1_label, train2_label], axis = 0)\n",
    "test_data = np.concatenate([test1_data, test2_data], axis = 0)\n",
    "test_label = np.concatenate([test1_label, test2_label], axis = 0)"
   ]
  },
  {
   "cell_type": "code",
   "execution_count": 4,
   "id": "5f48dab5-a145-46df-9201-1e852870d0ad",
   "metadata": {},
   "outputs": [],
   "source": [
    "def K_fold_divide(X, Y, K=5):\n",
    "    classes = np.unique(Y).reshape(-1)\n",
    "    Y=Y.reshape((-1,1))\n",
    "    folds = []\n",
    "    for item in classes:\n",
    "        x = X[np.where(Y[:,0]==item)]\n",
    "        y = Y[np.where(Y[:,0]==item)]\n",
    "        data = np.concatenate([x,y.reshape((-1,1))], axis=1)\n",
    "        np.random.shuffle(data)\n",
    "        M=data.shape[0]//K\n",
    "        if((data.shape[0]-M*K)>0):\n",
    "            M+=1\n",
    "    \n",
    "        for i in range(K):\n",
    "            valid = data[i*M:min((i+1)*M, data.shape[0])]\n",
    "            train = np.concatenate([data[0:M*i],data[min((i+1)*M, data.shape[0]):data.shape[0]]], axis = 0)\n",
    "            train_data = train[:,:data.shape[1]-1]\n",
    "            train_label = train[:,data.shape[1]-1]\n",
    "            valid_data = valid[:,:data.shape[1]-1]\n",
    "            valid_label = valid[:,data.shape[1]-1]\n",
    "            if(len(folds)<K):\n",
    "                folds.append([train_data, train_label, valid_data, valid_label])\n",
    "            else:\n",
    "                folds[i][0] = np.concatenate([folds[i][0], train_data], axis=0)\n",
    "                folds[i][1] = np.concatenate([folds[i][1], train_label], axis=0)\n",
    "                folds[i][2] = np.concatenate([folds[i][2], valid_data], axis=0)\n",
    "                folds[i][3] = np.concatenate([folds[i][3], valid_label], axis=0)\n",
    "    \n",
    "    return folds"
   ]
  },
  {
   "cell_type": "code",
   "execution_count": 5,
   "id": "7dff6134-5010-4d90-ace8-db7b2ff441d6",
   "metadata": {},
   "outputs": [],
   "source": [
    "# 进行K折交叉验证，并对数据做标准化预处理\n",
    "n_folds = 5\n",
    "mean = np.mean(train1_data,axis=0,keepdims=True)\n",
    "std = np.std(train1_data,axis=0,keepdims=True)\n",
    "#train1_X = train1_data\n",
    "#test1_X = test1_data\n",
    "train1_X = (train1_data - mean)/(std + 1e-12) \n",
    "test1_X = (test1_data - mean)/(std + 1e-12) \n",
    "folds = K_fold_divide(train1_X, train1_label, K = n_folds)"
   ]
  },
  {
   "cell_type": "code",
   "execution_count": 6,
   "id": "1c099b3e-a559-4234-a101-5e7f17e685be",
   "metadata": {
    "tags": []
   },
   "outputs": [],
   "source": [
    "def train_and_test(classifier = SVC()):\n",
    "    line9 = \"---------\"\n",
    "    line16 = \"----------------\"\n",
    "    print(\"|%-9s|%-16s|%-16s|%-16s|%-16s|%-16s|%-16s|%-16s|%-16s|%-16s|\"%(\"Fold\", \"train accuracy\", \"train sensi\", \"train speci\", \"valid accuracy\", \"valid sensi\", \"valid speci\", \"test accuracy\", \"test sensi\", \"test speci\"))\n",
    "    print(\"|%-9s|%-16s|%-16s|%-16s|%-16s|%-16s|%-16s|%-16s|%-16s|%-16s|\"%(line9, line16, line16, line16, line16, line16, line16, line16, line16, line16))\n",
    "    train_accus = []\n",
    "    valid_accus = []\n",
    "    test_accus = []\n",
    "\n",
    "    svms = []\n",
    "    train_accu = []\n",
    "    train_sensi = []\n",
    "    train_speci = []\n",
    "    valid_accu = []\n",
    "    valid_sensi = []\n",
    "    valid_speci = []\n",
    "    test_accu = []\n",
    "    test_sensi = []\n",
    "    test_speci = []\n",
    "    \n",
    "    for i in range(n_folds):\n",
    "        train_data, train_label, valid_data, valid_label = folds[i]\n",
    "        svms.append(classifier)\n",
    "        svms[i].fit(train_data, train_label.reshape(-1))\n",
    "        tn, fp, fn, tp = confusion_matrix(train_label.reshape(-1), svms[i].predict(train_data)).ravel()\n",
    "        train_accu.append((tn+tp)/(tn+fp+fn+tp))\n",
    "        train_sensi.append(tp/(tp+fn))\n",
    "        train_speci.append(tn/(tn+fp))\n",
    "    \n",
    "        tn, fp, fn, tp = confusion_matrix(valid_label.reshape(-1), svms[i].predict(valid_data)).ravel()\n",
    "        valid_accu.append((tn+tp)/(tn+fp+fn+tp))\n",
    "        valid_sensi.append(tp/(tp+fn))\n",
    "        valid_speci.append(tn/(tn+fp))\n",
    "        \n",
    "        tn, fp, fn, tp = confusion_matrix(test1_label.reshape(-1), svms[i].predict(test1_X)).ravel()\n",
    "        test_accu.append((tn+tp)/(tn+fp+fn+tp))\n",
    "        test_sensi.append(tp/(tp+fn))\n",
    "        test_speci.append(tn/(tn+fp))\n",
    "        print(\"|%-9d|%-16f|%-16f|%-16f|%-16f|%-16f|%-16f|%-16f|%-16f|%-16f|\"%(i+1, train_accu[i], train_sensi[i], train_speci[i], valid_accu[i], valid_sensi[i], valid_speci[i], test_accu[i], test_sensi[i], test_speci[i]))\n",
    "    mean_train_accu = np.mean(train_accu)\n",
    "    mean_valid_accu = np.mean(valid_accu)\n",
    "    mean_test_accu = np.mean(test_accu)\n",
    "    print(\"|%-9s|%-16f|%-16f|%-16f|%-16f|%-16f|%-16f|%-16f|%-16f|%-16f|\"%(\"Average\", mean_train_accu, np.mean(train_sensi), np.mean(train_speci), mean_valid_accu, np.mean(valid_sensi), np.mean(valid_speci), mean_test_accu, np.mean(test_sensi), np.mean(test_speci)))"
   ]
  },
  {
   "cell_type": "markdown",
   "id": "5d02d5cc-853e-4c4d-aca4-7b0f83c4a7e0",
   "metadata": {},
   "source": [
    "### 线性核"
   ]
  },
  {
   "cell_type": "code",
   "execution_count": 7,
   "id": "f8c9ac3c-096e-4795-bf4a-bc3edaec41c6",
   "metadata": {},
   "outputs": [
    {
     "name": "stdout",
     "output_type": "stream",
     "text": [
      "kernel = \"linear\", C = 0\n",
      "|Fold     |train accuracy  |train sensi     |train speci     |valid accuracy  |valid sensi     |valid speci     |test accuracy   |test sensi      |test speci      |\n",
      "|---------|----------------|----------------|----------------|----------------|----------------|----------------|----------------|----------------|----------------|\n",
      "|1        |0.510000        |1.000000        |0.000000        |0.510000        |1.000000        |0.000000        |0.498633        |1.000000        |0.000000        |\n",
      "|2        |0.510000        |1.000000        |0.000000        |0.510000        |1.000000        |0.000000        |0.498633        |1.000000        |0.000000        |\n",
      "|3        |0.510000        |1.000000        |0.000000        |0.510000        |1.000000        |0.000000        |0.498633        |1.000000        |0.000000        |\n",
      "|4        |0.510000        |1.000000        |0.000000        |0.510000        |1.000000        |0.000000        |0.498633        |1.000000        |0.000000        |\n",
      "|5        |0.510000        |1.000000        |0.000000        |0.510000        |1.000000        |0.000000        |0.498633        |1.000000        |0.000000        |\n",
      "|Average  |0.510000        |1.000000        |0.000000        |0.510000        |1.000000        |0.000000        |0.498633        |1.000000        |0.000000        |\n",
      "\n",
      "kernel = \"linear\", C = 1\n",
      "|Fold     |train accuracy  |train sensi     |train speci     |valid accuracy  |valid sensi     |valid speci     |test accuracy   |test sensi      |test speci      |\n",
      "|---------|----------------|----------------|----------------|----------------|----------------|----------------|----------------|----------------|----------------|\n",
      "|1        |0.800000        |0.802451        |0.797449        |0.789000        |0.778431        |0.800000        |0.784868        |0.767824        |0.801818        |\n",
      "|2        |0.796000        |0.791176        |0.801020        |0.805000        |0.805882        |0.804082        |0.781222        |0.765996        |0.796364        |\n",
      "|3        |0.801750        |0.799020        |0.804592        |0.787000        |0.790196        |0.783673        |0.793984        |0.786106        |0.801818        |\n",
      "|4        |0.804250        |0.797059        |0.811735        |0.769000        |0.750980        |0.787755        |0.783045        |0.767824        |0.798182        |\n",
      "|5        |0.806000        |0.797059        |0.815306        |0.762000        |0.764706        |0.759184        |0.783045        |0.765996        |0.800000        |\n",
      "|Average  |0.801600        |0.797353        |0.806020        |0.782400        |0.778039        |0.786939        |0.785232        |0.770750        |0.799636        |\n",
      "\n",
      "kernel = \"linear\", C = 10\n",
      "|Fold     |train accuracy  |train sensi     |train speci     |valid accuracy  |valid sensi     |valid speci     |test accuracy   |test sensi      |test speci      |\n",
      "|---------|----------------|----------------|----------------|----------------|----------------|----------------|----------------|----------------|----------------|\n",
      "|1        |0.799500        |0.800980        |0.797959        |0.789000        |0.778431        |0.800000        |0.786691        |0.773309        |0.800000        |\n",
      "|2        |0.797250        |0.793137        |0.801531        |0.805000        |0.805882        |0.804082        |0.780310        |0.764168        |0.796364        |\n",
      "|3        |0.801500        |0.797549        |0.805612        |0.786000        |0.786275        |0.785714        |0.794895        |0.787934        |0.801818        |\n",
      "|4        |0.804750        |0.798039        |0.811735        |0.772000        |0.752941        |0.791837        |0.782133        |0.767824        |0.796364        |\n",
      "|5        |0.805750        |0.797059        |0.814796        |0.762000        |0.764706        |0.759184        |0.783045        |0.765996        |0.800000        |\n",
      "|Average  |0.801750        |0.797353        |0.806327        |0.782800        |0.777647        |0.788163        |0.785415        |0.771846        |0.798909        |\n",
      "\n"
     ]
    }
   ],
   "source": [
    "print(\"kernel = \\\"linear\\\", C = 0\")\n",
    "train_and_test(SVC(kernel = \"linear\", C = 1e-12))\n",
    "print()\n",
    "\n",
    "print(\"kernel = \\\"linear\\\", C = 1\")\n",
    "train_and_test(SVC(kernel = \"linear\", C = 1))\n",
    "print()\n",
    "\n",
    "print(\"kernel = \\\"linear\\\", C = 10\")\n",
    "train_and_test(SVC(kernel = \"linear\", C = 10))\n",
    "print()"
   ]
  },
  {
   "cell_type": "markdown",
   "id": "e31c481f-7d9f-4970-9244-5ef88f180bac",
   "metadata": {},
   "source": [
    "### 高斯核"
   ]
  },
  {
   "cell_type": "code",
   "execution_count": 8,
   "id": "b8f4df3d-2467-473e-b3d4-89107aa18af2",
   "metadata": {},
   "outputs": [
    {
     "name": "stdout",
     "output_type": "stream",
     "text": [
      "kernel = \"rbf\", gamma = \"scale\", C = 1\n",
      "|Fold     |train accuracy  |train sensi     |train speci     |valid accuracy  |valid sensi     |valid speci     |test accuracy   |test sensi      |test speci      |\n",
      "|---------|----------------|----------------|----------------|----------------|----------------|----------------|----------------|----------------|----------------|\n",
      "|1        |0.881750        |0.887255        |0.876020        |0.794000        |0.792157        |0.795918        |0.791249        |0.793419        |0.789091        |\n",
      "|2        |0.882750        |0.880882        |0.884694        |0.803000        |0.813725        |0.791837        |0.782133        |0.784278        |0.780000        |\n",
      "|3        |0.878000        |0.872549        |0.883673        |0.800000        |0.805882        |0.793878        |0.784868        |0.780622        |0.789091        |\n",
      "|4        |0.883250        |0.876961        |0.889796        |0.774000        |0.774510        |0.773469        |0.790337        |0.786106        |0.794545        |\n",
      "|5        |0.886000        |0.886275        |0.885714        |0.784000        |0.803922        |0.763265        |0.790337        |0.797075        |0.783636        |\n",
      "|Average  |0.882350        |0.880784        |0.883980        |0.791000        |0.798039        |0.783673        |0.787785        |0.788300        |0.787273        |\n",
      "\n",
      "kernel = \"rbf\", gamma = \"auto\", C = 1\n",
      "|Fold     |train accuracy  |train sensi     |train speci     |valid accuracy  |valid sensi     |valid speci     |test accuracy   |test sensi      |test speci      |\n",
      "|---------|----------------|----------------|----------------|----------------|----------------|----------------|----------------|----------------|----------------|\n",
      "|1        |0.882000        |0.887255        |0.876531        |0.794000        |0.792157        |0.795918        |0.791249        |0.793419        |0.789091        |\n",
      "|2        |0.883250        |0.881863        |0.884694        |0.804000        |0.815686        |0.791837        |0.782133        |0.784278        |0.780000        |\n",
      "|3        |0.878000        |0.872549        |0.883673        |0.800000        |0.805882        |0.793878        |0.784868        |0.780622        |0.789091        |\n",
      "|4        |0.883000        |0.876961        |0.889286        |0.774000        |0.774510        |0.773469        |0.790337        |0.786106        |0.794545        |\n",
      "|5        |0.886250        |0.886275        |0.886224        |0.784000        |0.803922        |0.763265        |0.790337        |0.797075        |0.783636        |\n",
      "|Average  |0.882500        |0.880980        |0.884082        |0.791200        |0.798431        |0.783673        |0.787785        |0.788300        |0.787273        |\n",
      "\n",
      "kernel = \"rbf\", gamma = \"scale\", C = 1e-12\n",
      "|Fold     |train accuracy  |train sensi     |train speci     |valid accuracy  |valid sensi     |valid speci     |test accuracy   |test sensi      |test speci      |\n",
      "|---------|----------------|----------------|----------------|----------------|----------------|----------------|----------------|----------------|----------------|\n",
      "|1        |0.510000        |1.000000        |0.000000        |0.510000        |1.000000        |0.000000        |0.498633        |1.000000        |0.000000        |\n",
      "|2        |0.510000        |1.000000        |0.000000        |0.510000        |1.000000        |0.000000        |0.498633        |1.000000        |0.000000        |\n",
      "|3        |0.510000        |1.000000        |0.000000        |0.510000        |1.000000        |0.000000        |0.498633        |1.000000        |0.000000        |\n",
      "|4        |0.510000        |1.000000        |0.000000        |0.510000        |1.000000        |0.000000        |0.498633        |1.000000        |0.000000        |\n",
      "|5        |0.510000        |1.000000        |0.000000        |0.510000        |1.000000        |0.000000        |0.498633        |1.000000        |0.000000        |\n",
      "|Average  |0.510000        |1.000000        |0.000000        |0.510000        |1.000000        |0.000000        |0.498633        |1.000000        |0.000000        |\n",
      "\n"
     ]
    }
   ],
   "source": [
    "print(\"kernel = \\\"rbf\\\", gamma = \\\"scale\\\", C = 1\")\n",
    "train_and_test(SVC(kernel = \"rbf\", gamma = \"scale\", C = 1))\n",
    "print()\n",
    "\n",
    "print(\"kernel = \\\"rbf\\\", gamma = \\\"auto\\\", C = 1\")\n",
    "train_and_test(SVC(kernel = \"rbf\", gamma = \"auto\", C = 1))\n",
    "print()\n",
    "\n",
    "print(\"kernel = \\\"rbf\\\", gamma = \\\"scale\\\", C = 1e-12\")\n",
    "train_and_test(SVC(kernel = \"rbf\", gamma = \"scale\", C = 1e-12))\n",
    "print()"
   ]
  },
  {
   "cell_type": "markdown",
   "id": "0573da92-fff3-4937-b847-203543723802",
   "metadata": {},
   "source": [
    "### 多项式核"
   ]
  },
  {
   "cell_type": "code",
   "execution_count": 9,
   "id": "f0c9f611-f158-4bd7-bd1b-483b5e782ee2",
   "metadata": {},
   "outputs": [
    {
     "name": "stdout",
     "output_type": "stream",
     "text": [
      "kernel = \"poly\", coef0 = 0, degree = 2\n",
      "|Fold     |train accuracy  |train sensi     |train speci     |valid accuracy  |valid sensi     |valid speci     |test accuracy   |test sensi      |test speci      |\n",
      "|---------|----------------|----------------|----------------|----------------|----------------|----------------|----------------|----------------|----------------|\n",
      "|1        |0.848500        |0.832843        |0.864796        |0.722000        |0.664706        |0.781633        |0.738377        |0.687386        |0.789091        |\n",
      "|2        |0.844500        |0.817647        |0.872449        |0.721000        |0.652941        |0.791837        |0.735643        |0.689214        |0.781818        |\n",
      "|3        |0.845250        |0.811765        |0.880102        |0.736000        |0.694118        |0.779592        |0.723792        |0.658135        |0.789091        |\n",
      "|4        |0.842250        |0.807843        |0.878061        |0.743000        |0.719608        |0.767347        |0.723792        |0.672761        |0.774545        |\n",
      "|5        |0.846250        |0.820588        |0.872959        |0.719000        |0.676471        |0.763265        |0.737466        |0.698355        |0.776364        |\n",
      "|Average  |0.845350        |0.818137        |0.873673        |0.728200        |0.681569        |0.776735        |0.731814        |0.681170        |0.782182        |\n",
      "\n",
      "kernel = \"poly\", coef0 = 0, degree = 3\n",
      "|Fold     |train accuracy  |train sensi     |train speci     |valid accuracy  |valid sensi     |valid speci     |test accuracy   |test sensi      |test speci      |\n",
      "|---------|----------------|----------------|----------------|----------------|----------------|----------------|----------------|----------------|----------------|\n",
      "|1        |0.904500        |0.868627        |0.941837        |0.769000        |0.680392        |0.861224        |0.776664        |0.716636        |0.836364        |\n",
      "|2        |0.903250        |0.859314        |0.948980        |0.765000        |0.701961        |0.830612        |0.781222        |0.707495        |0.854545        |\n",
      "|3        |0.901750        |0.851961        |0.953571        |0.779000        |0.705882        |0.855102        |0.778487        |0.692870        |0.863636        |\n",
      "|4        |0.903500        |0.852451        |0.956633        |0.769000        |0.711765        |0.828571        |0.779398        |0.709324        |0.849091        |\n",
      "|5        |0.906000        |0.858824        |0.955102        |0.773000        |0.719608        |0.828571        |0.781222        |0.707495        |0.854545        |\n",
      "|Average  |0.903800        |0.858235        |0.951224        |0.771000        |0.703922        |0.840816        |0.779398        |0.706764        |0.851636        |\n",
      "\n",
      "kernel = \"poly\", coef0 = 1, degree = 3\n",
      "|Fold     |train accuracy  |train sensi     |train speci     |valid accuracy  |valid sensi     |valid speci     |test accuracy   |test sensi      |test speci      |\n",
      "|---------|----------------|----------------|----------------|----------------|----------------|----------------|----------------|----------------|----------------|\n",
      "|1        |0.949500        |0.944118        |0.955102        |0.782000        |0.756863        |0.808163        |0.776664        |0.760512        |0.792727        |\n",
      "|2        |0.946750        |0.941176        |0.952551        |0.779000        |0.776471        |0.781633        |0.766636        |0.760512        |0.772727        |\n",
      "|3        |0.946750        |0.934804        |0.959184        |0.764000        |0.752941        |0.775510        |0.756609        |0.733090        |0.780000        |\n",
      "|4        |0.953000        |0.941176        |0.965306        |0.760000        |0.758824        |0.761224        |0.763902        |0.751371        |0.776364        |\n",
      "|5        |0.950000        |0.947549        |0.952551        |0.757000        |0.754902        |0.759184        |0.777575        |0.773309        |0.781818        |\n",
      "|Average  |0.949200        |0.941765        |0.956939        |0.768400        |0.760000        |0.777143        |0.768277        |0.755759        |0.780727        |\n",
      "\n",
      "kernel = \"poly\", coef0 = 1, degree = 4\n",
      "|Fold     |train accuracy  |train sensi     |train speci     |valid accuracy  |valid sensi     |valid speci     |test accuracy   |test sensi      |test speci      |\n",
      "|---------|----------------|----------------|----------------|----------------|----------------|----------------|----------------|----------------|----------------|\n",
      "|1        |0.987250        |0.982353        |0.992347        |0.769000        |0.752941        |0.785714        |0.764813        |0.758684        |0.770909        |\n",
      "|2        |0.990250        |0.984804        |0.995918        |0.764000        |0.762745        |0.765306        |0.751139        |0.744059        |0.758182        |\n",
      "|3        |0.989750        |0.983333        |0.996429        |0.765000        |0.747059        |0.783673        |0.745670        |0.729433        |0.761818        |\n",
      "|4        |0.990250        |0.985294        |0.995408        |0.744000        |0.739216        |0.748980        |0.759344        |0.740402        |0.778182        |\n",
      "|5        |0.987500        |0.982353        |0.992857        |0.751000        |0.745098        |0.757143        |0.757521        |0.749543        |0.765455        |\n",
      "|Average  |0.989000        |0.983627        |0.994592        |0.758600        |0.749412        |0.768163        |0.755697        |0.744424        |0.766909        |\n",
      "\n"
     ]
    }
   ],
   "source": [
    "print(\"kernel = \\\"poly\\\", coef0 = 0, degree = 2\")\n",
    "train_and_test(SVC(kernel = \"poly\", coef0 = 0, degree = 2))\n",
    "print()\n",
    "\n",
    "print(\"kernel = \\\"poly\\\", coef0 = 0, degree = 3\")\n",
    "train_and_test(SVC(kernel = \"poly\", coef0 = 0, degree = 3))\n",
    "print()\n",
    "\n",
    "print(\"kernel = \\\"poly\\\", coef0 = 1, degree = 3\")\n",
    "train_and_test(SVC(kernel = \"poly\", coef0 = 1, degree = 3))\n",
    "print()\n",
    "\n",
    "print(\"kernel = \\\"poly\\\", coef0 = 1, degree = 4\")\n",
    "train_and_test(SVC(kernel = \"poly\", coef0 = 1, degree = 4))\n",
    "print()"
   ]
  },
  {
   "cell_type": "code",
   "execution_count": null,
   "id": "cd657b75-be2c-4528-bf61-db946ac9274e",
   "metadata": {},
   "outputs": [],
   "source": []
  },
  {
   "cell_type": "code",
   "execution_count": null,
   "id": "011933b0-8414-4379-ab6e-0da370784e0f",
   "metadata": {},
   "outputs": [],
   "source": []
  }
 ],
 "metadata": {
  "kernelspec": {
   "display_name": "Python 3 (ipykernel)",
   "language": "python",
   "name": "python3"
  },
  "language_info": {
   "codemirror_mode": {
    "name": "ipython",
    "version": 3
   },
   "file_extension": ".py",
   "mimetype": "text/x-python",
   "name": "python",
   "nbconvert_exporter": "python",
   "pygments_lexer": "ipython3",
   "version": "3.8.8"
  }
 },
 "nbformat": 4,
 "nbformat_minor": 5
}
