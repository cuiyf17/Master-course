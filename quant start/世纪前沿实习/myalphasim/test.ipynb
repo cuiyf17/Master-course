{
 "cells": [
  {
   "cell_type": "code",
   "execution_count": 102,
   "metadata": {},
   "outputs": [
    {
     "name": "stdout",
     "output_type": "stream",
     "text": [
      "tail:  0 head:  0 max_sum:  2 subarray:  [2]\n",
      "tail:  0 head:  1 max_sum:  5 subarray:  [2, 3]\n",
      "tail:  0 head:  2 max_sum:  7 subarray:  [2, 3, 2]\n",
      "tail:  0 head:  2 max_sum:  7 subarray:  [2, 3, 2]\n",
      "tail:  0 head:  2 max_sum:  7 subarray:  [2, 3, 2]\n",
      "tail:  0 head:  5 max_sum:  9 subarray:  [2, 3, 2, -1, -1, 4]\n",
      "tail:  0 head:  6 max_sum:  12 subarray:  [2, 3, 2, -1, -1, 4, 3]\n",
      "tail:  1 head:  7 max_sum:  12 subarray:  [3, 2, -1, -1, 4, 3, 2]\n",
      "tail:  2 head:  8 max_sum:  12 subarray:  [2, -1, -1, 4, 3, 2, 3]\n",
      "tail:  5 head:  9 max_sum:  14 subarray:  [4, 3, 2, 3, 2]\n",
      "tail:  5 head:  9 max_sum:  14 subarray:  [4, 3, 2, 3, 2]\n",
      "tail:  5 head:  9 max_sum:  14 subarray:  [4, 3, 2, 3, 2]\n",
      "tail:  5 head:  9 max_sum:  14 subarray:  [4, 3, 2, 3, 2]\n",
      "tail:  5 head:  9 max_sum:  14 subarray:  [4, 3, 2, 3, 2]\n",
      "answer =  14\n"
     ]
    }
   ],
   "source": [
    "# Question1, max consistant subarray in a cycle list.\n",
    "def max_consistant_subarray(num_list):\n",
    "    length = len(num_list)\n",
    "    num_cycle = 0\n",
    "    max_num_cycle = 2\n",
    "    tail = 0\n",
    "    head = 0\n",
    "    max_sum = 0\n",
    "    res_sum = 0\n",
    "    tmp_list = num_list.copy()\n",
    "    tmp_list.extend(num_list)\n",
    "    for j in range(length*2):\n",
    "        i = j % length\n",
    "        if(j == 0):\n",
    "            tail = j\n",
    "            head = j\n",
    "            max_sum = num_list[i]\n",
    "        elif((i > tail and j < length) or (i < tail and j >= length)):\n",
    "            res_sum += tmp_list[j]\n",
    "            tmp_sum = max_sum + res_sum\n",
    "            if(tmp_sum >= max_sum):\n",
    "                max_sum = tmp_sum\n",
    "                head = j\n",
    "                res_sum = 0\n",
    "            while(tail < head):\n",
    "                if(tmp_list[tail] <= 0):\n",
    "                    max_sum -= tmp_list[tail]\n",
    "                    tail += 1\n",
    "                else:\n",
    "                    break\n",
    "        else:\n",
    "            res_sum += tmp_list[j]\n",
    "            tmp_sum = max_sum + res_sum - tmp_list[tail]\n",
    "            if(tmp_sum == max_sum):\n",
    "                max_sum = tmp_sum\n",
    "                res_sum = 0\n",
    "                head = j\n",
    "                tail += 1\n",
    "            while(tail < head):\n",
    "                if(tmp_list[tail] <= 0):\n",
    "                    max_sum -= tmp_list[tail]\n",
    "                    tail += 1\n",
    "                else:\n",
    "                    break\n",
    "        print(\"tail: \", tail, \"head: \", head, \"max_sum: \", max_sum, \"subarray: \", tmp_list[tail:head+1])\n",
    "            \n",
    "    return max_sum\n",
    "\n",
    "print(\"answer = \", max_consistant_subarray([2,3,2,-1,-1,4,3]))"
   ]
  },
  {
   "cell_type": "code",
   "execution_count": 105,
   "metadata": {},
   "outputs": [
    {
     "name": "stdout",
     "output_type": "stream",
     "text": [
      "7\n"
     ]
    }
   ],
   "source": [
    "# 第2题，背包列表里装了球，只有k次操作，求最小的最大袋子的球数\n",
    "# Question2, balls in bag list, k operations\n",
    "\n",
    "import numpy as np\n",
    "\n",
    "def get_min_num(baglist, num_op=2):\n",
    "    max_ = max(baglist)\n",
    "    left = 1\n",
    "    right = max_\n",
    "    result = max_ + 1\n",
    "    \n",
    "    while left <= right:\n",
    "        mid = (left + right) // 2\n",
    "        times = (baglist // mid).astype(np.int32)\n",
    "        times[baglist % mid == 0] -= 1\n",
    "        times = times.sum()\n",
    "        \n",
    "        if times <= num_op:\n",
    "            result = mid\n",
    "            right = mid - 1\n",
    "        else:\n",
    "            left = mid + 1\n",
    "    \n",
    "    return result\n",
    "\n",
    "bag_list = np.array([8, 9, 7])\n",
    "print(get_min_num(bag_list, 2))"
   ]
  },
  {
   "cell_type": "code",
   "execution_count": null,
   "metadata": {},
   "outputs": [],
   "source": []
  },
  {
   "cell_type": "code",
   "execution_count": 47,
   "metadata": {},
   "outputs": [
    {
     "name": "stdout",
     "output_type": "stream",
     "text": [
      "1\n"
     ]
    }
   ],
   "source": []
  },
  {
   "cell_type": "code",
   "execution_count": null,
   "metadata": {},
   "outputs": [],
   "source": []
  }
 ],
 "metadata": {
  "kernelspec": {
   "display_name": "base",
   "language": "python",
   "name": "python3"
  },
  "language_info": {
   "codemirror_mode": {
    "name": "ipython",
    "version": 3
   },
   "file_extension": ".py",
   "mimetype": "text/x-python",
   "name": "python",
   "nbconvert_exporter": "python",
   "pygments_lexer": "ipython3",
   "version": "3.11.5"
  }
 },
 "nbformat": 4,
 "nbformat_minor": 2
}
