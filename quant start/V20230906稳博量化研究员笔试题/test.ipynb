{
 "cells": [
  {
   "cell_type": "code",
   "execution_count": 1,
   "metadata": {},
   "outputs": [],
   "source": [
    "import os\n",
    "import sys\n",
    "import numpy as np\n",
    "import pandas as pd\n",
    "from matplotlib import pyplot as plt\n",
    "%matplotlib inline"
   ]
  },
  {
   "cell_type": "code",
   "execution_count": 2,
   "metadata": {},
   "outputs": [],
   "source": [
    "portfolio_path = os.path.abspath(os.path.join(os.getcwd(), \"./附件1-portfolio.csv\"))\n",
    "quote_path = os.path.abspath(os.path.join(os.getcwd(), \"./附件2-quote.csv\"))\n",
    "\n",
    "portfolio = pd.read_csv(portfolio_path)\n",
    "quote = pd.read_csv(quote_path)\n",
    "quote['date'] = pd.to_datetime(quote['date'])"
   ]
  },
  {
   "cell_type": "code",
   "execution_count": 3,
   "metadata": {},
   "outputs": [],
   "source": [
    "start_date = \"2021-11-01\"\n",
    "end_date = \"2021-11-30\""
   ]
  },
  {
   "cell_type": "code",
   "execution_count": 4,
   "metadata": {},
   "outputs": [
    {
     "data": {
      "text/plain": [
       "{'601318': 0.08,\n",
       " '651': 0.1,\n",
       " '600036': 0.12,\n",
       " '600570': 0.14,\n",
       " '600030': 0.18,\n",
       " '600519': 0.18,\n",
       " '2594': 0.2}"
      ]
     },
     "execution_count": 4,
     "metadata": {},
     "output_type": "execute_result"
    }
   ],
   "source": [
    "weight_dict = dict()\n",
    "for i in range(len(portfolio)):\n",
    "    weight_dict[str(portfolio['code'][i])] = portfolio['weight'][i]\n",
    "weight_dict"
   ]
  },
  {
   "cell_type": "code",
   "execution_count": 5,
   "metadata": {},
   "outputs": [],
   "source": [
    "def cal_return(stock_dict, start_date, end_date):\n",
    "    stock_price = stock_dict.copy()\n",
    "    \n",
    "    idx_start = stock_price[stock_price['date'] >= start_date].index[0]\n",
    "    idx_end = stock_price[stock_price['date'] <= end_date].index[-1]\n",
    "    stock_price[\"return\"] = stock_price[\"close\"].div(stock_price[\"close\"].shift(1)) - 1\n",
    "    ret =  stock_price[[\"date\", \"return\"]].loc[idx_start:idx_end]\n",
    "    #print(stock_price[[\"date\", \"return\"]])\n",
    "    #print(ret)\n",
    "    return ret\n"
   ]
  },
  {
   "cell_type": "code",
   "execution_count": 6,
   "metadata": {},
   "outputs": [],
   "source": [
    "stock_dict = dict()\n",
    "return_dict = dict()\n",
    "groups = quote.groupby(\"code\")\n",
    "for item in groups:\n",
    "    stock_dict[item[0]] = item[1].reset_index(drop=True)\n",
    "    return_dict[item[0]] = cal_return(stock_dict[item[0]], start_date, end_date)"
   ]
  },
  {
   "cell_type": "code",
   "execution_count": 7,
   "metadata": {},
   "outputs": [],
   "source": [
    "portfolio_return = None\n",
    "for code in weight_dict:\n",
    "    if portfolio_return is None:\n",
    "        portfolio_return = return_dict[code].copy()\n",
    "    else:\n",
    "        portfolio_return['return'] += return_dict[code]['return'] * weight_dict[code]\n",
    "portfolio_return[\"excessReturn\"] = portfolio_return[\"return\"] - return_dict[\"sh000001\"][\"return\"]\n"
   ]
  },
  {
   "cell_type": "code",
   "execution_count": 8,
   "metadata": {},
   "outputs": [],
   "source": [
    "excess_return = portfolio_return[[\"date\", \"excessReturn\"]]"
   ]
  },
  {
   "cell_type": "code",
   "execution_count": 10,
   "metadata": {},
   "outputs": [],
   "source": [
    "excess_return.to_csv(\"A2+崔晏菲.csv\", index=False)"
   ]
  },
  {
   "cell_type": "code",
   "execution_count": null,
   "metadata": {},
   "outputs": [],
   "source": []
  },
  {
   "cell_type": "code",
   "execution_count": null,
   "metadata": {},
   "outputs": [],
   "source": []
  }
 ],
 "metadata": {
  "kernelspec": {
   "display_name": "base",
   "language": "python",
   "name": "python3"
  },
  "language_info": {
   "codemirror_mode": {
    "name": "ipython",
    "version": 3
   },
   "file_extension": ".py",
   "mimetype": "text/x-python",
   "name": "python",
   "nbconvert_exporter": "python",
   "pygments_lexer": "ipython3",
   "version": "3.10.13"
  },
  "orig_nbformat": 4
 },
 "nbformat": 4,
 "nbformat_minor": 2
}
