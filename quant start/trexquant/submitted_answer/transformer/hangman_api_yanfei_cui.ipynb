{
 "cells": [
  {
   "cell_type": "markdown",
   "metadata": {},
   "source": [
    "# Trexquant Interview Project (The Hangman Game)\n",
    "\n",
    "* Copyright Trexquant Investment LP. All Rights Reserved. \n",
    "* Redistribution of this question without written consent from Trexquant is prohibited"
   ]
  },
  {
   "cell_type": "markdown",
   "metadata": {},
   "source": [
    "## Instruction:\n",
    "For this coding test, your mission is to write an algorithm that plays the game of Hangman through our API server. \n",
    "\n",
    "When a user plays Hangman, the server first selects a secret word at random from a list. The server then returns a row of underscores (space separated)—one for each letter in the secret word—and asks the user to guess a letter. If the user guesses a letter that is in the word, the word is redisplayed with all instances of that letter shown in the correct positions, along with any letters correctly guessed on previous turns. If the letter does not appear in the word, the user is charged with an incorrect guess. The user keeps guessing letters until either (1) the user has correctly guessed all the letters in the word\n",
    "or (2) the user has made six incorrect guesses.\n",
    "\n",
    "You are required to write a \"guess\" function that takes current word (with underscores) as input and returns a guess letter. You will use the API codes below to play 1,000 Hangman games. You have the opportunity to practice before you want to start recording your game results.\n",
    "\n",
    "Your algorithm is permitted to use a training set of approximately 250,000 dictionary words. Your algorithm will be tested on an entirely disjoint set of 250,000 dictionary words. Please note that this means the words that you will ultimately be tested on do NOT appear in the dictionary that you are given. You are not permitted to use any dictionary other than the training dictionary we provided. This requirement will be strictly enforced by code review.\n",
    "\n",
    "You are provided with a basic, working algorithm. This algorithm will match the provided masked string (e.g. a _ _ l e) to all possible words in the dictionary, tabulate the frequency of letters appearing in these possible words, and then guess the letter with the highest frequency of appearence that has not already been guessed. If there are no remaining words that match then it will default back to the character frequency distribution of the entire dictionary.\n",
    "\n",
    "This benchmark strategy is successful approximately 18% of the time. Your task is to design an algorithm that significantly outperforms this benchmark."
   ]
  },
  {
   "cell_type": "code",
   "execution_count": 10,
   "metadata": {
    "scrolled": true,
    "tags": []
   },
   "outputs": [],
   "source": [
    "import json\n",
    "import requests\n",
    "import random\n",
    "import string\n",
    "import secrets\n",
    "import time\n",
    "import re\n",
    "import collections\n",
    "\n",
    "try:\n",
    "    from urllib.parse import parse_qs, urlencode, urlparse\n",
    "except ImportError:\n",
    "    from urlparse import parse_qs, urlparse\n",
    "    from urllib import urlencode\n",
    "\n",
    "from requests.packages.urllib3.exceptions import InsecureRequestWarning\n",
    "\n",
    "requests.packages.urllib3.disable_warnings(InsecureRequestWarning)"
   ]
  },
  {
   "cell_type": "code",
   "execution_count": 11,
   "metadata": {
    "tags": []
   },
   "outputs": [],
   "source": [
    "import os\n",
    "import time\n",
    "import torch\n",
    "import torch.nn as nn\n",
    "import numpy as np\n",
    "\n",
    "from vocabulary import Vocab\n",
    "from utils import *\n",
    "from embedding import PositionalEncoding, Embeddings\n",
    "from layers import *\n",
    "from criterion import KLLossMasked\n",
    "from optimizer import NoamOpt\n",
    "from bert import Bert, Generator\n",
    "from utils import PAD, MASK, pad_token, mask_token\n",
    "from collections import Counter"
   ]
  },
  {
   "cell_type": "code",
   "execution_count": 12,
   "metadata": {
    "tags": []
   },
   "outputs": [],
   "source": [
    "checkpoint_path1 = \"./model_v3/bert.checkpointBest_epoch_87.checkpoint\"\n",
    "checkpoint_path2 = \"./model_v5/bert.checkpointBest_epoch_117.checkpoint\"\n",
    "os.environ[\"CUDA_VISIBLE_DEVICES\"] = \"2\""
   ]
  },
  {
   "cell_type": "code",
   "execution_count": 13,
   "metadata": {
    "tags": []
   },
   "outputs": [],
   "source": [
    "def build_model(device, vocab, d_model, d_ff, h, n_encoders, model_path):\n",
    "    vocab_size = len(vocab.char2id)\n",
    "    self_attn = MultiHeadedAttention(h=h, d_model=d_model, d_k=d_model // h, d_v=d_model // h, dropout=0.1)\n",
    "    feed_forward = FullyConnectedFeedForward(d_model=d_model, d_ff=d_ff)\n",
    "    position = PositionalEncoding(d_model, dropout=0.1)\n",
    "    embedding = nn.Sequential(Embeddings(d_model=d_model, vocab=vocab_size), position)\n",
    "    encoder = Encoder(self_attn=self_attn, feed_forward=feed_forward, size=d_model, dropout=0.1)\n",
    "    generator = Generator(d_model=d_model, vocab_size=vocab_size)\n",
    "    model = Bert(encoder=encoder, embedding=embedding, generator=generator, n_layers=n_encoders)\n",
    "    model = model.to(device)\n",
    "    checkpoint = torch.load(model_path)\n",
    "    model.load_state_dict(checkpoint['model_state_dict'])\n",
    "    model.eval()\n",
    "    return model"
   ]
  },
  {
   "cell_type": "code",
   "execution_count": 14,
   "metadata": {},
   "outputs": [],
   "source": [
    "def match_word(word, full_dict, guess_letters):\n",
    "    pattern = word.replace(\"_\", \"[a-z]\")\n",
    "    candidate_words = []\n",
    "    for lett in full_dict:\n",
    "        match_obj = re.match(pattern, lett)\n",
    "        if match_obj is not None:\n",
    "            candi_letter = match_obj.group()\n",
    "            candidate_words.append(candi_letter)\n",
    "    \n",
    "    candidate_letters = []\n",
    "    if (len(candidate_words) == 0):\n",
    "        return None\n",
    "    else:\n",
    "        for wrd in candidate_words:\n",
    "            tmp_list = [x for x in list(wrd) if x not in guess_letters]\n",
    "            candidate_letters.extend(tmp_list)\n",
    "        if (len(candidate_letters) == 0):\n",
    "            return None\n",
    "        else:\n",
    "            counter = Counter(candidate_letters)\n",
    "            sorted_counter = sorted(counter.items(), key=lambda x: x[1], reverse=True)\n",
    "            return sorted_counter[0][0]\n",
    "    "
   ]
  },
  {
   "cell_type": "code",
   "execution_count": null,
   "metadata": {},
   "outputs": [],
   "source": []
  },
  {
   "cell_type": "code",
   "execution_count": 15,
   "metadata": {
    "tags": []
   },
   "outputs": [],
   "source": [
    "class HangmanAPI(object):\n",
    "    def __init__(self, access_token=None, session=None, timeout=None, model_path1 = checkpoint_path1, model_path2 = checkpoint_path2):\n",
    "        self.hangman_url = self.determine_hangman_url()\n",
    "        self.access_token = access_token\n",
    "        self.session = session or requests.Session()\n",
    "        self.timeout = timeout\n",
    "        self.guessed_letters = []\n",
    "        \n",
    "        full_dictionary_location = \"words_250000_train.txt\"\n",
    "        self.full_dictionary = self.build_dictionary(full_dictionary_location)        \n",
    "        self.full_dictionary_common_letter_sorted = collections.Counter(\"\".join(self.full_dictionary)).most_common()\n",
    "        \n",
    "        self.current_dictionary = []\n",
    "\n",
    "        #below is my added code\n",
    "        self.guessed_idxs = set([pad_token, mask_token])\n",
    "        self.vocab = Vocab()\n",
    "\n",
    "        vocab_size = len(self.vocab.char2id)\n",
    "        device = torch.device(\"cuda:0\" if torch.cuda.is_available() else \"cpu\")\n",
    "        d_model = 512\n",
    "        d_ff = 2048\n",
    "        h = 8\n",
    "        n_encoders = 6\n",
    "        self.model1 = build_model(device, self.vocab, d_model, d_ff, h, n_encoders, model_path1)\n",
    "        self.model2 = build_model(device, self.vocab, d_model, d_ff, h, n_encoders, model_path2)\n",
    "        \n",
    "    @staticmethod\n",
    "    def determine_hangman_url():\n",
    "        links = ['https://trexsim.com', 'https://sg.trexsim.com']\n",
    "\n",
    "        data = {link: 0 for link in links}\n",
    "\n",
    "        for link in links:\n",
    "\n",
    "            requests.get(link)\n",
    "\n",
    "            for i in range(10):\n",
    "                s = time.time()\n",
    "                requests.get(link)\n",
    "                data[link] = time.time() - s\n",
    "\n",
    "        link = sorted(data.items(), key=lambda x: x[1])[0][0]\n",
    "        link += '/trexsim/hangman'\n",
    "        return link\n",
    "    \n",
    "    def model_predict(self, model, input_str, vocab, mask_token, guessed_letters, is_small = False):\n",
    "        was_training = model.training\n",
    "        model.eval()\n",
    "        \n",
    "        word = list(input_str.replace(\" \", \"\"))\n",
    "        wrong_word = PAD + PAD + PAD.join([x for x in self.guessed_letters if x not in word]) + PAD\n",
    "        wrong_letters = list(wrong_word)\n",
    "        \n",
    "        vocab_size = len(vocab.char2id)\n",
    "        word_token = torch.from_numpy(np.array([vocab.char2id[c] for c in word])).unsqueeze(0).to(model.device)\n",
    "        wrong_token = torch.from_numpy(np.array([vocab.char2id[c] for c in wrong_letters])).unsqueeze(0).to(model.device)\n",
    "        if(is_small):\n",
    "            word_token = torch.cat([word_token, wrong_token], dim=1)\n",
    "        #word_token_mask = ((word_token != mask_token) & (word_token != pad_token)).unsqueeze(-2)\n",
    "        word_token_mask = word_token.unsqueeze(1).to(model.device)\n",
    "        out = model.forward(word_token, word_token_mask)\n",
    "        generator_mask = torch.zeros(word_token.shape[0], vocab_size, device=model.device)\n",
    "        generator_mask = generator_mask.scatter_(1, word_token, mask_token)\n",
    "\n",
    "        x = model.generator(out, generator_mask)\n",
    "        candidat_letters = list((torch.argsort(nn.Softmax(dim=1)(x), descending = True).cpu().numpy().reshape(-1)).astype(int))\n",
    "        \n",
    "        guess_idx = mask_token\n",
    "        for letter in candidat_letters:\n",
    "            if letter not in guessed_letters:\n",
    "                guess_idx = letter\n",
    "                break\n",
    "        guess_letter = vocab.id2char[int(guess_idx)]\n",
    "\n",
    "        if was_training:\n",
    "            model.train()\n",
    "\n",
    "        return guess_letter\n",
    "\n",
    "    def guess(self, word): # word input example: \"_ p p _ e \"\n",
    "        ###############################################\n",
    "        # Replace with your own \"guess\" function here #\n",
    "        ###############################################\n",
    "\n",
    "        # clean the word so that we strip away the space characters\n",
    "        # replace \"_\" with \".\" as \".\" indicates any character in regular expressions\n",
    "        \n",
    "        clean_word = word[::2].replace(\" \",\"\")\n",
    "        if(len(self.guessed_letters) == 0):\n",
    "            self.guessed_idxs = set([pad_token, mask_token])\n",
    "        guess_letter = None\n",
    "        #if(clean_word.count(\"_\") >= 3):\n",
    "        mdl = self.model1\n",
    "        is_small = False\n",
    "        if(len(clean_word) < 6):\n",
    "            mdl = self.model2\n",
    "            is_small = True\n",
    "        guess_letter = self.model_predict(mdl, clean_word, self.vocab, mask_token, self.guessed_idxs, is_small)\n",
    "        #else:\n",
    "        #    guess_letter = match_word(word, self.full_dictionary, self.guessed_letters)\n",
    "        #    if guess_letter is None:\n",
    "        #        mdl = self.model1\n",
    "        #        guess_letter = self.model_predict(mdl, clean_word, self.vocab, mask_token, self.guessed_idxs)\n",
    "        \n",
    "        self.guessed_idxs.add(self.vocab.char2id[guess_letter])\n",
    "\n",
    "        return guess_letter\n",
    "\n",
    "    ##########################################################\n",
    "    # You'll likely not need to modify any of the code below #\n",
    "    ##########################################################\n",
    "    \n",
    "    def build_dictionary(self, dictionary_file_location):\n",
    "        text_file = open(dictionary_file_location,\"r\")\n",
    "        full_dictionary = text_file.read().splitlines()\n",
    "        text_file.close()\n",
    "        return full_dictionary\n",
    "                \n",
    "    def start_game(self, practice=True, verbose=True):\n",
    "        # reset guessed letters to empty set and current plausible dictionary to the full dictionary\n",
    "        self.guessed_letters = []\n",
    "        self.current_dictionary = self.full_dictionary\n",
    "                         \n",
    "        response = self.request(\"/new_game\", {\"practice\":practice})\n",
    "        if response.get('status')==\"approved\":\n",
    "            game_id = response.get('game_id')\n",
    "            word = response.get('word')\n",
    "            tries_remains = response.get('tries_remains')\n",
    "            if verbose:\n",
    "                print(\"Successfully start a new game! Game ID: {0}. # of tries remaining: {1}. Word: {2}.\".format(game_id, tries_remains, word))\n",
    "            while tries_remains>0:\n",
    "                # get guessed letter from user code\n",
    "                guess_letter = self.guess(word)\n",
    "                    \n",
    "                # append guessed letter to guessed letters field in hangman object\n",
    "                self.guessed_letters.append(guess_letter)\n",
    "                if verbose:\n",
    "                    print(\"Guessing letter: {0}\".format(guess_letter))\n",
    "                    \n",
    "                try:    \n",
    "                    res = self.request(\"/guess_letter\", {\"request\":\"guess_letter\", \"game_id\":game_id, \"letter\":guess_letter})\n",
    "                except HangmanAPIError:\n",
    "                    print('HangmanAPIError exception caught on request.')\n",
    "                    continue\n",
    "                except Exception as e:\n",
    "                    print('Other exception caught on request.')\n",
    "                    raise e\n",
    "               \n",
    "                if verbose:\n",
    "                    print(\"Sever response: {0}\".format(res))\n",
    "                status = res.get('status')\n",
    "                tries_remains = res.get('tries_remains')\n",
    "                if status==\"success\":\n",
    "                    if verbose:\n",
    "                        print(\"Successfully finished game: {0}\".format(game_id))\n",
    "                    return True\n",
    "                elif status==\"failed\":\n",
    "                    reason = res.get('reason', '# of tries exceeded!')\n",
    "                    if verbose:\n",
    "                        print(\"Failed game: {0}. Because of: {1}\".format(game_id, reason))\n",
    "                    return False\n",
    "                elif status==\"ongoing\":\n",
    "                    word = res.get('word')\n",
    "        else:\n",
    "            if verbose:\n",
    "                print(\"Failed to start a new game\")\n",
    "        return status==\"success\"\n",
    "        \n",
    "    def my_status(self):\n",
    "        return self.request(\"/my_status\", {})\n",
    "    \n",
    "    def request(\n",
    "            self, path, args=None, post_args=None, method=None):\n",
    "        if args is None:\n",
    "            args = dict()\n",
    "        if post_args is not None:\n",
    "            method = \"POST\"\n",
    "\n",
    "        # Add `access_token` to post_args or args if it has not already been\n",
    "        # included.\n",
    "        if self.access_token:\n",
    "            # If post_args exists, we assume that args either does not exists\n",
    "            # or it does not need `access_token`.\n",
    "            if post_args and \"access_token\" not in post_args:\n",
    "                post_args[\"access_token\"] = self.access_token\n",
    "            elif \"access_token\" not in args:\n",
    "                args[\"access_token\"] = self.access_token\n",
    "\n",
    "        time.sleep(0.2)\n",
    "\n",
    "        num_retry, time_sleep = 50, 2\n",
    "        for it in range(num_retry):\n",
    "            try:\n",
    "                response = self.session.request(\n",
    "                    method or \"GET\",\n",
    "                    self.hangman_url + path,\n",
    "                    timeout=self.timeout,\n",
    "                    params=args,\n",
    "                    data=post_args,\n",
    "                    verify=False\n",
    "                )\n",
    "                break\n",
    "            except requests.HTTPError as e:\n",
    "                response = json.loads(e.read())\n",
    "                raise HangmanAPIError(response)\n",
    "            except requests.exceptions.SSLError as e:\n",
    "                if it + 1 == num_retry:\n",
    "                    raise\n",
    "                time.sleep(time_sleep)\n",
    "\n",
    "        headers = response.headers\n",
    "        if 'json' in headers['content-type']:\n",
    "            result = response.json()\n",
    "        elif \"access_token\" in parse_qs(response.text):\n",
    "            query_str = parse_qs(response.text)\n",
    "            if \"access_token\" in query_str:\n",
    "                result = {\"access_token\": query_str[\"access_token\"][0]}\n",
    "                if \"expires\" in query_str:\n",
    "                    result[\"expires\"] = query_str[\"expires\"][0]\n",
    "            else:\n",
    "                raise HangmanAPIError(response.json())\n",
    "        else:\n",
    "            raise HangmanAPIError('Maintype was not text, or querystring')\n",
    "\n",
    "        if result and isinstance(result, dict) and result.get(\"error\"):\n",
    "            raise HangmanAPIError(result)\n",
    "        return result\n",
    "    \n",
    "class HangmanAPIError(Exception):\n",
    "    def __init__(self, result):\n",
    "        self.result = result\n",
    "        self.code = None\n",
    "        try:\n",
    "            self.type = result[\"error_code\"]\n",
    "        except (KeyError, TypeError):\n",
    "            self.type = \"\"\n",
    "\n",
    "        try:\n",
    "            self.message = result[\"error_description\"]\n",
    "        except (KeyError, TypeError):\n",
    "            try:\n",
    "                self.message = result[\"error\"][\"message\"]\n",
    "                self.code = result[\"error\"].get(\"code\")\n",
    "                if not self.type:\n",
    "                    self.type = result[\"error\"].get(\"type\", \"\")\n",
    "            except (KeyError, TypeError):\n",
    "                try:\n",
    "                    self.message = result[\"error_msg\"]\n",
    "                except (KeyError, TypeError):\n",
    "                    self.message = result\n",
    "\n",
    "        Exception.__init__(self, self.message)"
   ]
  },
  {
   "cell_type": "markdown",
   "metadata": {},
   "source": [
    "# API Usage Examples"
   ]
  },
  {
   "cell_type": "markdown",
   "metadata": {},
   "source": [
    "## To start a new game:\n",
    "1. Make sure you have implemented your own \"guess\" method.\n",
    "2. Use the access_token that we sent you to create your HangmanAPI object. \n",
    "3. Start a game by calling \"start_game\" method.\n",
    "4. If you wish to test your function without being recorded, set \"practice\" parameter to 1.\n",
    "5. Note: You have a rate limit of 20 new games per minute. DO NOT start more than 20 new games within one minute."
   ]
  },
  {
   "cell_type": "code",
   "execution_count": 16,
   "metadata": {
    "tags": []
   },
   "outputs": [],
   "source": [
    "api = HangmanAPI(access_token=\"f9fa449a7c190fae9874db160beac8\", timeout=2000)"
   ]
  },
  {
   "cell_type": "markdown",
   "metadata": {},
   "source": [
    "## Playing practice games:\n",
    "You can use the command below to play up to 100,000 practice games."
   ]
  },
  {
   "cell_type": "code",
   "execution_count": 17,
   "metadata": {
    "tags": []
   },
   "outputs": [],
   "source": [
    "def test_n(n):\n",
    "    [start_practice_runs,start_recorded_runs,start_recorded_successes,start_practice_successes] = api.my_status() # Get my game stats: (# of tries, # of wins)\n",
    "    for i in range(n):\n",
    "        api.start_game(practice=1,verbose=True)\n",
    "        [total_practice_runs,total_recorded_runs,total_recorded_successes,total_practice_successes] = api.my_status() # Get my game stats: (# of tries, # of wins)\n",
    "        practice_success_rate = (total_practice_successes -start_practice_successes) / (total_practice_runs - start_practice_runs)\n",
    "        print('run %d practice games out of an allotted 100,000. practice success rate so far = %.3f' % (total_practice_runs - start_practice_runs, practice_success_rate))\n",
    "        print(\"you have used %d / 100000\"%(api.my_status()[0]))"
   ]
  },
  {
   "cell_type": "code",
   "execution_count": 18,
   "metadata": {
    "scrolled": true,
    "tags": []
   },
   "outputs": [
    {
     "name": "stdout",
     "output_type": "stream",
     "text": [
      "Successfully start a new game! Game ID: cd1f600edac0. # of tries remaining: 6. Word: _ _ _ _ _ _ _ _ _ _ _ _ _ .\n"
     ]
    },
    {
     "ename": "UnboundLocalError",
     "evalue": "local variable 'is_small' referenced before assignment",
     "output_type": "error",
     "traceback": [
      "\u001b[0;31m---------------------------------------------------------------------------\u001b[0m",
      "\u001b[0;31mUnboundLocalError\u001b[0m                         Traceback (most recent call last)",
      "\u001b[1;32m/data1/cuiyanfei/trexquant/transformer/hangman_api_yanfei_cui.ipynb 单元格 15\u001b[0m line \u001b[0;36m1\n\u001b[0;32m----> <a href='vscode-notebook-cell://ssh-remote%2B7b22686f73744e616d65223a2258474c61622d41313030227d/data1/cuiyanfei/trexquant/transformer/hangman_api_yanfei_cui.ipynb#X21sdnNjb2RlLXJlbW90ZQ%3D%3D?line=0'>1</a>\u001b[0m test_n(\u001b[39m100\u001b[39;49m)\n",
      "\u001b[1;32m/data1/cuiyanfei/trexquant/transformer/hangman_api_yanfei_cui.ipynb 单元格 15\u001b[0m line \u001b[0;36m4\n\u001b[1;32m      <a href='vscode-notebook-cell://ssh-remote%2B7b22686f73744e616d65223a2258474c61622d41313030227d/data1/cuiyanfei/trexquant/transformer/hangman_api_yanfei_cui.ipynb#X21sdnNjb2RlLXJlbW90ZQ%3D%3D?line=1'>2</a>\u001b[0m [start_practice_runs,start_recorded_runs,start_recorded_successes,start_practice_successes] \u001b[39m=\u001b[39m api\u001b[39m.\u001b[39mmy_status() \u001b[39m# Get my game stats: (# of tries, # of wins)\u001b[39;00m\n\u001b[1;32m      <a href='vscode-notebook-cell://ssh-remote%2B7b22686f73744e616d65223a2258474c61622d41313030227d/data1/cuiyanfei/trexquant/transformer/hangman_api_yanfei_cui.ipynb#X21sdnNjb2RlLXJlbW90ZQ%3D%3D?line=2'>3</a>\u001b[0m \u001b[39mfor\u001b[39;00m i \u001b[39min\u001b[39;00m \u001b[39mrange\u001b[39m(n):\n\u001b[0;32m----> <a href='vscode-notebook-cell://ssh-remote%2B7b22686f73744e616d65223a2258474c61622d41313030227d/data1/cuiyanfei/trexquant/transformer/hangman_api_yanfei_cui.ipynb#X21sdnNjb2RlLXJlbW90ZQ%3D%3D?line=3'>4</a>\u001b[0m     api\u001b[39m.\u001b[39;49mstart_game(practice\u001b[39m=\u001b[39;49m\u001b[39m1\u001b[39;49m,verbose\u001b[39m=\u001b[39;49m\u001b[39mTrue\u001b[39;49;00m)\n\u001b[1;32m      <a href='vscode-notebook-cell://ssh-remote%2B7b22686f73744e616d65223a2258474c61622d41313030227d/data1/cuiyanfei/trexquant/transformer/hangman_api_yanfei_cui.ipynb#X21sdnNjb2RlLXJlbW90ZQ%3D%3D?line=4'>5</a>\u001b[0m     [total_practice_runs,total_recorded_runs,total_recorded_successes,total_practice_successes] \u001b[39m=\u001b[39m api\u001b[39m.\u001b[39mmy_status() \u001b[39m# Get my game stats: (# of tries, # of wins)\u001b[39;00m\n\u001b[1;32m      <a href='vscode-notebook-cell://ssh-remote%2B7b22686f73744e616d65223a2258474c61622d41313030227d/data1/cuiyanfei/trexquant/transformer/hangman_api_yanfei_cui.ipynb#X21sdnNjb2RlLXJlbW90ZQ%3D%3D?line=5'>6</a>\u001b[0m     practice_success_rate \u001b[39m=\u001b[39m (total_practice_successes \u001b[39m-\u001b[39mstart_practice_successes) \u001b[39m/\u001b[39m (total_practice_runs \u001b[39m-\u001b[39m start_practice_runs)\n",
      "\u001b[1;32m/data1/cuiyanfei/trexquant/transformer/hangman_api_yanfei_cui.ipynb 单元格 15\u001b[0m line \u001b[0;36m1\n\u001b[1;32m    <a href='vscode-notebook-cell://ssh-remote%2B7b22686f73744e616d65223a2258474c61622d41313030227d/data1/cuiyanfei/trexquant/transformer/hangman_api_yanfei_cui.ipynb#X21sdnNjb2RlLXJlbW90ZQ%3D%3D?line=129'>130</a>\u001b[0m     \u001b[39mprint\u001b[39m(\u001b[39m\"\u001b[39m\u001b[39mSuccessfully start a new game! Game ID: \u001b[39m\u001b[39m{0}\u001b[39;00m\u001b[39m. # of tries remaining: \u001b[39m\u001b[39m{1}\u001b[39;00m\u001b[39m. Word: \u001b[39m\u001b[39m{2}\u001b[39;00m\u001b[39m.\u001b[39m\u001b[39m\"\u001b[39m\u001b[39m.\u001b[39mformat(game_id, tries_remains, word))\n\u001b[1;32m    <a href='vscode-notebook-cell://ssh-remote%2B7b22686f73744e616d65223a2258474c61622d41313030227d/data1/cuiyanfei/trexquant/transformer/hangman_api_yanfei_cui.ipynb#X21sdnNjb2RlLXJlbW90ZQ%3D%3D?line=130'>131</a>\u001b[0m \u001b[39mwhile\u001b[39;00m tries_remains\u001b[39m>\u001b[39m\u001b[39m0\u001b[39m:\n\u001b[1;32m    <a href='vscode-notebook-cell://ssh-remote%2B7b22686f73744e616d65223a2258474c61622d41313030227d/data1/cuiyanfei/trexquant/transformer/hangman_api_yanfei_cui.ipynb#X21sdnNjb2RlLXJlbW90ZQ%3D%3D?line=131'>132</a>\u001b[0m     \u001b[39m# get guessed letter from user code\u001b[39;00m\n\u001b[0;32m--> <a href='vscode-notebook-cell://ssh-remote%2B7b22686f73744e616d65223a2258474c61622d41313030227d/data1/cuiyanfei/trexquant/transformer/hangman_api_yanfei_cui.ipynb#X21sdnNjb2RlLXJlbW90ZQ%3D%3D?line=132'>133</a>\u001b[0m     guess_letter \u001b[39m=\u001b[39m \u001b[39mself\u001b[39;49m\u001b[39m.\u001b[39;49mguess(word)\n\u001b[1;32m    <a href='vscode-notebook-cell://ssh-remote%2B7b22686f73744e616d65223a2258474c61622d41313030227d/data1/cuiyanfei/trexquant/transformer/hangman_api_yanfei_cui.ipynb#X21sdnNjb2RlLXJlbW90ZQ%3D%3D?line=134'>135</a>\u001b[0m     \u001b[39m# append guessed letter to guessed letters field in hangman object\u001b[39;00m\n\u001b[1;32m    <a href='vscode-notebook-cell://ssh-remote%2B7b22686f73744e616d65223a2258474c61622d41313030227d/data1/cuiyanfei/trexquant/transformer/hangman_api_yanfei_cui.ipynb#X21sdnNjb2RlLXJlbW90ZQ%3D%3D?line=135'>136</a>\u001b[0m     \u001b[39mself\u001b[39m\u001b[39m.\u001b[39mguessed_letters\u001b[39m.\u001b[39mappend(guess_letter)\n",
      "\u001b[1;32m/data1/cuiyanfei/trexquant/transformer/hangman_api_yanfei_cui.ipynb 单元格 15\u001b[0m line \u001b[0;36m9\n\u001b[1;32m     <a href='vscode-notebook-cell://ssh-remote%2B7b22686f73744e616d65223a2258474c61622d41313030227d/data1/cuiyanfei/trexquant/transformer/hangman_api_yanfei_cui.ipynb#X21sdnNjb2RlLXJlbW90ZQ%3D%3D?line=95'>96</a>\u001b[0m     mdl \u001b[39m=\u001b[39m \u001b[39mself\u001b[39m\u001b[39m.\u001b[39mmodel2\n\u001b[1;32m     <a href='vscode-notebook-cell://ssh-remote%2B7b22686f73744e616d65223a2258474c61622d41313030227d/data1/cuiyanfei/trexquant/transformer/hangman_api_yanfei_cui.ipynb#X21sdnNjb2RlLXJlbW90ZQ%3D%3D?line=96'>97</a>\u001b[0m     is_small \u001b[39m=\u001b[39m \u001b[39mTrue\u001b[39;00m\n\u001b[0;32m---> <a href='vscode-notebook-cell://ssh-remote%2B7b22686f73744e616d65223a2258474c61622d41313030227d/data1/cuiyanfei/trexquant/transformer/hangman_api_yanfei_cui.ipynb#X21sdnNjb2RlLXJlbW90ZQ%3D%3D?line=97'>98</a>\u001b[0m guess_letter \u001b[39m=\u001b[39m \u001b[39mself\u001b[39m\u001b[39m.\u001b[39mmodel_predict(mdl, clean_word, \u001b[39mself\u001b[39m\u001b[39m.\u001b[39mvocab, mask_token, \u001b[39mself\u001b[39m\u001b[39m.\u001b[39mguessed_idxs, is_small)\n\u001b[1;32m     <a href='vscode-notebook-cell://ssh-remote%2B7b22686f73744e616d65223a2258474c61622d41313030227d/data1/cuiyanfei/trexquant/transformer/hangman_api_yanfei_cui.ipynb#X21sdnNjb2RlLXJlbW90ZQ%3D%3D?line=98'>99</a>\u001b[0m \u001b[39m#else:\u001b[39;00m\n\u001b[1;32m    <a href='vscode-notebook-cell://ssh-remote%2B7b22686f73744e616d65223a2258474c61622d41313030227d/data1/cuiyanfei/trexquant/transformer/hangman_api_yanfei_cui.ipynb#X21sdnNjb2RlLXJlbW90ZQ%3D%3D?line=99'>100</a>\u001b[0m \u001b[39m#    guess_letter = match_word(word, self.full_dictionary, self.guessed_letters)\u001b[39;00m\n\u001b[1;32m    <a href='vscode-notebook-cell://ssh-remote%2B7b22686f73744e616d65223a2258474c61622d41313030227d/data1/cuiyanfei/trexquant/transformer/hangman_api_yanfei_cui.ipynb#X21sdnNjb2RlLXJlbW90ZQ%3D%3D?line=100'>101</a>\u001b[0m \u001b[39m#    if guess_letter is None:\u001b[39;00m\n\u001b[1;32m    <a href='vscode-notebook-cell://ssh-remote%2B7b22686f73744e616d65223a2258474c61622d41313030227d/data1/cuiyanfei/trexquant/transformer/hangman_api_yanfei_cui.ipynb#X21sdnNjb2RlLXJlbW90ZQ%3D%3D?line=101'>102</a>\u001b[0m \u001b[39m#        mdl = self.model1\u001b[39;00m\n\u001b[1;32m    <a href='vscode-notebook-cell://ssh-remote%2B7b22686f73744e616d65223a2258474c61622d41313030227d/data1/cuiyanfei/trexquant/transformer/hangman_api_yanfei_cui.ipynb#X21sdnNjb2RlLXJlbW90ZQ%3D%3D?line=102'>103</a>\u001b[0m \u001b[39m#        guess_letter = self.model_predict(mdl, clean_word, self.vocab, mask_token, self.guessed_idxs)\u001b[39;00m\n\u001b[1;32m    <a href='vscode-notebook-cell://ssh-remote%2B7b22686f73744e616d65223a2258474c61622d41313030227d/data1/cuiyanfei/trexquant/transformer/hangman_api_yanfei_cui.ipynb#X21sdnNjb2RlLXJlbW90ZQ%3D%3D?line=104'>105</a>\u001b[0m \u001b[39mself\u001b[39m\u001b[39m.\u001b[39mguessed_idxs\u001b[39m.\u001b[39madd(\u001b[39mself\u001b[39m\u001b[39m.\u001b[39mvocab\u001b[39m.\u001b[39mchar2id[guess_letter])\n",
      "\u001b[0;31mUnboundLocalError\u001b[0m: local variable 'is_small' referenced before assignment"
     ]
    }
   ],
   "source": [
    "test_n(100)"
   ]
  },
  {
   "cell_type": "code",
   "execution_count": 25,
   "metadata": {
    "scrolled": true,
    "tags": []
   },
   "outputs": [
    {
     "name": "stdout",
     "output_type": "stream",
     "text": [
      "Successfully start a new game! Game ID: 6effd8216ffd. # of tries remaining: 6. Word: _ _ _ _ _ _ _ _ .\n",
      "Guessing letter: s\n",
      "Sever response: {'game_id': '6effd8216ffd', 'status': 'ongoing', 'tries_remains': 6, 'word': '_ _ _ _ _ _ s _ '}\n",
      "Guessing letter: e\n",
      "Sever response: {'game_id': '6effd8216ffd', 'status': 'ongoing', 'tries_remains': 6, 'word': '_ _ _ _ _ _ s e '}\n",
      "Guessing letter: o\n",
      "Sever response: {'game_id': '6effd8216ffd', 'status': 'ongoing', 'tries_remains': 6, 'word': '_ _ _ _ _ o s e '}\n",
      "Guessing letter: n\n",
      "Sever response: {'game_id': '6effd8216ffd', 'status': 'ongoing', 'tries_remains': 5, 'word': '_ _ _ _ _ o s e '}\n",
      "Guessing letter: a\n",
      "Sever response: {'game_id': '6effd8216ffd', 'status': 'ongoing', 'tries_remains': 4, 'word': '_ _ _ _ _ o s e '}\n",
      "Guessing letter: l\n",
      "Sever response: {'game_id': '6effd8216ffd', 'status': 'ongoing', 'tries_remains': 4, 'word': '_ _ l l _ o s e '}\n",
      "Guessing letter: u\n",
      "Sever response: {'game_id': '6effd8216ffd', 'status': 'ongoing', 'tries_remains': 4, 'word': '_ u l l _ o s e '}\n",
      "Guessing letter: i\n",
      "Sever response: {'game_id': '6effd8216ffd', 'status': 'ongoing', 'tries_remains': 3, 'word': '_ u l l _ o s e '}\n",
      "Guessing letter: p\n",
      "Sever response: {'game_id': '6effd8216ffd', 'status': 'ongoing', 'tries_remains': 2, 'word': '_ u l l _ o s e '}\n",
      "Guessing letter: g\n",
      "Sever response: {'game_id': '6effd8216ffd', 'status': 'ongoing', 'tries_remains': 1, 'word': '_ u l l _ o s e '}\n",
      "Guessing letter: c\n",
      "Sever response: {'game_id': '6effd8216ffd', 'status': 'failed', 'tries_remains': 0, 'word': '_ u l l _ o s e '}\n",
      "Failed game: 6effd8216ffd. Because of: # of tries exceeded!\n",
      "run 3838 practice games out of an allotted 100,000. practice success rate so far = 0.350\n"
     ]
    }
   ],
   "source": [
    "api.start_game(practice=1,verbose=True)\n",
    "[total_practice_runs,total_recorded_runs,total_recorded_successes,total_practice_successes] = api.my_status() # Get my game stats: (# of tries, # of wins)\n",
    "practice_success_rate = total_practice_successes / total_practice_runs\n",
    "print('run %d practice games out of an allotted 100,000. practice success rate so far = %.3f' % (total_practice_runs, practice_success_rate))\n"
   ]
  },
  {
   "cell_type": "markdown",
   "metadata": {},
   "source": [
    "## Playing recorded games:\n",
    "Please finalize your code prior to running the cell below. Once this code executes once successfully your submission will be finalized. Our system will not allow you to rerun any additional games.\n",
    "\n",
    "Please note that it is expected that after you successfully run this block of code that subsequent runs will result in the error message \"Your account has been deactivated\".\n",
    "\n",
    "Once you've run this section of the code your submission is complete. Please send us your source code via email."
   ]
  },
  {
   "cell_type": "code",
   "execution_count": null,
   "metadata": {
    "tags": []
   },
   "outputs": [],
   "source": [
    "for i in range(1000):\n",
    "    print('Playing ', i, ' th game')\n",
    "    # Uncomment the following line to execute your final runs. Do not do this until you are satisfied with your submission\n",
    "    #api.start_game(practice=0,verbose=False)\n",
    "    \n",
    "    # DO NOT REMOVE as otherwise the server may lock you out for too high frequency of requests\n",
    "    time.sleep(0.5)"
   ]
  },
  {
   "cell_type": "code",
   "execution_count": null,
   "metadata": {
    "tags": []
   },
   "outputs": [],
   "source": []
  },
  {
   "cell_type": "markdown",
   "metadata": {},
   "source": [
    "## To check your game statistics\n",
    "1. Simply use \"my_status\" method.\n",
    "2. Returns your total number of games, and number of wins."
   ]
  },
  {
   "cell_type": "code",
   "execution_count": 5,
   "metadata": {
    "tags": []
   },
   "outputs": [
    {
     "ename": "ZeroDivisionError",
     "evalue": "division by zero",
     "output_type": "error",
     "traceback": [
      "\u001b[0;31m---------------------------------------------------------------------------\u001b[0m",
      "\u001b[0;31mZeroDivisionError\u001b[0m                         Traceback (most recent call last)",
      "\u001b[1;32m/mnt/d/硕士课程/quant start/trexquant/hangman_api_user.ipynb 单元格 14\u001b[0m line \u001b[0;36m2\n\u001b[1;32m      <a href='vscode-notebook-cell://wsl%2Bubuntu/mnt/d/%E7%A1%95%E5%A3%AB%E8%AF%BE%E7%A8%8B/quant%20start/trexquant/hangman_api_user.ipynb#X16sdnNjb2RlLXJlbW90ZQ%3D%3D?line=0'>1</a>\u001b[0m [total_practice_runs,total_recorded_runs,total_recorded_successes,total_practice_successes] \u001b[39m=\u001b[39m api\u001b[39m.\u001b[39mmy_status() \u001b[39m# Get my game stats: (# of tries, # of wins)\u001b[39;00m\n\u001b[0;32m----> <a href='vscode-notebook-cell://wsl%2Bubuntu/mnt/d/%E7%A1%95%E5%A3%AB%E8%AF%BE%E7%A8%8B/quant%20start/trexquant/hangman_api_user.ipynb#X16sdnNjb2RlLXJlbW90ZQ%3D%3D?line=1'>2</a>\u001b[0m success_rate \u001b[39m=\u001b[39m total_recorded_successes\u001b[39m/\u001b[39;49mtotal_recorded_runs\n\u001b[1;32m      <a href='vscode-notebook-cell://wsl%2Bubuntu/mnt/d/%E7%A1%95%E5%A3%AB%E8%AF%BE%E7%A8%8B/quant%20start/trexquant/hangman_api_user.ipynb#X16sdnNjb2RlLXJlbW90ZQ%3D%3D?line=2'>3</a>\u001b[0m \u001b[39mprint\u001b[39m(\u001b[39m'\u001b[39m\u001b[39moverall success rate = \u001b[39m\u001b[39m%.3f\u001b[39;00m\u001b[39m'\u001b[39m \u001b[39m%\u001b[39m success_rate)\n",
      "\u001b[0;31mZeroDivisionError\u001b[0m: division by zero"
     ]
    }
   ],
   "source": [
    "[total_practice_runs,total_recorded_runs,total_recorded_successes,total_practice_successes] = api.my_status() # Get my game stats: (# of tries, # of wins)\n",
    "success_rate = total_recorded_successes/total_recorded_runs\n",
    "print('overall success rate = %.3f' % success_rate)"
   ]
  },
  {
   "cell_type": "code",
   "execution_count": null,
   "metadata": {
    "tags": []
   },
   "outputs": [],
   "source": []
  }
 ],
 "metadata": {
  "kernelspec": {
   "display_name": "Python 3 (ipykernel)",
   "language": "python",
   "name": "python3"
  },
  "language_info": {
   "codemirror_mode": {
    "name": "ipython",
    "version": 3
   },
   "file_extension": ".py",
   "mimetype": "text/x-python",
   "name": "python",
   "nbconvert_exporter": "python",
   "pygments_lexer": "ipython3",
   "version": "3.8.18"
  }
 },
 "nbformat": 4,
 "nbformat_minor": 4
}
