{
 "cells": [
  {
   "cell_type": "code",
   "execution_count": 18,
   "metadata": {},
   "outputs": [],
   "source": [
    "import numpy as np\n",
    "import pandas as pd\n",
    "import xgboost as xgb"
   ]
  },
  {
   "cell_type": "code",
   "execution_count": 19,
   "metadata": {},
   "outputs": [
    {
     "data": {
      "text/plain": [
       "-0.1366821462032053"
      ]
     },
     "execution_count": 19,
     "metadata": {},
     "output_type": "execute_result"
    }
   ],
   "source": [
    "x = np.random.normal(0, 1, 100)\n",
    "y = np.random.normal(0, 1, 100)\n",
    "np.corrcoef(x, y)[0, 1]"
   ]
  },
  {
   "cell_type": "code",
   "execution_count": 20,
   "metadata": {},
   "outputs": [],
   "source": [
    "def corr(x, y):\n",
    "    xmean = np.mean(x)\n",
    "    ymean = np.mean(y)\n",
    "    xstd = np.std(x)\n",
    "    ystd = np.std(y)\n",
    "    return np.mean((x - xmean) * (y - ymean)) / (xstd * ystd)"
   ]
  },
  {
   "cell_type": "code",
   "execution_count": 31,
   "metadata": {},
   "outputs": [
    {
     "data": {
      "text/plain": [
       "-0.13668214620320546"
      ]
     },
     "execution_count": 31,
     "metadata": {},
     "output_type": "execute_result"
    }
   ],
   "source": [
    "corr(x, y)"
   ]
  },
  {
   "cell_type": "code",
   "execution_count": 32,
   "metadata": {},
   "outputs": [],
   "source": [
    "def grad_corr(x, y):\n",
    "    n = len(x)\n",
    "    cov = np.mean((x - np.mean(x)) * (y - np.mean(y)))\n",
    "    stdx = np.std(x)\n",
    "    stdy = np.std(y)\n",
    "    part1 = (y-np.mean(y))/(n*stdx*stdy)\n",
    "    part2 = stdy**2/(stdx*stdy)**3*cov*(x-np.mean(x))\n",
    "    return part1-part2"
   ]
  },
  {
   "cell_type": "code",
   "execution_count": 33,
   "metadata": {},
   "outputs": [
    {
     "data": {
      "text/plain": [
       "array([ 0.13463657, -0.15240389, -0.08712631,  0.15442464, -0.20983227,\n",
       "        0.14456403, -0.1344945 , -0.02311691, -0.08069219,  0.0931367 ,\n",
       "        0.21768878, -0.08462913, -0.33625114,  0.29207215, -0.14708539,\n",
       "       -0.01756962,  0.14805512,  0.14821924,  0.19838997,  0.00421451,\n",
       "        0.00330911, -0.01423013, -0.09072364,  0.14807131,  0.27221636,\n",
       "        0.12907284, -0.00463756, -0.01490361,  0.07358866, -0.22600293,\n",
       "       -0.10741577, -0.11000171, -0.04505117,  0.06474243,  0.045628  ,\n",
       "       -0.02662797, -0.01981014,  0.02961087,  0.14662018, -0.27168922,\n",
       "        0.11048939, -0.1226482 ,  0.32827295,  0.11444837, -0.16140303,\n",
       "       -0.02353132,  0.07573237,  0.05752561,  0.11709348, -0.16154203,\n",
       "       -0.01083168, -0.07791917,  0.09461653, -0.34618887,  0.15891815,\n",
       "       -0.29990729, -0.07740516,  0.29638123, -0.16175911,  0.24625698,\n",
       "        0.00953391,  0.20415147,  0.1257433 , -0.22687105, -0.03453165,\n",
       "       -0.19913869, -0.02624465, -0.0470936 ,  0.10718249, -0.08756701,\n",
       "        0.08285468,  0.13774286,  0.14453292, -0.02223629,  0.11325821,\n",
       "       -0.0336176 ,  0.12560962,  0.11581415, -0.05367413, -0.04324195,\n",
       "       -0.12679331, -0.24183532,  0.03783987,  0.05774047,  0.32154836,\n",
       "       -0.10939423,  0.0100313 , -0.12528165, -0.01034902,  0.15307962,\n",
       "        0.01327318, -0.2997942 , -0.17452303, -0.00344059,  0.00379535,\n",
       "       -0.12605689, -0.21477417,  0.02671874,  0.18867268, -0.17322962])"
      ]
     },
     "execution_count": 33,
     "metadata": {},
     "output_type": "execute_result"
    }
   ],
   "source": [
    "grad_corr(x, y)"
   ]
  },
  {
   "cell_type": "code",
   "execution_count": 38,
   "metadata": {},
   "outputs": [],
   "source": [
    "def grad_corr2(x, y):\n",
    "    B = np.sum((x - np.mean(x)) * (y - np.mean(y)))\n",
    "    C = np.sum((y - np.mean(y))**2)\n",
    "    D = np.sum((x - np.mean(x))**2)\n",
    "    return ((y - np.mean(y)) - B/D*(x - np.mean(x)))/np.sqrt(C*D)"
   ]
  },
  {
   "cell_type": "code",
   "execution_count": 39,
   "metadata": {},
   "outputs": [
    {
     "data": {
      "text/plain": [
       "array([-0.00223605,  0.01717174,  0.01548725,  0.00025399, -0.0064104 ,\n",
       "       -0.01619607,  0.00796994, -0.00019612, -0.00796816,  0.01998275,\n",
       "       -0.0045301 ,  0.00539953,  0.00086094, -0.00503676,  0.00346135,\n",
       "        0.01609242, -0.01895355, -0.01795338,  0.00885745, -0.0043214 ,\n",
       "        0.00105036,  0.00450743, -0.00057535, -0.01556991,  0.01276231,\n",
       "       -0.00113471,  0.00479116,  0.00407751, -0.00273056,  0.00101463,\n",
       "        0.00666294, -0.00630334,  0.02539273, -0.01460568, -0.02219062,\n",
       "        0.00494189, -0.0081689 , -0.00358018, -0.0145535 ,  0.00274156,\n",
       "        0.03905719,  0.00488755,  0.00028309, -0.01037268,  0.00176734,\n",
       "       -0.00597374, -0.00610292, -0.01764759, -0.00538243, -0.00615395,\n",
       "       -0.00110178,  0.01546743, -0.00613899, -0.0088597 ,  0.00661046,\n",
       "        0.00419256, -0.01497067,  0.00258986, -0.00569489, -0.00944751,\n",
       "        0.00266503, -0.00672115, -0.00129964, -0.00987621, -0.01331077,\n",
       "        0.00231745,  0.01019426, -0.00477431,  0.01504962,  0.00228802,\n",
       "        0.00147117,  0.00065315,  0.00928822,  0.01113892,  0.02149774,\n",
       "       -0.00700173,  0.00644145,  0.00116425, -0.03392698,  0.00857106,\n",
       "       -0.01096897, -0.0023969 , -0.00106056,  0.00481836,  0.01016577,\n",
       "       -0.00144927,  0.00657564, -0.00066673,  0.00699017,  0.01800554,\n",
       "       -0.00110217, -0.00305306, -0.00575987,  0.02005301, -0.00810632,\n",
       "       -0.00303204, -0.01703301,  0.00380238,  0.00931774, -0.00820301])"
      ]
     },
     "execution_count": 39,
     "metadata": {},
     "output_type": "execute_result"
    }
   ],
   "source": [
    "grad_corr2(x, y)"
   ]
  },
  {
   "cell_type": "code",
   "execution_count": 24,
   "metadata": {},
   "outputs": [],
   "source": [
    "def hessian_corr(x, y):\n",
    "    n = len(x)\n",
    "    varx = np.mean((x-np.mean(x))**2)\n",
    "    vary = np.mean((y-np.mean(y))**2)\n",
    "    part1 = -(y-np.mean(y))*vary/(np.sqrt(varx*vary)**3)*(x-np.mean(x))\n",
    "    cov = np.mean((x-np.mean(x))*(y-np.mean(y)))\n",
    "    h = vary/(np.sqrt(varx*vary)**3)*(x - np.mean(x))\n",
    "    part2 = -(h/n*(y-np.mean(y))+cov*((1-1/n)*vary/(np.sqrt(varx*vary)**3)-3/n*vary**2/(np.sqrt(varx*vary)**5)*(x-np.mean(x))))\n",
    "    return part1 + part2"
   ]
  },
  {
   "cell_type": "code",
   "execution_count": 25,
   "metadata": {},
   "outputs": [
    {
     "data": {
      "text/plain": [
       "array([ 0.5293761 ,  2.5612626 ,  1.43410061,  0.3090265 , -0.48909259,\n",
       "        2.29705844,  1.17051033,  0.16619165, -0.22522628, -0.88871844,\n",
       "        1.28023532,  0.59200657,  1.25062466,  1.93628352,  0.73011841,\n",
       "        0.57885583,  2.73154269,  2.59359258, -0.8244609 ,  0.19250753,\n",
       "        0.16292473,  0.23111882,  0.19062368,  2.26234683, -1.80882286,\n",
       "        0.39804036,  0.19947699,  0.22592555,  0.36138543,  0.73360247,\n",
       "        0.83440922, -0.23824435,  1.53989376,  1.07431581,  1.32020749,\n",
       "        0.28986942,  0.09521146,  0.26051685,  2.10544311,  1.30424858,\n",
       "       -1.88184947,  0.75733959,  0.89440901,  1.24399424,  0.58674157,\n",
       "        0.08942608,  0.58499289,  1.19477236,  0.76535981, -0.36123385,\n",
       "        0.15781158,  1.31208261,  0.69924024, -1.19562616, -0.41747927,\n",
       "        1.82481658, -0.5012211 ,  0.23673274, -0.3092515 ,  2.45141438,\n",
       "        0.15117925,  1.55010366,  0.40497853, -1.07185624, -0.04191561,\n",
       "        0.82662715,  0.45336089,  0.02899667, -0.80959873,  0.38238195,\n",
       "        0.12230749,  0.23454257, -0.6399646 ,  0.45185609, -1.2475526 ,\n",
       "        0.0319655 , -0.30553971,  0.15998291, -0.33165309,  0.51836488,\n",
       "       -0.67813059,  0.17744597,  0.2055083 , -0.00642757, -1.47843303,\n",
       "        0.13980444,  0.1477423 ,  0.22440207,  0.25811406, -1.51800342,\n",
       "        0.17759424,  0.16335659, -0.33984874,  0.52141279,  0.23738149,\n",
       "        0.00496793, -2.04714618,  0.10281519, -0.84672445, -0.63426256])"
      ]
     },
     "execution_count": 25,
     "metadata": {},
     "output_type": "execute_result"
    }
   ],
   "source": [
    "hessian_corr(x, y)"
   ]
  },
  {
   "cell_type": "code",
   "execution_count": 28,
   "metadata": {},
   "outputs": [],
   "source": [
    "def corr_loss(predt: np.ndarray, dtrain: xgb.DMatrix) -> tuple[np.ndarray, np.ndarray]:\n",
    "    def grad_corr(x, y):\n",
    "        n = len(x)\n",
    "        cov = np.mean((x - np.mean(x)) * (y - np.mean(y)))\n",
    "        stdx = np.std(x)\n",
    "        stdy = np.std(y)\n",
    "        part1 = (y-np.mean(y))/(n*stdx*stdy)\n",
    "        part2 = stdy**2/(stdx*stdy)**3*cov*(x-np.mean(x))\n",
    "        return part1-part2\n",
    "    \n",
    "    def hessian_corr(x, y):\n",
    "        n = len(x)\n",
    "        varx = np.mean((x-np.mean(x))**2)\n",
    "        vary = np.mean((y-np.mean(y))**2)\n",
    "        part1 = -(y-np.mean(y))*vary/(np.sqrt(varx*vary)**3)*(x-np.mean(x))\n",
    "        cov = np.mean((x-np.mean(x))*(y-np.mean(y)))\n",
    "        h = vary/(np.sqrt(varx*vary)**3)*(x - np.mean(x))\n",
    "        part2 = -(h/n*(y-np.mean(y))+cov*((1-1/n)*vary/(np.sqrt(varx*vary)**3)-3/n*vary**2/(np.sqrt(varx*vary)**5)*(x-np.mean(x))))\n",
    "        return part1 + part2\n",
    "        \n",
    "    y = dtrain.get_label()\n",
    "    grad = grad_corr(predt, y)\n",
    "    hess = hessian_corr(predt, y)\n",
    "    return grad, hess"
   ]
  },
  {
   "cell_type": "code",
   "execution_count": 50,
   "metadata": {},
   "outputs": [],
   "source": [
    "eval_metric = \"rmse\"\n",
    "objective = \"reg:squarederror\"\n",
    "n_estimators = 200\n",
    "max_depth = 2\n",
    "learning_rate = 0.1\n",
    "#early_stopping_rounds = 1000\n",
    "\n",
    "min_child_weight = 4\n",
    "subsample = 0.5\n",
    "colsample_bytree = 0.5\n",
    "gamma = 0\n",
    "reg_alpha = 0\n",
    "reg_lambda = 0\n",
    "seed = 10\n",
    "verbosity = 3"
   ]
  },
  {
   "cell_type": "code",
   "execution_count": 51,
   "metadata": {},
   "outputs": [
    {
     "name": "stdout",
     "output_type": "stream",
     "text": [
      "train_MSE            valid_MSE            train_IC             valid_IC            \n"
     ]
    },
    {
     "ename": "NameError",
     "evalue": "name 'mean_squared_error' is not defined",
     "output_type": "error",
     "traceback": [
      "\u001b[0;31m---------------------------------------------------------------------------\u001b[0m",
      "\u001b[0;31mNameError\u001b[0m                                 Traceback (most recent call last)",
      "\u001b[1;32m/mnt/d/硕士课程/quant start/corr_loss.ipynb 单元格 13\u001b[0m line \u001b[0;36m3\n\u001b[1;32m     <a href='vscode-notebook-cell://wsl%2Bubuntu/mnt/d/%E7%A1%95%E5%A3%AB%E8%AF%BE%E7%A8%8B/quant%20start/corr_loss.ipynb#X21sdnNjb2RlLXJlbW90ZQ%3D%3D?line=33'>34</a>\u001b[0m train_pred \u001b[39m=\u001b[39m xgb_model\u001b[39m.\u001b[39mpredict((X_train\u001b[39m-\u001b[39mxmean)\u001b[39m/\u001b[39mxstd)\u001b[39m*\u001b[39mystd\u001b[39m+\u001b[39mymean\n\u001b[1;32m     <a href='vscode-notebook-cell://wsl%2Bubuntu/mnt/d/%E7%A1%95%E5%A3%AB%E8%AF%BE%E7%A8%8B/quant%20start/corr_loss.ipynb#X21sdnNjb2RlLXJlbW90ZQ%3D%3D?line=34'>35</a>\u001b[0m valid_pred \u001b[39m=\u001b[39m xgb_model\u001b[39m.\u001b[39mpredict((X_test\u001b[39m-\u001b[39mxmean)\u001b[39m/\u001b[39mxstd)\u001b[39m*\u001b[39mystd\u001b[39m+\u001b[39mymean\n\u001b[0;32m---> <a href='vscode-notebook-cell://wsl%2Bubuntu/mnt/d/%E7%A1%95%E5%A3%AB%E8%AF%BE%E7%A8%8B/quant%20start/corr_loss.ipynb#X21sdnNjb2RlLXJlbW90ZQ%3D%3D?line=35'>36</a>\u001b[0m \u001b[39mprint\u001b[39m(\u001b[39m\"\u001b[39m\u001b[39m%-20.15f\u001b[39;00m\u001b[39m \u001b[39m\u001b[39m%-20.15f\u001b[39;00m\u001b[39m \u001b[39m\u001b[39m%-20.15f\u001b[39;00m\u001b[39m \u001b[39m\u001b[39m%-20.15f\u001b[39;00m\u001b[39m\"\u001b[39m \u001b[39m%\u001b[39m (mean_squared_error(y_train, train_pred), mean_squared_error(y_test, valid_pred), cal_ic_raw(y_train, train_pred), cal_ic_raw(y_test, valid_pred)))\n",
      "\u001b[0;31mNameError\u001b[0m: name 'mean_squared_error' is not defined"
     ]
    }
   ],
   "source": [
    "from xgboost import XGBRegressor\n",
    "from sklearn.model_selection import train_test_split\n",
    "import pandas as pd\n",
    "import numpy as np\n",
    "\n",
    "data_url = \"http://lib.stat.cmu.edu/datasets/boston\"\n",
    "raw_df = pd.read_csv(data_url, sep=\"\\s+\", skiprows=22, header=None)\n",
    "X = np.hstack([raw_df.values[::2, :], raw_df.values[1::2, :2]])\n",
    "y = raw_df.values[1::2, 2]\n",
    "X_train, X_test, y_train, y_test = train_test_split(X, y, test_size=0.2, random_state=123)\n",
    "\n",
    "xmean = np.mean(X_train, axis=0)\n",
    "xstd = np.std(X_train, axis=0)\n",
    "ymean = np.mean(y_train, axis=0)\n",
    "ystd = np.std(y_train, axis=0)\n",
    "\n",
    "print(\"%-20s %-20s %-20s %-20s\" % (\"train_MSE\", \"valid_MSE\", \"train_IC\", \"valid_IC\"))\n",
    "xgb_model = XGBRegressor(seed=seed,\n",
    "                     n_estimators=n_estimators,\n",
    "                     max_depth=max_depth,\n",
    "                     learning_rate=learning_rate,\n",
    "                     min_child_weight=min_child_weight,\n",
    "                     subsample=subsample,\n",
    "                     colsample_bytree=colsample_bytree,\n",
    "                     gamma=gamma,\n",
    "                     reg_alpha=reg_alpha,\n",
    "                     reg_lambda=reg_lambda,\n",
    "                     verbosity=0,\n",
    "                     #nthread=nthread,\n",
    "                     eval_metric=eval_metric,\n",
    "                     objective=objective,\n",
    "                     )\n",
    "xgb_model.fit((X_train-xmean)/xstd, (y_train-ymean)/ystd)\n",
    "train_pred = xgb_model.predict((X_train-xmean)/xstd)*ystd+ymean\n",
    "valid_pred = xgb_model.predict((X_test-xmean)/xstd)*ystd+ymean\n",
    "print(\"%-20.15f %-20.15f %-20.15f %-20.15f\" % (mean_squared_error(y_train, train_pred), mean_squared_error(y_test, valid_pred), cal_ic_raw(y_train, train_pred), cal_ic_raw(y_test, valid_pred)))"
   ]
  },
  {
   "cell_type": "code",
   "execution_count": null,
   "metadata": {},
   "outputs": [],
   "source": []
  }
 ],
 "metadata": {
  "kernelspec": {
   "display_name": "base",
   "language": "python",
   "name": "python3"
  },
  "language_info": {
   "codemirror_mode": {
    "name": "ipython",
    "version": 3
   },
   "file_extension": ".py",
   "mimetype": "text/x-python",
   "name": "python",
   "nbconvert_exporter": "python",
   "pygments_lexer": "ipython3",
   "version": "3.11.5"
  }
 },
 "nbformat": 4,
 "nbformat_minor": 2
}
