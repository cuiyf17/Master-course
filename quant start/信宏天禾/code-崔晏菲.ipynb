{
 "cells": [
  {
   "cell_type": "code",
   "execution_count": 1,
   "metadata": {},
   "outputs": [],
   "source": [
    "import os\n",
    "import numpy as np\n",
    "import pandas as pd\n",
    "import matplotlib.pyplot as plt"
   ]
  },
  {
   "cell_type": "markdown",
   "metadata": {},
   "source": [
    "## 第二题代码"
   ]
  },
  {
   "cell_type": "code",
   "execution_count": 13,
   "metadata": {},
   "outputs": [
    {
     "name": "stdout",
     "output_type": "stream",
     "text": [
      "-0.12566134685507402\n",
      "0.8955531823571556\n"
     ]
    }
   ],
   "source": [
    "from scipy.stats import norm\n",
    "\n",
    "quantile = norm.ppf(0.45)\n",
    "print(quantile)\n",
    "print(1-norm.cdf(quantile*10))"
   ]
  },
  {
   "cell_type": "markdown",
   "metadata": {},
   "source": [
    "## 第三题代码"
   ]
  },
  {
   "cell_type": "code",
   "execution_count": 10,
   "metadata": {},
   "outputs": [],
   "source": [
    "def maxprofit(r, b):\n",
    "    E = np.zeros((r+1, b+1))\n",
    "    for i in range(E.shape[1]):\n",
    "        E[0,i] = i\n",
    "    \n",
    "    for i in range(1, E.shape[0]):\n",
    "        for j in range(1, E.shape[1]):\n",
    "            E[i,j] = max(j-i, i/(i+j)*E[i-1,j] + j/(i+j)*E[i,j-1])\n",
    "    \n",
    "    return E[-1,-1]"
   ]
  },
  {
   "cell_type": "code",
   "execution_count": 12,
   "metadata": {},
   "outputs": [
    {
     "data": {
      "text/plain": [
       "3.658141464402969"
      ]
     },
     "execution_count": 12,
     "metadata": {},
     "output_type": "execute_result"
    }
   ],
   "source": [
    "maxprofit(50,50)"
   ]
  },
  {
   "cell_type": "markdown",
   "metadata": {},
   "source": [
    "## 第五题代码"
   ]
  },
  {
   "cell_type": "code",
   "execution_count": null,
   "metadata": {},
   "outputs": [],
   "source": [
    "import pandas as pd\n",
    "from datetime import datetime\n",
    "\n",
    "#假设读取的文件是.csv文件，文件内的每一项之间都用逗号分隔好了，不存在数据确实或错误的情况，并且假设没有header\n",
    "filenames = [x for x in os.listdir('./data/') if (x.endswith('.csv') and datetime.strptime(x.split('.')[0], '%Y-%m-%d') )]\n",
    "\n",
    "for name in filenames:\n",
    "    df_data = pd.read_csv('./data/'+name, header=None)\n",
    "    n = df_data.shape[1] - 1\n",
    "    m = df_data.shape[0]\n",
    "    tmp_data = np.array(df_data)\n",
    "    tmp = np.argsort(tmp_data, axis=0)\n",
    "    for i in range(1, n+1):\n",
    "        tmp_data[tmp[:,i],i] = np.arange(1, m+1)\n",
    "    tmp_data = pd.DataFrame(tmp_data)\n",
    "    tmp_data.to_csv('./factor/'+name, index=False, header=False)\n"
   ]
  }
 ],
 "metadata": {
  "kernelspec": {
   "display_name": "base",
   "language": "python",
   "name": "python3"
  },
  "language_info": {
   "codemirror_mode": {
    "name": "ipython",
    "version": 3
   },
   "file_extension": ".py",
   "mimetype": "text/x-python",
   "name": "python",
   "nbconvert_exporter": "python",
   "pygments_lexer": "ipython3",
   "version": "3.10.13"
  }
 },
 "nbformat": 4,
 "nbformat_minor": 2
}
