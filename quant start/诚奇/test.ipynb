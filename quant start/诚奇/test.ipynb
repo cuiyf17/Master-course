{
 "cells": [
  {
   "cell_type": "code",
   "execution_count": 21,
   "metadata": {},
   "outputs": [],
   "source": [
    "import os\n",
    "import sys\n",
    "import numpy as np\n",
    "import pandas as pd\n",
    "import seaborn as sns\n",
    "import matplotlib.pyplot as plt\n",
    "%matplotlib inline"
   ]
  },
  {
   "cell_type": "code",
   "execution_count": 22,
   "metadata": {},
   "outputs": [],
   "source": [
    "def findMedianSortedArrays(list1, list2):\n",
    "    m, n = len(list1), len(list2)\n",
    "    total = m + n\n",
    "    if total % 2 == 1:\n",
    "        # 如果总长度为奇数，中位数的位置为第total//2+1个数\n",
    "        return findKth(list1, list2, total // 2 + 1)\n",
    "    else:\n",
    "        # 如果总长度为偶数，中位数的位置为第total//2个数和第total//2+1个数的平均值\n",
    "        return (findKth(list1, list2, total // 2) + findKth(list1, list2, total // 2 + 1)) / 2\n",
    "\n",
    "\n",
    "def findKth(list1, list2, k):\n",
    "    m, n = len(list1), len(list2)\n",
    "    if m > n:\n",
    "        # 保证list1的长度小于等于list2的长度\n",
    "        return findKth(list2, list1, k)\n",
    "    if m == 0:\n",
    "        # 如果list1为空，直接返回list2的第k个数\n",
    "        return list2[k - 1]\n",
    "    if k == 1:\n",
    "        # 如果k为1，返回list1和list2的最小值\n",
    "        return min(list1[0], list2[0])\n",
    "    # 分别在list1和list2中查找第k//2个数\n",
    "    i, j = min(k // 2, m) - 1, min(k // 2, n) - 1\n",
    "    if list1[i] > list2[j]:\n",
    "        # 如果list1的第k//2个数大于list2的第k//2个数，说明list2的前k//2个数都不是第k小的数\n",
    "        # 因此，我们可以将list2的前k//2个数排除，继续在剩下的数中查找第k-k//2个数\n",
    "        return findKth(list1, list2[j + 1:], k - j - 1)\n",
    "    else:\n",
    "        # 如果list1的第k//2个数小于等于list2的第k//2个数，说明list1的前k//2个数都不是第k小的数\n",
    "        # 因此，我们可以将list1的前k//2个数排除，继续在剩下的数中查找第k-k//2个数\n",
    "        return findKth(list1[i + 1:], list2, k - i - 1)\n",
    "    "
   ]
  },
  {
   "cell_type": "code",
   "execution_count": null,
   "metadata": {},
   "outputs": [],
   "source": []
  }
 ],
 "metadata": {
  "kernelspec": {
   "display_name": "base",
   "language": "python",
   "name": "python3"
  },
  "language_info": {
   "codemirror_mode": {
    "name": "ipython",
    "version": 3
   },
   "file_extension": ".py",
   "mimetype": "text/x-python",
   "name": "python",
   "nbconvert_exporter": "python",
   "pygments_lexer": "ipython3",
   "version": "3.10.13"
  },
  "orig_nbformat": 4
 },
 "nbformat": 4,
 "nbformat_minor": 2
}
