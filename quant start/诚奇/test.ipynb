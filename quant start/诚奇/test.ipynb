{
 "cells": [
  {
   "cell_type": "code",
   "execution_count": 1,
   "metadata": {},
   "outputs": [],
   "source": [
    "import os\n",
    "import sys\n",
    "import numpy as np\n",
    "import pandas as pd\n",
    "import seaborn as sns\n",
    "import matplotlib.pyplot as plt\n",
    "%matplotlib inline"
   ]
  },
  {
   "cell_type": "code",
   "execution_count": 2,
   "metadata": {},
   "outputs": [],
   "source": [
    "def findMedianSortedArrays(list1, list2):\n",
    "    m, n = len(list1), len(list2)\n",
    "    total = m + n\n",
    "    if total % 2 == 1:\n",
    "        return findKth(list1, list2, total // 2 + 1)\n",
    "    else:\n",
    "        return (findKth(list1, list2, total // 2) + findKth(list1, list2, total // 2 + 1)) / 2\n",
    "\n",
    "def findKth(list1, list2, k):\n",
    "    m, n = len(list1), len(list2)\n",
    "    if m > n:\n",
    "        return findKth(list2, list1, k)\n",
    "    if m == 0:\n",
    "        return list2[k - 1]\n",
    "    if k == 1:\n",
    "        return min(list1[0], list2[0])\n",
    "    i, j = min(k // 2, m) - 1, min(k // 2, n) - 1\n",
    "    if list1[i] > list2[j]:\n",
    "        return findKth(list1, list2[j + 1:], k - j - 1)\n",
    "    else:\n",
    "        return findKth(list1[i + 1:], list2, k - i - 1)\n",
    "    "
   ]
  },
  {
   "cell_type": "code",
   "execution_count": null,
   "metadata": {},
   "outputs": [],
   "source": []
  }
 ],
 "metadata": {
  "kernelspec": {
   "display_name": "base",
   "language": "python",
   "name": "python3"
  },
  "language_info": {
   "codemirror_mode": {
    "name": "ipython",
    "version": 3
   },
   "file_extension": ".py",
   "mimetype": "text/x-python",
   "name": "python",
   "nbconvert_exporter": "python",
   "pygments_lexer": "ipython3",
   "version": "3.10.13"
  },
  "orig_nbformat": 4
 },
 "nbformat": 4,
 "nbformat_minor": 2
}
