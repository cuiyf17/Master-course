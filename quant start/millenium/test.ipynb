{
 "cells": [
  {
   "cell_type": "code",
   "execution_count": 2,
   "metadata": {},
   "outputs": [],
   "source": [
    "import os\n",
    "import sys\n",
    "import numpy as np\n",
    "import pandas as pd\n",
    "import matplotlib.pyplot as plt\n",
    "%matplotlib inline\n",
    "\n",
    "import sklearn"
   ]
  },
  {
   "cell_type": "code",
   "execution_count": 3,
   "metadata": {},
   "outputs": [],
   "source": [
    "# Enter your code here. Read input from STDIN. Print output to STDOUT\n",
    "import os\n",
    "import numpy as np\n",
    "import pandas as pd\n",
    "import sklearn\n",
    "\n",
    "from sklearn.model_selection import KFold\n",
    "from sklearn.svm import SVC\n",
    "#from sklearn.linear_model import LogisticRegression\n",
    "from sklearn.metrics import accuracy_score\n",
    "\n",
    "\n",
    "trainpath = \"./train.csv\"\n",
    "testpath = \"./test.csv\"\n",
    "predpath = \"./prediction.csv\"\n",
    "\n",
    "train_df = pd.read_csv(trainpath, header = None)\n",
    "test_df = pd.read_csv(testpath, header = None)\n",
    "\n",
    "data_train = np.array(train_df)[:, :294]\n",
    "label_train = np.array(train_df)[:, 294:]\n",
    "data_test = np.array(test_df)[:, :294]\n",
    "label_test = np.zeros((test_df.shape[0], 6))\n",
    "\n",
    "num_labels = label_train.shape[1]\n",
    "kf = KFold(n_splits=5, shuffle=True, random_state=42)\n",
    "\n",
    "models = []\n",
    "for i in range(num_labels):\n",
    "    params = {\n",
    "        'C': 1.0,\n",
    "        'kernel': 'rbf',\n",
    "        'gamma': 'scale',\n",
    "        'random_state': 42\n",
    "    }\n",
    "    preds = []\n",
    "    scores = []\n",
    "    models.append([])\n",
    "    for train_index, test_index in kf.split(data_train):\n",
    "        X_train, X_test = data_train[train_index], data_train[test_index]\n",
    "        y_train, y_test = label_train[train_index, i], label_train[test_index, i]\n",
    "        model = SVC(**params)\n",
    "        #model = LogisticRegression(random_state=42)\n",
    "        model.fit(X_train, y_train)\n",
    "        models[i].append(model)\n",
    "        #y_pred = model.predict(X_test)\n",
    "        #score = accuracy_score(y_test, y_pred)\n",
    "        #scores.append(score)\n",
    "        pred = model.predict(data_test)\n",
    "        preds.append(pred)\n",
    "    preds = np.array(preds)\n",
    "    preds = np.mean(preds, axis = 0)\n",
    "    preds = np.where(preds>0.5, 1, 0)\n",
    "    label_test[:, i] = preds\n",
    "    #print(preds.shape)\n",
    "    #print('label%d交叉验证结果：'%(i), scores)\n",
    "    #print('label%d平均准确率：'%(i), sum(scores) / len(scores))\n",
    "    \n",
    "output = pd.DataFrame(label_test, dtype = int)\n",
    "\n",
    "output.to_csv(predpath, header=False)"
   ]
  },
  {
   "cell_type": "code",
   "execution_count": null,
   "metadata": {},
   "outputs": [],
   "source": []
  }
 ],
 "metadata": {
  "kernelspec": {
   "display_name": "base",
   "language": "python",
   "name": "python3"
  },
  "language_info": {
   "codemirror_mode": {
    "name": "ipython",
    "version": 3
   },
   "file_extension": ".py",
   "mimetype": "text/x-python",
   "name": "python",
   "nbconvert_exporter": "python",
   "pygments_lexer": "ipython3",
   "version": "3.10.13"
  },
  "orig_nbformat": 4
 },
 "nbformat": 4,
 "nbformat_minor": 2
}
