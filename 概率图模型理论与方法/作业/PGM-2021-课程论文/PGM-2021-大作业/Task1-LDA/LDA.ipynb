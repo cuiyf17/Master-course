{
 "cells": [
  {
   "cell_type": "code",
   "execution_count": 1,
   "id": "4f86848d-0651-4f28-9683-24b61d652f4e",
   "metadata": {},
   "outputs": [
    {
     "name": "stderr",
     "output_type": "stream",
     "text": [
      "/home/cuiyanfei/anaconda3/lib/python3.8/site-packages/gensim/similarities/__init__.py:15: UserWarning: The gensim.similarities.levenshtein submodule is disabled, because the optional Levenshtein package <https://pypi.org/project/python-Levenshtein/> is unavailable. Install Levenhstein (e.g. `pip install python-Levenshtein`) to suppress this warning.\n",
      "  warnings.warn(msg)\n"
     ]
    }
   ],
   "source": [
    "import os\n",
    "import numpy as np\n",
    "import pandas as pd\n",
    "from sklearn.decomposition import LatentDirichletAllocation as LDA\n",
    "import gensim\n",
    "from matplotlib import pyplot as plt\n",
    "\n",
    "%matplotlib inline"
   ]
  },
  {
   "cell_type": "markdown",
   "id": "5bb1967d-dc2c-4857-8a81-429827bfec84",
   "metadata": {},
   "source": [
    "# 使用sklearn"
   ]
  },
  {
   "cell_type": "code",
   "execution_count": 2,
   "id": "cab6f90f-7499-4ade-a02a-fb69657012a7",
   "metadata": {},
   "outputs": [],
   "source": [
    "class _filename():\n",
    "    def __init__(self):\n",
    "        self.expr = \"Brain-expr_matrix.txt\"\n",
    "        self.expr_small = \"Brain-expr_matrix-smallData.txt\"\n",
    "        self.spot = \"Brain-spot_position.txt\"\n",
    "        self.spot_small = \"Brain-spot_position-smallData.txt\"\n",
    "        \n",
    "filename = _filename()"
   ]
  },
  {
   "cell_type": "code",
   "execution_count": 3,
   "id": "e95d9cd3-847e-404b-9c36-4ef0a7c01740",
   "metadata": {},
   "outputs": [],
   "source": [
    "expr_df = pd.read_csv(filename.expr, sep=\"\\t\")\n",
    "expr_small_df = pd.read_csv(filename.expr_small, sep=\"\\t\")\n",
    "spot_df = pd.read_csv(filename.spot, sep=\"\\t\")\n",
    "spot_small_df = pd.read_csv(filename.spot_small, sep=\"\\t\")"
   ]
  },
  {
   "cell_type": "code",
   "execution_count": 4,
   "id": "6220e3f7-5b29-44f2-a10c-ac0c1fda188e",
   "metadata": {},
   "outputs": [],
   "source": [
    "lda1 = LDA(n_components = 6, random_state = 520, learning_decay = 0.7, n_jobs = -1)\n",
    "lda2 = LDA(n_components = 6, random_state = 520, learning_decay = 0.5, n_jobs = -1)\n",
    "lda3 = LDA(n_components = 4, random_state = 520, learning_decay = 0.7, n_jobs = -1)"
   ]
  },
  {
   "cell_type": "code",
   "execution_count": 5,
   "id": "27a3e606-4437-46e7-b667-3343a2c98d12",
   "metadata": {},
   "outputs": [],
   "source": [
    "def show_clusters(lda, expr_df, spot_df):\n",
    "    pred_df = expr_df.copy()\n",
    "    pred_df = pred_df.drop(pred_df.index[1:])\n",
    "    pred_df.index = [\"cluster\"]\n",
    "    clusters = lda.fit_transform(expr_df.T)\n",
    "    clusters = np.argmax(clusters, axis=1)\n",
    "    pred_df.iloc[0] = clusters\n",
    "    print(\"approximate log-likelihood = %f\"%(lda.score(expr_df.T)))\n",
    "    \n",
    "    plt.figure(figsize=(10,10))\n",
    "    colors = [\"red\", \"green\", \"blue\", \"orange\", \"purple\", \"black\"]\n",
    "    classes = np.unique(pred_df)\n",
    "    for i, cluster in enumerate(classes):\n",
    "        idxs = np.where(pred_df == cluster)[1]\n",
    "        plt.plot(spot_df.iloc[idxs, 1], spot_df.iloc[idxs, 2], \".\", color = colors[i], label = \"%d\"%(i))\n",
    "    plt.xlabel(\"X\")\n",
    "    plt.ylabel(\"Y\")\n",
    "    plt.title(\"Visualization of Clustering\")\n",
    "    plt.legend()\n",
    "    plt.show()\n",
    "    \n",
    "    return pred_df"
   ]
  },
  {
   "cell_type": "code",
   "execution_count": 6,
   "id": "5f80ed3d-c0b4-4763-828e-e12769648fa7",
   "metadata": {
    "tags": []
   },
   "outputs": [
    {
     "name": "stdout",
     "output_type": "stream",
     "text": [
      "approximate log-likelihood = -26755815.731440\n"
     ]
    },
    {
     "data": {
      "image/png": "[encoded data removed]",
      "text/plain": [
       "<Figure size 720x720 with 1 Axes>"
      ]
     },
     "metadata": {
      "needs_background": "light"
     },
     "output_type": "display_data"
    },
    {
     "data": {
      "text/html": [
       "<div>\n",
       "<style scoped>\n",
       "    .dataframe tbody tr th:only-of-type {\n",
       "        vertical-align: middle;\n",
       "    }\n",
       "\n",
       "    .dataframe tbody tr th {\n",
       "        vertical-align: top;\n",
       "    }\n",
       "\n",
       "    .dataframe thead th {\n",
       "        text-align: right;\n",
       "    }\n",
       "</style>\n",
       "<table border=\"1\" class=\"dataframe\">\n",
       "  <thead>\n",
       "    <tr style=\"text-align: right;\">\n",
       "      <th></th>\n",
       "      <th>TCGGCTAACTTCCCTT-1</th>\n",
       "      <th>ATATCGTGCCAGACCC-1</th>\n",
       "      <th>ACGCTTAGTGTCTCTC-1</th>\n",
       "      <th>TAGTGGAACTCATACA-1</th>\n",
       "      <th>GTTATTAAATACGACC-1</th>\n",
       "      <th>AACTGGGTTCGAGCCG-1</th>\n",
       "      <th>CATGCACGTGTTACTG-1</th>\n",
       "      <th>CATTCACTGACAGCTA-1</th>\n",
       "      <th>CATGAACCTCTTATCA-1</th>\n",
       "      <th>TTAATGCGAGGTAACT-1</th>\n",
       "      <th>...</th>\n",
       "      <th>AAGATGGCACCGGACC-1</th>\n",
       "      <th>CTACAAGAAATAACCC-1</th>\n",
       "      <th>ACTATTTCCGGGCCCA-1</th>\n",
       "      <th>TTGTTTCACATCCAGG-1</th>\n",
       "      <th>CGCTGTGTGGATGTTG-1</th>\n",
       "      <th>TCAACATAGCGCCCTA-1</th>\n",
       "      <th>TACTCTTTCGTCTTCA-1</th>\n",
       "      <th>GAATAGTGCTCGATTA-1</th>\n",
       "      <th>CACATCGTGCACGCGC-1</th>\n",
       "      <th>CCCAATGAGATTTGCA-1</th>\n",
       "    </tr>\n",
       "  </thead>\n",
       "  <tbody>\n",
       "    <tr>\n",
       "      <th>cluster</th>\n",
       "      <td>5</td>\n",
       "      <td>5</td>\n",
       "      <td>4</td>\n",
       "      <td>4</td>\n",
       "      <td>4</td>\n",
       "      <td>5</td>\n",
       "      <td>5</td>\n",
       "      <td>5</td>\n",
       "      <td>4</td>\n",
       "      <td>5</td>\n",
       "      <td>...</td>\n",
       "      <td>4</td>\n",
       "      <td>4</td>\n",
       "      <td>4</td>\n",
       "      <td>4</td>\n",
       "      <td>4</td>\n",
       "      <td>4</td>\n",
       "      <td>4</td>\n",
       "      <td>4</td>\n",
       "      <td>4</td>\n",
       "      <td>4</td>\n",
       "    </tr>\n",
       "  </tbody>\n",
       "</table>\n",
       "<p>1 rows × 2264 columns</p>\n",
       "</div>"
      ],
      "text/plain": [
       "         TCGGCTAACTTCCCTT-1  ATATCGTGCCAGACCC-1  ACGCTTAGTGTCTCTC-1  \\\n",
       "cluster                   5                   5                   4   \n",
       "\n",
       "         TAGTGGAACTCATACA-1  GTTATTAAATACGACC-1  AACTGGGTTCGAGCCG-1  \\\n",
       "cluster                   4                   4                   5   \n",
       "\n",
       "         CATGCACGTGTTACTG-1  CATTCACTGACAGCTA-1  CATGAACCTCTTATCA-1  \\\n",
       "cluster                   5                   5                   4   \n",
       "\n",
       "         TTAATGCGAGGTAACT-1  ...  AAGATGGCACCGGACC-1  CTACAAGAAATAACCC-1  \\\n",
       "cluster                   5  ...                   4                   4   \n",
       "\n",
       "         ACTATTTCCGGGCCCA-1  TTGTTTCACATCCAGG-1  CGCTGTGTGGATGTTG-1  \\\n",
       "cluster                   4                   4                   4   \n",
       "\n",
       "         TCAACATAGCGCCCTA-1  TACTCTTTCGTCTTCA-1  GAATAGTGCTCGATTA-1  \\\n",
       "cluster                   4                   4                   4   \n",
       "\n",
       "         CACATCGTGCACGCGC-1  CCCAATGAGATTTGCA-1  \n",
       "cluster                   4                   4  \n",
       "\n",
       "[1 rows x 2264 columns]"
      ]
     },
     "execution_count": 6,
     "metadata": {},
     "output_type": "execute_result"
    }
   ],
   "source": [
    "show_clusters(lda1, expr_df, spot_df)"
   ]
  },
  {
   "cell_type": "code",
   "execution_count": 7,
   "id": "a1d4a800-c49a-40a6-ac63-9fb7a8eb954a",
   "metadata": {},
   "outputs": [
    {
     "name": "stdout",
     "output_type": "stream",
     "text": [
      "approximate log-likelihood = -26755815.731440\n"
     ]
    },
    {
     "data": {
      "image/png": "[encoded data removed]",
      "text/plain": [
       "<Figure size 720x720 with 1 Axes>"
      ]
     },
     "metadata": {
      "needs_background": "light"
     },
     "output_type": "display_data"
    },
    {
     "data": {
      "text/html": [
       "<div>\n",
       "<style scoped>\n",
       "    .dataframe tbody tr th:only-of-type {\n",
       "        vertical-align: middle;\n",
       "    }\n",
       "\n",
       "    .dataframe tbody tr th {\n",
       "        vertical-align: top;\n",
       "    }\n",
       "\n",
       "    .dataframe thead th {\n",
       "        text-align: right;\n",
       "    }\n",
       "</style>\n",
       "<table border=\"1\" class=\"dataframe\">\n",
       "  <thead>\n",
       "    <tr style=\"text-align: right;\">\n",
       "      <th></th>\n",
       "      <th>TCGGCTAACTTCCCTT-1</th>\n",
       "      <th>ATATCGTGCCAGACCC-1</th>\n",
       "      <th>ACGCTTAGTGTCTCTC-1</th>\n",
       "      <th>TAGTGGAACTCATACA-1</th>\n",
       "      <th>GTTATTAAATACGACC-1</th>\n",
       "      <th>AACTGGGTTCGAGCCG-1</th>\n",
       "      <th>CATGCACGTGTTACTG-1</th>\n",
       "      <th>CATTCACTGACAGCTA-1</th>\n",
       "      <th>CATGAACCTCTTATCA-1</th>\n",
       "      <th>TTAATGCGAGGTAACT-1</th>\n",
       "      <th>...</th>\n",
       "      <th>AAGATGGCACCGGACC-1</th>\n",
       "      <th>CTACAAGAAATAACCC-1</th>\n",
       "      <th>ACTATTTCCGGGCCCA-1</th>\n",
       "      <th>TTGTTTCACATCCAGG-1</th>\n",
       "      <th>CGCTGTGTGGATGTTG-1</th>\n",
       "      <th>TCAACATAGCGCCCTA-1</th>\n",
       "      <th>TACTCTTTCGTCTTCA-1</th>\n",
       "      <th>GAATAGTGCTCGATTA-1</th>\n",
       "      <th>CACATCGTGCACGCGC-1</th>\n",
       "      <th>CCCAATGAGATTTGCA-1</th>\n",
       "    </tr>\n",
       "  </thead>\n",
       "  <tbody>\n",
       "    <tr>\n",
       "      <th>cluster</th>\n",
       "      <td>5</td>\n",
       "      <td>5</td>\n",
       "      <td>4</td>\n",
       "      <td>4</td>\n",
       "      <td>4</td>\n",
       "      <td>5</td>\n",
       "      <td>5</td>\n",
       "      <td>5</td>\n",
       "      <td>4</td>\n",
       "      <td>5</td>\n",
       "      <td>...</td>\n",
       "      <td>4</td>\n",
       "      <td>4</td>\n",
       "      <td>4</td>\n",
       "      <td>4</td>\n",
       "      <td>4</td>\n",
       "      <td>4</td>\n",
       "      <td>4</td>\n",
       "      <td>4</td>\n",
       "      <td>4</td>\n",
       "      <td>4</td>\n",
       "    </tr>\n",
       "  </tbody>\n",
       "</table>\n",
       "<p>1 rows × 2264 columns</p>\n",
       "</div>"
      ],
      "text/plain": [
       "         TCGGCTAACTTCCCTT-1  ATATCGTGCCAGACCC-1  ACGCTTAGTGTCTCTC-1  \\\n",
       "cluster                   5                   5                   4   \n",
       "\n",
       "         TAGTGGAACTCATACA-1  GTTATTAAATACGACC-1  AACTGGGTTCGAGCCG-1  \\\n",
       "cluster                   4                   4                   5   \n",
       "\n",
       "         CATGCACGTGTTACTG-1  CATTCACTGACAGCTA-1  CATGAACCTCTTATCA-1  \\\n",
       "cluster                   5                   5                   4   \n",
       "\n",
       "         TTAATGCGAGGTAACT-1  ...  AAGATGGCACCGGACC-1  CTACAAGAAATAACCC-1  \\\n",
       "cluster                   5  ...                   4                   4   \n",
       "\n",
       "         ACTATTTCCGGGCCCA-1  TTGTTTCACATCCAGG-1  CGCTGTGTGGATGTTG-1  \\\n",
       "cluster                   4                   4                   4   \n",
       "\n",
       "         TCAACATAGCGCCCTA-1  TACTCTTTCGTCTTCA-1  GAATAGTGCTCGATTA-1  \\\n",
       "cluster                   4                   4                   4   \n",
       "\n",
       "         CACATCGTGCACGCGC-1  CCCAATGAGATTTGCA-1  \n",
       "cluster                   4                   4  \n",
       "\n",
       "[1 rows x 2264 columns]"
      ]
     },
     "execution_count": 7,
     "metadata": {},
     "output_type": "execute_result"
    }
   ],
   "source": [
    "show_clusters(lda2, expr_df, spot_df)"
   ]
  },
  {
   "cell_type": "code",
   "execution_count": 8,
   "id": "3ecb2473-4fe8-4a35-8f03-b080df7b2c4f",
   "metadata": {},
   "outputs": [
    {
     "name": "stdout",
     "output_type": "stream",
     "text": [
      "approximate log-likelihood = -26770524.131989\n"
     ]
    },
    {
     "data": {
      "image/png": "[encoded data removed]",
      "text/plain": [
       "<Figure size 720x720 with 1 Axes>"
      ]
     },
     "metadata": {
      "needs_background": "light"
     },
     "output_type": "display_data"
    },
    {
     "data": {
      "text/html": [
       "<div>\n",
       "<style scoped>\n",
       "    .dataframe tbody tr th:only-of-type {\n",
       "        vertical-align: middle;\n",
       "    }\n",
       "\n",
       "    .dataframe tbody tr th {\n",
       "        vertical-align: top;\n",
       "    }\n",
       "\n",
       "    .dataframe thead th {\n",
       "        text-align: right;\n",
       "    }\n",
       "</style>\n",
       "<table border=\"1\" class=\"dataframe\">\n",
       "  <thead>\n",
       "    <tr style=\"text-align: right;\">\n",
       "      <th></th>\n",
       "      <th>TCGGCTAACTTCCCTT-1</th>\n",
       "      <th>ATATCGTGCCAGACCC-1</th>\n",
       "      <th>ACGCTTAGTGTCTCTC-1</th>\n",
       "      <th>TAGTGGAACTCATACA-1</th>\n",
       "      <th>GTTATTAAATACGACC-1</th>\n",
       "      <th>AACTGGGTTCGAGCCG-1</th>\n",
       "      <th>CATGCACGTGTTACTG-1</th>\n",
       "      <th>CATTCACTGACAGCTA-1</th>\n",
       "      <th>CATGAACCTCTTATCA-1</th>\n",
       "      <th>TTAATGCGAGGTAACT-1</th>\n",
       "      <th>...</th>\n",
       "      <th>AAGATGGCACCGGACC-1</th>\n",
       "      <th>CTACAAGAAATAACCC-1</th>\n",
       "      <th>ACTATTTCCGGGCCCA-1</th>\n",
       "      <th>TTGTTTCACATCCAGG-1</th>\n",
       "      <th>CGCTGTGTGGATGTTG-1</th>\n",
       "      <th>TCAACATAGCGCCCTA-1</th>\n",
       "      <th>TACTCTTTCGTCTTCA-1</th>\n",
       "      <th>GAATAGTGCTCGATTA-1</th>\n",
       "      <th>CACATCGTGCACGCGC-1</th>\n",
       "      <th>CCCAATGAGATTTGCA-1</th>\n",
       "    </tr>\n",
       "  </thead>\n",
       "  <tbody>\n",
       "    <tr>\n",
       "      <th>cluster</th>\n",
       "      <td>1</td>\n",
       "      <td>1</td>\n",
       "      <td>3</td>\n",
       "      <td>3</td>\n",
       "      <td>3</td>\n",
       "      <td>1</td>\n",
       "      <td>1</td>\n",
       "      <td>1</td>\n",
       "      <td>3</td>\n",
       "      <td>1</td>\n",
       "      <td>...</td>\n",
       "      <td>3</td>\n",
       "      <td>3</td>\n",
       "      <td>3</td>\n",
       "      <td>3</td>\n",
       "      <td>3</td>\n",
       "      <td>3</td>\n",
       "      <td>3</td>\n",
       "      <td>3</td>\n",
       "      <td>3</td>\n",
       "      <td>3</td>\n",
       "    </tr>\n",
       "  </tbody>\n",
       "</table>\n",
       "<p>1 rows × 2264 columns</p>\n",
       "</div>"
      ],
      "text/plain": [
       "         TCGGCTAACTTCCCTT-1  ATATCGTGCCAGACCC-1  ACGCTTAGTGTCTCTC-1  \\\n",
       "cluster                   1                   1                   3   \n",
       "\n",
       "         TAGTGGAACTCATACA-1  GTTATTAAATACGACC-1  AACTGGGTTCGAGCCG-1  \\\n",
       "cluster                   3                   3                   1   \n",
       "\n",
       "         CATGCACGTGTTACTG-1  CATTCACTGACAGCTA-1  CATGAACCTCTTATCA-1  \\\n",
       "cluster                   1                   1                   3   \n",
       "\n",
       "         TTAATGCGAGGTAACT-1  ...  AAGATGGCACCGGACC-1  CTACAAGAAATAACCC-1  \\\n",
       "cluster                   1  ...                   3                   3   \n",
       "\n",
       "         ACTATTTCCGGGCCCA-1  TTGTTTCACATCCAGG-1  CGCTGTGTGGATGTTG-1  \\\n",
       "cluster                   3                   3                   3   \n",
       "\n",
       "         TCAACATAGCGCCCTA-1  TACTCTTTCGTCTTCA-1  GAATAGTGCTCGATTA-1  \\\n",
       "cluster                   3                   3                   3   \n",
       "\n",
       "         CACATCGTGCACGCGC-1  CCCAATGAGATTTGCA-1  \n",
       "cluster                   3                   3  \n",
       "\n",
       "[1 rows x 2264 columns]"
      ]
     },
     "execution_count": 8,
     "metadata": {},
     "output_type": "execute_result"
    }
   ],
   "source": [
    "show_clusters(lda3, expr_df, spot_df)"
   ]
  },
  {
   "cell_type": "markdown",
   "id": "a4058bfa-1ed3-478c-8f5a-6749284c1238",
   "metadata": {},
   "source": [
    "# 使用PyMC3"
   ]
  },
  {
   "cell_type": "code",
   "execution_count": 16,
   "id": "1ccb276d-65dd-4afc-9fba-b63304cce273",
   "metadata": {},
   "outputs": [],
   "source": [
    "import pymc3 as pm"
   ]
  },
  {
   "cell_type": "code",
   "execution_count": 17,
   "id": "17b4c596-46f6-451d-b377-c4db0ca9ac80",
   "metadata": {},
   "outputs": [],
   "source": [
    "exprData = pd.read_csv('Brain-expr_matrix-smallData.txt', index_col = 0, sep = '\\t')\n",
    "genes = exprData.index.tolist()"
   ]
  },
  {
   "cell_type": "code",
   "execution_count": 46,
   "id": "c20bbed2-ca0d-4150-94ed-13f9f43e8ae7",
   "metadata": {},
   "outputs": [],
   "source": [
    "gene_idx = dict(zip(genes, range(len(genes))))\n",
    "exprDoc_idx = [[i for i in range(exprData.shape[0]) for k in range(exprData.iloc[i,j])] for j in range(exprData.shape[1])]"
   ]
  },
  {
   "cell_type": "code",
   "execution_count": 81,
   "id": "80f56251-31ec-47bf-9c43-13c4af534763",
   "metadata": {
    "tags": []
   },
   "outputs": [
    {
     "name": "stderr",
     "output_type": "stream",
     "text": [
      "<ipython-input-81-6f465efc4d8a>:18: FutureWarning: In v4.0, pm.sample will return an `arviz.InferenceData` object instead of a `MultiTrace` by default. You can pass return_inferencedata=True or return_inferencedata=False to be safe and silence this warning.\n",
      "  trace = pm.sample(2000)\n",
      "Multiprocess sampling (4 chains in 4 jobs)\n",
      "CompoundStep\n",
      ">NUTS: [betas, thetas]\n",
      ">BinaryGibbsMetropolis: [z_d0, z_d1, z_d2, z_d3, z_d4, z_d5, z_d6, z_d7, z_d8, z_d9, z_d10, z_d11, z_d12, z_d13, z_d14, z_d15, z_d16, z_d17, z_d18, z_d19]\n"
     ]
    },
    {
     "data": {
      "text/html": [
       "\n",
       "    <div>\n",
       "        <style>\n",
       "            /* Turns off some styling */\n",
       "            progress {\n",
       "                /* gets rid of default border in Firefox and Opera. */\n",
       "                border: none;\n",
       "                /* Needs to be in here for Safari polyfill so background images work as expected. */\n",
       "                background-size: auto;\n",
       "            }\n",
       "            .progress-bar-interrupted, .progress-bar-interrupted::-webkit-progress-bar {\n",
       "                background: #F44336;\n",
       "            }\n",
       "        </style>\n",
       "      <progress value='12000' class='' max='12000' style='width:300px; height:20px; vertical-align: middle;'></progress>\n",
       "      100.00% [12000/12000 16:25<00:00 Sampling 4 chains, 0 divergences]\n",
       "    </div>\n",
       "    "
      ],
      "text/plain": [
       "<IPython.core.display.HTML object>"
      ]
     },
     "metadata": {},
     "output_type": "display_data"
    },
    {
     "name": "stderr",
     "output_type": "stream",
     "text": [
      "Sampling 4 chains for 1_000 tune and 2_000 draw iterations (4_000 + 8_000 draws total) took 986 seconds.\n",
      "The estimated number of effective samples is smaller than 200 for some parameters.\n"
     ]
    }
   ],
   "source": [
    "## ----- 3.initialize the hyper-parameters -----\n",
    "batch_size = exprData.shape[1]\n",
    "n_clusters = 2\n",
    "n_gene = len(genes)\n",
    "length_docs = [len(doc) for doc in exprDoc_idx]\n",
    "alpha = np.ones((batch_size, n_clusters))\n",
    "beta = np.ones((n_clusters, n_gene))\n",
    "\n",
    "\n",
    "## ----- 4.construct the LDA model and perform reference and learning\n",
    "with pm.Model() as model:\n",
    "    \n",
    "    thetas = pm.distributions.Dirichlet('thetas', a=alpha, shape=(batch_size, n_clusters))    # Spot-cluster (document-topic) distribution (Dirichlet)\n",
    "    betas = pm.distributions.Dirichlet('betas', a=beta, shape=(n_clusters, n_gene))     # Cluster-gene (topic-word) distribution (Dirichlet)\n",
    "    zs = [pm.Categorical(\"z_d{}\".format(d), p=thetas[d], shape=length_docs[d]) for d in range(batch_size)]         # Gene-cluster (word-topic) assignment (Categorical)\n",
    "    ws = [pm.Categorical(\"w_{}_{}\".format(d,i), p=betas[zs[d][i]], observed=exprDoc_idx[d][i]) for d in range(batch_size) for i in range(length_docs[d])]         # Observed gene (word) (Categorical)\n",
    "    \n",
    "    trace = pm.sample(2000)\n",
    "    # inference and learning\n",
    "    #"
   ]
  },
  {
   "cell_type": "code",
   "execution_count": 82,
   "id": "094e80a8-ca3a-448b-b21d-351903d954b7",
   "metadata": {},
   "outputs": [
    {
     "data": {
      "text/plain": [
       "array([1, 1, 0, 0, 1, 1, 1, 1, 0, 0, 0, 1, 1, 1, 0, 0, 1, 1, 0, 0])"
      ]
     },
     "execution_count": 82,
     "metadata": {},
     "output_type": "execute_result"
    }
   ],
   "source": [
    "trace[\"thetas\"].sum(axis=0).argmax(axis=1)"
   ]
  },
  {
   "cell_type": "code",
   "execution_count": 83,
   "id": "c48159c8-6e9b-4d67-8b12-644b431855af",
   "metadata": {},
   "outputs": [
    {
     "data": {
      "text/html": [
       "<div>\n",
       "<style scoped>\n",
       "    .dataframe tbody tr th:only-of-type {\n",
       "        vertical-align: middle;\n",
       "    }\n",
       "\n",
       "    .dataframe tbody tr th {\n",
       "        vertical-align: top;\n",
       "    }\n",
       "\n",
       "    .dataframe thead th {\n",
       "        text-align: right;\n",
       "    }\n",
       "</style>\n",
       "<table border=\"1\" class=\"dataframe\">\n",
       "  <thead>\n",
       "    <tr style=\"text-align: right;\">\n",
       "      <th></th>\n",
       "      <th>AACGTCAGACTAGTGG-1</th>\n",
       "      <th>AAGGCGCGTAAAGCTT-1</th>\n",
       "      <th>AATGACTGTCAGCCGG-1</th>\n",
       "      <th>ACACCTTAAGTAGGGC-1</th>\n",
       "      <th>ACTACCAGCTCTCTGG-1</th>\n",
       "      <th>AGTCGGCCCAAACGAC-1</th>\n",
       "      <th>ATCTTGACCTGCAACG-1</th>\n",
       "      <th>ATTCCTCCGCCAGTGC-1</th>\n",
       "      <th>CAGATACTAACATAGT-1</th>\n",
       "      <th>CGCTGTGACGCCGCAC-1</th>\n",
       "      <th>GAATCGACATGGTCAC-1</th>\n",
       "      <th>GCAAGTGCACAGAGAA-1</th>\n",
       "      <th>GCTCTATGTTACGTGC-1</th>\n",
       "      <th>GGAGAAGTCATTGGCA-1</th>\n",
       "      <th>TATTTGTTACCCTTTA-1</th>\n",
       "      <th>TCACGGTCATCGCACA-1</th>\n",
       "      <th>TCTAGCATCTTCGATG-1</th>\n",
       "      <th>TGGCCGTATATTGACC-1</th>\n",
       "      <th>TTCGACGGGAAGGGCG-1</th>\n",
       "      <th>TTCGCACTCGCGTGCT-1</th>\n",
       "    </tr>\n",
       "  </thead>\n",
       "  <tbody>\n",
       "    <tr>\n",
       "      <th>clusters</th>\n",
       "      <td>1</td>\n",
       "      <td>1</td>\n",
       "      <td>0</td>\n",
       "      <td>0</td>\n",
       "      <td>1</td>\n",
       "      <td>1</td>\n",
       "      <td>1</td>\n",
       "      <td>1</td>\n",
       "      <td>0</td>\n",
       "      <td>0</td>\n",
       "      <td>0</td>\n",
       "      <td>1</td>\n",
       "      <td>1</td>\n",
       "      <td>1</td>\n",
       "      <td>0</td>\n",
       "      <td>0</td>\n",
       "      <td>1</td>\n",
       "      <td>1</td>\n",
       "      <td>0</td>\n",
       "      <td>0</td>\n",
       "    </tr>\n",
       "  </tbody>\n",
       "</table>\n",
       "</div>"
      ],
      "text/plain": [
       "          AACGTCAGACTAGTGG-1  AAGGCGCGTAAAGCTT-1  AATGACTGTCAGCCGG-1  \\\n",
       "clusters                   1                   1                   0   \n",
       "\n",
       "          ACACCTTAAGTAGGGC-1  ACTACCAGCTCTCTGG-1  AGTCGGCCCAAACGAC-1  \\\n",
       "clusters                   0                   1                   1   \n",
       "\n",
       "          ATCTTGACCTGCAACG-1  ATTCCTCCGCCAGTGC-1  CAGATACTAACATAGT-1  \\\n",
       "clusters                   1                   1                   0   \n",
       "\n",
       "          CGCTGTGACGCCGCAC-1  GAATCGACATGGTCAC-1  GCAAGTGCACAGAGAA-1  \\\n",
       "clusters                   0                   0                   1   \n",
       "\n",
       "          GCTCTATGTTACGTGC-1  GGAGAAGTCATTGGCA-1  TATTTGTTACCCTTTA-1  \\\n",
       "clusters                   1                   1                   0   \n",
       "\n",
       "          TCACGGTCATCGCACA-1  TCTAGCATCTTCGATG-1  TGGCCGTATATTGACC-1  \\\n",
       "clusters                   0                   1                   1   \n",
       "\n",
       "          TTCGACGGGAAGGGCG-1  TTCGCACTCGCGTGCT-1  \n",
       "clusters                   0                   0  "
      ]
     },
     "execution_count": 83,
     "metadata": {},
     "output_type": "execute_result"
    }
   ],
   "source": [
    "preds = exprData.copy()\n",
    "preds = preds.drop(preds.index[1:])\n",
    "preds.index = [\"clusters\"]\n",
    "preds.iloc[0] = trace[\"thetas\"].sum(axis=0).argmax(axis=1)\n",
    "preds"
   ]
  },
  {
   "cell_type": "code",
   "execution_count": 84,
   "id": "3275c180-59ba-47f3-97a7-1d544c91f862",
   "metadata": {},
   "outputs": [
    {
     "data": {
      "image/png": "[encoded data removed]",
      "text/plain": [
       "<Figure size 480x720 with 1 Axes>"
      ]
     },
     "metadata": {
      "needs_background": "light"
     },
     "output_type": "display_data"
    }
   ],
   "source": [
    "spotPosition = pd.read_csv('Brain-spot_position-smallData.txt', sep = '\\t')\n",
    "plt.figure(figsize=(4,6), dpi=120)\n",
    "colors = [\"blue\", \"orange\"]\n",
    "classes = np.unique(preds)\n",
    "for i, cluster in enumerate(classes):\n",
    "    idxs = np.where(preds == cluster)[1]\n",
    "    plt.plot(spotPosition.iloc[idxs, 1], spotPosition.iloc[idxs, 2], \"o\", color = colors[i], label = \"%d\"%(i))\n",
    "plt.xlabel(\"X\")\n",
    "plt.ylabel(\"Y\")\n",
    "plt.title(\"Visualization of Clustering\")\n",
    "plt.legend()\n",
    "plt.show()"
   ]
  },
  {
   "cell_type": "code",
   "execution_count": null,
   "id": "44722a7d-6fb9-481b-ab94-f1b8439e25e9",
   "metadata": {},
   "outputs": [],
   "source": []
  }
 ],
 "metadata": {
  "kernelspec": {
   "display_name": "Python 3",
   "language": "python",
   "name": "python3"
  },
  "language_info": {
   "codemirror_mode": {
    "name": "ipython",
    "version": 3
   },
   "file_extension": ".py",
   "mimetype": "text/x-python",
   "name": "python",
   "nbconvert_exporter": "python",
   "pygments_lexer": "ipython3",
   "version": "3.8.8"
  }
 },
 "nbformat": 4,
 "nbformat_minor": 5
}
