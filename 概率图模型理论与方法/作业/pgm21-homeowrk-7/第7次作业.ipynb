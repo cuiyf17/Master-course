{
 "cells": [
  {
   "cell_type": "code",
   "execution_count": 1,
   "id": "3d7e95bc-6dcd-4b60-bc95-fd133d7c8b12",
   "metadata": {},
   "outputs": [],
   "source": [
    "import os\n",
    "import numpy as np\n",
    "import pandas as pd\n",
    "from sklearn.neural_network import BernoulliRBM\n",
    "from matplotlib import pyplot as plt\n",
    "%matplotlib inline"
   ]
  },
  {
   "cell_type": "code",
   "execution_count": 2,
   "id": "695c7bad-801d-4508-9c09-77134a10ae44",
   "metadata": {},
   "outputs": [],
   "source": [
    "data = np.array(pd.read_csv(\"./A7-data.txt\", sep=\"\\t\"))"
   ]
  },
  {
   "cell_type": "code",
   "execution_count": 3,
   "id": "e3e26237-b23e-4385-a8ec-72965fec0695",
   "metadata": {},
   "outputs": [],
   "source": [
    "def sigmoid(z):\n",
    "    idx1 = np.where(z>0)\n",
    "    idx2 = np.where(z<=0)\n",
    "    ret = np.zeros(z.shape)\n",
    "    ret[idx1] = 1/(1+np.exp(-z[idx1]))\n",
    "    ret[idx2] = np.exp(z[idx2])/(1+np.exp(z[idx2]))\n",
    "    return ret"
   ]
  },
  {
   "cell_type": "code",
   "execution_count": 4,
   "id": "de5053c9-96fe-460a-9e72-f12a909ea1d4",
   "metadata": {},
   "outputs": [],
   "source": [
    "class RBM():\n",
    "    def __init__(self, n_visible=3, n_hidden=2, batch_size = None, use_ab = True):\n",
    "        self.n_visible = n_visible\n",
    "        self.n_hidden = n_hidden\n",
    "        self.visi_base = 0.2*np.ones((self.n_visible, 1))\n",
    "        self.hidd_base = np.ones((self.n_hidden, 1))\n",
    "        self.weight_base = np.array([[-1],[1]])+np.zeros((self.n_hidden, self.n_visible))\n",
    "        self.a = 0.1*np.random.rand()\n",
    "        self.b = 0.1*np.random.rand()\n",
    "        self.bias_visi = self.a*self.visi_base\n",
    "        self.bias_hidd = self.a*self.hidd_base\n",
    "        self.weights = self.b*self.weight_base\n",
    "        self.n_sample = batch_size\n",
    "        self.use_ab = use_ab\n",
    "\n",
    "    def encode(self, v):\n",
    "        # 编码，即基于v计算h的条件概率：p(h=1|v)\n",
    "        return sigmoid(self.bias_hidd + self.weights@v.T).T\n",
    "\n",
    "    def decode(self, h):\n",
    "        # 解码(重构)：即基于h计算v的条件概率：p(v=1|h)\n",
    "        return sigmoid(self.bias_visi + self.weights.T@h.T).T\n",
    "\n",
    "    def gibbs_sample(self, v0, max_iter = 1):\n",
    "        # gibbs采样, 返回max_iter采样后的v以及h值\n",
    "        v = v0\n",
    "        for i in range(max_iter):\n",
    "            ph = self.encode(v)\n",
    "            h = np.random.binomial(1, ph, (v0.shape[0], self.n_hidden))\n",
    "            pv = self.decode(h)\n",
    "            v = np.random.binomial(1, pv, (v0.shape[0], self.n_visible))\n",
    "        return v, h\n",
    "\n",
    "    def update(self, v0, v_sample, learning_rate = 0.1):\n",
    "        lr = learning_rate/v0.shape[0] \n",
    "        ph = self.encode(v0)\n",
    "        ph_sample = self.encode(v_sample)\n",
    "        delta_weights = ph.T@(v0 - v_sample)\n",
    "        delta_bias_hidd = np.sum(ph - ph_sample, axis=0, keepdims=True).T\n",
    "        delta_bias_visi = np.sum(v0 - v_sample, axis=0, keepdims=True).T\n",
    "        if(self.use_ab):\n",
    "            delta_b = np.sum(delta_weights/self.weight_base)\n",
    "            delta_a = (np.sum(delta_bias_visi/self.visi_base) + np.sum(delta_bias_hidd/self.hidd_base))/(self.n_visible + self.n_hidden)\n",
    "            self.a += lr*delta_a\n",
    "            self.b += lr*delta_b\n",
    "            self.bias_visi = self.a*self.visi_base\n",
    "            self.bias_hidd = self.a*self.hidd_base\n",
    "            self.weights = self.b*self.weight_base\n",
    "        else:\n",
    "            self.bias_visi += lr*delta_bias_visi\n",
    "            self.bias_hidd += lr*delta_bias_hidd\n",
    "            self.weights += lr*delta_weights\n",
    "            self.a = (np.sum(self.bias_visi/self.visi_base) + np.sum(self.bias_hidd/self.hidd_base))/(self.n_visible + self.n_hidden)\n",
    "            self.b = np.mean(self.weights/self.weight_base)\n",
    "        return \n",
    "    \n",
    "\n",
    "    def fit(self, data, max_step=100, max_iter=1, learning_rate=0.5):\n",
    "        if(self.n_sample is None):\n",
    "            self.n_sample = data.shape[0]\n",
    "        n_batch = data.shape[0]//self.n_sample\n",
    "        if(data.shape[0]%self.n_sample!=0):\n",
    "            n_batch += 1   \n",
    "        a_list = [self.a]\n",
    "        b_list = [self.b]\n",
    "        if(not self.use_ab):\n",
    "            a_std_list = [(np.sum((self.bias_visi/self.visi_base-self.a)**2) + np.sum((self.bias_hidd/self.hidd_base-self.a)**2))/(self.n_visible + self.n_hidden)]\n",
    "            b_std_list = [np.std(self.weights/self.weight_base)]\n",
    "        for epoch in range(max_step):\n",
    "            for i in range(n_batch):\n",
    "                batch = data[i*self.n_sample:min((i+1)*self.n_sample, data.shape[0])]\n",
    "                v_sample, h_sample = self.gibbs_sample(batch, max_iter)\n",
    "                self.update(batch, v_sample, learning_rate)\n",
    "                a_list.append(self.a)\n",
    "                b_list.append(self.b)\n",
    "                if(not self.use_ab):\n",
    "                    a_std_list.append((np.sum((self.bias_visi/self.visi_base-self.a)**2) + np.sum((self.bias_hidd/self.hidd_base-self.a)**2))/(self.n_visible + self.n_hidden))\n",
    "                    b_std_list.append(np.std(self.weights/self.weight_base))\n",
    "        if(not self.use_ab):\n",
    "            return a_list, b_list, a_std_list, b_std_list\n",
    "        else:\n",
    "            return a_list, b_list\n",
    "\n",
    "    def transform(self, v):\n",
    "        preds = self.encode(v)\n",
    "        #preds = (preds >= np.random.rand(preds.shape[0], preds.shape[1])).astype(int)\n",
    "        return preds"
   ]
  },
  {
   "cell_type": "markdown",
   "id": "ebe94f66-a5f8-45e9-938d-5d3bf4d0df79",
   "metadata": {},
   "source": [
    "# Using a&b to fix the number of parameter to 2"
   ]
  },
  {
   "cell_type": "code",
   "execution_count": 5,
   "id": "70250e41-6c94-4695-abf9-f6465989a1d9",
   "metadata": {},
   "outputs": [],
   "source": [
    "rbm = RBM(batch_size = 1000, use_ab = True)\n",
    "a_list1, b_list1 = rbm.fit(data, max_step=100, max_iter=1, learning_rate=0.05)"
   ]
  },
  {
   "cell_type": "code",
   "execution_count": 6,
   "id": "cc6e58e2-f365-44cb-9b81-148ac3d5e337",
   "metadata": {},
   "outputs": [
    {
     "data": {
      "image/png": "[encoded data removed]",
      "text/plain": [
       "<Figure size 720x504 with 1 Axes>"
      ]
     },
     "metadata": {
      "needs_background": "light"
     },
     "output_type": "display_data"
    }
   ],
   "source": [
    "plt.figure(figsize=(10,7))\n",
    "plt.plot(a_list1, color=\"red\", label=\"a\")\n",
    "plt.plot(b_list1, color=\"green\", label=\"b\")\n",
    "plt.xlabel(\"num_iterations\")\n",
    "plt.ylabel(\"parameter value\")\n",
    "plt.legend()\n",
    "plt.show()"
   ]
  },
  {
   "cell_type": "code",
   "execution_count": 7,
   "id": "dba5cf43-c259-4452-81da-4c2f7988a150",
   "metadata": {},
   "outputs": [
    {
     "name": "stdout",
     "output_type": "stream",
     "text": [
      "a = -6.631945, b = 3.806938\n",
      "rbm.bias_visi =  [-1.32638905 -1.32638905 -1.32638905]\n",
      "rbm.bias_hidd =  [-6.63194526 -6.63194526]\n",
      "rbm.weights = \n",
      "[[-3.80693811 -3.80693811 -3.80693811]\n",
      " [ 3.80693811  3.80693811  3.80693811]]\n",
      "Real prob(V1) = 0.588940, prob(V2) = 0.589840, prob(V3) = 0.589150\n",
      "gibbs sampling prob(V1) = 0.589270, prob(V2) = 0.587330, prob(V3) = 0.586600\n",
      "The inferred hidden nodes of P(H=1) =\n",
      "[[2.92710190e-05 5.59877008e-02]\n",
      " [6.50306446e-07 7.27491191e-01]\n",
      " [1.44472811e-08 9.91746818e-01]\n",
      " ...\n",
      " [6.50306446e-07 7.27491191e-01]\n",
      " [1.44472811e-08 9.91746818e-01]\n",
      " [1.44472811e-08 9.91746818e-01]]\n"
     ]
    }
   ],
   "source": [
    "rbm_ph = rbm.transform(data)\n",
    "rbm_sample = rbm.gibbs_sample(data,1)[0]\n",
    "real_prob = np.sum(data, axis=0)/data.shape[0]\n",
    "rbm_probs = np.sum(rbm_sample, axis=0)/rbm_sample.shape[0]\n",
    "print(\"a = %f, b = %f\"%(rbm.a, rbm.b))\n",
    "print(\"rbm.bias_visi = \", rbm.bias_visi.reshape(-1))\n",
    "print(\"rbm.bias_hidd = \", rbm.bias_hidd.reshape(-1))\n",
    "print(\"rbm.weights = \")\n",
    "print(rbm.weights)\n",
    "print(\"Real prob(V1) = %f, prob(V2) = %f, prob(V3) = %f\"%(real_prob[0], real_prob[1], real_prob[2]))\n",
    "print(\"gibbs sampling prob(V1) = %f, prob(V2) = %f, prob(V3) = %f\"%(rbm_probs[0], rbm_probs[1], rbm_probs[2]))\n",
    "print(\"The inferred hidden nodes of P(H=1) =\")\n",
    "print(rbm_ph )"
   ]
  },
  {
   "cell_type": "markdown",
   "id": "ac7ef7c6-a450-4b72-bda6-2fa5f34bcf01",
   "metadata": {},
   "source": [
    "# don't use a&b"
   ]
  },
  {
   "cell_type": "code",
   "execution_count": 8,
   "id": "f6e2b079-c103-47c9-ac31-9c820d59b581",
   "metadata": {},
   "outputs": [],
   "source": [
    "rbm2 = RBM(batch_size = 1000, use_ab = False)\n",
    "a_list2, b_list2, a_std_list2, b_std_list2 = rbm2.fit(data, max_step=100, max_iter=1, learning_rate=0.05)"
   ]
  },
  {
   "cell_type": "code",
   "execution_count": 9,
   "id": "9d6c7a51-cb8c-4c01-8dca-a071c87b02e2",
   "metadata": {},
   "outputs": [
    {
     "name": "stdout",
     "output_type": "stream",
     "text": [
      "rbm2.bias_visi =  [-3.1746378 -3.1679378 -3.0950878]\n",
      "rbm2.bias_hidd =  [-1.4651286   1.51243861]\n",
      "rbm2.weights = \n",
      "[[-4.74279287 -5.0625912  -5.06562189]\n",
      " [ 3.60546391  3.60425608  3.53895355]]\n",
      "Real prob(V1) = 0.588940, prob(V2) = 0.589840, prob(V3) = 0.589150\n",
      "RBM2 gibbs sampling prob(V1) = 0.592520, prob(V2) = 0.593360, prob(V3) = 0.595740\n",
      "The inferred hidden nodes of P(H=1) =\n",
      "[[1.45578888e-03 9.93640288e-01]\n",
      " [1.27430389e-05 9.99837091e-01]\n",
      " [8.04094095e-08 9.99995268e-01]\n",
      " ...\n",
      " [1.27430389e-05 9.99837091e-01]\n",
      " [8.04094095e-08 9.99995268e-01]\n",
      " [8.04094095e-08 9.99995268e-01]]\n"
     ]
    }
   ],
   "source": [
    "rbm2_ph = rbm2.transform(data)\n",
    "rbm2_sample = rbm2.gibbs_sample(data,1)[0]\n",
    "real_prob2 = np.sum(data, axis=0)/data.shape[0]\n",
    "rbm2_probs = np.sum(rbm2_sample, axis=0)/rbm2_sample.shape[0]\n",
    "#print(\"a = %f, b = %f\"%(rbm2.a, rbm2.b))\n",
    "print(\"rbm2.bias_visi = \", rbm2.bias_visi.reshape(-1))\n",
    "print(\"rbm2.bias_hidd = \", rbm2.bias_hidd.reshape(-1))\n",
    "print(\"rbm2.weights = \")\n",
    "print(rbm2.weights)\n",
    "print(\"Real prob(V1) = %f, prob(V2) = %f, prob(V3) = %f\"%(real_prob2[0], real_prob2[1], real_prob2[2]))\n",
    "print(\"RBM2 gibbs sampling prob(V1) = %f, prob(V2) = %f, prob(V3) = %f\"%(rbm2_probs[0], rbm2_probs[1], rbm2_probs[2]))\n",
    "print(\"The inferred hidden nodes of P(H=1) =\")\n",
    "print(rbm2_ph )"
   ]
  },
  {
   "cell_type": "markdown",
   "id": "da130d35-8ef4-4d9c-aa1b-21007d5e5013",
   "metadata": {},
   "source": [
    "# sklearn RBM"
   ]
  },
  {
   "cell_type": "code",
   "execution_count": 10,
   "id": "a722b08c-2690-4041-8a42-1c7370e899ef",
   "metadata": {},
   "outputs": [
    {
     "name": "stdout",
     "output_type": "stream",
     "text": [
      "sklearn_rbm.intercept_visible_ =  [0.133  0.1175 0.1401]\n",
      "sklearn_rbm.intercept_hidden_ =  [-0.00925213 -0.00945231]\n",
      "sklearn_rbm.components_ = \n",
      "[[0.19398407 0.19731675 0.18424678]\n",
      " [0.19344732 0.20447702 0.19260772]]\n",
      "Real prob(V1) = 0.588940, prob(V2) = 0.589840, prob(V3) = 0.589150\n",
      "gibbs sampling prob(V1) = 0.586770, prob(V2) = 0.586350, prob(V3) = 0.591770\n",
      "The inferred hidden nodes of P(H=1) =\n",
      "[[0.54363736 0.54566128]\n",
      " [0.59436713 0.59591482]\n",
      " [0.63790793 0.64131582]\n",
      " ...\n",
      " [0.59436713 0.59591482]\n",
      " [0.63790793 0.64131582]\n",
      " [0.63790793 0.64131582]]\n"
     ]
    }
   ],
   "source": [
    "rbm3 = BernoulliRBM(n_components=2, batch_size=1000, learning_rate=0.05, n_iter=100)\n",
    "rbm3.fit(data)\n",
    "real_prob = np.sum(data, axis=0)/data.shape[0]\n",
    "rbm3_ph = rbm3.transform(data)\n",
    "sklearn_sample = rbm3.gibbs(data)\n",
    "sklearn_probs = np.sum(sklearn_sample, axis=0)/sklearn_sample.shape[0]\n",
    "print(\"sklearn_rbm.intercept_visible_ = \", rbm3.intercept_visible_)\n",
    "print(\"sklearn_rbm.intercept_hidden_ = \", rbm3.intercept_hidden_)\n",
    "print(\"sklearn_rbm.components_ = \")\n",
    "print(rbm3.components_)\n",
    "print(\"Real prob(V1) = %f, prob(V2) = %f, prob(V3) = %f\"%(real_prob[0], real_prob[1], real_prob[2]))\n",
    "print(\"gibbs sampling prob(V1) = %f, prob(V2) = %f, prob(V3) = %f\"%(sklearn_probs[0], sklearn_probs[1], sklearn_probs[2]))\n",
    "print(\"The inferred hidden nodes of P(H=1) =\")\n",
    "print(rbm3_ph )"
   ]
  }
 ],
 "metadata": {
  "kernelspec": {
   "display_name": "Python 3 (ipykernel)",
   "language": "python",
   "name": "python3"
  },
  "language_info": {
   "codemirror_mode": {
    "name": "ipython",
    "version": 3
   },
   "file_extension": ".py",
   "mimetype": "text/x-python",
   "name": "python",
   "nbconvert_exporter": "python",
   "pygments_lexer": "ipython3",
   "version": "3.8.8"
  }
 },
 "nbformat": 4,
 "nbformat_minor": 5
}
