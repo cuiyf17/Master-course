{
 "cells": [
  {
   "cell_type": "code",
   "execution_count": 1,
   "metadata": {},
   "outputs": [],
   "source": [
    "import os\n",
    "import scipy\n",
    "import numpy as np\n",
    "import pandas as pd\n",
    "import sympy as sp\n",
    "\n",
    "from matplotlib import pyplot as plt\n",
    "\n",
    "%matplotlib inline"
   ]
  },
  {
   "attachments": {},
   "cell_type": "markdown",
   "metadata": {},
   "source": [
    "# 5.3"
   ]
  },
  {
   "cell_type": "code",
   "execution_count": 2,
   "metadata": {},
   "outputs": [],
   "source": [
    "class NormalCauchy():\n",
    "    def __init__(self, data = np.array([6.52, 8.32, 0.31, 2.82, 9.96, 0.14, 9.64])) -> None:\n",
    "        self.data = data\n",
    "        self.mean = np.mean(data)\n",
    "        self.cov = 9/7\n",
    "        self.k = 7.84654\n",
    "\n",
    "        self.probs = {\"prior\": self.prior, \"posterior\": self.posterior}\n",
    "        self.integrate_methods = {\"Riemann\": self.RiemannIntegrate, \"Trapezoidal\": self.TrapezoidalIntegrate, \"Simpson\": self.SimpsonIntegrate}\n",
    "\n",
    "    def prior(self, mu):\n",
    "        mean = self.mean\n",
    "        cov = self.cov\n",
    "        normal_part = 1/(np.sqrt(2*np.pi*cov))*np.exp(-1/2*(mu-mean)**2/cov)\n",
    "        cauchy_part = 1/np.pi*2/(4+(mu-5)**2)\n",
    "        return normal_part * cauchy_part\n",
    "    \n",
    "    def posterior(self, mu):\n",
    "        return self.k * self.prior(mu)\n",
    "    \n",
    "    def RiemannIntegrate(self, down_limit, up_limit, n=2, prob = \"prior\"):\n",
    "        delta = (up_limit - down_limit)/n\n",
    "        mus = np.arange(down_limit, up_limit, delta)\n",
    "        riemann_sum = delta*np.sum(self.probs[prob](mus))\n",
    "        return riemann_sum\n",
    "    \n",
    "    def TrapezoidalIntegrate(self, down_limit, up_limit, n=2, prob = \"prior\"):\n",
    "        delta = (up_limit - down_limit)/n\n",
    "        mus = np.arange(down_limit, up_limit, delta)\n",
    "        trapezoidal_sum = delta*np.sum(self.probs[prob](mus)) + delta/2*(-self.probs[prob](down_limit) + self.probs[prob](up_limit))\n",
    "        return trapezoidal_sum\n",
    "    \n",
    "    def SimpsonIntegrate(self, down_limit, up_limit, n=2, prob = \"prior\"):\n",
    "        delta = (up_limit - down_limit)/n\n",
    "        mus = np.concatenate([np.arange(down_limit, up_limit, delta), np.array([up_limit])])\n",
    "        idxs = np.arange(0, mus.shape[0], 1)\n",
    "        idx_even = np.where(idxs%2!=0)\n",
    "        idx_odd = np.where(idxs%2==0)\n",
    "        probs = self.probs[prob](mus)\n",
    "        simpson_sum = 1/3*delta*(4*np.sum(probs[idx_even]) + 2*np.sum(probs[idx_odd]) - probs[0] - probs[-1])\n",
    "        return simpson_sum\n",
    "    \n",
    "    def Integrate(self, down_limit, up_limit, n=2, prob = \"prior\", method = \"Riemann\"):\n",
    "        return self.integrate_methods[method](down_limit, up_limit, n, prob)\n",
    "    \n",
    "    def CompareIntegrates(self, down_limit, up_limit, prob = \"posterior\", epsilon = 1e-4):\n",
    "        n = 2\n",
    "        results = np.array([1, 1, 1])\n",
    "        error = 1\n",
    "        while(error > epsilon):\n",
    "            tmp_result_riemann = self.Integrate(down_limit, up_limit, n, prob, method = \"Riemann\")\n",
    "            tmp_result_trapezoidal = self.Integrate(down_limit, up_limit, n, prob, method = \"Trapezoidal\")\n",
    "            tmp_result_simpson = self.Integrate(down_limit, up_limit, n, prob, method = \"Simpson\")\n",
    "\n",
    "            tmp_results =  np.array([tmp_result_riemann, tmp_result_trapezoidal, tmp_result_simpson])\n",
    "            error = np.max(np.abs(tmp_results - results)/results)\n",
    "            results = tmp_results\n",
    "            n *= 2\n",
    "        return results"
   ]
  },
  {
   "cell_type": "code",
   "execution_count": 3,
   "metadata": {},
   "outputs": [],
   "source": [
    "data = np.array([6.52, 8.32, 0.31, 2.82, 9.96, 0.14, 9.64])"
   ]
  },
  {
   "cell_type": "code",
   "execution_count": 4,
   "metadata": {},
   "outputs": [],
   "source": [
    "normalcauchy = NormalCauchy(data)"
   ]
  },
  {
   "cell_type": "code",
   "execution_count": 5,
   "metadata": {},
   "outputs": [
    {
     "name": "stdout",
     "output_type": "stream",
     "text": [
      "比例常数k = 7.846538\n"
     ]
    }
   ],
   "source": [
    "k = 1/normalcauchy.RiemannIntegrate(-1e5, 1e5, n = 1e7, prob =\"prior\")\n",
    "print(\"比例常数k = %f\"%(k))"
   ]
  },
  {
   "cell_type": "code",
   "execution_count": 6,
   "metadata": {},
   "outputs": [
    {
     "name": "stdout",
     "output_type": "stream",
     "text": [
      "当最慢的方法收敛到0.0001的误差以内时，三种方法的结果如下：\n",
      "黎曼积分: 0.9959602686, 与0.99605的差距为0.0000897314\n",
      "梯形积分: 0.9960533589, 与0.99605的误差为0.0000033589\n",
      "辛普森积分: 0.9960546648, 与0.99605的误差为0.0000046648\n"
     ]
    }
   ],
   "source": [
    "compare_results = normalcauchy.CompareIntegrates(2, 8, prob = \"posterior\")\n",
    "print(\"当最慢的方法收敛到0.0001的误差以内时，三种方法的结果如下：\")\n",
    "print(\"黎曼积分: %.10f, 与0.99605的差距为%.10f\"%(compare_results[0], np.abs(compare_results[0]-0.99605)))\n",
    "print(\"梯形积分: %.10f, 与0.99605的误差为%.10f\"%(compare_results[1], np.abs(compare_results[1]-0.99605)))\n",
    "print(\"辛普森积分: %.10f, 与0.99605的误差为%.10f\"%(compare_results[2], np.abs(compare_results[2]-0.99605)))"
   ]
  },
  {
   "attachments": {},
   "cell_type": "markdown",
   "metadata": {},
   "source": [
    "# 5.6"
   ]
  },
  {
   "cell_type": "code",
   "execution_count": 7,
   "metadata": {},
   "outputs": [],
   "source": [
    "class NormalStutent():\n",
    "    def __init__(self, mean = 47, cov = 50/10) -> None:\n",
    "        from scipy.special import gamma\n",
    "        self.mean = mean\n",
    "        self.cov = cov\n",
    "        self.freedom = 1\n",
    "\n",
    "        self.F_gamma = gamma\n",
    "        self.probs = {\"prior\": self.prior, \"posterior\": self.posterior, \"E_mu\": self.expectation_mu, \"E_mu2\": self.expectation_mu2}\n",
    "        self.k = 1/self.RiemannIntegrate(-1e5, 1e5, n=1e8, prob = \"prior\")\n",
    "        self.roots = np.array(sp.N(sp.Matrix(self.solveHermite(5)))).astype(np.float64).reshape(-1)\n",
    "        self.weights = self.NodeWeight(5, self.roots)\n",
    "\n",
    "    def prior_normal(self, mu):\n",
    "        return 1/np.sqrt(2*np.pi*self.cov)*np.exp(-1/2*(self.mean-mu)**2/self.cov)\n",
    "\n",
    "    def prior_t(self, mu):\n",
    "        t = (mu-50)/8\n",
    "        part1 = self.F_gamma((self.freedom+1)/2)/(np.sqrt(self.freedom*np.pi)*self.F_gamma(self.freedom/2))\n",
    "        part2 = (1+t**2/self.freedom)**(-(self.freedom+1)/2)\n",
    "        return part1*part2\n",
    "\n",
    "    def prior(self, mu):\n",
    "        part1 = self.prior_normal(mu)\n",
    "        part2 = self.prior_t(mu)\n",
    "        return part1*part2\n",
    "    \n",
    "    def posterior(self, mu):\n",
    "        return self.k*self.prior(mu)\n",
    "    \n",
    "    def expectation_mu(self, mu):\n",
    "        return mu*self.posterior(mu)\n",
    "    \n",
    "    def expectation_mu2(self, mu):\n",
    "        return self.posterior(mu)*mu**2\n",
    "    \n",
    "    def RiemannIntegrate(self, down_limit, up_limit, n=2, prob = \"prior\"):\n",
    "        delta = (up_limit - down_limit)/n\n",
    "        mus = np.arange(down_limit, up_limit, delta)\n",
    "        riemann_sum = delta*np.sum(self.probs[prob](mus))\n",
    "        return riemann_sum\n",
    "\n",
    "    def Expectation(self, n):\n",
    "        ret = None\n",
    "        if(n%2):\n",
    "            ret = 0\n",
    "        else:\n",
    "            ret = self.F_gamma(n+1)/(self.F_gamma(n/2+1)*2**(n/2))\n",
    "\n",
    "        return ret\n",
    "    \n",
    "    def symHermite(self, n):\n",
    "        x = sp.Symbol('x')\n",
    "        answer = [1, x]\n",
    "        if(n<2):\n",
    "            return answer[n]\n",
    "        for i in range(2, n+1, 1):\n",
    "            tmp = x*answer[1] - (i-1)*answer[0]\n",
    "            answer[0] = answer[1]\n",
    "            answer[1] = tmp\n",
    "\n",
    "        return x, sp.expand(answer[1])\n",
    "    \n",
    "    def get_c_hermite(self, n):\n",
    "        x, hermite = self.symHermite(n)\n",
    "        expr = sp.expand(hermite*hermite)\n",
    "        # 获取指数项及其系数\n",
    "        terms = expr.as_ordered_terms()\n",
    "        degrees = [term.as_powers_dict() for term in terms]\n",
    "\n",
    "        expectation = 0\n",
    "        for dict_ in degrees:\n",
    "            coef_ = 1\n",
    "            degree = 0\n",
    "            for item in dict_.items():\n",
    "                if(item[0].is_constant()):\n",
    "                    coef_ = item[0]\n",
    "                else:\n",
    "                    degree = item[1]\n",
    "            expectation += np.float64(coef_)*self.Expectation(int(degree))\n",
    "        c = 1/np.sqrt(expectation*np.sqrt(2*np.pi))\n",
    "\n",
    "        return expectation, c\n",
    "        \n",
    "    def Hermite(self, n, x):\n",
    "        answer = np.array([np.ones(x.shape), x])\n",
    "        if(n<2):\n",
    "            return answer[n]\n",
    "        for i in range(2, n+1, 1):\n",
    "            tmp = x*answer[1] - (i-1)*answer[0]\n",
    "            answer[0] = answer[1]\n",
    "            answer[1] = tmp\n",
    "\n",
    "        return answer[1]\n",
    "    \n",
    "    def gradHermite(self, n, xs):\n",
    "        x, hermite = self.symHermite(n)\n",
    "        grad_hermite = sp.diff(hermite, x)\n",
    "        answers = [grad_hermite.evalf(subs={x: x_}) for x_ in xs]\n",
    "        answers = np.array(answers).astype(np.float64)\n",
    "        return answers\n",
    "    \n",
    "    def plot_Hermite(self, n, down_limit, up_limit, delta = 1e-3):\n",
    "        X = np.linspace(down_limit, up_limit, int((up_limit-down_limit)/delta))\n",
    "        Y = self.Hermite(n, X)\n",
    "        fig = plt.figure(figsize = (15, 8))\n",
    "        plt.plot(X, Y, '-', label = \"Hermite(%d, x) curve\"%(n))\n",
    "        plt.legend()\n",
    "        plt.grid(True)\n",
    "        plt.xlabel(\"x\")\n",
    "        plt.ylabel(\"H(%d, x)\"%(n))\n",
    "        fig.show()\n",
    "\n",
    "    def solveHermite(self, n):\n",
    "        x, hermite_expression = self.symHermite(n)\n",
    "        answer = sp.solve(hermite_expression, x)\n",
    "        return answer\n",
    "    \n",
    "    def NodeWeight(self, n, nodes):\n",
    "        _, c_plus = self.get_c_hermite(n+1)\n",
    "        _, c = self.get_c_hermite(n)\n",
    "        weights = -c_plus/(c*c_plus*self.Hermite(6, nodes)*c*self.gradHermite(5, nodes))\n",
    "        return weights\n",
    "    \n"
   ]
  },
  {
   "cell_type": "code",
   "execution_count": 8,
   "metadata": {},
   "outputs": [],
   "source": [
    "ns = NormalStutent(47, 50/10)"
   ]
  },
  {
   "cell_type": "code",
   "execution_count": 9,
   "metadata": {},
   "outputs": [
    {
     "name": "stdout",
     "output_type": "stream",
     "text": [
      "期望为: 120.000000, 因此c = 0.057659\n"
     ]
    }
   ],
   "source": [
    "expectation, c = ns.get_c_hermite(5)\n",
    "print(\"期望为: %f, 因此c = %f\"%(expectation, c))"
   ]
  },
  {
   "cell_type": "code",
   "execution_count": 10,
   "metadata": {},
   "outputs": [
    {
     "data": {
      "image/png": "[encoded data removed]",
      "text/plain": [
       "<Figure size 1080x576 with 1 Axes>"
      ]
     },
     "metadata": {
      "needs_background": "light"
     },
     "output_type": "display_data"
    }
   ],
   "source": [
    "ns.plot_Hermite(5, -3, 3)"
   ]
  },
  {
   "cell_type": "code",
   "execution_count": 11,
   "metadata": {},
   "outputs": [
    {
     "name": "stdout",
     "output_type": "stream",
     "text": [
      "x**5 - 10*x**3 + 15*x 的解为:\n",
      "0, -sqrt(5 - sqrt(10)), sqrt(5 - sqrt(10)), -sqrt(sqrt(10) + 5), sqrt(sqrt(10) + 5), \n",
      "具体数值为:\n",
      "0.0, -1.355626179974266, 1.355626179974266, -2.8569700138728056, 2.8569700138728056, "
     ]
    }
   ],
   "source": [
    "roots = ns.solveHermite(5)\n",
    "N_roots = np.array(sp.N(sp.Matrix(roots))).astype(np.float64).reshape(-1)\n",
    "print(ns.symHermite(5)[1], \"的解为:\")\n",
    "for root in roots:\n",
    "    print(root, end=\", \")\n",
    "print()\n",
    "print(\"具体数值为:\")\n",
    "for root in N_roots:\n",
    "    print(root, end=\", \")"
   ]
  },
  {
   "cell_type": "code",
   "execution_count": 12,
   "metadata": {},
   "outputs": [
    {
     "name": "stdout",
     "output_type": "stream",
     "text": [
      "[1.33686841 0.55666179 0.55666179 0.02821815 0.02821815]\n"
     ]
    },
    {
     "data": {
      "image/png": "[encoded data removed]",
      "text/plain": [
       "<Figure size 720x360 with 1 Axes>"
      ]
     },
     "metadata": {
      "needs_background": "light"
     },
     "output_type": "display_data"
    }
   ],
   "source": [
    "weights = ns.NodeWeight(5, N_roots)\n",
    "print(weights)\n",
    "\n",
    "fig = plt.figure(figsize=(10,5))\n",
    "plt.plot(N_roots, weights, \"o\")\n",
    "plt.grid(True)\n",
    "fig.show()\n"
   ]
  },
  {
   "cell_type": "code",
   "execution_count": 13,
   "metadata": {},
   "outputs": [
    {
     "name": "stdout",
     "output_type": "stream",
     "text": [
      "归一化常数为3.715349, mu的期望方差为4.532931\n"
     ]
    }
   ],
   "source": [
    "k = 1/ns.RiemannIntegrate(-1e4, 1e4, n=1e7, prob = \"prior\")\n",
    "posterior_var = ns.RiemannIntegrate(-1e4, 1e4, n=1e7, prob = \"E_mu2\") - (ns.RiemannIntegrate(-1e4, 1e4, n=1e7, prob = \"E_mu\"))**2\n",
    "print(\"归一化常数为%f, mu的期望方差为%f\"%(k, posterior_var))"
   ]
  },
  {
   "cell_type": "code",
   "execution_count": null,
   "metadata": {},
   "outputs": [],
   "source": []
  }
 ],
 "metadata": {
  "kernelspec": {
   "display_name": "base",
   "language": "python",
   "name": "python3"
  },
  "language_info": {
   "codemirror_mode": {
    "name": "ipython",
    "version": 3
   },
   "file_extension": ".py",
   "mimetype": "text/x-python",
   "name": "python",
   "nbconvert_exporter": "python",
   "pygments_lexer": "ipython3",
   "version": "3.8.8"
  },
  "orig_nbformat": 4
 },
 "nbformat": 4,
 "nbformat_minor": 2
}
