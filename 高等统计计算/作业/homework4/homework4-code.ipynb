{
 "cells": [
  {
   "cell_type": "code",
   "execution_count": 1,
   "metadata": {},
   "outputs": [],
   "source": [
    "import os\n",
    "import scipy\n",
    "import numpy as np\n",
    "import pandas as pd\n",
    "import sympy as sp\n",
    "import seaborn as sns\n",
    "\n",
    "from matplotlib import pyplot as plt\n",
    "\n",
    "%matplotlib inline"
   ]
  },
  {
   "attachments": {},
   "cell_type": "markdown",
   "metadata": {},
   "source": [
    "# 6.3"
   ]
  },
  {
   "cell_type": "code",
   "execution_count": 2,
   "metadata": {},
   "outputs": [],
   "source": [
    "class ExpDistribution():\n",
    "    def __init__(self, alpha = 3, beta = 3) -> None:\n",
    "        self.alpha = alpha\n",
    "        self.beta = beta\n",
    "\n",
    "        self.x = sp.Symbol(\"x\")\n",
    "        self.expr = sp.exp(-sp.Abs(self.x)**self.alpha/self.beta)\n",
    "        self.k = np.float64(1/sp.integrate(self.expr, (self.x, -sp.oo, sp.oo)))\n",
    "        self.var = sp.integrate(self.x**2*self.k*self.expr, (self.x, -sp.oo, sp.oo))\n",
    "\n",
    "    def prob(self, x):\n",
    "        return self.k*np.exp(-np.abs(x)**self.alpha/self.beta)\n",
    "    \n",
    "    def normal(self, x, mu = 0, cov = 1):\n",
    "        return 1/np.sqrt(2*np.pi*cov)*np.exp(-1/2*(x-mu)**2/cov)\n",
    "    \n",
    "    def ImportanceSampling_stdnorm(self, sample_size = 10000, seed = 1024):\n",
    "        np.random.seed(seed)\n",
    "        from numpy.random import default_rng\n",
    "        rng = default_rng(seed = seed)\n",
    "        samples = rng.normal(0, 1, size=sample_size)\n",
    "        weight = self.prob(samples)/self.normal(samples)\n",
    "        weight = weight/np.sum(weight)\n",
    "        var = np.sum(weight*samples**2)\n",
    "\n",
    "        return var\n",
    "    \n",
    "    def RejectionSampling_stdnorm(self, sample_size = 10000, seed = 1024):\n",
    "        np.random.seed(seed)\n",
    "        X = np.arange(-10, 10, 1e-2)\n",
    "        Y_prob = self.prob(X)\n",
    "        Y_norm = self.normal(X)\n",
    "        scale = 1\n",
    "        while(np.any((Y_prob - scale*Y_norm)>0)):\n",
    "            scale += 0.01\n",
    "        from numpy.random import default_rng\n",
    "        rng = default_rng(seed = seed)\n",
    "        count = 0\n",
    "        samples = []\n",
    "        while(count<sample_size):\n",
    "            tmp_samples = rng.normal(0, 1, size=sample_size-count)\n",
    "            prob = self.prob(tmp_samples)\n",
    "            norm = scale*self.normal(tmp_samples)\n",
    "            values = rng.uniform(0, 1, sample_size-count)\n",
    "            values = values*norm\n",
    "            idx = np.where(values <= prob)\n",
    "            samples.append(tmp_samples[idx])\n",
    "            count += tmp_samples[idx].shape[0]\n",
    "        samples = np.concatenate(samples)\n",
    "        var = np.mean(samples**2)\n",
    "\n",
    "        return var\n",
    "    \n",
    "    def PhilippeRobertMethod_stdnorm(self, sample_size = 10000, seed = 1024):\n",
    "        np.random.seed(seed)\n",
    "        from numpy.random import default_rng\n",
    "        rng = default_rng(seed = seed)\n",
    "        samples = rng.normal(0, 1, size=sample_size)\n",
    "        sorted_samples = np.sort(samples)\n",
    "\n",
    "        delta_xs = sorted_samples[1:] - sorted_samples[:-1]\n",
    "        q_xs = self.prob(sorted_samples[:-1])\n",
    "        hs = sorted_samples[:-1]**2\n",
    "        factor1 = np.sum(delta_xs*hs*q_xs)\n",
    "        factor2 = np.sum(delta_xs*q_xs)\n",
    "\n",
    "        return factor1/factor2\n",
    "    \n",
    "    def CompareMethods(self, sample_size = 10000):\n",
    "        names = [\"Importance Sampling\", \"Rejection Sampling\", \"Philippe Robert Sampling\"]\n",
    "        results = [[] for name in names]\n",
    "        for seed in range(1024):\n",
    "            results[0].append(self.ImportanceSampling_stdnorm(sample_size, seed))\n",
    "            results[1].append(self.RejectionSampling_stdnorm(sample_size, seed))\n",
    "            results[2].append(self.PhilippeRobertMethod_stdnorm(sample_size, seed))\n",
    "        results = np.array(results)\n",
    "\n",
    "        fig = plt.figure(figsize = (10, 5))\n",
    "        plt.boxplot(results.T)\n",
    "        plt.xticks(range(1, len(names) + 1), names)\n",
    "        plt.grid(True)\n",
    "        fig.show()"
   ]
  },
  {
   "cell_type": "code",
   "execution_count": 3,
   "metadata": {},
   "outputs": [],
   "source": [
    "ed = ExpDistribution(alpha = 3, beta = 3)"
   ]
  },
  {
   "cell_type": "code",
   "execution_count": 4,
   "metadata": {},
   "outputs": [
    {
     "data": {
      "text/plain": [
       "0.7751669496314346"
      ]
     },
     "execution_count": 4,
     "metadata": {},
     "output_type": "execute_result"
    }
   ],
   "source": [
    "ed.ImportanceSampling_stdnorm(sample_size = 10000)"
   ]
  },
  {
   "cell_type": "code",
   "execution_count": 5,
   "metadata": {},
   "outputs": [
    {
     "data": {
      "text/plain": [
       "0.7720989696323239"
      ]
     },
     "execution_count": 5,
     "metadata": {},
     "output_type": "execute_result"
    }
   ],
   "source": [
    "ed.RejectionSampling_stdnorm(sample_size = 10000)"
   ]
  },
  {
   "cell_type": "code",
   "execution_count": 6,
   "metadata": {},
   "outputs": [
    {
     "data": {
      "text/plain": [
       "0.776472331075688"
      ]
     },
     "execution_count": 6,
     "metadata": {},
     "output_type": "execute_result"
    }
   ],
   "source": [
    "ed.PhilippeRobertMethod_stdnorm(sample_size = 10000)"
   ]
  },
  {
   "cell_type": "code",
   "execution_count": 7,
   "metadata": {},
   "outputs": [
    {
     "data": {
      "image/png": "[encoded data removed]",
      "text/plain": [
       "<Figure size 720x360 with 1 Axes>"
      ]
     },
     "metadata": {
      "needs_background": "light"
     },
     "output_type": "display_data"
    }
   ],
   "source": [
    "ed.CompareMethods(sample_size = 10000)"
   ]
  },
  {
   "attachments": {},
   "cell_type": "markdown",
   "metadata": {},
   "source": [
    "# 6.6"
   ]
  },
  {
   "cell_type": "code",
   "execution_count": 8,
   "metadata": {},
   "outputs": [],
   "source": [
    "class Poisson():\n",
    "    def __init__(self, num_data = 25, lamda = 2, alpha = 0.05, Z_rej = 1.645, lamda_q = 2.4653) -> None:\n",
    "        from scipy.special import gamma\n",
    "        from scipy.stats import poisson\n",
    "        self.num_data = num_data\n",
    "        self.lamda = lamda\n",
    "        self.alpha = alpha\n",
    "        self.Z_rej = Z_rej\n",
    "        self.lamda_q = lamda_q\n",
    "\n",
    "        self.F_gamma = gamma\n",
    "        self.poisson_pdf = poisson.pmf\n",
    "\n",
    "    def prob(self, data, lamda):\n",
    "        return np.exp(-lamda)*(lamda**data)/self.F_gamma(lamda + 1)\n",
    "\n",
    "    def Z_value(self, mean, lamda = 2, num_data = 25):\n",
    "        return (mean-lamda)/np.sqrt(lamda/num_data)\n",
    "    \n",
    "    def uniform_2_poisson(self, u, lamda):\n",
    "        x = np.zeros(u.shape)\n",
    "        P = np.exp(-lamda)*np.ones(x.shape)\n",
    "        S = P\n",
    "\n",
    "        idx = np.where(u > S)\n",
    "        x[idx] += 1\n",
    "        P = lamda*P/self.F_gamma(x+1)\n",
    "        S = S + P\n",
    "        while(np.any(u > S)):\n",
    "            idx = np.where(u > S)\n",
    "            x[idx] += 1\n",
    "            P[idx] = P[idx]*lamda/(x[idx])\n",
    "            S[idx] = S[idx] + P[idx]\n",
    "            \n",
    "        return x\n",
    "    \n",
    "    def StandardSampling(self, lamda, num_iterations = 1000, seed = 1024):\n",
    "        np.random.seed(seed)\n",
    "        from numpy.random import default_rng\n",
    "        rng = default_rng(seed = seed)\n",
    "\n",
    "        sample = rng.poisson(lamda, size = (num_iterations, self.num_data))\n",
    "        mean = np.mean(sample, axis=1)\n",
    "        z = self.Z_value(mean)\n",
    "        count = np.where(z >= self.Z_rej)[0].shape[0]\n",
    "\n",
    "        return count/num_iterations\n",
    "    \n",
    "    def AntitheticSampling(self, lamda, num_iterations = 1000, seed = 1024):\n",
    "        np.random.seed(seed)\n",
    "        from numpy.random import default_rng\n",
    "        rng = default_rng(seed = seed)\n",
    "\n",
    "        uniform_sample = rng.uniform(0, 1, size = (num_iterations, self.num_data))\n",
    "        sample1 = self.uniform_2_poisson(uniform_sample, lamda)\n",
    "        sample2 = self.uniform_2_poisson(1 - uniform_sample, lamda)\n",
    "        mean1 = np.mean(sample1, axis=1)\n",
    "        mean2 = np.mean(sample2, axis=1)\n",
    "        z1 = self.Z_value(mean1)\n",
    "        z2 = self.Z_value(mean2)\n",
    "        count1 = np.where(z1 >= self.Z_rej)[0].shape[0]\n",
    "        count2 = np.where(z2 >= self.Z_rej)[0].shape[0]\n",
    "\n",
    "        value = (count1 + count2)/(2*num_iterations)\n",
    "\n",
    "        return value\n",
    "    \n",
    "    def ImportanceSampling(self, lamda, num_iterations = 1000, seed = 1024, standard_weight = False):\n",
    "        np.random.seed(seed)\n",
    "        from numpy.random import default_rng\n",
    "        rng = default_rng(seed = seed)\n",
    "\n",
    "        flag = np.zeros(num_iterations)\n",
    "        sample = rng.poisson(self.lamda_q, size = (num_iterations, self.num_data))\n",
    "        weight = self.prob(sample, lamda)/self.prob(sample, self.lamda_q)\n",
    "        if(standard_weight):\n",
    "            weight = weight/np.sum(weight, axis=1, keepdims=True)\n",
    "            mean = np.sum(sample*weight, axis=1)\n",
    "            z = self.Z_value(mean)\n",
    "            idx = np.where(z >= self.Z_rej)\n",
    "            flag[idx] = 1\n",
    "            count = np.sum(flag[idx])\n",
    "        else:\n",
    "            mean = np.mean(sample*weight, axis=1)/np.mean(weight, axis = 1)\n",
    "            z = self.Z_value(mean)\n",
    "            idx = np.where(z >= self.Z_rej)\n",
    "            flag[idx] = 1\n",
    "            count = np.sum(flag[idx])\n",
    "\n",
    "        return count/num_iterations\n",
    "    \n",
    "    def compare(self, lamda, num_iterations = 100):\n",
    "        names = [\"Standard Sampling\", \"Antithetic Sampling\", \"Importance Sampling\", \"Importance Sampling (Standard Weight)\"]\n",
    "        grade = [\"Lb\", \"Mean\", \"Ub\", \"Sd\"]\n",
    "        result = [[] for name in names]\n",
    "        for seed in range(num_iterations):\n",
    "            result[0].append(self.StandardSampling(lamda,1000, seed))\n",
    "            result[1].append(self.AntitheticSampling(lamda, 1000, seed))\n",
    "            result[2].append(self.ImportanceSampling(lamda, 1000, seed))\n",
    "            result[3].append(self.ImportanceSampling(lamda, 1000, seed, standard_weight = True))\n",
    "        #result[4] = result[2] + \n",
    "        ret = [[]for name in names]\n",
    "        for i, item in enumerate(result):\n",
    "            ret[i].append(np.quantile(item, 0.025))\n",
    "            ret[i].append(np.mean(item))\n",
    "            ret[i].append(np.quantile(item, 0.975))\n",
    "            ret[i].append(np.std(item))\n",
    "        ret = pd.DataFrame(ret)\n",
    "        ret.columns = grade\n",
    "        ret.index = names\n",
    "        return ret\n",
    "    \n",
    "    def plotResults(self, down_lamda=2.2, up_lamda=4):\n",
    "        tables = None\n",
    "        names = [\"Standard Sampling\", \"Antithetic Sampling\", \"Importance Sampling\", \"Importance Sampling (Standard Weight)\"]\n",
    "        colors = [\"red\", \"green\", \"blue\", \"orange\", \"black\"]\n",
    "        tmp_lamdas = np.linspace(down_lamda, up_lamda, 20)\n",
    "        for lamda in tmp_lamdas:\n",
    "            tmp = self.compare(lamda)\n",
    "            if(tables is None):\n",
    "                tables = np.array(tmp.iloc[:, 2]).reshape(-1,1)\n",
    "            else:\n",
    "                tables = np.concatenate([tables, np.array(tmp.iloc[:, 2]).reshape(-1,1)], axis=1)\n",
    "        \n",
    "        plt.figure(figsize=(10,5))\n",
    "        for i, name in enumerate(names):\n",
    "            plt.plot(tmp_lamdas, tables[i], \"-o\", alpha = 0.5, color = colors[i], label=names[i])\n",
    "        plt.legend()\n",
    "        plt.xlabel(\"lamda\")\n",
    "        plt.ylabel(\"power\")\n",
    "        plt.show()\n"
   ]
  },
  {
   "cell_type": "code",
   "execution_count": 9,
   "metadata": {},
   "outputs": [],
   "source": [
    "poisson = Poisson(num_data = 25, lamda = 2, alpha = 0.05, Z_rej = 1.645, lamda_q = 2.4653)"
   ]
  },
  {
   "cell_type": "code",
   "execution_count": 10,
   "metadata": {},
   "outputs": [
    {
     "data": {
      "text/html": [
       "<div>\n",
       "<style scoped>\n",
       "    .dataframe tbody tr th:only-of-type {\n",
       "        vertical-align: middle;\n",
       "    }\n",
       "\n",
       "    .dataframe tbody tr th {\n",
       "        vertical-align: top;\n",
       "    }\n",
       "\n",
       "    .dataframe thead th {\n",
       "        text-align: right;\n",
       "    }\n",
       "</style>\n",
       "<table border=\"1\" class=\"dataframe\">\n",
       "  <thead>\n",
       "    <tr style=\"text-align: right;\">\n",
       "      <th></th>\n",
       "      <th>Lb</th>\n",
       "      <th>Mean</th>\n",
       "      <th>Ub</th>\n",
       "      <th>Sd</th>\n",
       "    </tr>\n",
       "  </thead>\n",
       "  <tbody>\n",
       "    <tr>\n",
       "      <th>Standard Sampling</th>\n",
       "      <td>0.039950</td>\n",
       "      <td>0.05678</td>\n",
       "      <td>0.075525</td>\n",
       "      <td>0.009290</td>\n",
       "    </tr>\n",
       "    <tr>\n",
       "      <th>Antithetic Sampling</th>\n",
       "      <td>0.046738</td>\n",
       "      <td>0.05673</td>\n",
       "      <td>0.066000</td>\n",
       "      <td>0.005177</td>\n",
       "    </tr>\n",
       "    <tr>\n",
       "      <th>Importance Sampling</th>\n",
       "      <td>0.045000</td>\n",
       "      <td>0.05990</td>\n",
       "      <td>0.074525</td>\n",
       "      <td>0.008674</td>\n",
       "    </tr>\n",
       "    <tr>\n",
       "      <th>Importance Sampling (Standard Weight)</th>\n",
       "      <td>0.045000</td>\n",
       "      <td>0.05990</td>\n",
       "      <td>0.074525</td>\n",
       "      <td>0.008674</td>\n",
       "    </tr>\n",
       "  </tbody>\n",
       "</table>\n",
       "</div>"
      ],
      "text/plain": [
       "                                             Lb     Mean        Ub        Sd\n",
       "Standard Sampling                      0.039950  0.05678  0.075525  0.009290\n",
       "Antithetic Sampling                    0.046738  0.05673  0.066000  0.005177\n",
       "Importance Sampling                    0.045000  0.05990  0.074525  0.008674\n",
       "Importance Sampling (Standard Weight)  0.045000  0.05990  0.074525  0.008674"
      ]
     },
     "execution_count": 10,
     "metadata": {},
     "output_type": "execute_result"
    }
   ],
   "source": [
    "poisson.compare(lamda=2)"
   ]
  },
  {
   "cell_type": "code",
   "execution_count": 11,
   "metadata": {},
   "outputs": [
    {
     "data": {
      "image/png": "[encoded data removed]",
      "text/plain": [
       "<Figure size 720x360 with 1 Axes>"
      ]
     },
     "metadata": {
      "needs_background": "light"
     },
     "output_type": "display_data"
    }
   ],
   "source": [
    "poisson.plotResults(2.2, 4)"
   ]
  },
  {
   "attachments": {},
   "cell_type": "markdown",
   "metadata": {},
   "source": [
    "# 6.7"
   ]
  },
  {
   "cell_type": "code",
   "execution_count": 32,
   "metadata": {},
   "outputs": [],
   "source": [
    "class Stock():\n",
    "    def __init__(self, S0 = 50, K = 52, sigma = 0.5, N = 30, r = 0.05) -> None:\n",
    "        from scipy.stats import norm\n",
    "        self.S0 = S0\n",
    "        self.K = K\n",
    "        self.sigma = sigma\n",
    "        self.N = N\n",
    "        self.r = r\n",
    "\n",
    "        self.norm_cdf = norm.cdf\n",
    "        self.norm_inv = norm.ppf\n",
    "        self.StockValueStyle = {\"Europ\": self.StockValue_europ, \"Asia\": self.StockValue_asia}\n",
    "\n",
    "    def BoxMuller(self, U):\n",
    "        np.cos(2*np.pi*U)\n",
    "\n",
    "    def StockValue_europ(self, t, S0 = 50, sigma = 0.5, r = 0.05, sample_size = np.int64(1e8), seed = 1024, variate_control = False, sample_method = \"Simple\"):\n",
    "        from numpy.random import default_rng\n",
    "        np.random.seed(seed)\n",
    "        rng = default_rng(seed = seed)\n",
    "        G = None\n",
    "        if(sample_method == \"Antithetic\"):\n",
    "            U = rng.uniform(0, 1, size = sample_size)\n",
    "            Z1, Z2 = self.norm_inv(U), self.norm_inv(1-U)\n",
    "            S1 = S0*np.exp((r - 1/2*sigma**2)*t/365 + sigma*Z1*np.sqrt(t/365))\n",
    "            S2 = S0*np.exp((r - 1/2*sigma**2)*t/365 + sigma*Z2*np.sqrt(t/365))\n",
    "            S = (S1, S2)\n",
    "        else:\n",
    "            Z = rng.normal(0, 1, size = sample_size)\n",
    "            S = S0*np.exp((r - 1/2*sigma**2)*t/365 + sigma*Z*np.sqrt(t/365))\n",
    "        \n",
    "        return S, G\n",
    "    \n",
    "    def StockValue_asia(self, T, S0 = 50, sigma = 0.5, r = 0.05, sample_size = np.int64(1e6), seed = 1024, variate_control = False, sample_method = \"Simple\"):\n",
    "        from numpy.random import default_rng\n",
    "        np.random.seed(seed)\n",
    "        rng = default_rng(seed = seed)\n",
    "        G = None\n",
    "        if(sample_method == \"Antithetic\"):\n",
    "            S1 = np.zeros((T + 1, sample_size)) + S0\n",
    "            S2 = np.zeros((T + 1, sample_size)) + S0\n",
    "            for t in range(1, T + 1, 1):\n",
    "                Ut = rng.uniform(0, 1, size = sample_size)\n",
    "                Zt1 = self.norm_inv(Ut)\n",
    "                Zt2 = self.norm_inv(1-Ut)\n",
    "                tmp1 = np.exp((r - 1/2*sigma**2)/365 + sigma*Zt1/np.sqrt(365))\n",
    "                tmp2 = np.exp((r - 1/2*sigma**2)/365 + sigma*Zt2/np.sqrt(365))\n",
    "                S1[t] = S1[t-1]*tmp1\n",
    "                S2[t] = S2[t-1]*tmp2\n",
    "            S_mean = (np.mean(S1[1:], axis=0), np.mean(S2[1:], axis=0))\n",
    "            if(variate_control):\n",
    "                G1, G2 = np.prod(S1[1:], axis=0), np.prod(S2[1:], axis=0)\n",
    "                G = (G1, G2)\n",
    "        else:\n",
    "            S = np.zeros((T + 1, sample_size)) + S0\n",
    "            for t in range(1, T + 1, 1):\n",
    "                Zt = rng.normal(0, 1, size = sample_size)\n",
    "                S[t] = S[t-1]*np.exp((r - 1/2*sigma**2)/365 + sigma*Zt/np.sqrt(365))\n",
    "            S_mean = np.mean(S[1:], axis=0)\n",
    "            if(variate_control):\n",
    "                G = np.prod(S[1:], axis=0)\n",
    "        \n",
    "        return S_mean, G\n",
    "    \n",
    "    def Theta(self, T, N, S0 = 50, K = 52, sigma = 0.5, r = 0.05):\n",
    "        c3 = 1 + 1/N\n",
    "        c2 = sigma*np.sqrt(c3*T/(365*3)*(1+1/(2*N)))\n",
    "        c1 = 1/c2*(np.log(S0/K) + c3*T/(365*2)*(r-1/2*sigma**2) + T*c3*sigma**2/(3*365)*(1+1/(2*N)))\n",
    "        theta = S0*self.norm_cdf(c1)*np.exp(-T*((1-1/N)/(2*365))*(r + c3*sigma**2/6)) - K*self.norm_cdf(c1-c2)*np.exp(-r*T/365)\n",
    "\n",
    "        return theta\n",
    "    \n",
    "    def FairPrice(self, t, S0 = 50, K = 52, sigma = 0.5, r = 0.05, option_style = \"Europ\", variate_control = False, sample_method = \"Simple\", seed = 1024):\n",
    "        S, G = self.StockValueStyle[option_style](t, S0, sigma, r, variate_control = variate_control, sample_method = sample_method, seed = seed)\n",
    "        if(sample_method == \"Antithetic\"):\n",
    "            S1, S2 = S\n",
    "            part1 = np.exp(-r*t/365)\n",
    "            part21 = (S1 - K)*((S1 > K).astype(np.float64))\n",
    "            part22 = (S2 - K)*((S2 > K).astype(np.float64))\n",
    "            A1, A2 = part1*part21, part1*part22\n",
    "            ret = 1/2*np.mean(A1) + 1/2*np.mean(A2)\n",
    "        else:\n",
    "            part1 = np.exp(-r*t/365)\n",
    "            part2 = (S - K)*((S > K).astype(np.float64))\n",
    "            A = part1*part2\n",
    "            ret = np.mean(A)\n",
    "        if(variate_control):\n",
    "            theta = self.Theta(T=t, N=t, S0 = 50, K = 52, sigma = 0.5, r = 0.05)\n",
    "            if(sample_method == \"Antithetic\"):\n",
    "                G1, G2 = G\n",
    "                part31 = (G1 - K)*((G1 > K).astype(np.float64))\n",
    "                part32 = (G2 - K)*((G2 > K).astype(np.float64))\n",
    "                Theta1, Theta2 = part1*part31, part1*part32\n",
    "                meanA1, meanA2, meanTheta1, meanTheta2 = np.mean(A1), np.mean(A2), np.mean(Theta1), np.mean(Theta2)\n",
    "                lamda1 = -np.mean(np.cov(A1, Theta1))/np.var(Theta1)\n",
    "                lamda2 = -np.mean(np.cov(A2, Theta2))/np.var(Theta2)\n",
    "                ret = 1/2*(meanA1 + lamda1*(meanTheta1 - theta)) + 1/2*(meanA2 + lamda2*(meanTheta2 - theta))\n",
    "            else:\n",
    "                G = G**(1/t)\n",
    "                part3 = (G - K)*((G > K).astype(np.float64))\n",
    "                Theta = part1*part3\n",
    "                meanA, meanTheta= np.mean(A), np.mean(Theta)\n",
    "                lamda = -np.mean(np.cov(A, Theta))/np.var(Theta)\n",
    "                ret = meanA + lamda*(meanTheta - theta)\n",
    "\n",
    "        return ret\n",
    "    \n",
    "    def Compare(self, t = 30, S0 = 50, K = 52, sigma = 0.5, r = 0.05, option_style = \"Asia\", num_iterations = 100):\n",
    "        names = [\"Simple Monte Carol\", \"Variate Control Monte Carol\", \"Antithetic Monte Carol\"]\n",
    "        variates = [False, True, False]\n",
    "        sample_methods = [\"Simple\", \"Simple\", \"Antithetic\"]\n",
    "        results = [[] for name in names]\n",
    "        for seed in range(num_iterations):\n",
    "            for i in range(len(names)):\n",
    "                tmp = self.FairPrice(t, S0, K, sigma, r, option_style, variates[i], sample_methods[i], seed)\n",
    "                results[i].append(tmp)\n",
    "        results = np.array(results)\n",
    "\n",
    "        return results\n",
    "    \n",
    "    def PlotCompareResults(self, results):\n",
    "        names = [\"Simple Monte Carol\", \"Variate Control Monte Carol\", \"Antithetic Monte Carol\"]\n",
    "        fig, axes = plt.subplots(1, 3, figsize=(10, 5))\n",
    "        plt.title(\"Comparison of the Three Sampling Methods Above.\")\n",
    "        axes[0].hist(results[0])\n",
    "        axes[0].set_title(names[0])\n",
    "        axes[1].hist(results[1])\n",
    "        axes[1].set_title(names[1])\n",
    "        axes[2].hist(results[2])\n",
    "        axes[2].set_title(names[2])\n",
    "        fig.show()\n",
    "\n",
    "        fig = plt.figure(figsize=(10, 5))\n",
    "        plt.boxplot(results.T)\n",
    "        plt.xticks(range(1, len(names) + 1), names)\n",
    "        plt.grid(True)\n",
    "        fig.show()"
   ]
  },
  {
   "cell_type": "code",
   "execution_count": 33,
   "metadata": {},
   "outputs": [],
   "source": [
    "stock = Stock(S0 = 50, K = 52, sigma = 0.5, N = 30, r = 0.05)"
   ]
  },
  {
   "cell_type": "code",
   "execution_count": 14,
   "metadata": {},
   "outputs": [
    {
     "name": "stdout",
     "output_type": "stream",
     "text": [
      "The expectation of european fair price is 2.101421\n"
     ]
    }
   ],
   "source": [
    "fair_price = stock.FairPrice(30, option_style = \"Europ\")\n",
    "print(\"The expectation of european fair price is %f\"%(fair_price))"
   ]
  },
  {
   "cell_type": "code",
   "execution_count": 15,
   "metadata": {},
   "outputs": [
    {
     "name": "stdout",
     "output_type": "stream",
     "text": [
      "The expectation of asian fair price is 0.944598\n"
     ]
    }
   ],
   "source": [
    "fair_price = stock.FairPrice(30, option_style = \"Asia\")\n",
    "print(\"The expectation of asian fair price is %f\"%(fair_price))"
   ]
  },
  {
   "cell_type": "code",
   "execution_count": 16,
   "metadata": {},
   "outputs": [
    {
     "name": "stdout",
     "output_type": "stream",
     "text": [
      "The expectation of asian fair price is 0.944633\n"
     ]
    }
   ],
   "source": [
    "fair_price = stock.FairPrice(30, option_style = \"Asia\", variate_control = True)\n",
    "print(\"The expectation of asian fair price is %f\"%(fair_price))"
   ]
  },
  {
   "cell_type": "code",
   "execution_count": 17,
   "metadata": {},
   "outputs": [
    {
     "name": "stdout",
     "output_type": "stream",
     "text": [
      "The expectation of asian fair price is 0.941762\n"
     ]
    }
   ],
   "source": [
    "fair_price = stock.FairPrice(30, option_style = \"Asia\", variate_control = False, sample_method = \"Antithetic\")\n",
    "print(\"The expectation of asian fair price is %f\"%(fair_price))"
   ]
  },
  {
   "cell_type": "code",
   "execution_count": 18,
   "metadata": {},
   "outputs": [],
   "source": [
    "cmp_results = stock.Compare()"
   ]
  },
  {
   "cell_type": "code",
   "execution_count": 34,
   "metadata": {},
   "outputs": [
    {
     "data": {
      "image/png": "[encoded data removed]",
      "text/plain": [
       "<Figure size 720x360 with 3 Axes>"
      ]
     },
     "metadata": {
      "needs_background": "light"
     },
     "output_type": "display_data"
    },
    {
     "data": {
      "image/png": "[encoded data removed]",
      "text/plain": [
       "<Figure size 720x360 with 1 Axes>"
      ]
     },
     "metadata": {
      "needs_background": "light"
     },
     "output_type": "display_data"
    }
   ],
   "source": [
    "stock.PlotCompareResults(cmp_results)"
   ]
  },
  {
   "cell_type": "code",
   "execution_count": null,
   "metadata": {},
   "outputs": [],
   "source": []
  }
 ],
 "metadata": {
  "kernelspec": {
   "display_name": "base",
   "language": "python",
   "name": "python3"
  },
  "language_info": {
   "codemirror_mode": {
    "name": "ipython",
    "version": 3
   },
   "file_extension": ".py",
   "mimetype": "text/x-python",
   "name": "python",
   "nbconvert_exporter": "python",
   "pygments_lexer": "ipython3",
   "version": "3.8.8"
  },
  "orig_nbformat": 4
 },
 "nbformat": 4,
 "nbformat_minor": 2
}
