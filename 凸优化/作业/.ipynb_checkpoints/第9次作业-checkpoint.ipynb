{
 "cells": [
  {
   "cell_type": "code",
   "execution_count": 1,
   "id": "4f3ae6b2-dd75-4da3-9c22-d26c03de8819",
   "metadata": {},
   "outputs": [],
   "source": [
    "import numpy as np\n",
    "import cvxpy as cp\n",
    "import pandas as pd\n",
    "\n",
    "from matplotlib import pyplot as plt\n",
    "\n",
    "%matplotlib inline"
   ]
  },
  {
   "cell_type": "code",
   "execution_count": 2,
   "id": "18791465-16d3-4ec8-bbe2-9c5142af73fe",
   "metadata": {},
   "outputs": [
    {
     "name": "stdout",
     "output_type": "stream",
     "text": [
      "P(X4=1)的最小值为：0.480000\n",
      "此时p的取值为：\n",
      "[ 1.40445244e-02 -1.15966761e-11  3.00108937e-10 -4.38815153e-11\n",
      "  2.55044409e-02  3.04510345e-02  2.99999999e-02 -1.93916794e-11\n",
      "  8.59554753e-02 -2.51309519e-11  5.47433868e-11 -4.47925279e-11\n",
      "  2.94495559e-01  4.49548966e-01  6.99999999e-02 -5.03833618e-11]\n",
      "P(X4=1)的最大值为：0.610000\n",
      "此时p的取值为：\n",
      "[-5.60496796e-13  7.62908956e-03 -5.31993730e-13  1.01329255e-11\n",
      "  3.95306966e-02  4.51747549e-02 -3.39263038e-13  7.66545893e-03\n",
      " -4.99016128e-13  9.23709104e-02  2.52409996e-12  2.44796457e-12\n",
      "  2.80469303e-01  4.34825245e-01  7.00000000e-02  2.23345411e-02]\n"
     ]
    }
   ],
   "source": [
    "\"\"\"\n",
    "00: 0000\n",
    "01: 0001\n",
    "02: 0010\n",
    "03: 0011\n",
    "04: 0100\n",
    "05: 0101\n",
    "06: 0110\n",
    "07: 0111\n",
    "08: 1000\n",
    "09: 1001\n",
    "10: 1010\n",
    "11: 1011\n",
    "12: 1100\n",
    "13: 1101\n",
    "14: 1110\n",
    "15: 1111\n",
    "\"\"\"\n",
    "p = cp.Variable(shape=16, name=\"prob\")\n",
    "objective_min = cp.Minimize(p[1]+p[3]+p[5]+p[7]+p[9]+p[11]+p[13]+p[15])\n",
    "objective_max = cp.Maximize(p[1]+p[3]+p[5]+p[7]+p[9]+p[11]+p[13]+p[15])\n",
    "constraints = [0 <= p, \n",
    "               p <= 1, \n",
    "               cp.sum(p[8:16])==0.9, \n",
    "               cp.sum(p)==1, \n",
    "               cp.sum(p[4:8])+cp.sum(p[12:16])==0.9, \n",
    "               cp.sum(p[2:4])+cp.sum(p[6:8])+cp.sum(p[10:12])+cp.sum(p[14:16])==0.1,\n",
    "               p[10]+p[14]==0.07,\n",
    "               (p[5]+p[13])==0.6*(p[4]+p[5]+p[12]+p[13])\n",
    "              ]\n",
    "prob_min = cp.Problem(objective_min, constraints)\n",
    "prob_max = cp.Problem(objective_max, constraints)\n",
    "result_min = prob_min.solve()\n",
    "print(\"P(X4=1)的最小值为：%f\"%(result_min))\n",
    "print(\"此时p的取值为：\")\n",
    "print(p.value)\n",
    "result_max = prob_max.solve()\n",
    "result_max\n",
    "print(\"P(X4=1)的最大值为：%f\"%(result_max))\n",
    "print(\"此时p的取值为：\")\n",
    "print(p.value)"
   ]
  },
  {
   "cell_type": "code",
   "execution_count": null,
   "id": "c2111364-ca5d-46cb-b1f1-06eb22cf8f5e",
   "metadata": {},
   "outputs": [],
   "source": []
  }
 ],
 "metadata": {
  "kernelspec": {
   "display_name": "Python 3 (ipykernel)",
   "language": "python",
   "name": "python3"
  },
  "language_info": {
   "codemirror_mode": {
    "name": "ipython",
    "version": 3
   },
   "file_extension": ".py",
   "mimetype": "text/x-python",
   "name": "python",
   "nbconvert_exporter": "python",
   "pygments_lexer": "ipython3",
   "version": "3.8.8"
  }
 },
 "nbformat": 4,
 "nbformat_minor": 5
}
