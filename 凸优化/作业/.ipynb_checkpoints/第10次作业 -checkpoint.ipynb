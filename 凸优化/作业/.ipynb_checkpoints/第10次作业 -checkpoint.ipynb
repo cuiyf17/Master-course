{
 "cells": [
  {
   "cell_type": "code",
   "execution_count": 1,
   "id": "97e4e8af-7343-4c5b-933f-156f6b353a9f",
   "metadata": {},
   "outputs": [],
   "source": [
    "import numpy as np\n",
    "import cvxpy as cp\n",
    "import pandas as pd\n",
    "\n",
    "from matplotlib import pyplot as plt\n",
    "\n",
    "%matplotlib inline"
   ]
  },
  {
   "cell_type": "markdown",
   "id": "363d33de-5dec-406f-8dde-3646df1417c0",
   "metadata": {},
   "source": [
    "# 1. 最小覆盖正方形"
   ]
  },
  {
   "cell_type": "code",
   "execution_count": 2,
   "id": "4884e821-848d-4ac8-89c2-fec84c48e296",
   "metadata": {},
   "outputs": [],
   "source": [
    "def min_square(Q):\n",
    "    n = Q.shape[0]\n",
    "    x = cp.Variable(shape=(n), name=\"x\")\n",
    "    constraints = [cp.quad_form(x,Q)<=1]\n",
    "    results = []\n",
    "    for i in range(n):\n",
    "        objective = cp.Maximize(x[i])\n",
    "        prob = cp.Problem(objective, constraints)\n",
    "        results.append(prob.solve())\n",
    "    return np.max(results)"
   ]
  },
  {
   "cell_type": "code",
   "execution_count": 3,
   "id": "61571669-7714-4160-b381-179d29d9ca58",
   "metadata": {},
   "outputs": [],
   "source": [
    "Q = np.array([[3,2,1],[2,3,2],[1,2,3]])"
   ]
  },
  {
   "cell_type": "code",
   "execution_count": 4,
   "id": "337ac950-5d03-4910-9427-7cdb323ea0fc",
   "metadata": {},
   "outputs": [
    {
     "name": "stdout",
     "output_type": "stream",
     "text": [
      "结果是1.000000\n"
     ]
    }
   ],
   "source": [
    "result = min_square(Q)\n",
    "print(\"结果是%f\"%(result))"
   ]
  },
  {
   "cell_type": "markdown",
   "id": "3ae836e1-bc59-40c6-a80e-770b03cbc76b",
   "metadata": {},
   "source": [
    "# 2. GilbertPollak conjecture"
   ]
  },
  {
   "cell_type": "markdown",
   "id": "975ed725-bf3e-438c-b645-a53028fa045f",
   "metadata": {},
   "source": [
    "## 2.1 一个点求最小边长和"
   ]
  },
  {
   "cell_type": "code",
   "execution_count": 5,
   "id": "fb309617-4607-4c8d-8ff0-065b1d6c1de2",
   "metadata": {},
   "outputs": [
    {
     "name": "stdout",
     "output_type": "stream",
     "text": [
      "答案是4*sqrt(2)。\n",
      "numpy计算4*sqrt(2) = 5.656854\n",
      "凸优化计算结果为 = 5.656854\n"
     ]
    }
   ],
   "source": [
    "x1 = np.array([1,1]).reshape(1,-1)\n",
    "x2 = np.array([1,-1]).reshape(1,-1)\n",
    "x3 = np.array([-1,1]).reshape(1,-1)\n",
    "x4 = np.array([-1,-1]).reshape(1,-1)\n",
    "xs = np.concatenate([x1,x2,x3,x4], axis=0)\n",
    "x = cp.Variable(shape=(1,2), name=\"x\")\n",
    "constraints = []\n",
    "objective = cp.Minimize(cp.sum(cp.atoms.norm(x-xs, p=2, axis=1)))\n",
    "prob = cp.Problem(objective, constraints)\n",
    "result = prob.solve()\n",
    "print(\"答案是4*sqrt(2)。\")\n",
    "print(\"numpy计算4*sqrt(2) = %f\"%(np.sqrt(2)*4))\n",
    "print(\"凸优化计算结果为 = %f\"%(result))"
   ]
  },
  {
   "cell_type": "markdown",
   "id": "722b6399-ec1e-4fd7-9bc4-b38d0e52f4cd",
   "metadata": {},
   "source": [
    "# 2.2 两个点求最小边长和"
   ]
  },
  {
   "cell_type": "markdown",
   "id": "a2d9c1d9-f78a-4269-99f0-6af8cc6dfa6f",
   "metadata": {},
   "source": [
    "### 情况1，一个点连接3个顶点，另一个点连接1个顶点"
   ]
  },
  {
   "cell_type": "code",
   "execution_count": 6,
   "id": "bd93f694-91c1-4c74-9eed-2ab4704d5646",
   "metadata": {},
   "outputs": [
    {
     "name": "stdout",
     "output_type": "stream",
     "text": [
      "答案是4*sqrt(2)。\n",
      "numpy计算4*sqrt(2) = 5.656854\n",
      "凸优化计算结果为 = 5.656854\n"
     ]
    }
   ],
   "source": [
    "x1 = np.array([1,1])\n",
    "x2 = np.array([1,-1])\n",
    "x3 = np.array([-1,1])\n",
    "x4 = np.array([-1,-1])\n",
    "dots = cp.Variable(shape=(2,2), name=\"dots\")\n",
    "a = cp.Variable(shape=(2), name=\"a\")\n",
    "b = cp.Variable(shape=(2), name=\"b\")\n",
    "dis0 = cp.atoms.norm(a-b, p=2)\n",
    "dis1 = cp.atoms.norm(x1-a, p=2)\n",
    "dis2 = cp.atoms.norm(x2-a, p=2)\n",
    "dis3 = cp.atoms.norm(x3-a, p=2)\n",
    "dis4 = cp.atoms.norm(x4-b, p=2)\n",
    "\n",
    "constraints = []\n",
    "objective = cp.Minimize(dis0 + dis1 + dis2 + dis3 + dis4)\n",
    "prob = cp.Problem(objective, constraints)\n",
    "result = prob.solve()\n",
    "print(\"答案是4*sqrt(2)。\")\n",
    "print(\"numpy计算4*sqrt(2) = %f\"%(np.sqrt(2)*4))\n",
    "print(\"凸优化计算结果为 = %f\"%(result))"
   ]
  },
  {
   "cell_type": "markdown",
   "id": "815b9486-d1fc-4b92-9a72-811b40301e5c",
   "metadata": {},
   "source": [
    "### 情况2，每个点各连接2个顶点"
   ]
  },
  {
   "cell_type": "code",
   "execution_count": 7,
   "id": "c1f26700-a6ba-493a-aea4-463566e0b807",
   "metadata": {},
   "outputs": [
    {
     "name": "stdout",
     "output_type": "stream",
     "text": [
      "答案是2 + 2 * sqrt(3)。\n",
      "numpy计算2 + 2 * sqrt(3) = 5.464102\n",
      "凸优化计算结果为 = 5.464102\n"
     ]
    }
   ],
   "source": [
    "x1 = np.array([1,1])\n",
    "x2 = np.array([1,-1])\n",
    "x3 = np.array([-1,1])\n",
    "x4 = np.array([-1,-1])\n",
    "dots = cp.Variable(shape=(2,2), name=\"dots\")\n",
    "a = cp.Variable(shape=(2), name=\"a\")\n",
    "b = cp.Variable(shape=(2), name=\"b\")\n",
    "dis0 = cp.atoms.norm(a-b, p=2)\n",
    "dis1 = cp.atoms.norm(x1-a, p=2)\n",
    "dis2 = cp.atoms.norm(x2-a, p=2)\n",
    "dis3 = cp.atoms.norm(x3-b, p=2)\n",
    "dis4 = cp.atoms.norm(x4-b, p=2)\n",
    "\n",
    "constraints = []\n",
    "objective = cp.Minimize(dis0 + dis1 + dis2 + dis3 + dis4)\n",
    "prob = cp.Problem(objective, constraints)\n",
    "result = prob.solve()\n",
    "print(\"答案是2 + 2 * sqrt(3)。\")\n",
    "print(\"numpy计算2 + 2 * sqrt(3) = %f\"%(np.sqrt(3)*2+2))\n",
    "print(\"凸优化计算结果为 = %f\"%(result))"
   ]
  },
  {
   "cell_type": "markdown",
   "id": "5c16ec05-9b8e-45f0-852f-55c46d0a3025",
   "metadata": {},
   "source": [
    "### 情况3，一个点连接4个顶点，另一个点不连接任何顶点"
   ]
  },
  {
   "cell_type": "code",
   "execution_count": 8,
   "id": "fa858098-7e26-4f32-955d-a228ec8748e8",
   "metadata": {},
   "outputs": [
    {
     "name": "stdout",
     "output_type": "stream",
     "text": [
      "答案是4*sqrt(2)。\n",
      "numpy计算4*sqrt(2) = 5.656854\n",
      "凸优化计算结果为 = 5.656854\n"
     ]
    }
   ],
   "source": [
    "x1 = np.array([1,1])\n",
    "x2 = np.array([1,-1])\n",
    "x3 = np.array([-1,1])\n",
    "x4 = np.array([-1,-1])\n",
    "dots = cp.Variable(shape=(2,2), name=\"dots\")\n",
    "a = cp.Variable(shape=(2), name=\"a\")\n",
    "b = cp.Variable(shape=(2), name=\"b\")\n",
    "dis0 = cp.atoms.norm(a-b, p=2)\n",
    "dis1 = cp.atoms.norm(x1-a, p=2)\n",
    "dis2 = cp.atoms.norm(x2-a, p=2)\n",
    "dis3 = cp.atoms.norm(x3-a, p=2)\n",
    "dis4 = cp.atoms.norm(x4-a, p=2)\n",
    "\n",
    "constraints = []\n",
    "objective = cp.Minimize(dis0 + dis1 + dis2 + dis3 + dis4)\n",
    "prob = cp.Problem(objective, constraints)\n",
    "result = prob.solve()\n",
    "print(\"答案是4*sqrt(2)。\")\n",
    "print(\"numpy计算4*sqrt(2) = %f\"%(np.sqrt(2)*4))\n",
    "print(\"凸优化计算结果为 = %f\"%(result))"
   ]
  },
  {
   "cell_type": "code",
   "execution_count": null,
   "id": "6f949355-3cad-42cd-ad69-22b73be800f4",
   "metadata": {},
   "outputs": [],
   "source": []
  }
 ],
 "metadata": {
  "kernelspec": {
   "display_name": "Python 3 (ipykernel)",
   "language": "python",
   "name": "python3"
  },
  "language_info": {
   "codemirror_mode": {
    "name": "ipython",
    "version": 3
   },
   "file_extension": ".py",
   "mimetype": "text/x-python",
   "name": "python",
   "nbconvert_exporter": "python",
   "pygments_lexer": "ipython3",
   "version": "3.8.8"
  }
 },
 "nbformat": 4,
 "nbformat_minor": 5
}
