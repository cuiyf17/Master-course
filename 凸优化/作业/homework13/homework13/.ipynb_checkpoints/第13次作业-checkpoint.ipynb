{
 "cells": [
  {
   "cell_type": "code",
   "execution_count": 1,
   "id": "d3bb8d9a-8924-4264-8ea7-923bf7eb3ba2",
   "metadata": {},
   "outputs": [],
   "source": [
    "import os\n",
    "import numpy as np\n",
    "from scipy.io import loadmat\n",
    "from matplotlib import pyplot as plt\n",
    "\n",
    "%matplotlib inline"
   ]
  },
  {
   "cell_type": "code",
   "execution_count": 2,
   "id": "4d42fe43-8454-4d5d-9961-7f5d3ad8735d",
   "metadata": {},
   "outputs": [],
   "source": [
    "A = loadmat(\"./Data_P3/A.mat\")[\"A\"].astype(np.float64)\n",
    "b = loadmat(\"./Data_P3/b.mat\")[\"b\"].astype(np.float64)\n",
    "X0 = loadmat(\"./Data_P3/x_0.mat\")[\"x_0\"].astype(np.float64)\n",
    "X1 = loadmat(\"./Data_P3/x_1.mat\")[\"x_1\"].astype(np.float64)"
   ]
  },
  {
   "cell_type": "code",
   "execution_count": 3,
   "id": "0552b07d-e989-444d-a7fd-c02634931690",
   "metadata": {},
   "outputs": [
    {
     "data": {
      "text/plain": [
       "(30, 100)"
      ]
     },
     "execution_count": 3,
     "metadata": {},
     "output_type": "execute_result"
    }
   ],
   "source": [
    "A.shape"
   ]
  },
  {
   "cell_type": "code",
   "execution_count": 134,
   "id": "aa795bb5-a0c2-4d5c-95b1-da917394b849",
   "metadata": {},
   "outputs": [],
   "source": [
    "#内置的一维精确搜索算法为牛顿法\n",
    "class Func():\n",
    "    def __init__(self, A, b):\n",
    "        self.delta = 1e-11\n",
    "        self.epsilon = 1e-11\n",
    "        self.A = A\n",
    "        self.n = A.shape[1]\n",
    "        self.m = A.shape[0]\n",
    "        self.b = b\n",
    "        \n",
    "    def value(self, X):\n",
    "        return np.sum(X*np.log(X))\n",
    "    \n",
    "    def grad(self, X):\n",
    "        return np.log(X)+1\n",
    "        \n",
    "    def hessian(self, X):\n",
    "        return np.eye(self.n)/X\n",
    "    \n",
    "    def diff_t(self, X, D, t):\n",
    "        return np.dot(self.grad(X+t*D).T, D)\n",
    "    \n",
    "    def diff_2_t(self, X, D, t):\n",
    "        return np.dot(D.T, np.dot(self.hessian(X+t*D), D))\n",
    "    \n",
    "    def Newton_1D_Method(self, X0, D, delta):#一维精确搜索——牛顿法\n",
    "        t_tmp=0\n",
    "        while(abs(self.diff_t(X0,D,t_tmp))>delta or delta_t>1e-3):\n",
    "            t_tmp = new_t_tmp\n",
    "            #if(np.sum((X0+t_tmp+D<=0))>0):\n",
    "            #    break\n",
    "            new_t_tmp=t_tmp-self.diff_t(X0,D,t_tmp)/self.diff_2_t(X0,D,t_tmp)\n",
    "            delta_t = np.abs(new_t_tmp - t_tmp)\n",
    "            t_tmp = new_t_tmp\n",
    "        return X0+t_tmp*D\n",
    "    \n",
    "    def Backtracking1(self, X0, D, delta, alpha = 0.4, beta = 0.7):\n",
    "        t = 1\n",
    "        idxs = np.where(X0+t*D<0)\n",
    "        scale = np.abs(X0[idxs])/np.abs((t*D)[idxs])\n",
    "        if(scale.shape[0]>0):\n",
    "            t = t*np.min(scale)*0.9\n",
    "        while(self.value(X0+t*D) > self.value(X0) + alpha*t*np.dot(self.grad(X0).T,D)):\n",
    "            t = beta*t\n",
    "\n",
    "        learning_rate = 0.001\n",
    "        num_iter = 0\n",
    "        max_iter = 1000\n",
    "        while(abs(self.diff_t(X0,D,t))>delta):\n",
    "            delta_t = -self.diff_t(X0,D,t)/self.diff_2_t(X0,D,t)\n",
    "            idxs = np.where(X0+(t+delta_t)*D<0)\n",
    "            scale = np.abs((X0+t*D)[idxs])/np.abs((delta_t*D)[idxs])\n",
    "            if(scale.shape[0]>0):\n",
    "                delta_t = delta_t*np.min(scale)*0.9\n",
    "            t = t + delta_t\n",
    "            num_iter+=1\n",
    "        #print(t)\n",
    "        return X0+t*D, np.sqrt(np.sum((t*D)**2))\n",
    "    \n",
    "    def Backtracking2(self, X0, D, delta, alpha = 0.4, beta = 0.7):\n",
    "        t = 1\n",
    "        idxs = np.where(X0+t*D<0)\n",
    "        scale = np.abs(X0[idxs])/np.abs((t*D)[idxs])\n",
    "        if(scale.shape[0]>0):\n",
    "            t = t*np.min(scale)*0.9\n",
    "        while(self.value(X0+t*D) > self.value(X0) + alpha*t*np.dot(self.grad(X0).T,D)):\n",
    "            t = beta*t\n",
    "\n",
    "        learning_rate = 0.001\n",
    "        num_iter = 0\n",
    "        max_iter = 1000\n",
    "        while(abs(self.diff_t(X0,D,t))>delta):\n",
    "            delta_t = -self.diff_t(X0,D,t)/self.diff_2_t(X0,D,t)\n",
    "            idxs = np.where(X0+(t+delta_t)*D<0)\n",
    "            scale = np.abs((X0+t*D)[idxs])/np.abs((delta_t*D)[idxs])\n",
    "            if(scale.shape[0]>0):\n",
    "                delta_t = delta_t*np.min(scale)*0.9\n",
    "            t = t + delta_t\n",
    "            num_iter+=1\n",
    "        #print(t)\n",
    "        return X0+t*D, np.sqrt(np.sum((t*D)**2))\n",
    "    \n",
    "    def NewtonMethod(self, X0, epsilon):\n",
    "        if(np.prod(np.dot(self.A, X0) - self.b)!=0):\n",
    "            tmp_x = X0\n",
    "            values = [self.value(tmp_x)]\n",
    "            t_ks = []\n",
    "            hessian = self.hessian(tmp_x)\n",
    "            hessian_inv = np.linalg.inv(hessian)\n",
    "            m = np.dot(hessian_inv, self.A.T)\n",
    "            n = np.dot(hessian_inv, self.grad(tmp_x))\n",
    "            S = -np.dot(self.A, m)\n",
    "            #w = np.dot(np.dot(np.linalg.inv(S), self.A), n-tmp_x)+np.dot(np.linalg.inv(S), self.b)\n",
    "            #w = np.linalg.inv(self.A@hessian_inv@(self.A.T))@(self.A@(tmp_x-hessian_inv@self.grad(tmp_x))-self.b)\n",
    "            w = np.linalg.inv(self.A@m)@(self.A@(tmp_x-n)-self.b)\n",
    "            d = -np.dot(m, w)-n\n",
    "            tmp_x = tmp_x+d\n",
    "            \n",
    "            r_dual = self.grad(tmp_x)+np.dot(self.A.T, w)\n",
    "            r_pri = np.dot(self.A, tmp_x)-self.b\n",
    "            r = r_dual\n",
    "            r = np.concatenate([r_dual, r_pri], axis=0)\n",
    "            lambda_square = np.linalg.norm(r)\n",
    "            print(\"error: \", (lambda_square))\n",
    "            while(lambda_square > epsilon):\n",
    "                tmp_x, t_k = self.Backtracking(tmp_x, d, self.delta)\n",
    "                print(\"value = \", self.value(tmp_x))\n",
    "                hessian = self.hessian(tmp_x)\n",
    "                hessian_inv = np.linalg.inv(hessian)\n",
    "                m = np.dot(hessian_inv, self.A.T)\n",
    "                n = np.dot(hessian_inv, self.grad(tmp_x))\n",
    "                S = -np.dot(self.A, m)\n",
    "                #w = np.dot(np.dot(np.linalg.inv(S), self.A), n-tmp_x)+np.dot(np.linalg.inv(S), self.b)\n",
    "                #w = np.linalg.inv(self.A@hessian_inv@(self.A.T))@(self.A@(tmp_x-hessian_inv@self.grad(tmp_x))-self.b)\n",
    "                w = np.linalg.inv(self.A@m)@(self.A@(tmp_x-n)-self.b)\n",
    "                d = -np.dot(m, w)-n\n",
    "                \n",
    "                r_dual = self.grad(tmp_x)+np.dot(self.A.T, w)\n",
    "                r_pri = np.dot(self.A, tmp_x)-self.b\n",
    "                #r = r_dual\n",
    "                r = np.concatenate([r_dual, r_pri], axis=0)\n",
    "                lambda_square = np.linalg.norm(r)\n",
    "                values.append(self.value(tmp_x))\n",
    "                t_ks.append(t_k)\n",
    "                print(\"error: \", (lambda_square))\n",
    "        else:\n",
    "            tmp_x = X0\n",
    "            values = [self.value(tmp_x)]\n",
    "            t_ks = []\n",
    "            hessian = self.hessian(tmp_x)\n",
    "            hessian_inv = np.linalg.inv(hessian)\n",
    "            a = np.dot(hessian_inv, self.A.T)\n",
    "            b = np.dot(hessian_inv, self.grad(tmp_x))\n",
    "            S = -np.dot(self.A, a)\n",
    "            w = np.dot(np.dot(np.linalg.inv(S), self.A), b)\n",
    "            d = -np.dot(hessian_inv, (np.dot(self.A.T, w))) - b\n",
    "            lambda_square = np.dot(d.T, np.dot(hessian, d))\n",
    "            #print(np.prod(np.dot(self.A, tmp_x) - self.b))\n",
    "            print(\"error: \", lambda_square/2)\n",
    "            while(lambda_square/2 > epsilon):\n",
    "                tmp_x, t_k = self.Backtracking1(tmp_x, d, self.delta)\n",
    "                #print(tmp_x)\n",
    "                hessian = self.hessian(tmp_x)\n",
    "                hessian_inv = np.linalg.inv(hessian)\n",
    "                a = np.dot(hessian_inv, self.A.T)\n",
    "                b = np.dot(hessian_inv, self.grad(tmp_x))\n",
    "                S = -np.dot(self.A, a)\n",
    "                w = np.dot(np.dot(np.linalg.inv(S), self.A), b)\n",
    "                d = -np.dot(hessian_inv, (np.dot(self.A.T, w))) - b\n",
    "                lambda_square = np.dot(d.T, np.dot(hessian, d))\n",
    "                values.append(self.value(tmp_x))\n",
    "                t_ks.append(t_k)\n",
    "                #print(np.prod(np.dot(self.A, tmp_x) - self.b))\n",
    "                print(\"error: \", lambda_square/2)\n",
    "            \n",
    "        return tmp_x, self.value(tmp_x), np.array(values), np.array(t_ks).reshape(-1)\n",
    "    \n",
    "    def GradMethod(self, X0, epsilon, step = 0.01):\n",
    "        tmp_x = X0\n",
    "        grad = self.grad(tmp_x)\n",
    "        while(np.dot(grad.T,grad)>epsilon):\n",
    "            print(self.value(tmp_x))\n",
    "            tmp_x = tmp_x - step*grad\n",
    "            \n",
    "        return tmp_x"
   ]
  },
  {
   "cell_type": "code",
   "execution_count": 135,
   "id": "2f72fa28-c683-4cda-a728-702aee96e9d9",
   "metadata": {
    "tags": []
   },
   "outputs": [
    {
     "name": "stdout",
     "output_type": "stream",
     "text": [
      "error:  [[6.95369236]]\n",
      "error:  [[0.97199327]]\n",
      "error:  [[0.15056426]]\n",
      "error:  [[0.00636827]]\n",
      "error:  [[1.56647342e-05]]\n",
      "error:  [[1.15172373e-10]]\n",
      "error:  [[6.621058e-21]]\n"
     ]
    }
   ],
   "source": [
    "func1 = Func(A,b)\n",
    "opt_point1, opt_value1, values1, tks1 = func1.NewtonMethod(X0, epsilon=1e-10)"
   ]
  },
  {
   "cell_type": "code",
   "execution_count": 136,
   "id": "6a250438-3e97-4023-9486-463472cd6062",
   "metadata": {},
   "outputs": [
    {
     "name": "stderr",
     "output_type": "stream",
     "text": [
      "/tmp/ipykernel_360/2081299776.py:2: RuntimeWarning: divide by zero encountered in log\n",
      "  plt.plot(np.log(values1-opt_value1), \"-o\", label=\"optimal value = %f\"%(opt_value1))\n"
     ]
    },
    {
     "data": {
      "image/png": "[encoded data removed]",
      "text/plain": [
       "<Figure size 720x504 with 1 Axes>"
      ]
     },
     "metadata": {
      "needs_background": "light"
     },
     "output_type": "display_data"
    },
    {
     "data": {
      "image/png": "[encoded data removed]",
      "text/plain": [
       "<Figure size 720x504 with 1 Axes>"
      ]
     },
     "metadata": {
      "needs_background": "light"
     },
     "output_type": "display_data"
    }
   ],
   "source": [
    "plt.figure(figsize=(10,7))\n",
    "plt.plot(np.log(values1-opt_value1), \"-o\", label=\"optimal value = %f\"%(opt_value1))\n",
    "plt.xlabel(\"iterations\")\n",
    "plt.ylabel(\"log-error\")\n",
    "plt.title(\"Error plot of A_50\")\n",
    "plt.legend()\n",
    "plt.show()\n",
    "\n",
    "plt.figure(figsize=(10,7))\n",
    "plt.plot(tks1, \"-o\")\n",
    "plt.xlabel(\"iterations\")\n",
    "plt.ylabel(\"Step size\")\n",
    "plt.title(\"Step size plot of A_50\")\n",
    "plt.show()"
   ]
  },
  {
   "cell_type": "code",
   "execution_count": 137,
   "id": "18f2f998-7043-4ecd-bd94-e64ae0962af3",
   "metadata": {},
   "outputs": [
    {
     "data": {
      "text/plain": [
       "-31.012830219815047"
      ]
     },
     "execution_count": 137,
     "metadata": {},
     "output_type": "execute_result"
    }
   ],
   "source": [
    "opt_value1"
   ]
  },
  {
   "cell_type": "code",
   "execution_count": 138,
   "id": "bddceb34-fd6a-4879-90ad-084676cba334",
   "metadata": {
    "scrolled": true,
    "tags": []
   },
   "outputs": [
    {
     "name": "stdout",
     "output_type": "stream",
     "text": [
      "[[-0.0123515 ]\n",
      " [ 0.54850097]\n",
      " [ 0.66725542]\n",
      " [ 0.84334214]\n",
      " [ 0.40946178]\n",
      " [ 0.34921237]\n",
      " [ 0.36660517]\n",
      " [ 0.85356356]\n",
      " [ 0.35884876]\n",
      " [ 0.21484631]\n",
      " [ 0.07807866]\n",
      " [ 0.48317734]\n",
      " [ 0.38675127]\n",
      " [ 0.38016597]\n",
      " [ 0.36527834]\n",
      " [-0.12672712]\n",
      " [ 0.3415586 ]\n",
      " [ 0.80737377]\n",
      " [ 0.56843878]\n",
      " [ 0.60807524]\n",
      " [ 0.44025217]\n",
      " [ 0.57460454]\n",
      " [-0.07680783]\n",
      " [ 0.32969228]\n",
      " [ 0.46016288]\n",
      " [ 0.63180207]\n",
      " [ 0.14032238]\n",
      " [ 0.31119561]\n",
      " [ 0.37389676]\n",
      " [ 0.35457513]\n",
      " [ 0.52378148]\n",
      " [ 0.45594014]\n",
      " [ 0.2526383 ]\n",
      " [ 0.16842525]\n",
      " [ 0.31777806]\n",
      " [ 0.39577113]\n",
      " [ 0.35694047]\n",
      " [ 0.42766966]\n",
      " [ 0.51943342]\n",
      " [-0.14970487]\n",
      " [ 0.35360659]\n",
      " [ 0.32763746]\n",
      " [ 0.58796425]\n",
      " [ 0.19632483]\n",
      " [ 0.78314812]\n",
      " [ 0.28186146]\n",
      " [ 0.34679524]\n",
      " [ 0.58592829]\n",
      " [ 0.40979127]\n",
      " [ 0.48330055]\n",
      " [ 0.48206211]\n",
      " [ 0.50662264]\n",
      " [ 0.45672882]\n",
      " [ 0.21115767]\n",
      " [ 0.43647541]\n",
      " [ 0.07535097]\n",
      " [ 0.37006512]\n",
      " [ 0.45169756]\n",
      " [ 0.66369514]\n",
      " [ 0.27904463]\n",
      " [ 0.34475575]\n",
      " [ 0.62123383]\n",
      " [ 0.24238924]\n",
      " [ 0.26918887]\n",
      " [ 0.63549433]\n",
      " [ 0.4273343 ]\n",
      " [ 0.00539469]\n",
      " [ 0.4714844 ]\n",
      " [ 0.44310939]\n",
      " [ 0.42654591]\n",
      " [ 0.39701423]\n",
      " [ 0.26634598]\n",
      " [ 0.42961534]\n",
      " [ 0.33289208]\n",
      " [ 0.82271437]\n",
      " [ 0.19063739]\n",
      " [ 0.77449508]\n",
      " [ 0.49564391]\n",
      " [ 0.44898644]\n",
      " [ 0.30239669]\n",
      " [ 0.21208866]\n",
      " [ 0.34297603]\n",
      " [ 0.11345962]\n",
      " [ 0.35018804]\n",
      " [-0.08142057]\n",
      " [ 0.61631254]\n",
      " [ 0.84164411]\n",
      " [ 0.63287378]\n",
      " [ 0.50688465]\n",
      " [ 0.71809531]\n",
      " [ 0.78606292]\n",
      " [ 0.61654878]\n",
      " [ 0.49125477]\n",
      " [ 0.26583797]\n",
      " [ 0.34013118]\n",
      " [ 0.14646655]\n",
      " [ 0.50211996]\n",
      " [ 0.63311471]\n",
      " [ 0.55466913]\n",
      " [ 0.44984684]]\n",
      "error:  nan\n"
     ]
    },
    {
     "name": "stderr",
     "output_type": "stream",
     "text": [
      "/tmp/ipykernel_360/2177788006.py:15: RuntimeWarning: invalid value encountered in log\n",
      "  return np.log(X)+1\n",
      "/tmp/ipykernel_360/2177788006.py:12: RuntimeWarning: invalid value encountered in log\n",
      "  return np.sum(X*np.log(X))\n"
     ]
    }
   ],
   "source": [
    "opt_point2, opt_value2, values2, tks2 = func1.NewtonMethod(X1, epsilon=1e-10)"
   ]
  },
  {
   "cell_type": "code",
   "execution_count": 77,
   "id": "ccb52593-c214-4f32-8b46-4878d226fad2",
   "metadata": {},
   "outputs": [
    {
     "ename": "NameError",
     "evalue": "name 'values2' is not defined",
     "output_type": "error",
     "traceback": [
      "\u001b[0;31m---------------------------------------------------------------------------\u001b[0m",
      "\u001b[0;31mNameError\u001b[0m                                 Traceback (most recent call last)",
      "\u001b[0;32m/tmp/ipykernel_360/1909059464.py\u001b[0m in \u001b[0;36m<module>\u001b[0;34m\u001b[0m\n\u001b[1;32m      1\u001b[0m \u001b[0mplt\u001b[0m\u001b[0;34m.\u001b[0m\u001b[0mfigure\u001b[0m\u001b[0;34m(\u001b[0m\u001b[0mfigsize\u001b[0m\u001b[0;34m=\u001b[0m\u001b[0;34m(\u001b[0m\u001b[0;36m10\u001b[0m\u001b[0;34m,\u001b[0m\u001b[0;36m7\u001b[0m\u001b[0;34m)\u001b[0m\u001b[0;34m)\u001b[0m\u001b[0;34m\u001b[0m\u001b[0;34m\u001b[0m\u001b[0m\n\u001b[0;32m----> 2\u001b[0;31m \u001b[0mplt\u001b[0m\u001b[0;34m.\u001b[0m\u001b[0mplot\u001b[0m\u001b[0;34m(\u001b[0m\u001b[0mnp\u001b[0m\u001b[0;34m.\u001b[0m\u001b[0mlog\u001b[0m\u001b[0;34m(\u001b[0m\u001b[0mvalues2\u001b[0m\u001b[0;34m-\u001b[0m\u001b[0mopt_value2\u001b[0m\u001b[0;34m)\u001b[0m\u001b[0;34m,\u001b[0m \u001b[0;34m\"-o\"\u001b[0m\u001b[0;34m,\u001b[0m \u001b[0mlabel\u001b[0m\u001b[0;34m=\u001b[0m\u001b[0;34m\"optimal value = %f\"\u001b[0m\u001b[0;34m%\u001b[0m\u001b[0;34m(\u001b[0m\u001b[0mopt_value2\u001b[0m\u001b[0;34m)\u001b[0m\u001b[0;34m)\u001b[0m\u001b[0;34m\u001b[0m\u001b[0;34m\u001b[0m\u001b[0m\n\u001b[0m\u001b[1;32m      3\u001b[0m \u001b[0mplt\u001b[0m\u001b[0;34m.\u001b[0m\u001b[0mxlabel\u001b[0m\u001b[0;34m(\u001b[0m\u001b[0;34m\"iterations\"\u001b[0m\u001b[0;34m)\u001b[0m\u001b[0;34m\u001b[0m\u001b[0;34m\u001b[0m\u001b[0m\n\u001b[1;32m      4\u001b[0m \u001b[0mplt\u001b[0m\u001b[0;34m.\u001b[0m\u001b[0mylabel\u001b[0m\u001b[0;34m(\u001b[0m\u001b[0;34m\"log-error\"\u001b[0m\u001b[0;34m)\u001b[0m\u001b[0;34m\u001b[0m\u001b[0;34m\u001b[0m\u001b[0m\n\u001b[1;32m      5\u001b[0m \u001b[0mplt\u001b[0m\u001b[0;34m.\u001b[0m\u001b[0mtitle\u001b[0m\u001b[0;34m(\u001b[0m\u001b[0;34m\"Error plot of A_100\"\u001b[0m\u001b[0;34m)\u001b[0m\u001b[0;34m\u001b[0m\u001b[0;34m\u001b[0m\u001b[0m\n",
      "\u001b[0;31mNameError\u001b[0m: name 'values2' is not defined"
     ]
    },
    {
     "data": {
      "text/plain": [
       "<Figure size 720x504 with 0 Axes>"
      ]
     },
     "metadata": {},
     "output_type": "display_data"
    }
   ],
   "source": [
    "plt.figure(figsize=(10,7))\n",
    "plt.plot(np.log(values2-opt_value2), \"-o\", label=\"optimal value = %f\"%(opt_value2))\n",
    "plt.xlabel(\"iterations\")\n",
    "plt.ylabel(\"log-error\")\n",
    "plt.title(\"Error plot of A_100\")\n",
    "plt.legend()\n",
    "plt.show()\n",
    "\n",
    "plt.figure(figsize=(10,7))\n",
    "plt.plot(tks2, \"-o\")\n",
    "plt.xlabel(\"iterations\")\n",
    "plt.ylabel(\"Step size\")\n",
    "plt.title(\"Step size plot of A_100\")\n",
    "plt.show()"
   ]
  },
  {
   "cell_type": "code",
   "execution_count": 78,
   "id": "6e688056-921f-4c8f-995f-88f58cc7beb7",
   "metadata": {},
   "outputs": [
    {
     "data": {
      "text/plain": [
       "array([[-1.37667655e-14],\n",
       "       [ 3.55271368e-15],\n",
       "       [ 1.33226763e-15],\n",
       "       [-1.77635684e-15],\n",
       "       [ 4.44089210e-16],\n",
       "       [-1.99840144e-15],\n",
       "       [ 3.99680289e-15],\n",
       "       [ 8.47932835e-15],\n",
       "       [ 6.21724894e-15],\n",
       "       [ 1.77635684e-15],\n",
       "       [-8.88178420e-16],\n",
       "       [ 0.00000000e+00],\n",
       "       [ 4.44089210e-15],\n",
       "       [ 8.88178420e-16],\n",
       "       [-1.33226763e-15],\n",
       "       [ 5.32907052e-15],\n",
       "       [ 0.00000000e+00],\n",
       "       [-2.22044605e-15],\n",
       "       [-2.66453526e-15],\n",
       "       [ 3.66373598e-15],\n",
       "       [-1.33226763e-15],\n",
       "       [ 0.00000000e+00],\n",
       "       [-3.34454686e-15],\n",
       "       [-6.66133815e-16],\n",
       "       [-4.44089210e-16],\n",
       "       [-1.99840144e-15],\n",
       "       [-2.22044605e-15],\n",
       "       [-6.55031585e-15],\n",
       "       [-3.55271368e-15],\n",
       "       [-1.33226763e-15]])"
      ]
     },
     "execution_count": 78,
     "metadata": {},
     "output_type": "execute_result"
    }
   ],
   "source": [
    "A@opt_point1-b"
   ]
  },
  {
   "cell_type": "code",
   "execution_count": 46,
   "id": "102692a7-a80e-4792-bb28-29ae242ba480",
   "metadata": {},
   "outputs": [
    {
     "ename": "NameError",
     "evalue": "name 'opt_point2' is not defined",
     "output_type": "error",
     "traceback": [
      "\u001b[0;31m---------------------------------------------------------------------------\u001b[0m",
      "\u001b[0;31mNameError\u001b[0m                                 Traceback (most recent call last)",
      "\u001b[0;32m/tmp/ipykernel_360/2000426416.py\u001b[0m in \u001b[0;36m<module>\u001b[0;34m\u001b[0m\n\u001b[0;32m----> 1\u001b[0;31m \u001b[0mA\u001b[0m\u001b[0;34m@\u001b[0m\u001b[0mopt_point2\u001b[0m\u001b[0;34m-\u001b[0m\u001b[0mb\u001b[0m\u001b[0;34m\u001b[0m\u001b[0;34m\u001b[0m\u001b[0m\n\u001b[0m",
      "\u001b[0;31mNameError\u001b[0m: name 'opt_point2' is not defined"
     ]
    }
   ],
   "source": [
    "A@opt_point2-b"
   ]
  },
  {
   "cell_type": "code",
   "execution_count": null,
   "id": "9cdc85cc-efb8-4f3f-9b56-2912ef0f2216",
   "metadata": {},
   "outputs": [],
   "source": []
  }
 ],
 "metadata": {
  "kernelspec": {
   "display_name": "Python 3 (ipykernel)",
   "language": "python",
   "name": "python3"
  },
  "language_info": {
   "codemirror_mode": {
    "name": "ipython",
    "version": 3
   },
   "file_extension": ".py",
   "mimetype": "text/x-python",
   "name": "python",
   "nbconvert_exporter": "python",
   "pygments_lexer": "ipython3",
   "version": "3.8.8"
  }
 },
 "nbformat": 4,
 "nbformat_minor": 5
}
