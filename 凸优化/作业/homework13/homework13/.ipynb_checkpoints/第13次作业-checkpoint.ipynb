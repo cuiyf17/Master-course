{
 "cells": [
  {
   "cell_type": "code",
   "execution_count": 1,
   "id": "d3bb8d9a-8924-4264-8ea7-923bf7eb3ba2",
   "metadata": {},
   "outputs": [],
   "source": [
    "import os\n",
    "import numpy as np\n",
    "from scipy.io import loadmat\n",
    "from matplotlib import pyplot as plt\n",
    "\n",
    "%matplotlib inline"
   ]
  },
  {
   "cell_type": "code",
   "execution_count": 2,
   "id": "4d42fe43-8454-4d5d-9961-7f5d3ad8735d",
   "metadata": {},
   "outputs": [],
   "source": [
    "A = loadmat(\"./Data_P3/A.mat\")[\"A\"].astype(np.float64)\n",
    "b = loadmat(\"./Data_P3/b.mat\")[\"b\"].astype(np.float64)\n",
    "X0 = loadmat(\"./Data_P3/x_0.mat\")[\"x_0\"].astype(np.float64)\n",
    "X1 = loadmat(\"./Data_P3/x_1.mat\")[\"x_1\"].astype(np.float64)"
   ]
  },
  {
   "cell_type": "code",
   "execution_count": 3,
   "id": "0552b07d-e989-444d-a7fd-c02634931690",
   "metadata": {},
   "outputs": [
    {
     "data": {
      "text/plain": [
       "(30, 100)"
      ]
     },
     "execution_count": 3,
     "metadata": {},
     "output_type": "execute_result"
    }
   ],
   "source": [
    "A.shape"
   ]
  },
  {
   "cell_type": "code",
   "execution_count": 4,
   "id": "aa795bb5-a0c2-4d5c-95b1-da917394b849",
   "metadata": {},
   "outputs": [],
   "source": [
    "#内置的一维精确搜索算法为牛顿法\n",
    "class Func():\n",
    "    def __init__(self, A, b):\n",
    "        self.delta = 1e-11\n",
    "        self.epsilon = 1e-11\n",
    "        self.A = A\n",
    "        self.n = A.shape[1]\n",
    "        self.m = A.shape[0]\n",
    "        self.b = b\n",
    "        \n",
    "    def value(self, X):\n",
    "        return np.sum(X*np.log(X))\n",
    "    \n",
    "    def grad(self, X):\n",
    "        return np.log(X)+1\n",
    "        \n",
    "    def hessian(self, X):\n",
    "        return np.eye(self.n)/X\n",
    "    \n",
    "    def diff_t(self, X, D, t):\n",
    "        return np.dot(self.grad(X+t*D).T, D)\n",
    "    \n",
    "    def diff_2_t(self, X, D, t):\n",
    "        return np.dot(D.T, np.dot(self.hessian(X+t*D), D))\n",
    "    \n",
    "    def Newton_1D_Method(self, X0, D, delta):#一维精确搜索——牛顿法\n",
    "        t_tmp=0\n",
    "        while(abs(self.diff_t(X0,D,t_tmp))>delta or delta_t>1e-3):\n",
    "            t_tmp = new_t_tmp\n",
    "            #if(np.sum((X0+t_tmp+D<=0))>0):\n",
    "            #    break\n",
    "            new_t_tmp=t_tmp-self.diff_t(X0,D,t_tmp)/self.diff_2_t(X0,D,t_tmp)\n",
    "            delta_t = np.abs(new_t_tmp - t_tmp)\n",
    "            t_tmp = new_t_tmp\n",
    "        return X0+t_tmp*D\n",
    "    \n",
    "    def Backtracking(self, X0, D, delta, alpha = 0.4, beta = 0.7):\n",
    "        t = 1\n",
    "        idxs = np.where(X0+t*D<0)\n",
    "        scale = np.abs(X0[idxs])/np.abs((t*D)[idxs])\n",
    "        if(scale.shape[0]>0):\n",
    "            t = t*np.min(scale)*0.9\n",
    "        while(self.value(X0+t*D) > self.value(X0) + alpha*t*np.dot(self.grad(X0).T,D)):\n",
    "            t = beta*t\n",
    "        '''   \n",
    "        plt.figure()\n",
    "        ts = np.arange(1,100000, 1)\n",
    "        vs = []\n",
    "        for t_ in ts:\n",
    "            vs.append(self.value(X0+D*t_))\n",
    "        plt.plot(ts,vs)\n",
    "        plt.show()\n",
    "        return \n",
    "        '''\n",
    "        learning_rate = 0.001\n",
    "        num_iter = 0\n",
    "        max_iter = 1000\n",
    "        while(abs(self.diff_t(X0,D,t))>delta):\n",
    "            delta_t = -self.diff_t(X0,D,t)/self.diff_2_t(X0,D,t)\n",
    "            #delta_t = -learning_rate*self.diff_t(X0,D,t)\n",
    "            idxs = np.where(X0+(t+delta_t)*D<0)\n",
    "            scale = np.abs((X0+t*D)[idxs])/np.abs((delta_t*D)[idxs])\n",
    "            if(scale.shape[0]>0):\n",
    "                delta_t = delta_t*np.min(scale)*0.9\n",
    "            t = t + delta_t\n",
    "            num_iter+=1\n",
    "            #if(num_iter >= max_iter):\n",
    "            #    break\n",
    "        return X0+t*D, np.sqrt(np.sum((t*D)**2))\n",
    "    \n",
    "    def NewtonMethod_fisible(self, X0, epsilon):\n",
    "        if(np.prod(np.dot(self.A, X0) - self.b)!=0):\n",
    "            print(\"It's not a fisible point!\")\n",
    "            return None\n",
    "        else:\n",
    "            tmp_x = X0\n",
    "            values = [self.value(tmp_x)]\n",
    "            t_ks = []\n",
    "            hessian = self.hessian(tmp_x)\n",
    "            hessian_inv = np.linalg.inv(hessian)\n",
    "            a = np.dot(hessian_inv, self.grad(tmp_x))\n",
    "            b = np.linalg.inv(np.dot(self.A, np.dot(hessian, self.A.T)))\n",
    "            w = -np.dot(np.dot(b, self.A), a)\n",
    "            d = -a-np.dot(hessian_inv, np.dot(A.T, w))\n",
    "            d = d/np.linalg.norm(d)\n",
    "            lambda_square = -np.dot(self.grad(tmp_x).T, d)\n",
    "            print(\"error: \", (lambda_square[0,0]/2))\n",
    "            while(lambda_square/2 > epsilon):\n",
    "                tmp_x, t_k = self.Backtracking(tmp_x, d, self.delta)\n",
    "                #print(tmp_x)\n",
    "                hessian = self.hessian(tmp_x)\n",
    "                hessian_inv = np.linalg.inv(hessian)\n",
    "                a = np.dot(hessian_inv, self.grad(tmp_x))\n",
    "                b = np.linalg.inv(np.dot(self.A, np.dot(hessian, self.A.T)))\n",
    "                w = -np.dot(np.dot(b, self.A), a)\n",
    "                d = -a-np.dot(hessian_inv, np.dot(A.T, w))\n",
    "                d = d/np.linalg.norm(d)\n",
    "                lambda_square = -np.dot(self.grad(tmp_x).T, d)\n",
    "                values.append(self.value(tmp_x))\n",
    "                t_ks.append(t_k)\n",
    "                print(\"error: \", (lambda_square[0,0]/2))\n",
    "            \n",
    "            return self.value(tmp_x), np.array(values), np.array(t_ks).reshape(-1)\n",
    "    \n",
    "    def GradMethod(self, X0, epsilon, step = 0.01):\n",
    "        tmp_x = X0\n",
    "        grad = self.grad(tmp_x)\n",
    "        while(np.dot(grad.T,grad)>epsilon):\n",
    "            print(self.value(tmp_x))\n",
    "            tmp_x = tmp_x - step*grad\n",
    "            \n",
    "        return tmp_x"
   ]
  },
  {
   "cell_type": "code",
   "execution_count": 5,
   "id": "2f72fa28-c683-4cda-a728-702aee96e9d9",
   "metadata": {
    "tags": []
   },
   "outputs": [
    {
     "name": "stdout",
     "output_type": "stream",
     "text": [
      "error:  3.0196504818850487\n",
      "error:  1.9883667920716177\n",
      "error:  0.9475502885503928\n",
      "error:  0.32593253225501395\n",
      "error:  0.044115716972440315\n",
      "error:  0.003122745034422829\n",
      "error:  0.00021791502943880407\n",
      "error:  1.5188176491034475e-05\n",
      "error:  1.058518727447562e-06\n",
      "error:  7.377154614187553e-08\n",
      "error:  5.141372680684379e-09\n",
      "error:  3.583184793008879e-10\n",
      "error:  2.497235864500389e-11\n"
     ]
    }
   ],
   "source": [
    "func1 = Func(A,b)\n",
    "opt_value1, values1, tks1 = func1.NewtonMethod_fisible(X0, epsilon=1e-10)"
   ]
  },
  {
   "cell_type": "code",
   "execution_count": 6,
   "id": "6a250438-3e97-4023-9486-463472cd6062",
   "metadata": {},
   "outputs": [
    {
     "name": "stderr",
     "output_type": "stream",
     "text": [
      "/tmp/ipykernel_253/2081299776.py:2: RuntimeWarning: divide by zero encountered in log\n",
      "  plt.plot(np.log(values1-opt_value1), \"-o\", label=\"optimal value = %f\"%(opt_value1))\n"
     ]
    },
    {
     "data": {
      "image/png": "[encoded data removed]",
      "text/plain": [
       "<Figure size 720x504 with 1 Axes>"
      ]
     },
     "metadata": {
      "needs_background": "light"
     },
     "output_type": "display_data"
    },
    {
     "data": {
      "image/png": "[encoded data removed]",
      "text/plain": [
       "<Figure size 720x504 with 1 Axes>"
      ]
     },
     "metadata": {
      "needs_background": "light"
     },
     "output_type": "display_data"
    }
   ],
   "source": [
    "plt.figure(figsize=(10,7))\n",
    "plt.plot(np.log(values1-opt_value1), \"-o\", label=\"optimal value = %f\"%(opt_value1))\n",
    "plt.xlabel(\"iterations\")\n",
    "plt.ylabel(\"log-error\")\n",
    "plt.title(\"Error plot of A_50\")\n",
    "plt.legend()\n",
    "plt.show()\n",
    "\n",
    "plt.figure(figsize=(10,7))\n",
    "plt.plot(tks1, \"-o\")\n",
    "plt.xlabel(\"iterations\")\n",
    "plt.ylabel(\"Step size\")\n",
    "plt.title(\"Step size plot of A_50\")\n",
    "plt.show()"
   ]
  },
  {
   "cell_type": "code",
   "execution_count": 7,
   "id": "bddceb34-fd6a-4879-90ad-084676cba334",
   "metadata": {},
   "outputs": [
    {
     "name": "stdout",
     "output_type": "stream",
     "text": [
      "It's not a fisible point!\n"
     ]
    },
    {
     "ename": "TypeError",
     "evalue": "cannot unpack non-iterable NoneType object",
     "output_type": "error",
     "traceback": [
      "\u001b[0;31m---------------------------------------------------------------------------\u001b[0m",
      "\u001b[0;31mTypeError\u001b[0m                                 Traceback (most recent call last)",
      "\u001b[0;32m/tmp/ipykernel_253/445860339.py\u001b[0m in \u001b[0;36m<module>\u001b[0;34m\u001b[0m\n\u001b[0;32m----> 1\u001b[0;31m \u001b[0mopt_value2\u001b[0m\u001b[0;34m,\u001b[0m \u001b[0mvalues2\u001b[0m\u001b[0;34m,\u001b[0m \u001b[0mtks2\u001b[0m \u001b[0;34m=\u001b[0m \u001b[0mfunc1\u001b[0m\u001b[0;34m.\u001b[0m\u001b[0mNewtonMethod_fisible\u001b[0m\u001b[0;34m(\u001b[0m\u001b[0mX1\u001b[0m\u001b[0;34m,\u001b[0m \u001b[0mepsilon\u001b[0m\u001b[0;34m=\u001b[0m\u001b[0;36m1e-10\u001b[0m\u001b[0;34m)\u001b[0m\u001b[0;34m\u001b[0m\u001b[0;34m\u001b[0m\u001b[0m\n\u001b[0m",
      "\u001b[0;31mTypeError\u001b[0m: cannot unpack non-iterable NoneType object"
     ]
    }
   ],
   "source": [
    "opt_value2, values2, tks2 = func1.NewtonMethod_fisible(X1, epsilon=1e-10)"
   ]
  },
  {
   "cell_type": "code",
   "execution_count": null,
   "id": "ccb52593-c214-4f32-8b46-4878d226fad2",
   "metadata": {},
   "outputs": [],
   "source": [
    "plt.figure(figsize=(10,7))\n",
    "plt.plot(np.log(values2-opt_value2), \"-o\", label=\"optimal value = %f\"%(opt_value2))\n",
    "plt.xlabel(\"iterations\")\n",
    "plt.ylabel(\"log-error\")\n",
    "plt.title(\"Error plot of A_100\")\n",
    "plt.legend()\n",
    "plt.show()\n",
    "\n",
    "plt.figure(figsize=(10,7))\n",
    "plt.plot(tks2, \"-o\")\n",
    "plt.xlabel(\"iterations\")\n",
    "plt.ylabel(\"Step size\")\n",
    "plt.title(\"Step size plot of A_100\")\n",
    "plt.show()"
   ]
  },
  {
   "cell_type": "code",
   "execution_count": null,
   "id": "6e688056-921f-4c8f-995f-88f58cc7beb7",
   "metadata": {},
   "outputs": [],
   "source": []
  },
  {
   "cell_type": "code",
   "execution_count": null,
   "id": "102692a7-a80e-4792-bb28-29ae242ba480",
   "metadata": {},
   "outputs": [],
   "source": []
  }
 ],
 "metadata": {
  "kernelspec": {
   "display_name": "Python 3 (ipykernel)",
   "language": "python",
   "name": "python3"
  },
  "language_info": {
   "codemirror_mode": {
    "name": "ipython",
    "version": 3
   },
   "file_extension": ".py",
   "mimetype": "text/x-python",
   "name": "python",
   "nbconvert_exporter": "python",
   "pygments_lexer": "ipython3",
   "version": "3.8.8"
  }
 },
 "nbformat": 4,
 "nbformat_minor": 5
}
